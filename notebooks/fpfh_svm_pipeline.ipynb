{
 "cells": [
  {
   "cell_type": "code",
   "execution_count": 2,
   "id": "931687b0",
   "metadata": {},
   "outputs": [
    {
     "name": "stdout",
     "output_type": "stream",
     "text": [
      "FPFH + RBF SVM Pipeline for Tree Species Classification\n",
      "============================================================\n",
      "Base path: /Users/ayoub/work/prjt/notebooks/..\n",
      "Data path: /Users/ayoub/work/prjt/notebooks/../data\n",
      "Test CSV path: /Users/ayoub/work/prjt/notebooks/../data/test.csv\n",
      "✓ Data path found\n",
      "✓ Test CSV found\n"
     ]
    }
   ],
   "source": [
    "# Setup data paths and configuration\n",
    "import os\n",
    "from pathlib import Path\n",
    "\n",
    "# Set up paths\n",
    "base_path = Path(\"..\")  # Go up one level from notebooks folder\n",
    "data_path = base_path / \"data\"\n",
    "test_csv_path = data_path / \"test.csv\"\n",
    "\n",
    "print(\"FPFH + RBF SVM Pipeline for Tree Species Classification\")\n",
    "print(\"=\" * 60)\n",
    "print(f\"Base path: {base_path.absolute()}\")\n",
    "print(f\"Data path: {data_path.absolute()}\")\n",
    "print(f\"Test CSV path: {test_csv_path.absolute()}\")\n",
    "\n",
    "# Check if paths exist\n",
    "if not data_path.exists():\n",
    "    print(\"❌ Data path not found!\")\n",
    "else:\n",
    "    print(\"✓ Data path found\")\n",
    "\n",
    "if not test_csv_path.exists():\n",
    "    print(\"❌ Test CSV not found!\")\n",
    "else:\n",
    "    print(\"✓ Test CSV found\")"
   ]
  },
  {
   "cell_type": "code",
   "execution_count": 4,
   "id": "f49b048d",
   "metadata": {},
   "outputs": [
    {
     "name": "stdout",
     "output_type": "stream",
     "text": [
      "All libraries imported successfully!\n"
     ]
    }
   ],
   "source": [
    "import numpy as np\n",
    "import sys\n",
    "from pathlib import Path\n",
    "import time\n",
    "from tqdm import tqdm\n",
    "import pandas as pd\n",
    "from sklearn.svm import SVC\n",
    "from sklearn.preprocessing import StandardScaler\n",
    "from sklearn.metrics import classification_report, accuracy_score\n",
    "from sklearn.model_selection import GridSearchCV\n",
    "\n",
    "# Add the src directory to Python path\n",
    "sys.path.append(str(Path(\"..\").absolute()))\n",
    "\n",
    "from src.point_cloud_processor import load_point_cloud, extract_fpfh_features\n",
    "\n",
    "print(\"All libraries imported successfully!\")"
   ]
  },
  {
   "cell_type": "code",
   "execution_count": 5,
   "id": "a2845a30",
   "metadata": {},
   "outputs": [
    {
     "name": "stdout",
     "output_type": "stream",
     "text": [
      "Loading dataset paths...\n",
      "Warning: Could not load test.csv, using train/test folders directly\n",
      "✓ Training samples: 557\n",
      "✓ Test samples: 134\n",
      "✓ Species found: ['Ash', 'Beech', 'Douglas Fir', 'Oak', 'Pine', 'Red Oak', 'Spruce']\n"
     ]
    }
   ],
   "source": [
    "def load_dataset_paths(data_path, test_csv_path):\n",
    "    \"\"\"Load and split dataset paths based on test.csv file\"\"\"\n",
    "    try:\n",
    "        test_files_df = np.genfromtxt(test_csv_path, delimiter=',', dtype=str, skip_header=1)\n",
    "        test_filenames = set(test_files_df[:, 0])\n",
    "    except:\n",
    "        print(\"Warning: Could not load test.csv, using train/test folders directly\")\n",
    "        return load_from_folders(data_path)\n",
    "    \n",
    "    X_train_paths, y_train, X_test_paths, y_test = [], [], [], []\n",
    "\n",
    "    # Check if we have train folder or species folders directly\n",
    "    train_root = data_path / \"train\"\n",
    "    if not train_root.exists():\n",
    "        # Data might be directly in folders by species\n",
    "        train_root = data_path\n",
    "\n",
    "    for species_dir in train_root.iterdir():\n",
    "        if not species_dir.is_dir():\n",
    "            continue\n",
    "        species_name = species_dir.name\n",
    "        for file_path in species_dir.iterdir():\n",
    "            if file_path.is_file():  # Make sure it's a file\n",
    "                if file_path.name in test_filenames:\n",
    "                    X_test_paths.append(file_path)\n",
    "                    y_test.append(species_name)\n",
    "                else:\n",
    "                    X_train_paths.append(file_path)\n",
    "                    y_train.append(species_name)\n",
    "    \n",
    "    return X_train_paths, y_train, X_test_paths, y_test\n",
    "\n",
    "def load_from_folders(data_path):\n",
    "    \"\"\"Alternative method: load from existing train/test folder structure\"\"\"\n",
    "    X_train_paths, y_train, X_test_paths, y_test = [], [], [], []\n",
    "    \n",
    "    train_root = data_path.parent / \"train\"  # Go back to project root\n",
    "    test_root = data_path.parent / \"test\"\n",
    "    \n",
    "    if train_root.exists():\n",
    "        for species_dir in train_root.iterdir():\n",
    "            if species_dir.is_dir():\n",
    "                species_name = species_dir.name\n",
    "                for file_path in species_dir.iterdir():\n",
    "                    if file_path.is_file():\n",
    "                        X_train_paths.append(file_path)\n",
    "                        y_train.append(species_name)\n",
    "    \n",
    "    if test_root.exists():\n",
    "        for species_dir in test_root.iterdir():\n",
    "            if species_dir.is_dir():\n",
    "                species_name = species_dir.name\n",
    "                for file_path in species_dir.iterdir():\n",
    "                    if file_path.is_file():\n",
    "                        X_test_paths.append(file_path)\n",
    "                        y_test.append(species_name)\n",
    "    \n",
    "    return X_train_paths, y_train, X_test_paths, y_test\n",
    "\n",
    "# Load the dataset paths\n",
    "print(\"Loading dataset paths...\")\n",
    "X_train_paths, y_train, X_test_paths, y_test = load_dataset_paths(data_path, test_csv_path)\n",
    "\n",
    "print(f\"✓ Training samples: {len(X_train_paths)}\")\n",
    "print(f\"✓ Test samples: {len(X_test_paths)}\")\n",
    "print(f\"✓ Species found: {sorted(set(y_train))}\")\n",
    "\n",
    "if len(X_train_paths) == 0 or len(X_test_paths) == 0:\n",
    "    print(\"❌ No data found! Please check your data structure.\")"
   ]
  },
  {
   "cell_type": "code",
   "execution_count": 6,
   "id": "0b0adcff",
   "metadata": {},
   "outputs": [
    {
     "name": "stdout",
     "output_type": "stream",
     "text": [
      "Processing training data...\n"
     ]
    },
    {
     "name": "stderr",
     "output_type": "stream",
     "text": [
      "Extracting FPFH Features:   0%|          | 1/557 [00:00<01:15,  7.40it/s]"
     ]
    },
    {
     "name": "stdout",
     "output_type": "stream",
     "text": [
      "\u001b[1;33m[Open3D WARNING] Read geometry::PointCloud failed: unknown file extension for ../train/Oak/29.txt (format: auto).\u001b[0;m\n",
      "Warning: No points found in file 29.txt. Trying NumPy fallback.\n",
      "\u001b[1;33m[Open3D WARNING] Read geometry::PointCloud failed: unknown file extension for ../train/Oak/15.txt (format: auto).\u001b[0;m\n",
      "Warning: No points found in file 15.txt. Trying NumPy fallback.\n"
     ]
    },
    {
     "name": "stderr",
     "output_type": "stream",
     "text": [
      "Extracting FPFH Features:   1%|          | 3/557 [00:00<01:17,  7.18it/s]"
     ]
    },
    {
     "name": "stdout",
     "output_type": "stream",
     "text": [
      "\u001b[1;33m[Open3D WARNING] Read geometry::PointCloud failed: unknown file extension for ../train/Oak/28.txt (format: auto).\u001b[0;m\n",
      "Warning: No points found in file 28.txt. Trying NumPy fallback.\n",
      "\u001b[1;33m[Open3D WARNING] Read geometry::PointCloud failed: unknown file extension for ../train/Oak/16.txt (format: auto).\u001b[0;m\n",
      "Warning: No points found in file 16.txt. Trying NumPy fallback.\n"
     ]
    },
    {
     "name": "stderr",
     "output_type": "stream",
     "text": [
      "Extracting FPFH Features:   1%|          | 5/557 [00:00<01:09,  7.92it/s]"
     ]
    },
    {
     "name": "stdout",
     "output_type": "stream",
     "text": [
      "\u001b[1;33m[Open3D WARNING] Read geometry::PointCloud failed: unknown file extension for ../train/Oak/10.txt (format: auto).\u001b[0;m\n",
      "Warning: No points found in file 10.txt. Trying NumPy fallback.\n",
      "\u001b[1;33m[Open3D WARNING] Read geometry::PointCloud failed: unknown file extension for ../train/Oak/11.txt (format: auto).\u001b[0;m\n",
      "Warning: No points found in file 11.txt. Trying NumPy fallback.\n",
      "\u001b[1;33m[Open3D WARNING] Read geometry::PointCloud failed: unknown file extension for ../train/Oak/5.txt (format: auto).\u001b[0;m\n",
      "Warning: No points found in file 5.txt. Trying NumPy fallback.\n"
     ]
    },
    {
     "name": "stderr",
     "output_type": "stream",
     "text": [
      "Extracting FPFH Features:   1%|▏         | 8/557 [00:01<01:43,  5.31it/s]"
     ]
    },
    {
     "name": "stdout",
     "output_type": "stream",
     "text": [
      "\u001b[1;33m[Open3D WARNING] Read geometry::PointCloud failed: unknown file extension for ../train/Oak/4.txt (format: auto).\u001b[0;m\n",
      "Warning: No points found in file 4.txt. Trying NumPy fallback.\n",
      "\u001b[1;33m[Open3D WARNING] Read geometry::PointCloud failed: unknown file extension for ../train/Oak/6.txt (format: auto).\u001b[0;m\n",
      "Warning: No points found in file 6.txt. Trying NumPy fallback.\n"
     ]
    },
    {
     "name": "stderr",
     "output_type": "stream",
     "text": [
      "Extracting FPFH Features:   2%|▏         | 9/557 [00:01<01:57,  4.65it/s]"
     ]
    },
    {
     "name": "stdout",
     "output_type": "stream",
     "text": [
      "\u001b[1;33m[Open3D WARNING] Read geometry::PointCloud failed: unknown file extension for ../train/Oak/3.txt (format: auto).\u001b[0;m\n",
      "Warning: No points found in file 3.txt. Trying NumPy fallback.\n"
     ]
    },
    {
     "name": "stderr",
     "output_type": "stream",
     "text": [
      "Extracting FPFH Features:   2%|▏         | 11/557 [00:02<01:55,  4.73it/s]"
     ]
    },
    {
     "name": "stdout",
     "output_type": "stream",
     "text": [
      "\u001b[1;33m[Open3D WARNING] Read geometry::PointCloud failed: unknown file extension for ../train/Oak/2.txt (format: auto).\u001b[0;m\n",
      "Warning: No points found in file 2.txt. Trying NumPy fallback.\n",
      "\u001b[1;33m[Open3D WARNING] Read geometry::PointCloud failed: unknown file extension for ../train/Oak/20.txt (format: auto).\u001b[0;m\n",
      "Warning: No points found in file 20.txt. Trying NumPy fallback.\n"
     ]
    },
    {
     "name": "stderr",
     "output_type": "stream",
     "text": [
      "Extracting FPFH Features:   2%|▏         | 12/557 [00:02<01:40,  5.44it/s]"
     ]
    },
    {
     "name": "stdout",
     "output_type": "stream",
     "text": [
      "\u001b[1;33m[Open3D WARNING] Read geometry::PointCloud failed: unknown file extension for ../train/Oak/21.txt (format: auto).\u001b[0;m\n",
      "Warning: No points found in file 21.txt. Trying NumPy fallback.\n"
     ]
    },
    {
     "name": "stderr",
     "output_type": "stream",
     "text": [
      "Extracting FPFH Features:   2%|▏         | 13/557 [00:02<01:42,  5.29it/s]"
     ]
    },
    {
     "name": "stdout",
     "output_type": "stream",
     "text": [
      "\u001b[1;33m[Open3D WARNING] Read geometry::PointCloud failed: unknown file extension for ../train/Oak/26.txt (format: auto).\u001b[0;m\n",
      "Warning: No points found in file 26.txt. Trying NumPy fallback.\n"
     ]
    },
    {
     "name": "stderr",
     "output_type": "stream",
     "text": [
      "Extracting FPFH Features:   3%|▎         | 15/557 [00:02<01:31,  5.94it/s]"
     ]
    },
    {
     "name": "stdout",
     "output_type": "stream",
     "text": [
      "\u001b[1;33m[Open3D WARNING] Read geometry::PointCloud failed: unknown file extension for ../train/Oak/27.txt (format: auto).\u001b[0;m\n",
      "Warning: No points found in file 27.txt. Trying NumPy fallback.\n",
      "\u001b[1;33m[Open3D WARNING] Read geometry::PointCloud failed: unknown file extension for ../train/Oak/31.txt (format: auto).\u001b[0;m\n",
      "Warning: No points found in file 31.txt. Trying NumPy fallback.\n"
     ]
    },
    {
     "name": "stderr",
     "output_type": "stream",
     "text": [
      "Extracting FPFH Features:   3%|▎         | 16/557 [00:02<01:24,  6.40it/s]"
     ]
    },
    {
     "name": "stdout",
     "output_type": "stream",
     "text": [
      "\u001b[1;33m[Open3D WARNING] Read geometry::PointCloud failed: unknown file extension for ../train/Oak/19.txt (format: auto).\u001b[0;m\n",
      "Warning: No points found in file 19.txt. Trying NumPy fallback.\n"
     ]
    },
    {
     "name": "stderr",
     "output_type": "stream",
     "text": [
      "Extracting FPFH Features:   3%|▎         | 17/557 [00:03<01:58,  4.55it/s]"
     ]
    },
    {
     "name": "stdout",
     "output_type": "stream",
     "text": [
      "\u001b[1;33m[Open3D WARNING] Read geometry::PointCloud failed: unknown file extension for ../train/Oak/30.txt (format: auto).\u001b[0;m\n",
      "Warning: No points found in file 30.txt. Trying NumPy fallback.\n"
     ]
    },
    {
     "name": "stderr",
     "output_type": "stream",
     "text": [
      "Extracting FPFH Features:   5%|▍         | 26/557 [00:04<00:52, 10.04it/s]"
     ]
    },
    {
     "name": "stdout",
     "output_type": "stream",
     "text": [
      "\u001b[1;33m[Open3D WARNING] Read geometry::PointCloud failed: unknown file extension for ../train/Douglas Fir/31_86.txt (format: auto).\u001b[0;m\n",
      "Warning: No points found in file 31_86.txt. Trying NumPy fallback.\n",
      "\u001b[1;33m[Open3D WARNING] Read geometry::PointCloud failed: unknown file extension for ../train/Douglas Fir/31_92.txt (format: auto).\u001b[0;m\n",
      "Warning: No points found in file 31_92.txt. Trying NumPy fallback.\n",
      "\u001b[1;33m[Open3D WARNING] Read geometry::PointCloud failed: unknown file extension for ../train/Douglas Fir/31_79.txt (format: auto).\u001b[0;m\n",
      "Warning: No points found in file 31_79.txt. Trying NumPy fallback.\n",
      "\u001b[1;33m[Open3D WARNING] Read geometry::PointCloud failed: unknown file extension for ../train/Douglas Fir/31_78.txt (format: auto).\u001b[0;m\n",
      "Warning: No points found in file 31_78.txt. Trying NumPy fallback.\n",
      "\u001b[1;33m[Open3D WARNING] Read geometry::PointCloud failed: unknown file extension for ../train/Douglas Fir/61_49.txt (format: auto).\u001b[0;m\n",
      "Warning: No points found in file 61_49.txt. Trying NumPy fallback.\n",
      "\u001b[1;33m[Open3D WARNING] Read geometry::PointCloud failed: unknown file extension for ../train/Douglas Fir/61_88.txt (format: auto).\u001b[0;m\n",
      "Warning: No points found in file 61_88.txt. Trying NumPy fallback.\n"
     ]
    },
    {
     "name": "stderr",
     "output_type": "stream",
     "text": [
      "Extracting FPFH Features:   5%|▌         | 28/557 [00:04<01:03,  8.38it/s]"
     ]
    },
    {
     "name": "stdout",
     "output_type": "stream",
     "text": [
      "\u001b[1;33m[Open3D WARNING] Read geometry::PointCloud failed: unknown file extension for ../train/Douglas Fir/61_63.txt (format: auto).\u001b[0;m\n",
      "Warning: No points found in file 61_63.txt. Trying NumPy fallback.\n"
     ]
    },
    {
     "name": "stderr",
     "output_type": "stream",
     "text": [
      "Extracting FPFH Features:   6%|▌         | 33/557 [00:05<00:56,  9.30it/s]"
     ]
    },
    {
     "name": "stdout",
     "output_type": "stream",
     "text": [
      "\u001b[1;33m[Open3D WARNING] Read geometry::PointCloud failed: unknown file extension for ../train/Douglas Fir/31_85.txt (format: auto).\u001b[0;m\n",
      "Warning: No points found in file 31_85.txt. Trying NumPy fallback.\n",
      "\u001b[1;33m[Open3D WARNING] Read geometry::PointCloud failed: unknown file extension for ../train/Douglas Fir/31_52.txt (format: auto).\u001b[0;m\n",
      "Warning: No points found in file 31_52.txt. Trying NumPy fallback.\n",
      "\u001b[1;33m[Open3D WARNING] Read geometry::PointCloud failed: unknown file extension for ../train/Douglas Fir/31_46.txt (format: auto).\u001b[0;m\n",
      "Warning: No points found in file 31_46.txt. Trying NumPy fallback.\n",
      "\u001b[1;33m[Open3D WARNING] Read geometry::PointCloud failed: unknown file extension for ../train/Douglas Fir/31_53.txt (format: auto).\u001b[0;m\n",
      "Warning: No points found in file 31_53.txt. Trying NumPy fallback.\n",
      "\u001b[1;33m[Open3D WARNING] Read geometry::PointCloud failed: unknown file extension for ../train/Douglas Fir/31_84.txt (format: auto).\u001b[0;m\n",
      "Warning: No points found in file 31_84.txt. Trying NumPy fallback.\n"
     ]
    },
    {
     "name": "stderr",
     "output_type": "stream",
     "text": [
      "Extracting FPFH Features:   7%|▋         | 40/557 [00:05<00:35, 14.45it/s]"
     ]
    },
    {
     "name": "stdout",
     "output_type": "stream",
     "text": [
      "\u001b[1;33m[Open3D WARNING] Read geometry::PointCloud failed: unknown file extension for ../train/Douglas Fir/31_3.txt (format: auto).\u001b[0;m\n",
      "Warning: No points found in file 31_3.txt. Trying NumPy fallback.\n",
      "\u001b[1;33m[Open3D WARNING] Read geometry::PointCloud failed: unknown file extension for ../train/Douglas Fir/61_62.txt (format: auto).\u001b[0;m\n",
      "Warning: No points found in file 61_62.txt. Trying NumPy fallback.\n",
      "\u001b[1;33m[Open3D WARNING] Read geometry::PointCloud failed: unknown file extension for ../train/Douglas Fir/61_99.txt (format: auto).\u001b[0;m\n",
      "Warning: No points found in file 61_99.txt. Trying NumPy fallback.\n",
      "\u001b[1;33m[Open3D WARNING] Read geometry::PointCloud failed: unknown file extension for ../train/Douglas Fir/61_72.txt (format: auto).\u001b[0;m\n",
      "Warning: No points found in file 61_72.txt. Trying NumPy fallback.\n",
      "\u001b[1;33m[Open3D WARNING] Read geometry::PointCloud failed: unknown file extension for ../train/Douglas Fir/61_66.txt (format: auto).\u001b[0;m\n",
      "Warning: No points found in file 61_66.txt. Trying NumPy fallback.\n"
     ]
    },
    {
     "name": "stderr",
     "output_type": "stream",
     "text": [
      "Extracting FPFH Features:   8%|▊         | 43/557 [00:05<00:48, 10.56it/s]"
     ]
    },
    {
     "name": "stdout",
     "output_type": "stream",
     "text": [
      "\u001b[1;33m[Open3D WARNING] Read geometry::PointCloud failed: unknown file extension for ../train/Douglas Fir/31_80.txt (format: auto).\u001b[0;m\n",
      "Warning: No points found in file 31_80.txt. Trying NumPy fallback.\n",
      "\u001b[1;33m[Open3D WARNING] Read geometry::PointCloud failed: unknown file extension for ../train/Douglas Fir/31_56.txt (format: auto).\u001b[0;m\n",
      "Warning: No points found in file 31_56.txt. Trying NumPy fallback.\n"
     ]
    },
    {
     "name": "stderr",
     "output_type": "stream",
     "text": [
      "Extracting FPFH Features:   8%|▊         | 45/557 [00:06<00:48, 10.45it/s]"
     ]
    },
    {
     "name": "stdout",
     "output_type": "stream",
     "text": [
      "\u001b[1;33m[Open3D WARNING] Read geometry::PointCloud failed: unknown file extension for ../train/Douglas Fir/61_67.txt (format: auto).\u001b[0;m\n",
      "Warning: No points found in file 61_67.txt. Trying NumPy fallback.\n",
      "\u001b[1;33m[Open3D WARNING] Read geometry::PointCloud failed: unknown file extension for ../train/Douglas Fir/61_98.txt (format: auto).\u001b[0;m\n",
      "Warning: No points found in file 61_98.txt. Trying NumPy fallback.\n"
     ]
    },
    {
     "name": "stderr",
     "output_type": "stream",
     "text": [
      "Extracting FPFH Features:   9%|▉         | 51/557 [00:06<00:39, 12.79it/s]"
     ]
    },
    {
     "name": "stdout",
     "output_type": "stream",
     "text": [
      "\u001b[1;33m[Open3D WARNING] Read geometry::PointCloud failed: unknown file extension for ../train/Douglas Fir/61_65.txt (format: auto).\u001b[0;m\n",
      "Warning: No points found in file 61_65.txt. Trying NumPy fallback.\n",
      "\u001b[1;33m[Open3D WARNING] Read geometry::PointCloud failed: unknown file extension for ../train/Douglas Fir/61_71.txt (format: auto).\u001b[0;m\n",
      "Warning: No points found in file 61_71.txt. Trying NumPy fallback.\n",
      "\u001b[1;33m[Open3D WARNING] Read geometry::PointCloud failed: unknown file extension for ../train/Douglas Fir/61_8.txt (format: auto).\u001b[0;m\n",
      "Warning: No points found in file 61_8.txt. Trying NumPy fallback.\n"
     ]
    },
    {
     "name": "stderr",
     "output_type": "stream",
     "text": [
      "Extracting FPFH Features:  10%|▉         | 55/557 [00:06<00:36, 13.74it/s]"
     ]
    },
    {
     "name": "stdout",
     "output_type": "stream",
     "text": [
      "\u001b[1;33m[Open3D WARNING] Read geometry::PointCloud failed: unknown file extension for ../train/Douglas Fir/31_40.txt (format: auto).\u001b[0;m\n",
      "Warning: No points found in file 31_40.txt. Trying NumPy fallback.\n",
      "\u001b[1;33m[Open3D WARNING] Read geometry::PointCloud failed: unknown file extension for ../train/Douglas Fir/63_60.txt (format: auto).\u001b[0;m\n",
      "Warning: No points found in file 63_60.txt. Trying NumPy fallback.\n",
      "\u001b[1;33m[Open3D WARNING] Read geometry::PointCloud failed: unknown file extension for ../train/Douglas Fir/31_54.txt (format: auto).\u001b[0;m\n",
      "Warning: No points found in file 31_54.txt. Trying NumPy fallback.\n",
      "\u001b[1;33m[Open3D WARNING] Read geometry::PointCloud failed: unknown file extension for ../train/Douglas Fir/31_68.txt (format: auto).\u001b[0;m\n",
      "Warning: No points found in file 31_68.txt. Trying NumPy fallback.\n",
      "\u001b[1;33m[Open3D WARNING] Read geometry::PointCloud failed: unknown file extension for ../train/Douglas Fir/31_41.txt (format: auto).\u001b[0;m\n",
      "Warning: No points found in file 31_41.txt. Trying NumPy fallback.\n"
     ]
    },
    {
     "name": "stderr",
     "output_type": "stream",
     "text": [
      "Extracting FPFH Features:  11%|█         | 62/557 [00:07<00:25, 19.63it/s]"
     ]
    },
    {
     "name": "stdout",
     "output_type": "stream",
     "text": [
      "\u001b[1;33m[Open3D WARNING] Read geometry::PointCloud failed: unknown file extension for ../train/Douglas Fir/31_82.txt (format: auto).\u001b[0;m\n",
      "Warning: No points found in file 31_82.txt. Trying NumPy fallback.\n",
      "\u001b[1;33m[Open3D WARNING] Read geometry::PointCloud failed: unknown file extension for ../train/Douglas Fir/61_9.txt (format: auto).\u001b[0;m\n",
      "Warning: No points found in file 61_9.txt. Trying NumPy fallback.\n",
      "\u001b[1;33m[Open3D WARNING] Read geometry::PointCloud failed: unknown file extension for ../train/Douglas Fir/61_70.txt (format: auto).\u001b[0;m\n",
      "Warning: No points found in file 61_70.txt. Trying NumPy fallback.\n",
      "\u001b[1;33m[Open3D WARNING] Read geometry::PointCloud failed: unknown file extension for ../train/Douglas Fir/61_17.txt (format: auto).\u001b[0;m\n",
      "Warning: No points found in file 61_17.txt. Trying NumPy fallback.\n",
      "\u001b[1;33m[Open3D WARNING] Read geometry::PointCloud failed: unknown file extension for ../train/Douglas Fir/62_85.txt (format: auto).\u001b[0;m\n",
      "Warning: No points found in file 62_85.txt. Trying NumPy fallback.\n",
      "\u001b[1;33m[Open3D WARNING] Read geometry::PointCloud failed: unknown file extension for ../train/Douglas Fir/31_26.txt (format: auto).\u001b[0;m\n",
      "Warning: No points found in file 31_26.txt. Trying NumPy fallback.\n"
     ]
    },
    {
     "name": "stderr",
     "output_type": "stream",
     "text": [
      "Extracting FPFH Features:  12%|█▏        | 65/557 [00:07<00:22, 21.48it/s]"
     ]
    },
    {
     "name": "stdout",
     "output_type": "stream",
     "text": [
      "\u001b[1;33m[Open3D WARNING] Read geometry::PointCloud failed: unknown file extension for ../train/Douglas Fir/31_32.txt (format: auto).\u001b[0;m\n",
      "Warning: No points found in file 31_32.txt. Trying NumPy fallback.\n",
      "\u001b[1;33m[Open3D WARNING] Read geometry::PointCloud failed: unknown file extension for ../train/Douglas Fir/31_27.txt (format: auto).\u001b[0;m\n",
      "Warning: No points found in file 31_27.txt. Trying NumPy fallback.\n"
     ]
    },
    {
     "name": "stderr",
     "output_type": "stream",
     "text": [
      "Extracting FPFH Features:  13%|█▎        | 72/557 [00:07<00:32, 14.83it/s]"
     ]
    },
    {
     "name": "stdout",
     "output_type": "stream",
     "text": [
      "\u001b[1;33m[Open3D WARNING] Read geometry::PointCloud failed: unknown file extension for ../train/Douglas Fir/61_16.txt (format: auto).\u001b[0;m\n",
      "Warning: No points found in file 61_16.txt. Trying NumPy fallback.\n",
      "\u001b[1;33m[Open3D WARNING] Read geometry::PointCloud failed: unknown file extension for ../train/Douglas Fir/32_3.txt (format: auto).\u001b[0;m\n",
      "Warning: No points found in file 32_3.txt. Trying NumPy fallback.\n",
      "\u001b[1;33m[Open3D WARNING] Read geometry::PointCloud failed: unknown file extension for ../train/Douglas Fir/61_28.txt (format: auto).\u001b[0;m\n",
      "Warning: No points found in file 61_28.txt. Trying NumPy fallback.\n",
      "\u001b[1;33m[Open3D WARNING] Read geometry::PointCloud failed: unknown file extension for ../train/Douglas Fir/62_104.txt (format: auto).\u001b[0;m\n",
      "Warning: No points found in file 62_104.txt. Trying NumPy fallback.\n",
      "\u001b[1;33m[Open3D WARNING] Read geometry::PointCloud failed: unknown file extension for ../train/Douglas Fir/62_110.txt (format: auto).\u001b[0;m\n",
      "Warning: No points found in file 62_110.txt. Trying NumPy fallback.\n",
      "\u001b[1;33m[Open3D WARNING] Read geometry::PointCloud failed: unknown file extension for ../train/Douglas Fir/61_14.txt (format: auto).\u001b[0;m\n",
      "Warning: No points found in file 61_14.txt. Trying NumPy fallback.\n",
      "\u001b[1;33m[Open3D WARNING] Read geometry::PointCloud failed: unknown file extension for ../train/Douglas Fir/31_31.txt (format: auto).\u001b[0;m\n",
      "Warning: No points found in file 31_31.txt. Trying NumPy fallback.\n"
     ]
    },
    {
     "name": "stderr",
     "output_type": "stream",
     "text": [
      "Extracting FPFH Features:  14%|█▍        | 79/557 [00:08<00:24, 19.41it/s]"
     ]
    },
    {
     "name": "stdout",
     "output_type": "stream",
     "text": [
      "\u001b[1;33m[Open3D WARNING] Read geometry::PointCloud failed: unknown file extension for ../train/Douglas Fir/31_25.txt (format: auto).\u001b[0;m\n",
      "Warning: No points found in file 31_25.txt. Trying NumPy fallback.\n",
      "\u001b[1;33m[Open3D WARNING] Read geometry::PointCloud failed: unknown file extension for ../train/Douglas Fir/31_30.txt (format: auto).\u001b[0;m\n",
      "Warning: No points found in file 31_30.txt. Trying NumPy fallback.\n",
      "\u001b[1;33m[Open3D WARNING] Read geometry::PointCloud failed: unknown file extension for ../train/Douglas Fir/62_33_1.txt (format: auto).\u001b[0;m\n",
      "Warning: No points found in file 62_33_1.txt. Trying NumPy fallback.\n",
      "\u001b[1;33m[Open3D WARNING] Read geometry::PointCloud failed: unknown file extension for ../train/Douglas Fir/61_29.txt (format: auto).\u001b[0;m\n",
      "Warning: No points found in file 61_29.txt. Trying NumPy fallback.\n",
      "\u001b[1;33m[Open3D WARNING] Read geometry::PointCloud failed: unknown file extension for ../train/Douglas Fir/62_115.txt (format: auto).\u001b[0;m\n",
      "Warning: No points found in file 62_115.txt. Trying NumPy fallback.\n",
      "\u001b[1;33m[Open3D WARNING] Read geometry::PointCloud failed: unknown file extension for ../train/Douglas Fir/62_115.txt (format: auto).\u001b[0;m\n",
      "Warning: No points found in file 62_115.txt. Trying NumPy fallback.\n"
     ]
    },
    {
     "name": "stderr",
     "output_type": "stream",
     "text": [
      "Extracting FPFH Features:  15%|█▌        | 86/557 [00:08<00:33, 13.90it/s]"
     ]
    },
    {
     "name": "stdout",
     "output_type": "stream",
     "text": [
      "\u001b[1;33m[Open3D WARNING] Read geometry::PointCloud failed: unknown file extension for ../train/Douglas Fir/31_34.txt (format: auto).\u001b[0;m\n",
      "Warning: No points found in file 31_34.txt. Trying NumPy fallback.\n",
      "\u001b[1;33m[Open3D WARNING] Read geometry::PointCloud failed: unknown file extension for ../train/Douglas Fir/31_20.txt (format: auto).\u001b[0;m\n",
      "Warning: No points found in file 31_20.txt. Trying NumPy fallback.\n",
      "\u001b[1;33m[Open3D WARNING] Read geometry::PointCloud failed: unknown file extension for ../train/Douglas Fir/31_21.txt (format: auto).\u001b[0;m\n",
      "Warning: No points found in file 31_21.txt. Trying NumPy fallback.\n",
      "\u001b[1;33m[Open3D WARNING] Read geometry::PointCloud failed: unknown file extension for ../train/Douglas Fir/31_35.txt (format: auto).\u001b[0;m\n",
      "Warning: No points found in file 31_35.txt. Trying NumPy fallback.\n",
      "\u001b[1;33m[Open3D WARNING] Read geometry::PointCloud failed: unknown file extension for ../train/Douglas Fir/61_10.txt (format: auto).\u001b[0;m\n",
      "Warning: No points found in file 61_10.txt. Trying NumPy fallback.\n",
      "\u001b[1;33m[Open3D WARNING] Read geometry::PointCloud failed: unknown file extension for ../train/Douglas Fir/61_12.txt (format: auto).\u001b[0;m\n",
      "Warning: No points found in file 61_12.txt. Trying NumPy fallback.\n",
      "\u001b[1;33m[Open3D WARNING] Read geometry::PointCloud failed: unknown file extension for ../train/Douglas Fir/31_23.txt (format: auto).\u001b[0;m\n",
      "Warning: No points found in file 31_23.txt. Trying NumPy fallback.\n"
     ]
    },
    {
     "name": "stderr",
     "output_type": "stream",
     "text": [
      "Extracting FPFH Features:  17%|█▋        | 92/557 [00:09<00:49,  9.46it/s]"
     ]
    },
    {
     "name": "stdout",
     "output_type": "stream",
     "text": [
      "\u001b[1;33m[Open3D WARNING] Read geometry::PointCloud failed: unknown file extension for ../train/Douglas Fir/61_22.txt (format: auto).\u001b[0;m\n",
      "Warning: No points found in file 61_22.txt. Trying NumPy fallback.\n"
     ]
    },
    {
     "name": "stderr",
     "output_type": "stream",
     "text": [
      "Extracting FPFH Features:  17%|█▋        | 97/557 [00:10<00:45, 10.05it/s]"
     ]
    },
    {
     "name": "stdout",
     "output_type": "stream",
     "text": [
      "\u001b[1;33m[Open3D WARNING] Read geometry::PointCloud failed: unknown file extension for ../train/Douglas Fir/62_37_15.txt (format: auto).\u001b[0;m\n",
      "Warning: No points found in file 62_37_15.txt. Trying NumPy fallback.\n",
      "\u001b[1;33m[Open3D WARNING] Read geometry::PointCloud failed: unknown file extension for ../train/Douglas Fir/31_13.txt (format: auto).\u001b[0;m\n",
      "Warning: No points found in file 31_13.txt. Trying NumPy fallback.\n",
      "\u001b[1;33m[Open3D WARNING] Read geometry::PointCloud failed: unknown file extension for ../train/Douglas Fir/31_12.txt (format: auto).\u001b[0;m\n",
      "Warning: No points found in file 31_12.txt. Trying NumPy fallback.\n",
      "\u001b[1;33m[Open3D WARNING] Read geometry::PointCloud failed: unknown file extension for ../train/Douglas Fir/61_37.txt (format: auto).\u001b[0;m\n",
      "Warning: No points found in file 61_37.txt. Trying NumPy fallback.\n",
      "\u001b[1;33m[Open3D WARNING] Read geometry::PointCloud failed: unknown file extension for ../train/Douglas Fir/61_23.txt (format: auto).\u001b[0;m\n",
      "Warning: No points found in file 61_23.txt. Trying NumPy fallback.\n",
      "\u001b[1;33m[Open3D WARNING] Read geometry::PointCloud failed: unknown file extension for ../train/Douglas Fir/61_35.txt (format: auto).\u001b[0;m\n",
      "Warning: No points found in file 61_35.txt. Trying NumPy fallback.\n"
     ]
    },
    {
     "name": "stderr",
     "output_type": "stream",
     "text": [
      "Extracting FPFH Features:  19%|█▊        | 104/557 [00:10<00:29, 15.13it/s]"
     ]
    },
    {
     "name": "stdout",
     "output_type": "stream",
     "text": [
      "\u001b[1;33m[Open3D WARNING] Read geometry::PointCloud failed: unknown file extension for ../train/Douglas Fir/62_70.txt (format: auto).\u001b[0;m\n",
      "Warning: No points found in file 62_70.txt. Trying NumPy fallback.\n",
      "\u001b[1;33m[Open3D WARNING] Read geometry::PointCloud failed: unknown file extension for ../train/Douglas Fir/32_69.txt (format: auto).\u001b[0;m\n",
      "Warning: No points found in file 32_69.txt. Trying NumPy fallback.\n",
      "\u001b[1;33m[Open3D WARNING] Read geometry::PointCloud failed: unknown file extension for ../train/Douglas Fir/31_38.txt (format: auto).\u001b[0;m\n",
      "Warning: No points found in file 31_38.txt. Trying NumPy fallback.\n",
      "\u001b[1;33m[Open3D WARNING] Read geometry::PointCloud failed: unknown file extension for ../train/Douglas Fir/31_11.txt (format: auto).\u001b[0;m\n",
      "Warning: No points found in file 31_11.txt. Trying NumPy fallback.\n"
     ]
    },
    {
     "name": "stderr",
     "output_type": "stream",
     "text": [
      "Extracting FPFH Features:  19%|█▉        | 107/557 [00:10<00:41, 10.85it/s]"
     ]
    },
    {
     "name": "stdout",
     "output_type": "stream",
     "text": [
      "\u001b[1;33m[Open3D WARNING] Read geometry::PointCloud failed: unknown file extension for ../train/Douglas Fir/61_20.txt (format: auto).\u001b[0;m\n",
      "Warning: No points found in file 61_20.txt. Trying NumPy fallback.\n",
      "\u001b[1;33m[Open3D WARNING] Read geometry::PointCloud failed: unknown file extension for ../train/Douglas Fir/61_34.txt (format: auto).\u001b[0;m\n",
      "Warning: No points found in file 61_34.txt. Trying NumPy fallback.\n",
      "\u001b[1;33m[Open3D WARNING] Read geometry::PointCloud failed: unknown file extension for ../train/Douglas Fir/62_130.txt (format: auto).\u001b[0;m\n",
      "Warning: No points found in file 62_130.txt. Trying NumPy fallback.\n"
     ]
    },
    {
     "name": "stderr",
     "output_type": "stream",
     "text": [
      "Extracting FPFH Features:  20%|██        | 114/557 [00:11<00:32, 13.54it/s]"
     ]
    },
    {
     "name": "stdout",
     "output_type": "stream",
     "text": [
      "\u001b[1;33m[Open3D WARNING] Read geometry::PointCloud failed: unknown file extension for ../train/Douglas Fir/61_30.txt (format: auto).\u001b[0;m\n",
      "Warning: No points found in file 61_30.txt. Trying NumPy fallback.\n",
      "\u001b[1;33m[Open3D WARNING] Read geometry::PointCloud failed: unknown file extension for ../train/Douglas Fir/61_24.txt (format: auto).\u001b[0;m\n",
      "Warning: No points found in file 61_24.txt. Trying NumPy fallback.\n",
      "\u001b[1;33m[Open3D WARNING] Read geometry::PointCloud failed: unknown file extension for ../train/Douglas Fir/61_18.txt (format: auto).\u001b[0;m\n",
      "Warning: No points found in file 61_18.txt. Trying NumPy fallback.\n",
      "\u001b[1;33m[Open3D WARNING] Read geometry::PointCloud failed: unknown file extension for ../train/Douglas Fir/31_15.txt (format: auto).\u001b[0;m\n",
      "Warning: No points found in file 31_15.txt. Trying NumPy fallback.\n",
      "\u001b[1;33m[Open3D WARNING] Read geometry::PointCloud failed: unknown file extension for ../train/Douglas Fir/31_29.txt (format: auto).\u001b[0;m\n",
      "Warning: No points found in file 31_29.txt. Trying NumPy fallback.\n",
      "\u001b[1;33m[Open3D WARNING] Read geometry::PointCloud failed: unknown file extension for ../train/Douglas Fir/31_14.txt (format: auto).\u001b[0;m\n",
      "Warning: No points found in file 31_14.txt. Trying NumPy fallback.\n"
     ]
    },
    {
     "name": "stderr",
     "output_type": "stream",
     "text": [
      "Extracting FPFH Features:  21%|██        | 117/557 [00:11<00:28, 15.48it/s]"
     ]
    },
    {
     "name": "stdout",
     "output_type": "stream",
     "text": [
      "\u001b[1;33m[Open3D WARNING] Read geometry::PointCloud failed: unknown file extension for ../train/Douglas Fir/32_79.txt (format: auto).\u001b[0;m\n",
      "Warning: No points found in file 32_79.txt. Trying NumPy fallback.\n"
     ]
    },
    {
     "name": "stderr",
     "output_type": "stream",
     "text": [
      "Extracting FPFH Features:  22%|██▏       | 120/557 [00:11<00:38, 11.30it/s]"
     ]
    },
    {
     "name": "stdout",
     "output_type": "stream",
     "text": [
      "\u001b[1;33m[Open3D WARNING] Read geometry::PointCloud failed: unknown file extension for ../train/Douglas Fir/61_19.txt (format: auto).\u001b[0;m\n",
      "Warning: No points found in file 61_19.txt. Trying NumPy fallback.\n",
      "\u001b[1;33m[Open3D WARNING] Read geometry::PointCloud failed: unknown file extension for ../train/Douglas Fir/61_25.txt (format: auto).\u001b[0;m\n",
      "Warning: No points found in file 61_25.txt. Trying NumPy fallback.\n"
     ]
    },
    {
     "name": "stderr",
     "output_type": "stream",
     "text": [
      "Extracting FPFH Features:  23%|██▎       | 127/557 [00:12<00:25, 17.03it/s]"
     ]
    },
    {
     "name": "stdout",
     "output_type": "stream",
     "text": [
      "\u001b[1;33m[Open3D WARNING] Read geometry::PointCloud failed: unknown file extension for ../train/Douglas Fir/61_31.txt (format: auto).\u001b[0;m\n",
      "Warning: No points found in file 61_31.txt. Trying NumPy fallback.\n",
      "\u001b[1;33m[Open3D WARNING] Read geometry::PointCloud failed: unknown file extension for ../train/Douglas Fir/61_33.txt (format: auto).\u001b[0;m\n",
      "Warning: No points found in file 61_33.txt. Trying NumPy fallback.\n",
      "\u001b[1;33m[Open3D WARNING] Read geometry::PointCloud failed: unknown file extension for ../train/Douglas Fir/32_84.txt (format: auto).\u001b[0;m\n",
      "Warning: No points found in file 32_84.txt. Trying NumPy fallback.\n",
      "\u001b[1;33m[Open3D WARNING] Read geometry::PointCloud failed: unknown file extension for ../train/Douglas Fir/61_32.txt (format: auto).\u001b[0;m\n",
      "Warning: No points found in file 61_32.txt. Trying NumPy fallback.\n",
      "\u001b[1;33m[Open3D WARNING] Read geometry::PointCloud failed: unknown file extension for ../train/Douglas Fir/61_69.txt (format: auto).\u001b[0;m\n",
      "Warning: No points found in file 61_69.txt. Trying NumPy fallback.\n",
      "\u001b[1;33m[Open3D WARNING] Read geometry::PointCloud failed: unknown file extension for ../train/Douglas Fir/61_41.txt (format: auto).\u001b[0;m\n",
      "Warning: No points found in file 61_41.txt. Trying NumPy fallback.\n",
      "\u001b[1;33m[Open3D WARNING] Read geometry::PointCloud failed: unknown file extension for ../train/Douglas Fir/64_71.txt (format: auto).\u001b[0;m\n",
      "Warning: No points found in file 64_71.txt. Trying NumPy fallback.\n",
      "\u001b[1;33m[Open3D WARNING] Read geometry::PointCloud failed: unknown file extension for ../train/Douglas Fir/31_64.txt (format: auto).\u001b[0;m\n",
      "Warning: No points found in file 31_64.txt. Trying NumPy fallback.\n",
      "\u001b[1;33m[Open3D WARNING] Read geometry::PointCloud failed: unknown file extension for ../train/Douglas Fir/31_70.txt (format: auto).\u001b[0;m\n",
      "Warning: No points found in file 31_70.txt. Trying NumPy fallback.\n",
      "\u001b[1;33m[Open3D WARNING] Read geometry::PointCloud failed: unknown file extension for ../train/Douglas Fir/31_64.txt (format: auto).\u001b[0;m\n",
      "Warning: No points found in file 31_64.txt. Trying NumPy fallback.\n",
      "\u001b[1;33m[Open3D WARNING] Read geometry::PointCloud failed: unknown file extension for ../train/Douglas Fir/31_70.txt (format: auto).\u001b[0;m\n",
      "Warning: No points found in file 31_70.txt. Trying NumPy fallback.\n"
     ]
    },
    {
     "name": "stderr",
     "output_type": "stream",
     "text": [
      "Extracting FPFH Features:  24%|██▎       | 131/557 [00:12<00:36, 11.53it/s]"
     ]
    },
    {
     "name": "stdout",
     "output_type": "stream",
     "text": [
      "\u001b[1;33m[Open3D WARNING] Read geometry::PointCloud failed: unknown file extension for ../train/Douglas Fir/31_71.txt (format: auto).\u001b[0;m\n",
      "Warning: No points found in file 31_71.txt. Trying NumPy fallback.\n",
      "\u001b[1;33m[Open3D WARNING] Read geometry::PointCloud failed: unknown file extension for ../train/Douglas Fir/31_65.txt (format: auto).\u001b[0;m\n",
      "Warning: No points found in file 31_65.txt. Trying NumPy fallback.\n",
      "\u001b[1;33m[Open3D WARNING] Read geometry::PointCloud failed: unknown file extension for ../train/Douglas Fir/31_59.txt (format: auto).\u001b[0;m\n",
      "Warning: No points found in file 31_59.txt. Trying NumPy fallback.\n"
     ]
    },
    {
     "name": "stderr",
     "output_type": "stream",
     "text": [
      "Extracting FPFH Features:  24%|██▍       | 135/557 [00:12<00:33, 12.77it/s]"
     ]
    },
    {
     "name": "stdout",
     "output_type": "stream",
     "text": [
      "\u001b[1;33m[Open3D WARNING] Read geometry::PointCloud failed: unknown file extension for ../train/Douglas Fir/61_5.txt (format: auto).\u001b[0;m\n",
      "Warning: No points found in file 61_5.txt. Trying NumPy fallback.\n",
      "\u001b[1;33m[Open3D WARNING] Read geometry::PointCloud failed: unknown file extension for ../train/Douglas Fir/61_40.txt (format: auto).\u001b[0;m\n",
      "Warning: No points found in file 61_40.txt. Trying NumPy fallback.\n",
      "\u001b[1;33m[Open3D WARNING] Read geometry::PointCloud failed: unknown file extension for ../train/Douglas Fir/61_68.txt (format: auto).\u001b[0;m\n",
      "Warning: No points found in file 61_68.txt. Trying NumPy fallback.\n"
     ]
    },
    {
     "name": "stderr",
     "output_type": "stream",
     "text": [
      "Extracting FPFH Features:  26%|██▌       | 143/557 [00:13<00:24, 16.89it/s]"
     ]
    },
    {
     "name": "stdout",
     "output_type": "stream",
     "text": [
      "\u001b[1;33m[Open3D WARNING] Read geometry::PointCloud failed: unknown file extension for ../train/Douglas Fir/61_97.txt (format: auto).\u001b[0;m\n",
      "Warning: No points found in file 61_97.txt. Trying NumPy fallback.\n",
      "\u001b[1;33m[Open3D WARNING] Read geometry::PointCloud failed: unknown file extension for ../train/Douglas Fir/62_146.txt (format: auto).\u001b[0;m\n",
      "Warning: No points found in file 62_146.txt. Trying NumPy fallback.\n",
      "\u001b[1;33m[Open3D WARNING] Read geometry::PointCloud failed: unknown file extension for ../train/Douglas Fir/61_56.txt (format: auto).\u001b[0;m\n",
      "Warning: No points found in file 61_56.txt. Trying NumPy fallback.\n",
      "\u001b[1;33m[Open3D WARNING] Read geometry::PointCloud failed: unknown file extension for ../train/Douglas Fir/61_42.txt (format: auto).\u001b[0;m\n",
      "Warning: No points found in file 61_42.txt. Trying NumPy fallback.\n",
      "\u001b[1;33m[Open3D WARNING] Read geometry::PointCloud failed: unknown file extension for ../train/Douglas Fir/32_36.txt (format: auto).\u001b[0;m\n",
      "Warning: No points found in file 32_36.txt. Trying NumPy fallback.\n",
      "\u001b[1;33m[Open3D WARNING] Read geometry::PointCloud failed: unknown file extension for ../train/Douglas Fir/31_73.txt (format: auto).\u001b[0;m\n",
      "Warning: No points found in file 31_73.txt. Trying NumPy fallback.\n"
     ]
    },
    {
     "name": "stderr",
     "output_type": "stream",
     "text": [
      "Extracting FPFH Features:  26%|██▌       | 146/557 [00:13<00:22, 18.25it/s]"
     ]
    },
    {
     "name": "stdout",
     "output_type": "stream",
     "text": [
      "\u001b[1;33m[Open3D WARNING] Read geometry::PointCloud failed: unknown file extension for ../train/Douglas Fir/31_66.txt (format: auto).\u001b[0;m\n",
      "Warning: No points found in file 31_66.txt. Trying NumPy fallback.\n",
      "\u001b[1;33m[Open3D WARNING] Read geometry::PointCloud failed: unknown file extension for ../train/Douglas Fir/32_37.txt (format: auto).\u001b[0;m\n",
      "Warning: No points found in file 32_37.txt. Trying NumPy fallback.\n"
     ]
    },
    {
     "name": "stderr",
     "output_type": "stream",
     "text": [
      "Extracting FPFH Features:  27%|██▋       | 149/557 [00:13<00:27, 14.66it/s]"
     ]
    },
    {
     "name": "stdout",
     "output_type": "stream",
     "text": [
      "\u001b[1;33m[Open3D WARNING] Read geometry::PointCloud failed: unknown file extension for ../train/Douglas Fir/61_57.txt (format: auto).\u001b[0;m\n",
      "Warning: No points found in file 61_57.txt. Trying NumPy fallback.\n",
      "\u001b[1;33m[Open3D WARNING] Read geometry::PointCloud failed: unknown file extension for ../train/Douglas Fir/61_80.txt (format: auto).\u001b[0;m\n",
      "Warning: No points found in file 61_80.txt. Trying NumPy fallback.\n",
      "\u001b[1;33m[Open3D WARNING] Read geometry::PointCloud failed: unknown file extension for ../train/Douglas Fir/61_84.txt (format: auto).\u001b[0;m\n",
      "Warning: No points found in file 61_84.txt. Trying NumPy fallback.\n"
     ]
    },
    {
     "name": "stderr",
     "output_type": "stream",
     "text": [
      "Extracting FPFH Features:  27%|██▋       | 152/557 [00:13<00:28, 14.08it/s]"
     ]
    },
    {
     "name": "stdout",
     "output_type": "stream",
     "text": [
      "\u001b[1;33m[Open3D WARNING] Read geometry::PointCloud failed: unknown file extension for ../train/Douglas Fir/31_89.txt (format: auto).\u001b[0;m\n",
      "Warning: No points found in file 31_89.txt. Trying NumPy fallback.\n",
      "\u001b[1;33m[Open3D WARNING] Read geometry::PointCloud failed: unknown file extension for ../train/Douglas Fir/31_62.txt (format: auto).\u001b[0;m\n",
      "Warning: No points found in file 31_62.txt. Trying NumPy fallback.\n"
     ]
    },
    {
     "name": "stderr",
     "output_type": "stream",
     "text": [
      "Extracting FPFH Features:  28%|██▊       | 155/557 [00:14<00:28, 14.06it/s]"
     ]
    },
    {
     "name": "stdout",
     "output_type": "stream",
     "text": [
      "\u001b[1;33m[Open3D WARNING] Read geometry::PointCloud failed: unknown file extension for ../train/Douglas Fir/31_88.txt (format: auto).\u001b[0;m\n",
      "Warning: No points found in file 31_88.txt. Trying NumPy fallback.\n"
     ]
    },
    {
     "name": "stderr",
     "output_type": "stream",
     "text": [
      "Extracting FPFH Features:  29%|██▉       | 161/557 [00:14<00:32, 12.16it/s]"
     ]
    },
    {
     "name": "stdout",
     "output_type": "stream",
     "text": [
      "\u001b[1;33m[Open3D WARNING] Read geometry::PointCloud failed: unknown file extension for ../train/Douglas Fir/61_46.txt (format: auto).\u001b[0;m\n",
      "Warning: No points found in file 61_46.txt. Trying NumPy fallback.\n",
      "\u001b[1;33m[Open3D WARNING] Read geometry::PointCloud failed: unknown file extension for ../train/Douglas Fir/61_52.txt (format: auto).\u001b[0;m\n",
      "Warning: No points found in file 61_52.txt. Trying NumPy fallback.\n",
      "\u001b[1;33m[Open3D WARNING] Read geometry::PointCloud failed: unknown file extension for ../train/Douglas Fir/63_3.txt (format: auto).\u001b[0;m\n",
      "Warning: No points found in file 63_3.txt. Trying NumPy fallback.\n",
      "\u001b[1;33m[Open3D WARNING] Read geometry::PointCloud failed: unknown file extension for ../train/Douglas Fir/31_61.txt (format: auto).\u001b[0;m\n",
      "Warning: No points found in file 31_61.txt. Trying NumPy fallback.\n",
      "\u001b[1;33m[Open3D WARNING] Read geometry::PointCloud failed: unknown file extension for ../train/Douglas Fir/31_48.txt (format: auto).\u001b[0;m\n",
      "Warning: No points found in file 31_48.txt. Trying NumPy fallback.\n",
      "\u001b[1;33m[Open3D WARNING] Read geometry::PointCloud failed: unknown file extension for ../train/Douglas Fir/31_74.txt (format: auto).\u001b[0;m\n",
      "Warning: No points found in file 31_74.txt. Trying NumPy fallback.\n",
      "\u001b[1;33m[Open3D WARNING] Read geometry::PointCloud failed: unknown file extension for ../train/Douglas Fir/31_60.txt (format: auto).\u001b[0;m\n",
      "Warning: No points found in file 31_60.txt. Trying NumPy fallback.\n"
     ]
    },
    {
     "name": "stderr",
     "output_type": "stream",
     "text": [
      "Extracting FPFH Features:  30%|███       | 168/557 [00:15<00:21, 17.95it/s]"
     ]
    },
    {
     "name": "stdout",
     "output_type": "stream",
     "text": [
      "\u001b[1;33m[Open3D WARNING] Read geometry::PointCloud failed: unknown file extension for ../train/Douglas Fir/61_45.txt (format: auto).\u001b[0;m\n",
      "Warning: No points found in file 61_45.txt. Trying NumPy fallback.\n",
      "\u001b[1;33m[Open3D WARNING] Read geometry::PointCloud failed: unknown file extension for ../train/Spruce/65_38.txt (format: auto).\u001b[0;m\n",
      "Warning: No points found in file 65_38.txt. Trying NumPy fallback.\n",
      "\u001b[1;33m[Open3D WARNING] Read geometry::PointCloud failed: unknown file extension for ../train/Spruce/65_10.txt (format: auto).\u001b[0;m\n",
      "Warning: No points found in file 65_10.txt. Trying NumPy fallback.\n",
      "\u001b[1;33m[Open3D WARNING] Read geometry::PointCloud failed: unknown file extension for ../train/Spruce/65_9.txt (format: auto).\u001b[0;m\n",
      "Warning: No points found in file 65_9.txt. Trying NumPy fallback.\n",
      "\u001b[1;33m[Open3D WARNING] Read geometry::PointCloud failed: unknown file extension for ../train/Spruce/64_78.txt (format: auto).\u001b[0;m\n",
      "Warning: No points found in file 64_78.txt. Trying NumPy fallback.\n",
      "\u001b[1;33m[Open3D WARNING] Read geometry::PointCloud failed: unknown file extension for ../train/Spruce/64_45.txt (format: auto).\u001b[0;m\n",
      "Warning: No points found in file 64_45.txt. Trying NumPy fallback.\n"
     ]
    },
    {
     "name": "stderr",
     "output_type": "stream",
     "text": [
      "Extracting FPFH Features:  31%|███       | 171/557 [00:15<00:19, 19.62it/s]"
     ]
    },
    {
     "name": "stdout",
     "output_type": "stream",
     "text": [
      "\u001b[1;33m[Open3D WARNING] Read geometry::PointCloud failed: unknown file extension for ../train/Spruce/65_8.txt (format: auto).\u001b[0;m\n",
      "Warning: No points found in file 65_8.txt. Trying NumPy fallback.\n",
      "\u001b[1;33m[Open3D WARNING] Read geometry::PointCloud failed: unknown file extension for ../train/Spruce/35_20.txt (format: auto).\u001b[0;m\n",
      "Warning: No points found in file 35_20.txt. Trying NumPy fallback.\n",
      "\u001b[1;33m[Open3D WARNING] Read geometry::PointCloud failed: unknown file extension for ../train/Spruce/65_11.txt (format: auto).\u001b[0;m\n",
      "Warning: No points found in file 65_11.txt. Trying NumPy fallback.\n",
      "\u001b[1;33m[Open3D WARNING] Read geometry::PointCloud failed: unknown file extension for ../train/Spruce/65_39.txt (format: auto).\u001b[0;m\n",
      "Warning: No points found in file 65_39.txt. Trying NumPy fallback.\n"
     ]
    },
    {
     "name": "stderr",
     "output_type": "stream",
     "text": [
      "Extracting FPFH Features:  32%|███▏      | 180/557 [00:15<00:16, 23.21it/s]"
     ]
    },
    {
     "name": "stdout",
     "output_type": "stream",
     "text": [
      "\u001b[1;33m[Open3D WARNING] Read geometry::PointCloud failed: unknown file extension for ../train/Spruce/65_13.txt (format: auto).\u001b[0;m\n",
      "Warning: No points found in file 65_13.txt. Trying NumPy fallback.\n",
      "\u001b[1;33m[Open3D WARNING] Read geometry::PointCloud failed: unknown file extension for ../train/Spruce/35_22.txt (format: auto).\u001b[0;m\n",
      "Warning: No points found in file 35_22.txt. Trying NumPy fallback.\n",
      "\u001b[1;33m[Open3D WARNING] Read geometry::PointCloud failed: unknown file extension for ../train/Spruce/35_23.txt (format: auto).\u001b[0;m\n",
      "Warning: No points found in file 35_23.txt. Trying NumPy fallback.\n",
      "\u001b[1;33m[Open3D WARNING] Read geometry::PointCloud failed: unknown file extension for ../train/Spruce/65_12.txt (format: auto).\u001b[0;m\n",
      "Warning: No points found in file 65_12.txt. Trying NumPy fallback.\n",
      "\u001b[1;33m[Open3D WARNING] Read geometry::PointCloud failed: unknown file extension for ../train/Spruce/65_16.txt (format: auto).\u001b[0;m\n",
      "Warning: No points found in file 65_16.txt. Trying NumPy fallback.\n"
     ]
    },
    {
     "name": "stderr",
     "output_type": "stream",
     "text": [
      "Extracting FPFH Features:  33%|███▎      | 183/557 [00:15<00:19, 19.53it/s]"
     ]
    },
    {
     "name": "stdout",
     "output_type": "stream",
     "text": [
      "\u001b[1;33m[Open3D WARNING] Read geometry::PointCloud failed: unknown file extension for ../train/Spruce/35_27.txt (format: auto).\u001b[0;m\n",
      "Warning: No points found in file 35_27.txt. Trying NumPy fallback.\n",
      "\u001b[1;33m[Open3D WARNING] Read geometry::PointCloud failed: unknown file extension for ../train/Spruce/35_32.txt (format: auto).\u001b[0;m\n",
      "Warning: No points found in file 35_32.txt. Trying NumPy fallback.\n",
      "\u001b[1;33m[Open3D WARNING] Read geometry::PointCloud failed: unknown file extension for ../train/Spruce/65_17.txt (format: auto).\u001b[0;m\n",
      "Warning: No points found in file 65_17.txt. Trying NumPy fallback.\n"
     ]
    },
    {
     "name": "stderr",
     "output_type": "stream",
     "text": [
      "Extracting FPFH Features:  34%|███▎      | 187/557 [00:15<00:16, 22.42it/s]"
     ]
    },
    {
     "name": "stdout",
     "output_type": "stream",
     "text": [
      "\u001b[1;33m[Open3D WARNING] Read geometry::PointCloud failed: unknown file extension for ../train/Spruce/35_2.txt (format: auto).\u001b[0;m\n",
      "Warning: No points found in file 35_2.txt. Trying NumPy fallback.\n",
      "\u001b[1;33m[Open3D WARNING] Read geometry::PointCloud failed: unknown file extension for ../train/Spruce/35_24.txt (format: auto).\u001b[0;m\n",
      "Warning: No points found in file 35_24.txt. Trying NumPy fallback.\n",
      "\u001b[1;33m[Open3D WARNING] Read geometry::PointCloud failed: unknown file extension for ../train/Spruce/64_68.txt (format: auto).\u001b[0;m\n",
      "Warning: No points found in file 64_68.txt. Trying NumPy fallback.\n",
      "\u001b[1;33m[Open3D WARNING] Read geometry::PointCloud failed: unknown file extension for ../train/Spruce/35_19.txt (format: auto).\u001b[0;m\n",
      "Warning: No points found in file 35_19.txt. Trying NumPy fallback.\n"
     ]
    },
    {
     "name": "stderr",
     "output_type": "stream",
     "text": [
      "Extracting FPFH Features:  35%|███▌      | 195/557 [00:16<00:14, 25.75it/s]"
     ]
    },
    {
     "name": "stdout",
     "output_type": "stream",
     "text": [
      "\u001b[1;33m[Open3D WARNING] Read geometry::PointCloud failed: unknown file extension for ../train/Spruce/35_31.txt (format: auto).\u001b[0;m\n",
      "Warning: No points found in file 35_31.txt. Trying NumPy fallback.\n",
      "\u001b[1;33m[Open3D WARNING] Read geometry::PointCloud failed: unknown file extension for ../train/Spruce/35_25.txt (format: auto).\u001b[0;m\n",
      "Warning: No points found in file 35_25.txt. Trying NumPy fallback.\n",
      "\u001b[1;33m[Open3D WARNING] Read geometry::PointCloud failed: unknown file extension for ../train/Spruce/65_28.txt (format: auto).\u001b[0;m\n",
      "Warning: No points found in file 65_28.txt. Trying NumPy fallback.\n",
      "\u001b[1;33m[Open3D WARNING] Read geometry::PointCloud failed: unknown file extension for ../train/Spruce/64_50_2.txt (format: auto).\u001b[0;m\n",
      "Warning: No points found in file 64_50_2.txt. Trying NumPy fallback.\n",
      "\u001b[1;33m[Open3D WARNING] Read geometry::PointCloud failed: unknown file extension for ../train/Spruce/65_14.txt (format: auto).\u001b[0;m\n",
      "Warning: No points found in file 65_14.txt. Trying NumPy fallback.\n",
      "\u001b[1;33m[Open3D WARNING] Read geometry::PointCloud failed: unknown file extension for ../train/Spruce/34_16.txt (format: auto).\u001b[0;m\n",
      "Warning: No points found in file 34_16.txt. Trying NumPy fallback.\n",
      "\u001b[1;33m[Open3D WARNING] Read geometry::PointCloud failed: unknown file extension for ../train/Spruce/65_67.txt (format: auto).\u001b[0;m\n",
      "Warning: No points found in file 65_67.txt. Trying NumPy fallback.\n",
      "\u001b[1;33m[Open3D WARNING] Read geometry::PointCloud failed: unknown file extension for ../train/Spruce/65_73.txt (format: auto).\u001b[0;m\n",
      "Warning: No points found in file 65_73.txt. Trying NumPy fallback.\n"
     ]
    },
    {
     "name": "stderr",
     "output_type": "stream",
     "text": [
      "Extracting FPFH Features:  36%|███▌      | 201/557 [00:16<00:14, 25.42it/s]"
     ]
    },
    {
     "name": "stdout",
     "output_type": "stream",
     "text": [
      "\u001b[1;33m[Open3D WARNING] Read geometry::PointCloud failed: unknown file extension for ../train/Spruce/35_81.txt (format: auto).\u001b[0;m\n",
      "Warning: No points found in file 35_81.txt. Trying NumPy fallback.\n",
      "\u001b[1;33m[Open3D WARNING] Read geometry::PointCloud failed: unknown file extension for ../train/Spruce/64_26.txt (format: auto).\u001b[0;m\n",
      "Warning: No points found in file 64_26.txt. Trying NumPy fallback.\n",
      "\u001b[1;33m[Open3D WARNING] Read geometry::PointCloud failed: unknown file extension for ../train/Spruce/35_80.txt (format: auto).\u001b[0;m\n",
      "Warning: No points found in file 35_80.txt. Trying NumPy fallback.\n",
      "\u001b[1;33m[Open3D WARNING] Read geometry::PointCloud failed: unknown file extension for ../train/Spruce/65_66.txt (format: auto).\u001b[0;m\n",
      "Warning: No points found in file 65_66.txt. Trying NumPy fallback.\n",
      "\u001b[1;33m[Open3D WARNING] Read geometry::PointCloud failed: unknown file extension for ../train/Spruce/65_70.txt (format: auto).\u001b[0;m\n",
      "Warning: No points found in file 65_70.txt. Trying NumPy fallback.\n"
     ]
    },
    {
     "name": "stderr",
     "output_type": "stream",
     "text": [
      "Extracting FPFH Features:  37%|███▋      | 207/557 [00:16<00:13, 25.95it/s]"
     ]
    },
    {
     "name": "stdout",
     "output_type": "stream",
     "text": [
      "\u001b[1;33m[Open3D WARNING] Read geometry::PointCloud failed: unknown file extension for ../train/Spruce/65_64.txt (format: auto).\u001b[0;m\n",
      "Warning: No points found in file 65_64.txt. Trying NumPy fallback.\n",
      "\u001b[1;33m[Open3D WARNING] Read geometry::PointCloud failed: unknown file extension for ../train/Spruce/35_82.txt (format: auto).\u001b[0;m\n",
      "Warning: No points found in file 35_82.txt. Trying NumPy fallback.\n",
      "\u001b[1;33m[Open3D WARNING] Read geometry::PointCloud failed: unknown file extension for ../train/Spruce/35_69.txt (format: auto).\u001b[0;m\n",
      "Warning: No points found in file 35_69.txt. Trying NumPy fallback.\n",
      "\u001b[1;33m[Open3D WARNING] Read geometry::PointCloud failed: unknown file extension for ../train/Spruce/64_19.txt (format: auto).\u001b[0;m\n",
      "Warning: No points found in file 64_19.txt. Trying NumPy fallback.\n"
     ]
    },
    {
     "name": "stderr",
     "output_type": "stream",
     "text": [
      "Extracting FPFH Features:  38%|███▊      | 210/557 [00:16<00:13, 26.22it/s]"
     ]
    },
    {
     "name": "stdout",
     "output_type": "stream",
     "text": [
      "\u001b[1;33m[Open3D WARNING] Read geometry::PointCloud failed: unknown file extension for ../train/Spruce/35_68.txt (format: auto).\u001b[0;m\n",
      "Warning: No points found in file 35_68.txt. Trying NumPy fallback.\n",
      "\u001b[1;33m[Open3D WARNING] Read geometry::PointCloud failed: unknown file extension for ../train/Spruce/35_83.txt (format: auto).\u001b[0;m\n",
      "Warning: No points found in file 35_83.txt. Trying NumPy fallback.\n",
      "\u001b[1;33m[Open3D WARNING] Read geometry::PointCloud failed: unknown file extension for ../train/Spruce/65_65.txt (format: auto).\u001b[0;m\n",
      "Warning: No points found in file 65_65.txt. Trying NumPy fallback.\n",
      "\u001b[1;33m[Open3D WARNING] Read geometry::PointCloud failed: unknown file extension for ../train/Spruce/65_71.txt (format: auto).\u001b[0;m\n",
      "Warning: No points found in file 65_71.txt. Trying NumPy fallback.\n",
      "\u001b[1;33m[Open3D WARNING] Read geometry::PointCloud failed: unknown file extension for ../train/Spruce/65_59.txt (format: auto).\u001b[0;m\n",
      "Warning: No points found in file 65_59.txt. Trying NumPy fallback.\n"
     ]
    },
    {
     "name": "stderr",
     "output_type": "stream",
     "text": [
      "Extracting FPFH Features:  39%|███▉      | 216/557 [00:17<00:14, 23.46it/s]"
     ]
    },
    {
     "name": "stdout",
     "output_type": "stream",
     "text": [
      "\u001b[1;33m[Open3D WARNING] Read geometry::PointCloud failed: unknown file extension for ../train/Spruce/34_10.txt (format: auto).\u001b[0;m\n",
      "Warning: No points found in file 34_10.txt. Trying NumPy fallback.\n",
      "\u001b[1;33m[Open3D WARNING] Read geometry::PointCloud failed: unknown file extension for ../train/Spruce/65_75.txt (format: auto).\u001b[0;m\n",
      "Warning: No points found in file 65_75.txt. Trying NumPy fallback.\n",
      "\u001b[1;33m[Open3D WARNING] Read geometry::PointCloud failed: unknown file extension for ../train/Spruce/65_61.txt (format: auto).\u001b[0;m\n",
      "Warning: No points found in file 65_61.txt. Trying NumPy fallback.\n",
      "\u001b[1;33m[Open3D WARNING] Read geometry::PointCloud failed: unknown file extension for ../train/Spruce/65_49.txt (format: auto).\u001b[0;m\n",
      "Warning: No points found in file 65_49.txt. Trying NumPy fallback.\n",
      "\u001b[1;33m[Open3D WARNING] Read geometry::PointCloud failed: unknown file extension for ../train/Spruce/35_93.txt (format: auto).\u001b[0;m\n",
      "Warning: No points found in file 35_93.txt. Trying NumPy fallback.\n",
      "\u001b[1;33m[Open3D WARNING] Read geometry::PointCloud failed: unknown file extension for ../train/Spruce/35_78.txt (format: auto).\u001b[0;m\n",
      "Warning: No points found in file 35_78.txt. Trying NumPy fallback.\n",
      "\u001b[1;33m[Open3D WARNING] Read geometry::PointCloud failed: unknown file extension for ../train/Spruce/35_79.txt (format: auto).\u001b[0;m\n",
      "Warning: No points found in file 35_79.txt. Trying NumPy fallback.\n"
     ]
    },
    {
     "name": "stderr",
     "output_type": "stream",
     "text": [
      "Extracting FPFH Features:  40%|████      | 225/557 [00:17<00:10, 30.82it/s]"
     ]
    },
    {
     "name": "stdout",
     "output_type": "stream",
     "text": [
      "\u001b[1;33m[Open3D WARNING] Read geometry::PointCloud failed: unknown file extension for ../train/Spruce/35_51.txt (format: auto).\u001b[0;m\n",
      "Warning: No points found in file 35_51.txt. Trying NumPy fallback.\n",
      "\u001b[1;33m[Open3D WARNING] Read geometry::PointCloud failed: unknown file extension for ../train/Spruce/65_60.txt (format: auto).\u001b[0;m\n",
      "Warning: No points found in file 65_60.txt. Trying NumPy fallback.\n",
      "\u001b[1;33m[Open3D WARNING] Read geometry::PointCloud failed: unknown file extension for ../train/Spruce/65_89.txt (format: auto).\u001b[0;m\n",
      "Warning: No points found in file 65_89.txt. Trying NumPy fallback.\n",
      "\u001b[1;33m[Open3D WARNING] Read geometry::PointCloud failed: unknown file extension for ../train/Spruce/65_62.txt (format: auto).\u001b[0;m\n",
      "Warning: No points found in file 65_62.txt. Trying NumPy fallback.\n",
      "\u001b[1;33m[Open3D WARNING] Read geometry::PointCloud failed: unknown file extension for ../train/Spruce/35_90.txt (format: auto).\u001b[0;m\n",
      "Warning: No points found in file 35_90.txt. Trying NumPy fallback.\n",
      "\u001b[1;33m[Open3D WARNING] Read geometry::PointCloud failed: unknown file extension for ../train/Spruce/65_77.txt (format: auto).\u001b[0;m\n",
      "Warning: No points found in file 65_77.txt. Trying NumPy fallback.\n",
      "\u001b[1;33m[Open3D WARNING] Read geometry::PointCloud failed: unknown file extension for ../train/Spruce/65_63.txt (format: auto).\u001b[0;m\n",
      "Warning: No points found in file 65_63.txt. Trying NumPy fallback.\n"
     ]
    },
    {
     "name": "stderr",
     "output_type": "stream",
     "text": [
      "Extracting FPFH Features:  41%|████      | 229/557 [00:17<00:12, 26.26it/s]"
     ]
    },
    {
     "name": "stdout",
     "output_type": "stream",
     "text": [
      "\u001b[1;33m[Open3D WARNING] Read geometry::PointCloud failed: unknown file extension for ../train/Spruce/65_88.txt (format: auto).\u001b[0;m\n",
      "Warning: No points found in file 65_88.txt. Trying NumPy fallback.\n",
      "\u001b[1;33m[Open3D WARNING] Read geometry::PointCloud failed: unknown file extension for ../train/Spruce/34_23.txt (format: auto).\u001b[0;m\n",
      "Warning: No points found in file 34_23.txt. Trying NumPy fallback.\n",
      "\u001b[1;33m[Open3D WARNING] Read geometry::PointCloud failed: unknown file extension for ../train/Spruce/65_85.txt (format: auto).\u001b[0;m\n",
      "Warning: No points found in file 65_85.txt. Trying NumPy fallback.\n",
      "\u001b[1;33m[Open3D WARNING] Read geometry::PointCloud failed: unknown file extension for ../train/Spruce/65_46.txt (format: auto).\u001b[0;m\n",
      "Warning: No points found in file 65_46.txt. Trying NumPy fallback.\n"
     ]
    },
    {
     "name": "stderr",
     "output_type": "stream",
     "text": [
      "Extracting FPFH Features:  42%|████▏     | 236/557 [00:17<00:11, 27.05it/s]"
     ]
    },
    {
     "name": "stdout",
     "output_type": "stream",
     "text": [
      "\u001b[1;33m[Open3D WARNING] Read geometry::PointCloud failed: unknown file extension for ../train/Spruce/65_52.txt (format: auto).\u001b[0;m\n",
      "Warning: No points found in file 65_52.txt. Trying NumPy fallback.\n",
      "\u001b[1;33m[Open3D WARNING] Read geometry::PointCloud failed: unknown file extension for ../train/Spruce/35_88.txt (format: auto).\u001b[0;m\n",
      "Warning: No points found in file 35_88.txt. Trying NumPy fallback.\n",
      "\u001b[1;33m[Open3D WARNING] Read geometry::PointCloud failed: unknown file extension for ../train/Spruce/35_77.txt (format: auto).\u001b[0;m\n",
      "Warning: No points found in file 35_77.txt. Trying NumPy fallback.\n",
      "\u001b[1;33m[Open3D WARNING] Read geometry::PointCloud failed: unknown file extension for ../train/Spruce/35_76.txt (format: auto).\u001b[0;m\n",
      "Warning: No points found in file 35_76.txt. Trying NumPy fallback.\n",
      "\u001b[1;33m[Open3D WARNING] Read geometry::PointCloud failed: unknown file extension for ../train/Spruce/35_62.txt (format: auto).\u001b[0;m\n",
      "Warning: No points found in file 35_62.txt. Trying NumPy fallback.\n",
      "\u001b[1;33m[Open3D WARNING] Read geometry::PointCloud failed: unknown file extension for ../train/Spruce/35_89.txt (format: auto).\u001b[0;m\n",
      "Warning: No points found in file 35_89.txt. Trying NumPy fallback.\n",
      "\u001b[1;33m[Open3D WARNING] Read geometry::PointCloud failed: unknown file extension for ../train/Spruce/65_84.txt (format: auto).\u001b[0;m\n",
      "Warning: No points found in file 65_84.txt. Trying NumPy fallback.\n",
      "\u001b[1;33m[Open3D WARNING] Read geometry::PointCloud failed: unknown file extension for ../train/Spruce/65_86.txt (format: auto).\u001b[0;m\n",
      "Warning: No points found in file 65_86.txt. Trying NumPy fallback.\n"
     ]
    },
    {
     "name": "stderr",
     "output_type": "stream",
     "text": [
      "Extracting FPFH Features:  44%|████▍     | 244/557 [00:17<00:10, 29.96it/s]"
     ]
    },
    {
     "name": "stdout",
     "output_type": "stream",
     "text": [
      "\u001b[1;33m[Open3D WARNING] Read geometry::PointCloud failed: unknown file extension for ../train/Spruce/65_45.txt (format: auto).\u001b[0;m\n",
      "Warning: No points found in file 65_45.txt. Trying NumPy fallback.\n",
      "\u001b[1;33m[Open3D WARNING] Read geometry::PointCloud failed: unknown file extension for ../train/Spruce/35_48.txt (format: auto).\u001b[0;m\n",
      "Warning: No points found in file 35_48.txt. Trying NumPy fallback.\n",
      "\u001b[1;33m[Open3D WARNING] Read geometry::PointCloud failed: unknown file extension for ../train/Spruce/35_60.txt (format: auto).\u001b[0;m\n",
      "Warning: No points found in file 35_60.txt. Trying NumPy fallback.\n",
      "\u001b[1;33m[Open3D WARNING] Read geometry::PointCloud failed: unknown file extension for ../train/Spruce/35_61.txt (format: auto).\u001b[0;m\n",
      "Warning: No points found in file 35_61.txt. Trying NumPy fallback.\n",
      "\u001b[1;33m[Open3D WARNING] Read geometry::PointCloud failed: unknown file extension for ../train/Spruce/65_44.txt (format: auto).\u001b[0;m\n",
      "Warning: No points found in file 65_44.txt. Trying NumPy fallback.\n",
      "\u001b[1;33m[Open3D WARNING] Read geometry::PointCloud failed: unknown file extension for ../train/Spruce/65_50.txt (format: auto).\u001b[0;m\n",
      "Warning: No points found in file 65_50.txt. Trying NumPy fallback.\n",
      "\u001b[1;33m[Open3D WARNING] Read geometry::PointCloud failed: unknown file extension for ../train/Spruce/65_78.txt (format: auto).\u001b[0;m\n",
      "Warning: No points found in file 65_78.txt. Trying NumPy fallback.\n"
     ]
    },
    {
     "name": "stderr",
     "output_type": "stream",
     "text": [
      "Extracting FPFH Features:  45%|████▌     | 251/557 [00:18<00:14, 21.16it/s]"
     ]
    },
    {
     "name": "stdout",
     "output_type": "stream",
     "text": [
      "\u001b[1;33m[Open3D WARNING] Read geometry::PointCloud failed: unknown file extension for ../train/Spruce/34_25.txt (format: auto).\u001b[0;m\n",
      "Warning: No points found in file 34_25.txt. Trying NumPy fallback.\n",
      "\u001b[1;33m[Open3D WARNING] Read geometry::PointCloud failed: unknown file extension for ../train/Spruce/65_83.txt (format: auto).\u001b[0;m\n",
      "Warning: No points found in file 65_83.txt. Trying NumPy fallback.\n",
      "\u001b[1;33m[Open3D WARNING] Read geometry::PointCloud failed: unknown file extension for ../train/Spruce/65_40.txt (format: auto).\u001b[0;m\n",
      "Warning: No points found in file 65_40.txt. Trying NumPy fallback.\n",
      "\u001b[1;33m[Open3D WARNING] Read geometry::PointCloud failed: unknown file extension for ../train/Spruce/65_68.txt (format: auto).\u001b[0;m\n",
      "Warning: No points found in file 65_68.txt. Trying NumPy fallback.\n",
      "\u001b[1;33m[Open3D WARNING] Read geometry::PointCloud failed: unknown file extension for ../train/Spruce/35_71.txt (format: auto).\u001b[0;m\n",
      "Warning: No points found in file 35_71.txt. Trying NumPy fallback.\n",
      "\u001b[1;33m[Open3D WARNING] Read geometry::PointCloud failed: unknown file extension for ../train/Spruce/34_9.txt (format: auto).\u001b[0;m\n",
      "Warning: No points found in file 34_9.txt. Trying NumPy fallback.\n"
     ]
    },
    {
     "name": "stderr",
     "output_type": "stream",
     "text": [
      "Extracting FPFH Features:  46%|████▌     | 257/557 [00:18<00:13, 22.64it/s]"
     ]
    },
    {
     "name": "stdout",
     "output_type": "stream",
     "text": [
      "\u001b[1;33m[Open3D WARNING] Read geometry::PointCloud failed: unknown file extension for ../train/Spruce/64_14.txt (format: auto).\u001b[0;m\n",
      "Warning: No points found in file 64_14.txt. Trying NumPy fallback.\n",
      "\u001b[1;33m[Open3D WARNING] Read geometry::PointCloud failed: unknown file extension for ../train/Spruce/65_69.txt (format: auto).\u001b[0;m\n",
      "Warning: No points found in file 65_69.txt. Trying NumPy fallback.\n",
      "\u001b[1;33m[Open3D WARNING] Read geometry::PointCloud failed: unknown file extension for ../train/Spruce/65_55.txt (format: auto).\u001b[0;m\n",
      "Warning: No points found in file 65_55.txt. Trying NumPy fallback.\n",
      "\u001b[1;33m[Open3D WARNING] Read geometry::PointCloud failed: unknown file extension for ../train/Spruce/65_82.txt (format: auto).\u001b[0;m\n",
      "Warning: No points found in file 65_82.txt. Trying NumPy fallback.\n"
     ]
    },
    {
     "name": "stderr",
     "output_type": "stream",
     "text": [
      "Extracting FPFH Features:  47%|████▋     | 263/557 [00:18<00:13, 22.48it/s]"
     ]
    },
    {
     "name": "stdout",
     "output_type": "stream",
     "text": [
      "\u001b[1;33m[Open3D WARNING] Read geometry::PointCloud failed: unknown file extension for ../train/Spruce/34_24.txt (format: auto).\u001b[0;m\n",
      "Warning: No points found in file 34_24.txt. Trying NumPy fallback.\n",
      "\u001b[1;33m[Open3D WARNING] Read geometry::PointCloud failed: unknown file extension for ../train/Spruce/64_6.txt (format: auto).\u001b[0;m\n",
      "Warning: No points found in file 64_6.txt. Trying NumPy fallback.\n",
      "\u001b[1;33m[Open3D WARNING] Read geometry::PointCloud failed: unknown file extension for ../train/Spruce/34_26.txt (format: auto).\u001b[0;m\n",
      "Warning: No points found in file 34_26.txt. Trying NumPy fallback.\n",
      "\u001b[1;33m[Open3D WARNING] Read geometry::PointCloud failed: unknown file extension for ../train/Spruce/65_80.txt (format: auto).\u001b[0;m\n",
      "Warning: No points found in file 65_80.txt. Trying NumPy fallback.\n",
      "\u001b[1;33m[Open3D WARNING] Read geometry::PointCloud failed: unknown file extension for ../train/Spruce/35_72.txt (format: auto).\u001b[0;m\n",
      "Warning: No points found in file 35_72.txt. Trying NumPy fallback.\n",
      "\u001b[1;33m[Open3D WARNING] Read geometry::PointCloud failed: unknown file extension for ../train/Spruce/64_16.txt (format: auto).\u001b[0;m\n",
      "Warning: No points found in file 64_16.txt. Trying NumPy fallback.\n"
     ]
    },
    {
     "name": "stderr",
     "output_type": "stream",
     "text": [
      "Extracting FPFH Features:  48%|████▊     | 269/557 [00:19<00:12, 22.91it/s]"
     ]
    },
    {
     "name": "stdout",
     "output_type": "stream",
     "text": [
      "\u001b[1;33m[Open3D WARNING] Read geometry::PointCloud failed: unknown file extension for ../train/Spruce/35_73.txt (format: auto).\u001b[0;m\n",
      "Warning: No points found in file 35_73.txt. Trying NumPy fallback.\n",
      "\u001b[1;33m[Open3D WARNING] Read geometry::PointCloud failed: unknown file extension for ../train/Spruce/65_56.txt (format: auto).\u001b[0;m\n",
      "Warning: No points found in file 65_56.txt. Trying NumPy fallback.\n",
      "\u001b[1;33m[Open3D WARNING] Read geometry::PointCloud failed: unknown file extension for ../train/Spruce/65_42.txt (format: auto).\u001b[0;m\n",
      "Warning: No points found in file 65_42.txt. Trying NumPy fallback.\n",
      "\u001b[1;33m[Open3D WARNING] Read geometry::PointCloud failed: unknown file extension for ../train/Spruce/65_81.txt (format: auto).\u001b[0;m\n",
      "Warning: No points found in file 65_81.txt. Trying NumPy fallback.\n",
      "\u001b[1;33m[Open3D WARNING] Read geometry::PointCloud failed: unknown file extension for ../train/Spruce/64_7.txt (format: auto).\u001b[0;m\n",
      "Warning: No points found in file 64_7.txt. Trying NumPy fallback.\n",
      "\u001b[1;33m[Open3D WARNING] Read geometry::PointCloud failed: unknown file extension for ../train/Spruce/65_25.txt (format: auto).\u001b[0;m\n",
      "Warning: No points found in file 65_25.txt. Trying NumPy fallback.\n"
     ]
    },
    {
     "name": "stderr",
     "output_type": "stream",
     "text": [
      "Extracting FPFH Features:  50%|████▉     | 276/557 [00:19<00:11, 24.99it/s]"
     ]
    },
    {
     "name": "stdout",
     "output_type": "stream",
     "text": [
      "\u001b[1;33m[Open3D WARNING] Read geometry::PointCloud failed: unknown file extension for ../train/Spruce/33_62.txt (format: auto).\u001b[0;m\n",
      "Warning: No points found in file 33_62.txt. Trying NumPy fallback.\n",
      "\u001b[1;33m[Open3D WARNING] Read geometry::PointCloud failed: unknown file extension for ../train/Spruce/65_32.txt (format: auto).\u001b[0;m\n",
      "Warning: No points found in file 65_32.txt. Trying NumPy fallback.\n",
      "\u001b[1;33m[Open3D WARNING] Read geometry::PointCloud failed: unknown file extension for ../train/Spruce/65_26.txt (format: auto).\u001b[0;m\n",
      "Warning: No points found in file 65_26.txt. Trying NumPy fallback.\n",
      "\u001b[1;33m[Open3D WARNING] Read geometry::PointCloud failed: unknown file extension for ../train/Spruce/65_3.txt (format: auto).\u001b[0;m\n",
      "Warning: No points found in file 65_3.txt. Trying NumPy fallback.\n",
      "\u001b[1;33m[Open3D WARNING] Read geometry::PointCloud failed: unknown file extension for ../train/Spruce/64_67.txt (format: auto).\u001b[0;m\n",
      "Warning: No points found in file 64_67.txt. Trying NumPy fallback.\n",
      "\u001b[1;33m[Open3D WARNING] Read geometry::PointCloud failed: unknown file extension for ../train/Spruce/65_2.txt (format: auto).\u001b[0;m\n",
      "Warning: No points found in file 65_2.txt. Trying NumPy fallback.\n"
     ]
    },
    {
     "name": "stderr",
     "output_type": "stream",
     "text": [
      "Extracting FPFH Features:  51%|█████     | 282/557 [00:19<00:10, 25.08it/s]"
     ]
    },
    {
     "name": "stdout",
     "output_type": "stream",
     "text": [
      "\u001b[1;33m[Open3D WARNING] Read geometry::PointCloud failed: unknown file extension for ../train/Spruce/65_27.txt (format: auto).\u001b[0;m\n",
      "Warning: No points found in file 65_27.txt. Trying NumPy fallback.\n",
      "\u001b[1;33m[Open3D WARNING] Read geometry::PointCloud failed: unknown file extension for ../train/Spruce/65_33.txt (format: auto).\u001b[0;m\n",
      "Warning: No points found in file 65_33.txt. Trying NumPy fallback.\n",
      "\u001b[1;33m[Open3D WARNING] Read geometry::PointCloud failed: unknown file extension for ../train/Spruce/35_125.txt (format: auto).\u001b[0;m\n",
      "Warning: No points found in file 35_125.txt. Trying NumPy fallback.\n",
      "\u001b[1;33m[Open3D WARNING] Read geometry::PointCloud failed: unknown file extension for ../train/Spruce/34_46.txt (format: auto).\u001b[0;m\n",
      "Warning: No points found in file 34_46.txt. Trying NumPy fallback.\n",
      "\u001b[1;33m[Open3D WARNING] Read geometry::PointCloud failed: unknown file extension for ../train/Spruce/65_23.txt (format: auto).\u001b[0;m\n",
      "Warning: No points found in file 65_23.txt. Trying NumPy fallback.\n",
      "\u001b[1;33m[Open3D WARNING] Read geometry::PointCloud failed: unknown file extension for ../train/Spruce/35_12.txt (format: auto).\u001b[0;m\n",
      "Warning: No points found in file 35_12.txt. Trying NumPy fallback.\n"
     ]
    },
    {
     "name": "stderr",
     "output_type": "stream",
     "text": [
      "Extracting FPFH Features:  52%|█████▏    | 288/557 [00:20<00:12, 20.73it/s]"
     ]
    },
    {
     "name": "stdout",
     "output_type": "stream",
     "text": [
      "\u001b[1;33m[Open3D WARNING] Read geometry::PointCloud failed: unknown file extension for ../train/Spruce/65_22.txt (format: auto).\u001b[0;m\n",
      "Warning: No points found in file 65_22.txt. Trying NumPy fallback.\n",
      "\u001b[1;33m[Open3D WARNING] Read geometry::PointCloud failed: unknown file extension for ../train/Spruce/65_36.txt (format: auto).\u001b[0;m\n",
      "Warning: No points found in file 65_36.txt. Trying NumPy fallback.\n",
      "\u001b[1;33m[Open3D WARNING] Read geometry::PointCloud failed: unknown file extension for ../train/Spruce/65_34.txt (format: auto).\u001b[0;m\n",
      "Warning: No points found in file 65_34.txt. Trying NumPy fallback.\n",
      "\u001b[1;33m[Open3D WARNING] Read geometry::PointCloud failed: unknown file extension for ../train/Spruce/65_5.txt (format: auto).\u001b[0;m\n",
      "Warning: No points found in file 65_5.txt. Trying NumPy fallback.\n",
      "\u001b[1;33m[Open3D WARNING] Read geometry::PointCloud failed: unknown file extension for ../train/Spruce/64_49.txt (format: auto).\u001b[0;m\n",
      "Warning: No points found in file 64_49.txt. Trying NumPy fallback.\n"
     ]
    },
    {
     "name": "stderr",
     "output_type": "stream",
     "text": [
      "Extracting FPFH Features:  52%|█████▏    | 291/557 [00:20<00:14, 18.56it/s]"
     ]
    },
    {
     "name": "stdout",
     "output_type": "stream",
     "text": [
      "\u001b[1;33m[Open3D WARNING] Read geometry::PointCloud failed: unknown file extension for ../train/Spruce/65_4.txt (format: auto).\u001b[0;m\n",
      "Warning: No points found in file 65_4.txt. Trying NumPy fallback.\n",
      "\u001b[1;33m[Open3D WARNING] Read geometry::PointCloud failed: unknown file extension for ../train/Spruce/35_10.txt (format: auto).\u001b[0;m\n",
      "Warning: No points found in file 35_10.txt. Trying NumPy fallback.\n",
      "\u001b[1;33m[Open3D WARNING] Read geometry::PointCloud failed: unknown file extension for ../train/Pine/17.txt (format: auto).\u001b[0;m\n",
      "Warning: No points found in file 17.txt. Trying NumPy fallback.\n"
     ]
    },
    {
     "name": "stderr",
     "output_type": "stream",
     "text": [
      "Extracting FPFH Features:  53%|█████▎    | 296/557 [00:20<00:17, 14.65it/s]"
     ]
    },
    {
     "name": "stdout",
     "output_type": "stream",
     "text": [
      "\u001b[1;33m[Open3D WARNING] Read geometry::PointCloud failed: unknown file extension for ../train/Pine/13.txt (format: auto).\u001b[0;m\n",
      "Warning: No points found in file 13.txt. Trying NumPy fallback.\n"
     ]
    },
    {
     "name": "stderr",
     "output_type": "stream",
     "text": [
      "Extracting FPFH Features:  54%|█████▍    | 303/557 [00:21<00:19, 12.99it/s]"
     ]
    },
    {
     "name": "stdout",
     "output_type": "stream",
     "text": [
      "\u001b[1;33m[Open3D WARNING] Read geometry::PointCloud failed: unknown file extension for ../train/Pine/9.txt (format: auto).\u001b[0;m\n",
      "Warning: No points found in file 9.txt. Trying NumPy fallback.\n"
     ]
    },
    {
     "name": "stderr",
     "output_type": "stream",
     "text": [
      "Extracting FPFH Features:  55%|█████▍    | 305/557 [00:21<00:20, 12.41it/s]"
     ]
    },
    {
     "name": "stdout",
     "output_type": "stream",
     "text": [
      "\u001b[1;33m[Open3D WARNING] Read geometry::PointCloud failed: unknown file extension for ../train/Pine/65_53.txt (format: auto).\u001b[0;m\n",
      "Warning: No points found in file 65_53.txt. Trying NumPy fallback.\n",
      "\u001b[1;33m[Open3D WARNING] Read geometry::PointCloud failed: unknown file extension for ../train/Pine/65_57.txt (format: auto).\u001b[0;m\n",
      "Warning: No points found in file 65_57.txt. Trying NumPy fallback.\n",
      "\u001b[1;33m[Open3D WARNING] Read geometry::PointCloud failed: unknown file extension for ../train/Pine/1.txt (format: auto).\u001b[0;m\n",
      "Warning: No points found in file 1.txt. Trying NumPy fallback.\n"
     ]
    },
    {
     "name": "stderr",
     "output_type": "stream",
     "text": [
      "Extracting FPFH Features:  56%|█████▌    | 311/557 [00:21<00:17, 13.88it/s]"
     ]
    },
    {
     "name": "stdout",
     "output_type": "stream",
     "text": [
      "\u001b[1;33m[Open3D WARNING] Read geometry::PointCloud failed: unknown file extension for ../train/Pine/65_7.txt (format: auto).\u001b[0;m\n",
      "Warning: No points found in file 65_7.txt. Trying NumPy fallback.\n",
      "\u001b[1;33m[Open3D WARNING] Read geometry::PointCloud failed: unknown file extension for ../train/Pine/25.txt (format: auto).\u001b[0;m\n",
      "Warning: No points found in file 25.txt. Trying NumPy fallback.\n"
     ]
    },
    {
     "name": "stderr",
     "output_type": "stream",
     "text": [
      "Extracting FPFH Features:  57%|█████▋    | 319/557 [00:21<00:09, 24.84it/s]"
     ]
    },
    {
     "name": "stdout",
     "output_type": "stream",
     "text": [
      "\u001b[1;33m[Open3D WARNING] Read PTS failed with exception: vector\u001b[0;m\n",
      "Warning: No points found in file 45.pts. Trying NumPy fallback.\n"
     ]
    },
    {
     "name": "stderr",
     "output_type": "stream",
     "text": [
      "Extracting FPFH Features:  58%|█████▊    | 325/557 [00:22<00:10, 21.36it/s]"
     ]
    },
    {
     "name": "stdout",
     "output_type": "stream",
     "text": [
      "\u001b[1;33m[Open3D WARNING] Read PTS failed with exception: vector\u001b[0;m\n",
      "Warning: No points found in file 22.pts. Trying NumPy fallback.\n",
      "\u001b[1;33m[Open3D WARNING] Read PTS failed with exception: vector\u001b[0;m\n",
      "Warning: No points found in file 264.pts. Trying NumPy fallback.\n"
     ]
    },
    {
     "name": "stderr",
     "output_type": "stream",
     "text": [
      "Extracting FPFH Features:  62%|██████▏   | 344/557 [00:22<00:05, 37.66it/s]"
     ]
    },
    {
     "name": "stdout",
     "output_type": "stream",
     "text": [
      "\u001b[1;33m[Open3D WARNING] Read geometry::PointCloud failed: unknown file extension for ../train/Red Oak/Baum1_66 nrwl33- Cloud.txt (format: auto).\u001b[0;m\n",
      "Warning: No points found in file Baum1_66 nrwl33- Cloud.txt. Trying NumPy fallback.\n",
      "\u001b[1;33m[Open3D WARNING] Read geometry::PointCloud failed: unknown file extension for ../train/Red Oak/Baum0_188 nrwl33- Cloud.txt (format: auto).\u001b[0;m\n",
      "Warning: No points found in file Baum0_188 nrwl33- Cloud.txt. Trying NumPy fallback.\n",
      "\u001b[1;33m[Open3D WARNING] Read geometry::PointCloud failed: unknown file extension for ../train/Red Oak/Baum5_350 nrwl33- Cloud.txt (format: auto).\u001b[0;m\n",
      "Warning: No points found in file Baum5_350 nrwl33- Cloud.txt. Trying NumPy fallback.\n"
     ]
    },
    {
     "name": "stderr",
     "output_type": "stream",
     "text": [
      "Extracting FPFH Features:  63%|██████▎   | 349/557 [00:23<00:07, 26.01it/s]"
     ]
    },
    {
     "name": "stdout",
     "output_type": "stream",
     "text": [
      "\u001b[1;33m[Open3D WARNING] Read geometry::PointCloud failed: unknown file extension for ../train/Red Oak/Baum8_335 brb_psnord- Cloud.txt (format: auto).\u001b[0;m\n",
      "Warning: No points found in file Baum8_335 brb_psnord- Cloud.txt. Trying NumPy fallback.\n",
      "\u001b[1;33m[Open3D WARNING] Read geometry::PointCloud failed: unknown file extension for ../train/Red Oak/Baum5_649 thu_jena- Cloud.txt (format: auto).\u001b[0;m\n",
      "Warning: No points found in file Baum5_649 thu_jena- Cloud.txt. Trying NumPy fallback.\n",
      "\u001b[1;33m[Open3D WARNING] Read geometry::PointCloud failed: unknown file extension for ../train/Red Oak/Baum0_285 brb_pssüd- Cloud.txt (format: auto).\u001b[0;m\n",
      "Warning: No points found in file Baum0_285 brb_pssüd- Cloud.txt. Trying NumPy fallback.\n",
      "\u001b[1;33m[Open3D WARNING] Read geometry::PointCloud failed: unknown file extension for ../train/Red Oak/Baum3 nds_da - Cloud.txt (format: auto).\u001b[0;m\n",
      "Warning: No points found in file Baum3 nds_da - Cloud.txt. Trying NumPy fallback.\n"
     ]
    },
    {
     "name": "stderr",
     "output_type": "stream",
     "text": [
      "Extracting FPFH Features:  63%|██████▎   | 353/557 [00:23<00:09, 21.61it/s]"
     ]
    },
    {
     "name": "stdout",
     "output_type": "stream",
     "text": [
      "\u001b[1;33m[Open3D WARNING] Read geometry::PointCloud failed: unknown file extension for ../train/Red Oak/Baum2_312 brb_psnord - Cloud.txt (format: auto).\u001b[0;m\n",
      "Warning: No points found in file Baum2_312 brb_psnord - Cloud.txt. Trying NumPy fallback.\n",
      "\u001b[1;33m[Open3D WARNING] Read geometry::PointCloud failed: unknown file extension for ../train/Red Oak/Baum2_128 bwb4 - Cloud.txt (format: auto).\u001b[0;m\n",
      "Warning: No points found in file Baum2_128 bwb4 - Cloud.txt. Trying NumPy fallback.\n",
      "\u001b[1;33m[Open3D WARNING] Read geometry::PointCloud failed: unknown file extension for ../train/Red Oak/Baum3_311 nrwl30- Cloud.txt (format: auto).\u001b[0;m\n",
      "Warning: No points found in file Baum3_311 nrwl30- Cloud.txt. Trying NumPy fallback.\n",
      "\u001b[1;33m[Open3D WARNING] Read geometry::PointCloud failed: unknown file extension for ../train/Red Oak/Baum3_355 brb_pssüd- Cloud.txt (format: auto).\u001b[0;m\n",
      "Warning: No points found in file Baum3_355 brb_pssüd- Cloud.txt. Trying NumPy fallback.\n"
     ]
    },
    {
     "name": "stderr",
     "output_type": "stream",
     "text": [
      "Extracting FPFH Features:  64%|██████▍   | 356/557 [00:23<00:10, 19.27it/s]"
     ]
    },
    {
     "name": "stdout",
     "output_type": "stream",
     "text": [
      "\u001b[1;33m[Open3D WARNING] Read geometry::PointCloud failed: unknown file extension for ../train/Red Oak/Baum4_404 thu_neust- Cloud.txt (format: auto).\u001b[0;m\n",
      "Warning: No points found in file Baum4_404 thu_neust- Cloud.txt. Trying NumPy fallback.\n",
      "\u001b[1;33m[Open3D WARNING] Read geometry::PointCloud failed: unknown file extension for ../train/Red Oak/Baum6_382 bwb2 - Cloud.txt (format: auto).\u001b[0;m\n",
      "Warning: No points found in file Baum6_382 bwb2 - Cloud.txt. Trying NumPy fallback.\n",
      "\u001b[1;33m[Open3D WARNING] Read geometry::PointCloud failed: unknown file extension for ../train/Red Oak/Baum8_115 nrwl33 - Cloud.txt (format: auto).\u001b[0;m\n",
      "Warning: No points found in file Baum8_115 nrwl33 - Cloud.txt. Trying NumPy fallback.\n"
     ]
    },
    {
     "name": "stderr",
     "output_type": "stream",
     "text": [
      "Extracting FPFH Features:  64%|██████▍   | 359/557 [00:23<00:11, 17.38it/s]"
     ]
    },
    {
     "name": "stdout",
     "output_type": "stream",
     "text": [
      "\u001b[1;33m[Open3D WARNING] Read geometry::PointCloud failed: unknown file extension for ../train/Red Oak/Baum0 nds_da - Cloud.txt (format: auto).\u001b[0;m\n",
      "Warning: No points found in file Baum0 nds_da - Cloud.txt. Trying NumPy fallback.\n",
      "\u001b[1;33m[Open3D WARNING] Read geometry::PointCloud failed: unknown file extension for ../train/Red Oak/Baum0_506 bwb4 - Cloud.txt (format: auto).\u001b[0;m\n",
      "Warning: No points found in file Baum0_506 bwb4 - Cloud.txt. Trying NumPy fallback.\n",
      "\u001b[1;33m[Open3D WARNING] Read geometry::PointCloud failed: unknown file extension for ../train/Red Oak/Baum4_277 brb_psnord- Cloud.txt (format: auto).\u001b[0;m\n",
      "Warning: No points found in file Baum4_277 brb_psnord- Cloud.txt. Trying NumPy fallback.\n"
     ]
    },
    {
     "name": "stderr",
     "output_type": "stream",
     "text": [
      "Extracting FPFH Features:  65%|██████▍   | 362/557 [00:24<00:12, 15.91it/s]"
     ]
    },
    {
     "name": "stdout",
     "output_type": "stream",
     "text": [
      "\u001b[1;33m[Open3D WARNING] Read geometry::PointCloud failed: unknown file extension for ../train/Red Oak/Baum6 nds_da - Cloud.txt (format: auto).\u001b[0;m\n",
      "Warning: No points found in file Baum6 nds_da - Cloud.txt. Trying NumPy fallback.\n",
      "\u001b[1;33m[Open3D WARNING] Read geometry::PointCloud failed: unknown file extension for ../train/Red Oak/Baum6_178 nrwl30- Cloud.txt (format: auto).\u001b[0;m\n",
      "Warning: No points found in file Baum6_178 nrwl30- Cloud.txt. Trying NumPy fallback.\n",
      "\u001b[1;33m[Open3D WARNING] Read geometry::PointCloud failed: unknown file extension for ../train/Red Oak/Baum8_437 bwb4 - Cloud.txt (format: auto).\u001b[0;m\n",
      "Warning: No points found in file Baum8_437 bwb4 - Cloud.txt. Trying NumPy fallback.\n"
     ]
    },
    {
     "name": "stderr",
     "output_type": "stream",
     "text": [
      "Extracting FPFH Features:  66%|██████▌   | 366/557 [00:24<00:12, 15.30it/s]"
     ]
    },
    {
     "name": "stdout",
     "output_type": "stream",
     "text": [
      "\u001b[1;33m[Open3D WARNING] Read geometry::PointCloud failed: unknown file extension for ../train/Red Oak/Baum1_175 bwb4 - Cloud.txt (format: auto).\u001b[0;m\n",
      "Warning: No points found in file Baum1_175 bwb4 - Cloud.txt. Trying NumPy fallback.\n",
      "\u001b[1;33m[Open3D WARNING] Read geometry::PointCloud failed: unknown file extension for ../train/Red Oak/Baum5_485 nds_ro- Cloud.txt (format: auto).\u001b[0;m\n",
      "Warning: No points found in file Baum5_485 nds_ro- Cloud.txt. Trying NumPy fallback.\n",
      "\u001b[1;33m[Open3D WARNING] Read geometry::PointCloud failed: unknown file extension for ../train/Red Oak/Baum4_430 bwb4 - Cloud.txt (format: auto).\u001b[0;m\n",
      "Warning: No points found in file Baum4_430 bwb4 - Cloud.txt. Trying NumPy fallback.\n"
     ]
    },
    {
     "name": "stderr",
     "output_type": "stream",
     "text": [
      "Extracting FPFH Features:  66%|██████▌   | 368/557 [00:24<00:13, 14.29it/s]"
     ]
    },
    {
     "name": "stdout",
     "output_type": "stream",
     "text": [
      "\u001b[1;33m[Open3D WARNING] Read geometry::PointCloud failed: unknown file extension for ../train/Red Oak/Baum7_498 nds_ro- Cloud.txt (format: auto).\u001b[0;m\n",
      "Warning: No points found in file Baum7_498 nds_ro- Cloud.txt. Trying NumPy fallback.\n",
      "\u001b[1;33m[Open3D WARNING] Read geometry::PointCloud failed: unknown file extension for ../train/Red Oak/Baum6_401 thu_jena- Cloud.txt (format: auto).\u001b[0;m\n",
      "Warning: No points found in file Baum6_401 thu_jena- Cloud.txt. Trying NumPy fallback.\n",
      "\u001b[1;33m[Open3D WARNING] Read geometry::PointCloud failed: unknown file extension for ../train/Red Oak/Baum9_552 nds_ro- Cloud.txt (format: auto).\u001b[0;m\n",
      "Warning: No points found in file Baum9_552 nds_ro- Cloud.txt. Trying NumPy fallback.\n"
     ]
    },
    {
     "name": "stderr",
     "output_type": "stream",
     "text": [
      "Extracting FPFH Features:  67%|██████▋   | 372/557 [00:24<00:13, 13.24it/s]"
     ]
    },
    {
     "name": "stdout",
     "output_type": "stream",
     "text": [
      "\u001b[1;33m[Open3D WARNING] Read geometry::PointCloud failed: unknown file extension for ../train/Red Oak/Baum1_128 brb_pssüd- Cloud.txt (format: auto).\u001b[0;m\n",
      "Warning: No points found in file Baum1_128 brb_pssüd- Cloud.txt. Trying NumPy fallback.\n",
      "\u001b[1;33m[Open3D WARNING] Read geometry::PointCloud failed: unknown file extension for ../train/Red Oak/Baum7_103 thu_neust- Cloud.txt (format: auto).\u001b[0;m\n",
      "Warning: No points found in file Baum7_103 thu_neust- Cloud.txt. Trying NumPy fallback.\n",
      "\u001b[1;33m[Open3D WARNING] Read geometry::PointCloud failed: unknown file extension for ../train/Red Oak/Baum2_263 nrwl30- Cloud.txt (format: auto).\u001b[0;m\n",
      "Warning: No points found in file Baum2_263 nrwl30- Cloud.txt. Trying NumPy fallback.\n"
     ]
    },
    {
     "name": "stderr",
     "output_type": "stream",
     "text": [
      "Extracting FPFH Features:  68%|██████▊   | 376/557 [00:25<00:13, 13.09it/s]"
     ]
    },
    {
     "name": "stdout",
     "output_type": "stream",
     "text": [
      "\u001b[1;33m[Open3D WARNING] Read geometry::PointCloud failed: unknown file extension for ../train/Red Oak/Baum8_308 thu_jena- Cloud.txt (format: auto).\u001b[0;m\n",
      "Warning: No points found in file Baum8_308 thu_jena- Cloud.txt. Trying NumPy fallback.\n",
      "\u001b[1;33m[Open3D WARNING] Read geometry::PointCloud failed: unknown file extension for ../train/Red Oak/Baum0_227 thu_jena- Cloud.txt (format: auto).\u001b[0;m\n",
      "Warning: No points found in file Baum0_227 thu_jena- Cloud.txt. Trying NumPy fallback.\n",
      "\u001b[1;33m[Open3D WARNING] Read geometry::PointCloud failed: unknown file extension for ../train/Red Oak/Baum5_267 brb_pssüd - Cloud.txt (format: auto).\u001b[0;m\n",
      "Warning: No points found in file Baum5_267 brb_pssüd - Cloud.txt. Trying NumPy fallback.\n",
      "\u001b[1;33m[Open3D WARNING] Read geometry::PointCloud failed: unknown file extension for ../train/Red Oak/Baum6_479 bwb4 - Cloud.txt (format: auto).\u001b[0;m\n",
      "Warning: No points found in file Baum6_479 bwb4 - Cloud.txt. Trying NumPy fallback.\n"
     ]
    },
    {
     "name": "stderr",
     "output_type": "stream",
     "text": [
      "Extracting FPFH Features:  68%|██████▊   | 380/557 [00:25<00:11, 15.10it/s]"
     ]
    },
    {
     "name": "stdout",
     "output_type": "stream",
     "text": [
      "\u001b[1;33m[Open3D WARNING] Read geometry::PointCloud failed: unknown file extension for ../train/Red Oak/Baum5_345 thu_neust- Cloud.txt (format: auto).\u001b[0;m\n",
      "Warning: No points found in file Baum5_345 thu_neust- Cloud.txt. Trying NumPy fallback.\n",
      "\u001b[1;33m[Open3D WARNING] Read geometry::PointCloud failed: unknown file extension for ../train/Red Oak/Baum9_583 thu_jena- Cloud.txt (format: auto).\u001b[0;m\n",
      "Warning: No points found in file Baum9_583 thu_jena- Cloud.txt. Trying NumPy fallback.\n",
      "\u001b[1;33m[Open3D WARNING] Read geometry::PointCloud failed: unknown file extension for ../train/Red Oak/Baum5_373 bwb4 - Cloud.txt (format: auto).\u001b[0;m\n",
      "Warning: No points found in file Baum5_373 bwb4 - Cloud.txt. Trying NumPy fallback.\n",
      "\u001b[1;33m[Open3D WARNING] Read geometry::PointCloud failed: unknown file extension for ../train/Red Oak/Baum7_404 nrwl33- Cloud.txt (format: auto).\u001b[0;m\n",
      "Warning: No points found in file Baum7_404 nrwl33- Cloud.txt. Trying NumPy fallback.\n"
     ]
    },
    {
     "name": "stderr",
     "output_type": "stream",
     "text": [
      "Extracting FPFH Features:  69%|██████▊   | 382/557 [00:25<00:13, 13.31it/s]"
     ]
    },
    {
     "name": "stdout",
     "output_type": "stream",
     "text": [
      "\u001b[1;33m[Open3D WARNING] Read geometry::PointCloud failed: unknown file extension for ../train/Red Oak/Baum2_197 brb_pssüd- Cloud.txt (format: auto).\u001b[0;m\n",
      "Warning: No points found in file Baum2_197 brb_pssüd- Cloud.txt. Trying NumPy fallback.\n",
      "\u001b[1;33m[Open3D WARNING] Read geometry::PointCloud failed: unknown file extension for ../train/Red Oak/Baum5 nds_da - Cloud.txt (format: auto).\u001b[0;m\n",
      "Warning: No points found in file Baum5 nds_da - Cloud.txt. Trying NumPy fallback.\n",
      "\u001b[1;33m[Open3D WARNING] Read geometry::PointCloud failed: unknown file extension for ../train/Red Oak/Baum8 nds_da - Cloud.txt (format: auto).\u001b[0;m\n",
      "Warning: No points found in file Baum8 nds_da - Cloud.txt. Trying NumPy fallback.\n"
     ]
    },
    {
     "name": "stderr",
     "output_type": "stream",
     "text": [
      "Extracting FPFH Features:  69%|██████▉   | 387/557 [00:25<00:11, 14.86it/s]"
     ]
    },
    {
     "name": "stdout",
     "output_type": "stream",
     "text": [
      "\u001b[1;33m[Open3D WARNING] Read geometry::PointCloud failed: unknown file extension for ../train/Red Oak/Baum0_534 brb_psnord- Cloud.txt (format: auto).\u001b[0;m\n",
      "Warning: No points found in file Baum0_534 brb_psnord- Cloud.txt. Trying NumPy fallback.\n",
      "\u001b[1;33m[Open3D WARNING] Read geometry::PointCloud failed: unknown file extension for ../train/Red Oak/Baum3_359 thu_jena- Cloud.txt (format: auto).\u001b[0;m\n",
      "Warning: No points found in file Baum3_359 thu_jena- Cloud.txt. Trying NumPy fallback.\n",
      "\u001b[1;33m[Open3D WARNING] Read geometry::PointCloud failed: unknown file extension for ../train/Red Oak/Baum7_88 nrwl30- Cloud.txt (format: auto).\u001b[0;m\n",
      "Warning: No points found in file Baum7_88 nrwl30- Cloud.txt. Trying NumPy fallback.\n",
      "\u001b[1;33m[Open3D WARNING] Read geometry::PointCloud failed: unknown file extension for ../train/Red Oak/Baum5_450 brb_psnord- Cloud.txt (format: auto).\u001b[0;m\n",
      "Warning: No points found in file Baum5_450 brb_psnord- Cloud.txt. Trying NumPy fallback.\n"
     ]
    },
    {
     "name": "stderr",
     "output_type": "stream",
     "text": [
      "Extracting FPFH Features:  70%|███████   | 391/557 [00:26<00:11, 14.02it/s]"
     ]
    },
    {
     "name": "stdout",
     "output_type": "stream",
     "text": [
      "\u001b[1;33m[Open3D WARNING] Read geometry::PointCloud failed: unknown file extension for ../train/Red Oak/Baum9_512 bwb2 - Cloud.txt (format: auto).\u001b[0;m\n",
      "Warning: No points found in file Baum9_512 bwb2 - Cloud.txt. Trying NumPy fallback.\n",
      "\u001b[1;33m[Open3D WARNING] Read geometry::PointCloud failed: unknown file extension for ../train/Red Oak/Baum3_78 bwb2 - Cloud.txt (format: auto).\u001b[0;m\n",
      "Warning: No points found in file Baum3_78 bwb2 - Cloud.txt. Trying NumPy fallback.\n",
      "\u001b[1;33m[Open3D WARNING] Read geometry::PointCloud failed: unknown file extension for ../train/Red Oak/Baum0_578 nds_ro- Cloud.txt (format: auto).\u001b[0;m\n",
      "Warning: No points found in file Baum0_578 nds_ro- Cloud.txt. Trying NumPy fallback.\n",
      "\u001b[1;33m[Open3D WARNING] Read geometry::PointCloud failed: unknown file extension for ../train/Red Oak/Baum4 nds_da - Cloud.txt (format: auto).\u001b[0;m\n",
      "Warning: No points found in file Baum4 nds_da - Cloud.txt. Trying NumPy fallback.\n"
     ]
    },
    {
     "name": "stderr",
     "output_type": "stream",
     "text": [
      "Extracting FPFH Features:  71%|███████   | 393/557 [00:26<00:10, 15.19it/s]"
     ]
    },
    {
     "name": "stdout",
     "output_type": "stream",
     "text": [
      "\u001b[1;33m[Open3D WARNING] Read geometry::PointCloud failed: unknown file extension for ../train/Red Oak/Baum9 nds_da - Cloud.txt (format: auto).\u001b[0;m\n",
      "Warning: No points found in file Baum9 nds_da - Cloud.txt. Trying NumPy fallback.\n",
      "\u001b[1;33m[Open3D WARNING] Read geometry::PointCloud failed: unknown file extension for ../train/Red Oak/Baum3_124 brb_psnord- Cloud.txt (format: auto).\u001b[0;m\n",
      "Warning: No points found in file Baum3_124 brb_psnord- Cloud.txt. Trying NumPy fallback.\n",
      "\u001b[1;33m[Open3D WARNING] Read geometry::PointCloud failed: unknown file extension for ../train/Red Oak/Baum0_332 bwb2- Cloud.txt (format: auto).\u001b[0;m\n",
      "Warning: No points found in file Baum0_332 bwb2- Cloud.txt. Trying NumPy fallback.\n"
     ]
    },
    {
     "name": "stderr",
     "output_type": "stream",
     "text": [
      "Extracting FPFH Features:  71%|███████▏  | 397/557 [00:26<00:11, 13.54it/s]"
     ]
    },
    {
     "name": "stdout",
     "output_type": "stream",
     "text": [
      "\u001b[1;33m[Open3D WARNING] Read geometry::PointCloud failed: unknown file extension for ../train/Red Oak/Baum6_562 brb_psnord- Cloud.txt (format: auto).\u001b[0;m\n",
      "Warning: No points found in file Baum6_562 brb_psnord- Cloud.txt. Trying NumPy fallback.\n",
      "\u001b[1;33m[Open3D WARNING] Read geometry::PointCloud failed: unknown file extension for ../train/Red Oak/Baum9_29 nrwl33- Cloud.txt (format: auto).\u001b[0;m\n",
      "Warning: No points found in file Baum9_29 nrwl33- Cloud.txt. Trying NumPy fallback.\n",
      "\u001b[1;33m[Open3D WARNING] Read geometry::PointCloud failed: unknown file extension for ../train/Red Oak/Baum8_194 brb_pssüd- Cloud.txt (format: auto).\u001b[0;m\n",
      "Warning: No points found in file Baum8_194 brb_pssüd- Cloud.txt. Trying NumPy fallback.\n"
     ]
    },
    {
     "name": "stderr",
     "output_type": "stream",
     "text": [
      "Extracting FPFH Features:  72%|███████▏  | 399/557 [00:26<00:12, 12.96it/s]"
     ]
    },
    {
     "name": "stdout",
     "output_type": "stream",
     "text": [
      "\u001b[1;33m[Open3D WARNING] Read geometry::PointCloud failed: unknown file extension for ../train/Red Oak/Baum7_256 brb_pssüd- Cloud.txt (format: auto).\u001b[0;m\n",
      "Warning: No points found in file Baum7_256 brb_pssüd- Cloud.txt. Trying NumPy fallback.\n",
      "\u001b[1;33m[Open3D WARNING] Read geometry::PointCloud failed: unknown file extension for ../train/Red Oak/Baum9_149 brb_pssüd- Cloud.txt (format: auto).\u001b[0;m\n",
      "Warning: No points found in file Baum9_149 brb_pssüd- Cloud.txt. Trying NumPy fallback.\n",
      "\u001b[1;33m[Open3D WARNING] Read geometry::PointCloud failed: unknown file extension for ../train/Red Oak/Baum7_41 thu_jena- Cloud.txt (format: auto).\u001b[0;m\n",
      "Warning: No points found in file Baum7_41 thu_jena- Cloud.txt. Trying NumPy fallback.\n"
     ]
    },
    {
     "name": "stderr",
     "output_type": "stream",
     "text": [
      "Extracting FPFH Features:  72%|███████▏  | 403/557 [00:27<00:11, 13.93it/s]"
     ]
    },
    {
     "name": "stdout",
     "output_type": "stream",
     "text": [
      "\u001b[1;33m[Open3D WARNING] Read geometry::PointCloud failed: unknown file extension for ../train/Red Oak/Baum1_614 brb_psnord - Cloud.txt (format: auto).\u001b[0;m\n",
      "Warning: No points found in file Baum1_614 brb_psnord - Cloud.txt. Trying NumPy fallback.\n",
      "\u001b[1;33m[Open3D WARNING] Read geometry::PointCloud failed: unknown file extension for ../train/Red Oak/Baum1_351 bwb2 - Cloud.txt (format: auto).\u001b[0;m\n",
      "Warning: No points found in file Baum1_351 bwb2 - Cloud.txt. Trying NumPy fallback.\n",
      "\u001b[1;33m[Open3D WARNING] Read geometry::PointCloud failed: unknown file extension for ../train/Red Oak/Baum7 nds_da - Cloud.txt (format: auto).\u001b[0;m\n",
      "Warning: No points found in file Baum7 nds_da - Cloud.txt. Trying NumPy fallback.\n",
      "\u001b[1;33m[Open3D WARNING] Read geometry::PointCloud failed: unknown file extension for ../train/Red Oak/Baum5_1 bwb2- Cloud.txt (format: auto).\u001b[0;m\n",
      "Warning: No points found in file Baum5_1 bwb2- Cloud.txt. Trying NumPy fallback.\n"
     ]
    },
    {
     "name": "stderr",
     "output_type": "stream",
     "text": [
      "Extracting FPFH Features:  73%|███████▎  | 407/557 [00:27<00:10, 14.43it/s]"
     ]
    },
    {
     "name": "stdout",
     "output_type": "stream",
     "text": [
      "\u001b[1;33m[Open3D WARNING] Read geometry::PointCloud failed: unknown file extension for ../train/Red Oak/Baum3_37 nds_ro- Cloud.txt (format: auto).\u001b[0;m\n",
      "Warning: No points found in file Baum3_37 nds_ro- Cloud.txt. Trying NumPy fallback.\n",
      "\u001b[1;33m[Open3D WARNING] Read geometry::PointCloud failed: unknown file extension for ../train/Red Oak/Baum3 _98 nrwl33- Cloud.txt (format: auto).\u001b[0;m\n",
      "Warning: No points found in file Baum3 _98 nrwl33- Cloud.txt. Trying NumPy fallback.\n",
      "\u001b[1;33m[Open3D WARNING] Read geometry::PointCloud failed: unknown file extension for ../train/Red Oak/Baum6_27 brb_pssüd- Cloud.txt (format: auto).\u001b[0;m\n",
      "Warning: No points found in file Baum6_27 brb_pssüd- Cloud.txt. Trying NumPy fallback.\n"
     ]
    },
    {
     "name": "stderr",
     "output_type": "stream",
     "text": [
      "Extracting FPFH Features:  73%|███████▎  | 409/557 [00:27<00:10, 14.72it/s]"
     ]
    },
    {
     "name": "stdout",
     "output_type": "stream",
     "text": [
      "\u001b[1;33m[Open3D WARNING] Read geometry::PointCloud failed: unknown file extension for ../train/Red Oak/Baum4_33 nrwl30- Cloud.txt (format: auto).\u001b[0;m\n",
      "Warning: No points found in file Baum4_33 nrwl30- Cloud.txt. Trying NumPy fallback.\n",
      "\u001b[1;33m[Open3D WARNING] Read geometry::PointCloud failed: unknown file extension for ../train/Red Oak/Baum1_114 thu_jena- Cloud.txt (format: auto).\u001b[0;m\n",
      "Warning: No points found in file Baum1_114 thu_jena- Cloud.txt. Trying NumPy fallback.\n",
      "\u001b[1;33m[Open3D WARNING] Read geometry::PointCloud failed: unknown file extension for ../train/Red Oak/Baum4_398 nds_ro- Cloud.txt (format: auto).\u001b[0;m\n",
      "Warning: No points found in file Baum4_398 nds_ro- Cloud.txt. Trying NumPy fallback.\n"
     ]
    },
    {
     "name": "stderr",
     "output_type": "stream",
     "text": [
      "Extracting FPFH Features:  74%|███████▍  | 413/557 [00:27<00:10, 13.91it/s]"
     ]
    },
    {
     "name": "stdout",
     "output_type": "stream",
     "text": [
      "\u001b[1;33m[Open3D WARNING] Read geometry::PointCloud failed: unknown file extension for ../train/Red Oak/Baum2_171 bwb2 - Cloud.txt (format: auto).\u001b[0;m\n",
      "Warning: No points found in file Baum2_171 bwb2 - Cloud.txt. Trying NumPy fallback.\n",
      "\u001b[1;33m[Open3D WARNING] Read geometry::PointCloud failed: unknown file extension for ../train/Red Oak/Baum8_395 thu_neust- Cloud.txt (format: auto).\u001b[0;m\n",
      "Warning: No points found in file Baum8_395 thu_neust- Cloud.txt. Trying NumPy fallback.\n",
      "\u001b[1;33m[Open3D WARNING] Read geometry::PointCloud failed: unknown file extension for ../train/Red Oak/Baum0_123 nrwl30- Cloud.txt (format: auto).\u001b[0;m\n",
      "Warning: No points found in file Baum0_123 nrwl30- Cloud.txt. Trying NumPy fallback.\n"
     ]
    },
    {
     "name": "stderr",
     "output_type": "stream",
     "text": [
      "Extracting FPFH Features:  75%|███████▍  | 415/557 [00:27<00:10, 14.17it/s]"
     ]
    },
    {
     "name": "stdout",
     "output_type": "stream",
     "text": [
      "\u001b[1;33m[Open3D WARNING] Read geometry::PointCloud failed: unknown file extension for ../train/Red Oak/Baum2_504 thu_jena- Cloud.txt (format: auto).\u001b[0;m\n",
      "Warning: No points found in file Baum2_504 thu_jena- Cloud.txt. Trying NumPy fallback.\n",
      "\u001b[1;33m[Open3D WARNING] Read geometry::PointCloud failed: unknown file extension for ../train/Red Oak/Baum4_217 bwb2 - Cloud.txt (format: auto).\u001b[0;m\n",
      "Warning: No points found in file Baum4_217 bwb2 - Cloud.txt. Trying NumPy fallback.\n",
      "\u001b[1;33m[Open3D WARNING] Read geometry::PointCloud failed: unknown file extension for ../train/Red Oak/Baum1 nds_da - Cloud.txt (format: auto).\u001b[0;m\n",
      "Warning: No points found in file Baum1 nds_da - Cloud.txt. Trying NumPy fallback.\n"
     ]
    },
    {
     "name": "stderr",
     "output_type": "stream",
     "text": [
      "Extracting FPFH Features:  75%|███████▌  | 420/557 [00:28<00:09, 14.69it/s]"
     ]
    },
    {
     "name": "stdout",
     "output_type": "stream",
     "text": [
      "\u001b[1;33m[Open3D WARNING] Read geometry::PointCloud failed: unknown file extension for ../train/Red Oak/Baum7_424 bwb2 - Cloud.txt (format: auto).\u001b[0;m\n",
      "Warning: No points found in file Baum7_424 bwb2 - Cloud.txt. Trying NumPy fallback.\n",
      "\u001b[1;33m[Open3D WARNING] Read geometry::PointCloud failed: unknown file extension for ../train/Red Oak/Baum2 nds_da - Cloud.txt (format: auto).\u001b[0;m\n",
      "Warning: No points found in file Baum2 nds_da - Cloud.txt. Trying NumPy fallback.\n",
      "\u001b[1;33m[Open3D WARNING] Read geometry::PointCloud failed: unknown file extension for ../train/Red Oak/Baum6_179 nds_ro- Cloud.txt (format: auto).\u001b[0;m\n",
      "Warning: No points found in file Baum6_179 nds_ro- Cloud.txt. Trying NumPy fallback.\n",
      "\u001b[1;33m[Open3D WARNING] Read geometry::PointCloud failed: unknown file extension for ../train/Red Oak/Baum7_404 bwb4 - Cloud.txt (format: auto).\u001b[0;m\n",
      "Warning: No points found in file Baum7_404 bwb4 - Cloud.txt. Trying NumPy fallback.\n"
     ]
    },
    {
     "name": "stderr",
     "output_type": "stream",
     "text": [
      "Extracting FPFH Features:  76%|███████▌  | 424/557 [00:28<00:08, 14.85it/s]"
     ]
    },
    {
     "name": "stdout",
     "output_type": "stream",
     "text": [
      "\u001b[1;33m[Open3D WARNING] Read geometry::PointCloud failed: unknown file extension for ../train/Red Oak/Baum1_414 thu_neust- Cloud.txt (format: auto).\u001b[0;m\n",
      "Warning: No points found in file Baum1_414 thu_neust- Cloud.txt. Trying NumPy fallback.\n",
      "\u001b[1;33m[Open3D WARNING] Read geometry::PointCloud failed: unknown file extension for ../train/Red Oak/Baum1_568 nds_ro- Cloud.txt (format: auto).\u001b[0;m\n",
      "Warning: No points found in file Baum1_568 nds_ro- Cloud.txt. Trying NumPy fallback.\n",
      "\u001b[1;33m[Open3D WARNING] Read geometry::PointCloud failed: unknown file extension for ../train/Red Oak/Baum4_336 brb_pssüd- Cloud.txt (format: auto).\u001b[0;m\n",
      "Warning: No points found in file Baum4_336 brb_pssüd- Cloud.txt. Trying NumPy fallback.\n",
      "\u001b[1;33m[Open3D WARNING] Read geometry::PointCloud failed: unknown file extension for ../train/Red Oak/Baum3_299 thu_neust- Cloud.txt (format: auto).\u001b[0;m\n",
      "Warning: No points found in file Baum3_299 thu_neust- Cloud.txt. Trying NumPy fallback.\n"
     ]
    },
    {
     "name": "stderr",
     "output_type": "stream",
     "text": [
      "Extracting FPFH Features:  77%|███████▋  | 427/557 [00:28<00:08, 15.35it/s]"
     ]
    },
    {
     "name": "stdout",
     "output_type": "stream",
     "text": [
      "\u001b[1;33m[Open3D WARNING] Read PTS failed with exception: vector\u001b[0;m\n",
      "Warning: No points found in file 57.pts. Trying NumPy fallback.\n",
      "\u001b[1;33m[Open3D WARNING] Read PTS failed with exception: vector\u001b[0;m\n",
      "Warning: No points found in file 43.pts. Trying NumPy fallback.\n"
     ]
    },
    {
     "name": "stderr",
     "output_type": "stream",
     "text": [
      "Extracting FPFH Features:  78%|███████▊  | 435/557 [00:28<00:05, 22.03it/s]"
     ]
    },
    {
     "name": "stdout",
     "output_type": "stream",
     "text": [
      "\u001b[1;33m[Open3D WARNING] Read PTS failed with exception: vector\u001b[0;m\n",
      "Warning: No points found in file 42.pts. Trying NumPy fallback.\n",
      "\u001b[1;33m[Open3D WARNING] Read PTS failed with exception: vector\u001b[0;m\n",
      "Warning: No points found in file 40.pts. Trying NumPy fallback.\n"
     ]
    },
    {
     "name": "stderr",
     "output_type": "stream",
     "text": [
      "Extracting FPFH Features:  81%|████████  | 449/557 [00:29<00:05, 18.18it/s]"
     ]
    },
    {
     "name": "stdout",
     "output_type": "stream",
     "text": [
      "\u001b[1;33m[Open3D WARNING] Read PTS failed with exception: vector\u001b[0;m\n",
      "Warning: No points found in file 3.pts. Trying NumPy fallback.\n",
      "\u001b[1;33m[Open3D WARNING] Read PTS failed with exception: vector\u001b[0;m\n",
      "Warning: No points found in file 44.pts. Trying NumPy fallback.\n",
      "\u001b[1;33m[Open3D WARNING] Read PTS failed with exception: vector\u001b[0;m\n",
      "Warning: No points found in file 91.pts. Trying NumPy fallback.\n"
     ]
    },
    {
     "name": "stderr",
     "output_type": "stream",
     "text": [
      "Extracting FPFH Features:  81%|████████▏ | 453/557 [00:30<00:04, 21.14it/s]"
     ]
    },
    {
     "name": "stdout",
     "output_type": "stream",
     "text": [
      "\u001b[1;33m[Open3D WARNING] Read PTS failed with exception: vector\u001b[0;m\n",
      "Warning: No points found in file 46.pts. Trying NumPy fallback.\n"
     ]
    },
    {
     "name": "stderr",
     "output_type": "stream",
     "text": [
      "Extracting FPFH Features:  83%|████████▎ | 463/557 [00:30<00:04, 19.23it/s]"
     ]
    },
    {
     "name": "stdout",
     "output_type": "stream",
     "text": [
      "\u001b[1;33m[Open3D WARNING] Read PTS failed with exception: vector\u001b[0;m\n",
      "Warning: No points found in file 121.pts. Trying NumPy fallback.\n"
     ]
    },
    {
     "name": "stderr",
     "output_type": "stream",
     "text": [
      "Extracting FPFH Features:  84%|████████▍ | 469/557 [00:31<00:05, 15.89it/s]"
     ]
    },
    {
     "name": "stdout",
     "output_type": "stream",
     "text": [
      "\u001b[1;33m[Open3D WARNING] Read PTS failed with exception: vector\u001b[0;m\n",
      "Warning: No points found in file 21.pts. Trying NumPy fallback.\n",
      "\u001b[1;33m[Open3D WARNING] Read PTS failed with exception: vector\u001b[0;m\n",
      "Warning: No points found in file 120.pts. Trying NumPy fallback.\n"
     ]
    },
    {
     "name": "stderr",
     "output_type": "stream",
     "text": [
      "Extracting FPFH Features:  85%|████████▍ | 471/557 [00:31<00:06, 13.99it/s]"
     ]
    },
    {
     "name": "stdout",
     "output_type": "stream",
     "text": [
      "\u001b[1;33m[Open3D WARNING] Read PTS failed with exception: vector\u001b[0;m\n",
      "Warning: No points found in file 23.pts. Trying NumPy fallback.\n",
      "\u001b[1;33m[Open3D WARNING] Read PTS failed with exception: vector\u001b[0;m\n",
      "Warning: No points found in file 37.pts. Trying NumPy fallback.\n"
     ]
    },
    {
     "name": "stderr",
     "output_type": "stream",
     "text": [
      "Extracting FPFH Features:  87%|████████▋ | 483/557 [00:31<00:03, 18.76it/s]"
     ]
    },
    {
     "name": "stdout",
     "output_type": "stream",
     "text": [
      "\u001b[1;33m[Open3D WARNING] Read PTS failed with exception: vector\u001b[0;m\n",
      "Warning: No points found in file 19.pts. Trying NumPy fallback.\n"
     ]
    },
    {
     "name": "stderr",
     "output_type": "stream",
     "text": [
      "Extracting FPFH Features:  88%|████████▊ | 490/557 [00:32<00:06, 10.88it/s]"
     ]
    },
    {
     "name": "stdout",
     "output_type": "stream",
     "text": [
      "\u001b[1;33m[Open3D WARNING] Read PTS failed with exception: vector\u001b[0;m\n",
      "Warning: No points found in file 24.pts. Trying NumPy fallback.\n",
      "\u001b[1;33m[Open3D WARNING] Read PTS failed with exception: vector\u001b[0;m\n",
      "Warning: No points found in file 18.pts. Trying NumPy fallback.\n",
      "\u001b[1;33m[Open3D WARNING] Read PTS failed with exception: vector\u001b[0;m\n",
      "Warning: No points found in file 125.pts. Trying NumPy fallback.\n"
     ]
    },
    {
     "name": "stderr",
     "output_type": "stream",
     "text": [
      "Extracting FPFH Features:  89%|████████▉ | 498/557 [00:33<00:04, 12.65it/s]"
     ]
    },
    {
     "name": "stdout",
     "output_type": "stream",
     "text": [
      "\u001b[1;33m[Open3D WARNING] Read PTS failed with exception: vector\u001b[0;m\n",
      "Warning: No points found in file 28.pts. Trying NumPy fallback.\n"
     ]
    },
    {
     "name": "stderr",
     "output_type": "stream",
     "text": [
      "Extracting FPFH Features:  91%|█████████▏| 509/557 [00:33<00:02, 17.15it/s]"
     ]
    },
    {
     "name": "stdout",
     "output_type": "stream",
     "text": [
      "\u001b[1;33m[Open3D WARNING] Read PTS failed with exception: vector\u001b[0;m\n",
      "Warning: No points found in file 12.pts. Trying NumPy fallback.\n"
     ]
    },
    {
     "name": "stderr",
     "output_type": "stream",
     "text": [
      "Extracting FPFH Features:  93%|█████████▎| 518/557 [00:34<00:02, 16.48it/s]"
     ]
    },
    {
     "name": "stdout",
     "output_type": "stream",
     "text": [
      "\u001b[1;33m[Open3D WARNING] Read PTS failed with exception: vector\u001b[0;m\n",
      "Warning: No points found in file 76.pts. Trying NumPy fallback.\n"
     ]
    },
    {
     "name": "stderr",
     "output_type": "stream",
     "text": [
      "Extracting FPFH Features:  99%|█████████▊| 549/557 [00:36<00:00, 13.89it/s]"
     ]
    },
    {
     "name": "stdout",
     "output_type": "stream",
     "text": [
      "\u001b[1;33m[Open3D WARNING] Read PTS failed with exception: vector\u001b[0;m\n",
      "Warning: No points found in file 166.pts. Trying NumPy fallback.\n"
     ]
    },
    {
     "name": "stderr",
     "output_type": "stream",
     "text": [
      "Extracting FPFH Features: 100%|██████████| 557/557 [00:37<00:00, 14.99it/s]\n",
      "Extracting FPFH Features: 100%|██████████| 557/557 [00:37<00:00, 14.99it/s]\n"
     ]
    },
    {
     "name": "stdout",
     "output_type": "stream",
     "text": [
      "Processing testing data...\n"
     ]
    },
    {
     "name": "stderr",
     "output_type": "stream",
     "text": [
      "Extracting FPFH Features:   0%|          | 0/134 [00:00<?, ?it/s]"
     ]
    },
    {
     "name": "stdout",
     "output_type": "stream",
     "text": [
      "\u001b[1;33m[Open3D WARNING] Read geometry::PointCloud failed: unknown file extension for ../test/Oak/14.txt (format: auto).\u001b[0;m\n",
      "Warning: No points found in file 14.txt. Trying NumPy fallback.\n"
     ]
    },
    {
     "name": "stderr",
     "output_type": "stream",
     "text": [
      "Extracting FPFH Features:   1%|          | 1/134 [00:00<00:47,  2.82it/s]"
     ]
    },
    {
     "name": "stdout",
     "output_type": "stream",
     "text": [
      "\u001b[1;33m[Open3D WARNING] Read geometry::PointCloud failed: unknown file extension for ../test/Oak/22.txt (format: auto).\u001b[0;m\n",
      "Warning: No points found in file 22.txt. Trying NumPy fallback.\n"
     ]
    },
    {
     "name": "stderr",
     "output_type": "stream",
     "text": [
      "Extracting FPFH Features:   2%|▏         | 3/134 [00:00<00:28,  4.55it/s]"
     ]
    },
    {
     "name": "stdout",
     "output_type": "stream",
     "text": [
      "\u001b[1;33m[Open3D WARNING] Read geometry::PointCloud failed: unknown file extension for ../test/Oak/18.txt (format: auto).\u001b[0;m\n",
      "Warning: No points found in file 18.txt. Trying NumPy fallback.\n",
      "\u001b[1;33m[Open3D WARNING] Read geometry::PointCloud failed: unknown file extension for ../test/Oak/24.txt (format: auto).\u001b[0;m\n",
      "Warning: No points found in file 24.txt. Trying NumPy fallback.\n"
     ]
    },
    {
     "name": "stderr",
     "output_type": "stream",
     "text": [
      "Extracting FPFH Features:   5%|▌         | 7/134 [00:01<00:12,  9.87it/s]"
     ]
    },
    {
     "name": "stdout",
     "output_type": "stream",
     "text": [
      "\u001b[1;33m[Open3D WARNING] Read geometry::PointCloud failed: unknown file extension for ../test/Douglas Fir/61_60.txt (format: auto).\u001b[0;m\n",
      "Warning: No points found in file 61_60.txt. Trying NumPy fallback.\n",
      "\u001b[1;33m[Open3D WARNING] Read geometry::PointCloud failed: unknown file extension for ../test/Douglas Fir/31_45.txt (format: auto).\u001b[0;m\n",
      "Warning: No points found in file 31_45.txt. Trying NumPy fallback.\n",
      "\u001b[1;33m[Open3D WARNING] Read geometry::PointCloud failed: unknown file extension for ../test/Douglas Fir/31_44.txt (format: auto).\u001b[0;m\n",
      "Warning: No points found in file 31_44.txt. Trying NumPy fallback.\n",
      "\u001b[1;33m[Open3D WARNING] Read geometry::PointCloud failed: unknown file extension for ../test/Douglas Fir/31_87.txt (format: auto).\u001b[0;m\n",
      "Warning: No points found in file 31_87.txt. Trying NumPy fallback.\n",
      "\u001b[1;33m[Open3D WARNING] Read geometry::PointCloud failed: unknown file extension for ../test/Douglas Fir/31_81.txt (format: auto).\u001b[0;m\n",
      "Warning: No points found in file 31_81.txt. Trying NumPy fallback.\n",
      "\u001b[1;33m[Open3D WARNING] Read geometry::PointCloud failed: unknown file extension for ../test/Douglas Fir/61_73.txt (format: auto).\u001b[0;m\n",
      "Warning: No points found in file 61_73.txt. Trying NumPy fallback.\n",
      "\u001b[1;33m[Open3D WARNING] Read geometry::PointCloud failed: unknown file extension for ../test/Douglas Fir/31_83.txt (format: auto).\u001b[0;m\n",
      "Warning: No points found in file 31_83.txt. Trying NumPy fallback.\n"
     ]
    },
    {
     "name": "stderr",
     "output_type": "stream",
     "text": [
      "Extracting FPFH Features:  10%|▉         | 13/134 [00:01<00:07, 16.78it/s]"
     ]
    },
    {
     "name": "stdout",
     "output_type": "stream",
     "text": [
      "\u001b[1;33m[Open3D WARNING] Read geometry::PointCloud failed: unknown file extension for ../test/Douglas Fir/31_69.txt (format: auto).\u001b[0;m\n",
      "Warning: No points found in file 31_69.txt. Trying NumPy fallback.\n",
      "\u001b[1;33m[Open3D WARNING] Read geometry::PointCloud failed: unknown file extension for ../test/Douglas Fir/61_64.txt (format: auto).\u001b[0;m\n",
      "Warning: No points found in file 61_64.txt. Trying NumPy fallback.\n",
      "\u001b[1;33m[Open3D WARNING] Read geometry::PointCloud failed: unknown file extension for ../test/Douglas Fir/62_31_1.txt (format: auto).\u001b[0;m\n",
      "Warning: No points found in file 62_31_1.txt. Trying NumPy fallback.\n"
     ]
    },
    {
     "name": "stderr",
     "output_type": "stream",
     "text": [
      "Extracting FPFH Features:  11%|█         | 15/134 [00:01<00:12,  9.41it/s]"
     ]
    },
    {
     "name": "stdout",
     "output_type": "stream",
     "text": [
      "\u001b[1;33m[Open3D WARNING] Read geometry::PointCloud failed: unknown file extension for ../test/Douglas Fir/62_93.txt (format: auto).\u001b[0;m\n",
      "Warning: No points found in file 62_93.txt. Trying NumPy fallback.\n",
      "\u001b[1;33m[Open3D WARNING] Read geometry::PointCloud failed: unknown file extension for ../test/Douglas Fir/61_15.txt (format: auto).\u001b[0;m\n",
      "Warning: No points found in file 61_15.txt. Trying NumPy fallback.\n",
      "\u001b[1;33m[Open3D WARNING] Read geometry::PointCloud failed: unknown file extension for ../test/Douglas Fir/61_11.txt (format: auto).\u001b[0;m\n",
      "Warning: No points found in file 61_11.txt. Trying NumPy fallback.\n"
     ]
    },
    {
     "name": "stderr",
     "output_type": "stream",
     "text": [
      "Extracting FPFH Features:  17%|█▋        | 23/134 [00:02<00:13,  8.05it/s]"
     ]
    },
    {
     "name": "stdout",
     "output_type": "stream",
     "text": [
      "\u001b[1;33m[Open3D WARNING] Read geometry::PointCloud failed: unknown file extension for ../test/Douglas Fir/32_45.txt (format: auto).\u001b[0;m\n",
      "Warning: No points found in file 32_45.txt. Trying NumPy fallback.\n",
      "\u001b[1;33m[Open3D WARNING] Read geometry::PointCloud failed: unknown file extension for ../test/Douglas Fir/62_89.txt (format: auto).\u001b[0;m\n",
      "Warning: No points found in file 62_89.txt. Trying NumPy fallback.\n"
     ]
    },
    {
     "name": "stderr",
     "output_type": "stream",
     "text": [
      "Extracting FPFH Features:  19%|█▊        | 25/134 [00:03<00:14,  7.42it/s]"
     ]
    },
    {
     "name": "stdout",
     "output_type": "stream",
     "text": [
      "\u001b[1;33m[Open3D WARNING] Read geometry::PointCloud failed: unknown file extension for ../test/Douglas Fir/32_47.txt (format: auto).\u001b[0;m\n",
      "Warning: No points found in file 32_47.txt. Trying NumPy fallback.\n"
     ]
    },
    {
     "name": "stderr",
     "output_type": "stream",
     "text": [
      "Extracting FPFH Features:  23%|██▎       | 31/134 [00:03<00:09, 10.60it/s]"
     ]
    },
    {
     "name": "stdout",
     "output_type": "stream",
     "text": [
      "\u001b[1;33m[Open3D WARNING] Read geometry::PointCloud failed: unknown file extension for ../test/Douglas Fir/61_26.txt (format: auto).\u001b[0;m\n",
      "Warning: No points found in file 61_26.txt. Trying NumPy fallback.\n",
      "\u001b[1;33m[Open3D WARNING] Read geometry::PointCloud failed: unknown file extension for ../test/Douglas Fir/61_96.txt (format: auto).\u001b[0;m\n",
      "Warning: No points found in file 61_96.txt. Trying NumPy fallback.\n",
      "\u001b[1;33m[Open3D WARNING] Read geometry::PointCloud failed: unknown file extension for ../test/Douglas Fir/32_34.txt (format: auto).\u001b[0;m\n",
      "Warning: No points found in file 32_34.txt. Trying NumPy fallback.\n",
      "\u001b[1;33m[Open3D WARNING] Read geometry::PointCloud failed: unknown file extension for ../test/Douglas Fir/61_54.txt (format: auto).\u001b[0;m\n",
      "Warning: No points found in file 61_54.txt. Trying NumPy fallback.\n",
      "\u001b[1;33m[Open3D WARNING] Read geometry::PointCloud failed: unknown file extension for ../test/Douglas Fir/62_144.txt (format: auto).\u001b[0;m\n",
      "Warning: No points found in file 62_144.txt. Trying NumPy fallback.\n",
      "\u001b[1;33m[Open3D WARNING] Read geometry::PointCloud failed: unknown file extension for ../test/Douglas Fir/61_83.txt (format: auto).\u001b[0;m\n",
      "Warning: No points found in file 61_83.txt. Trying NumPy fallback.\n",
      "\u001b[1;33m[Open3D WARNING] Read geometry::PointCloud failed: unknown file extension for ../test/Douglas Fir/31_72.txt (format: auto).\u001b[0;m\n",
      "Warning: No points found in file 31_72.txt. Trying NumPy fallback.\n",
      "\u001b[1;33m[Open3D WARNING] Read geometry::PointCloud failed: unknown file extension for ../test/Douglas Fir/61_6.txt (format: auto).\u001b[0;m\n",
      "Warning: No points found in file 61_6.txt. Trying NumPy fallback.\n",
      "\u001b[1;33m[Open3D WARNING] Read geometry::PointCloud failed: unknown file extension for ../test/Douglas Fir/61_6.txt (format: auto).\u001b[0;m\n",
      "Warning: No points found in file 61_6.txt. Trying NumPy fallback.\n"
     ]
    },
    {
     "name": "stderr",
     "output_type": "stream",
     "text": [
      "Extracting FPFH Features:  28%|██▊       | 37/134 [00:04<00:08, 11.84it/s]"
     ]
    },
    {
     "name": "stdout",
     "output_type": "stream",
     "text": [
      "\u001b[1;33m[Open3D WARNING] Read geometry::PointCloud failed: unknown file extension for ../test/Douglas Fir/62_153.txt (format: auto).\u001b[0;m\n",
      "Warning: No points found in file 62_153.txt. Trying NumPy fallback.\n",
      "\u001b[1;33m[Open3D WARNING] Read geometry::PointCloud failed: unknown file extension for ../test/Douglas Fir/61_90.txt (format: auto).\u001b[0;m\n",
      "Warning: No points found in file 61_90.txt. Trying NumPy fallback.\n",
      "\u001b[1;33m[Open3D WARNING] Read geometry::PointCloud failed: unknown file extension for ../test/Douglas Fir/61_2.txt (format: auto).\u001b[0;m\n",
      "Warning: No points found in file 61_2.txt. Trying NumPy fallback.\n",
      "\u001b[1;33m[Open3D WARNING] Read geometry::PointCloud failed: unknown file extension for ../test/Douglas Fir/61_3.txt (format: auto).\u001b[0;m\n",
      "Warning: No points found in file 61_3.txt. Trying NumPy fallback.\n",
      "\u001b[1;33m[Open3D WARNING] Read geometry::PointCloud failed: unknown file extension for ../test/Douglas Fir/61_85.txt (format: auto).\u001b[0;m\n",
      "Warning: No points found in file 61_85.txt. Trying NumPy fallback.\n"
     ]
    },
    {
     "name": "stderr",
     "output_type": "stream",
     "text": [
      "Extracting FPFH Features:  31%|███       | 41/134 [00:04<00:05, 15.68it/s]"
     ]
    },
    {
     "name": "stdout",
     "output_type": "stream",
     "text": [
      "\u001b[1;33m[Open3D WARNING] Read geometry::PointCloud failed: unknown file extension for ../test/Spruce/35_34.txt (format: auto).\u001b[0;m\n",
      "Warning: No points found in file 35_34.txt. Trying NumPy fallback.\n"
     ]
    },
    {
     "name": "stderr",
     "output_type": "stream",
     "text": [
      "Extracting FPFH Features:  33%|███▎      | 44/134 [00:04<00:07, 11.96it/s]"
     ]
    },
    {
     "name": "stdout",
     "output_type": "stream",
     "text": [
      "\u001b[1;33m[Open3D WARNING] Read geometry::PointCloud failed: unknown file extension for ../test/Spruce/35_7.txt (format: auto).\u001b[0;m\n",
      "Warning: No points found in file 35_7.txt. Trying NumPy fallback.\n",
      "\u001b[1;33m[Open3D WARNING] Read geometry::PointCloud failed: unknown file extension for ../test/Spruce/64_43.txt (format: auto).\u001b[0;m\n",
      "Warning: No points found in file 64_43.txt. Trying NumPy fallback.\n",
      "\u001b[1;33m[Open3D WARNING] Read geometry::PointCloud failed: unknown file extension for ../test/Spruce/65_15.txt (format: auto).\u001b[0;m\n",
      "Warning: No points found in file 65_15.txt. Trying NumPy fallback.\n",
      "\u001b[1;33m[Open3D WARNING] Read geometry::PointCloud failed: unknown file extension for ../test/Spruce/35_1.txt (format: auto).\u001b[0;m\n",
      "Warning: No points found in file 35_1.txt. Trying NumPy fallback.\n"
     ]
    },
    {
     "name": "stderr",
     "output_type": "stream",
     "text": [
      "Extracting FPFH Features:  36%|███▌      | 48/134 [00:04<00:07, 11.95it/s]"
     ]
    },
    {
     "name": "stdout",
     "output_type": "stream",
     "text": [
      "\u001b[1;33m[Open3D WARNING] Read geometry::PointCloud failed: unknown file extension for ../test/Spruce/34_17.txt (format: auto).\u001b[0;m\n",
      "Warning: No points found in file 34_17.txt. Trying NumPy fallback.\n",
      "\u001b[1;33m[Open3D WARNING] Read geometry::PointCloud failed: unknown file extension for ../test/Spruce/35_97.txt (format: auto).\u001b[0;m\n",
      "Warning: No points found in file 35_97.txt. Trying NumPy fallback.\n"
     ]
    },
    {
     "name": "stderr",
     "output_type": "stream",
     "text": [
      "Extracting FPFH Features:  37%|███▋      | 50/134 [00:04<00:06, 12.61it/s]"
     ]
    },
    {
     "name": "stdout",
     "output_type": "stream",
     "text": [
      "\u001b[1;33m[Open3D WARNING] Read geometry::PointCloud failed: unknown file extension for ../test/Spruce/35_87.txt (format: auto).\u001b[0;m\n",
      "Warning: No points found in file 35_87.txt. Trying NumPy fallback.\n",
      "\u001b[1;33m[Open3D WARNING] Read geometry::PointCloud failed: unknown file extension for ../test/Spruce/35_86.txt (format: auto).\u001b[0;m\n",
      "Warning: No points found in file 35_86.txt. Trying NumPy fallback.\n",
      "\u001b[1;33m[Open3D WARNING] Read geometry::PointCloud failed: unknown file extension for ../test/Spruce/65_48.txt (format: auto).\u001b[0;m\n",
      "Warning: No points found in file 65_48.txt. Trying NumPy fallback.\n"
     ]
    },
    {
     "name": "stderr",
     "output_type": "stream",
     "text": [
      "Extracting FPFH Features:  39%|███▉      | 52/134 [00:05<00:07, 11.48it/s]"
     ]
    },
    {
     "name": "stdout",
     "output_type": "stream",
     "text": [
      "\u001b[1;33m[Open3D WARNING] Read geometry::PointCloud failed: unknown file extension for ../test/Spruce/35_91.txt (format: auto).\u001b[0;m\n",
      "Warning: No points found in file 35_91.txt. Trying NumPy fallback.\n",
      "\u001b[1;33m[Open3D WARNING] Read geometry::PointCloud failed: unknown file extension for ../test/Spruce/35_85.txt (format: auto).\u001b[0;m\n",
      "Warning: No points found in file 35_85.txt. Trying NumPy fallback.\n"
     ]
    },
    {
     "name": "stderr",
     "output_type": "stream",
     "text": [
      "Extracting FPFH Features:  43%|████▎     | 58/134 [00:05<00:05, 13.91it/s]"
     ]
    },
    {
     "name": "stdout",
     "output_type": "stream",
     "text": [
      "\u001b[1;33m[Open3D WARNING] Read geometry::PointCloud failed: unknown file extension for ../test/Spruce/65_79.txt (format: auto).\u001b[0;m\n",
      "Warning: No points found in file 65_79.txt. Trying NumPy fallback.\n",
      "\u001b[1;33m[Open3D WARNING] Read geometry::PointCloud failed: unknown file extension for ../test/Spruce/65_51.txt (format: auto).\u001b[0;m\n",
      "Warning: No points found in file 65_51.txt. Trying NumPy fallback.\n",
      "\u001b[1;33m[Open3D WARNING] Read geometry::PointCloud failed: unknown file extension for ../test/Spruce/35_74.txt (format: auto).\u001b[0;m\n",
      "Warning: No points found in file 35_74.txt. Trying NumPy fallback.\n",
      "\u001b[1;33m[Open3D WARNING] Read geometry::PointCloud failed: unknown file extension for ../test/Spruce/64_11.txt (format: auto).\u001b[0;m\n",
      "Warning: No points found in file 64_11.txt. Trying NumPy fallback.\n",
      "\u001b[1;33m[Open3D WARNING] Read geometry::PointCloud failed: unknown file extension for ../test/Spruce/35_75.txt (format: auto).\u001b[0;m\n",
      "Warning: No points found in file 35_75.txt. Trying NumPy fallback.\n"
     ]
    },
    {
     "name": "stderr",
     "output_type": "stream",
     "text": [
      "Extracting FPFH Features:  47%|████▋     | 63/134 [00:05<00:04, 15.94it/s]"
     ]
    },
    {
     "name": "stdout",
     "output_type": "stream",
     "text": [
      "\u001b[1;33m[Open3D WARNING] Read geometry::PointCloud failed: unknown file extension for ../test/Spruce/35_49.txt (format: auto).\u001b[0;m\n",
      "Warning: No points found in file 35_49.txt. Trying NumPy fallback.\n",
      "\u001b[1;33m[Open3D WARNING] Read geometry::PointCloud failed: unknown file extension for ../test/Spruce/65_43.txt (format: auto).\u001b[0;m\n",
      "Warning: No points found in file 65_43.txt. Trying NumPy fallback.\n",
      "\u001b[1;33m[Open3D WARNING] Read geometry::PointCloud failed: unknown file extension for ../test/Spruce/65_24.txt (format: auto).\u001b[0;m\n",
      "Warning: No points found in file 65_24.txt. Trying NumPy fallback.\n"
     ]
    },
    {
     "name": "stderr",
     "output_type": "stream",
     "text": [
      "Extracting FPFH Features:  49%|████▊     | 65/134 [00:06<00:07,  9.81it/s]"
     ]
    },
    {
     "name": "stdout",
     "output_type": "stream",
     "text": [
      "\u001b[1;33m[Open3D WARNING] Read geometry::PointCloud failed: unknown file extension for ../test/Spruce/65_37.txt (format: auto).\u001b[0;m\n",
      "Warning: No points found in file 65_37.txt. Trying NumPy fallback.\n"
     ]
    },
    {
     "name": "stderr",
     "output_type": "stream",
     "text": [
      "Extracting FPFH Features:  51%|█████▏    | 69/134 [00:06<00:05, 11.02it/s]"
     ]
    },
    {
     "name": "stdout",
     "output_type": "stream",
     "text": [
      "\u001b[1;33m[Open3D WARNING] Read geometry::PointCloud failed: unknown file extension for ../test/Spruce/65_6.txt (format: auto).\u001b[0;m\n",
      "Warning: No points found in file 65_6.txt. Trying NumPy fallback.\n",
      "\u001b[1;33m[Open3D WARNING] Read geometry::PointCloud failed: unknown file extension for ../test/Spruce/64_62.txt (format: auto).\u001b[0;m\n",
      "Warning: No points found in file 64_62.txt. Trying NumPy fallback.\n",
      "\u001b[1;33m[Open3D WARNING] Read geometry::PointCloud failed: unknown file extension for ../test/Spruce/35_122.txt (format: auto).\u001b[0;m\n",
      "Warning: No points found in file 35_122.txt. Trying NumPy fallback.\n",
      "\u001b[1;33m[Open3D WARNING] Read geometry::PointCloud failed: unknown file extension for ../test/Spruce/65_35.txt (format: auto).\u001b[0;m\n",
      "Warning: No points found in file 65_35.txt. Trying NumPy fallback.\n"
     ]
    },
    {
     "name": "stderr",
     "output_type": "stream",
     "text": [
      "Extracting FPFH Features:  57%|█████▋    | 76/134 [00:07<00:04, 13.30it/s]"
     ]
    },
    {
     "name": "stdout",
     "output_type": "stream",
     "text": [
      "\u001b[1;33m[Open3D WARNING] Read geometry::PointCloud failed: unknown file extension for ../test/Pine/65_54.txt (format: auto).\u001b[0;m\n",
      "Warning: No points found in file 65_54.txt. Trying NumPy fallback.\n",
      "\u001b[1;33m[Open3D WARNING] Read PTS failed with exception: vector\u001b[0;m\n",
      "Warning: No points found in file 123.pts. Trying NumPy fallback.\n"
     ]
    },
    {
     "name": "stderr",
     "output_type": "stream",
     "text": [
      "Extracting FPFH Features:  61%|██████    | 82/134 [00:07<00:02, 18.35it/s]"
     ]
    },
    {
     "name": "stdout",
     "output_type": "stream",
     "text": [
      "\u001b[1;33m[Open3D WARNING] Read PTS failed with exception: vector\u001b[0;m\n",
      "Warning: No points found in file 38.pts. Trying NumPy fallback.\n",
      "\u001b[1;33m[Open3D WARNING] Read geometry::PointCloud failed: unknown file extension for ../test/Red Oak/Baum2_21 nrwl33- Cloud.txt (format: auto).\u001b[0;m\n",
      "Warning: No points found in file Baum2_21 nrwl33- Cloud.txt. Trying NumPy fallback.\n"
     ]
    },
    {
     "name": "stderr",
     "output_type": "stream",
     "text": [
      "Extracting FPFH Features:  64%|██████▍   | 86/134 [00:07<00:03, 15.98it/s]"
     ]
    },
    {
     "name": "stdout",
     "output_type": "stream",
     "text": [
      "\u001b[1;33m[Open3D WARNING] Read geometry::PointCloud failed: unknown file extension for ../test/Red Oak/Baum0_13 thu_neust- Cloud.txt (format: auto).\u001b[0;m\n",
      "Warning: No points found in file Baum0_13 thu_neust- Cloud.txt. Trying NumPy fallback.\n",
      "\u001b[1;33m[Open3D WARNING] Read geometry::PointCloud failed: unknown file extension for ../test/Red Oak/Baum8_45 bwb2 - Cloud.txt (format: auto).\u001b[0;m\n",
      "Warning: No points found in file Baum8_45 bwb2 - Cloud.txt. Trying NumPy fallback.\n",
      "\u001b[1;33m[Open3D WARNING] Read geometry::PointCloud failed: unknown file extension for ../test/Red Oak/Baum9_418 brb_psnord- Cloud.txt (format: auto).\u001b[0;m\n",
      "Warning: No points found in file Baum9_418 brb_psnord- Cloud.txt. Trying NumPy fallback.\n"
     ]
    },
    {
     "name": "stderr",
     "output_type": "stream",
     "text": [
      "Extracting FPFH Features:  66%|██████▌   | 88/134 [00:07<00:03, 14.36it/s]"
     ]
    },
    {
     "name": "stdout",
     "output_type": "stream",
     "text": [
      "\u001b[1;33m[Open3D WARNING] Read geometry::PointCloud failed: unknown file extension for ../test/Red Oak/Baum2_559 nds_ro- Cloud.txt (format: auto).\u001b[0;m\n",
      "Warning: No points found in file Baum2_559 nds_ro- Cloud.txt. Trying NumPy fallback.\n",
      "\u001b[1;33m[Open3D WARNING] Read geometry::PointCloud failed: unknown file extension for ../test/Red Oak/Baum6_210 thu_neust- Cloud.txt (format: auto).\u001b[0;m\n",
      "Warning: No points found in file Baum6_210 thu_neust- Cloud.txt. Trying NumPy fallback.\n"
     ]
    },
    {
     "name": "stderr",
     "output_type": "stream",
     "text": [
      "Extracting FPFH Features:  67%|██████▋   | 90/134 [00:07<00:03, 13.49it/s]"
     ]
    },
    {
     "name": "stdout",
     "output_type": "stream",
     "text": [
      "\u001b[1;33m[Open3D WARNING] Read geometry::PointCloud failed: unknown file extension for ../test/Red Oak/Baum7_208 brb_psnord- Cloud.txt (format: auto).\u001b[0;m\n",
      "Warning: No points found in file Baum7_208 brb_psnord- Cloud.txt. Trying NumPy fallback.\n",
      "\u001b[1;33m[Open3D WARNING] Read geometry::PointCloud failed: unknown file extension for ../test/Red Oak/Baum3 - 467 bwb4- Cloud.txt (format: auto).\u001b[0;m\n",
      "Warning: No points found in file Baum3 - 467 bwb4- Cloud.txt. Trying NumPy fallback.\n",
      "\u001b[1;33m[Open3D WARNING] Read geometry::PointCloud failed: unknown file extension for ../test/Red Oak/Baum5_57 nrwl30 - Cloud.txt (format: auto).\u001b[0;m\n",
      "Warning: No points found in file Baum5_57 nrwl30 - Cloud.txt. Trying NumPy fallback.\n"
     ]
    },
    {
     "name": "stderr",
     "output_type": "stream",
     "text": [
      "Extracting FPFH Features:  70%|███████   | 94/134 [00:08<00:03, 11.80it/s]"
     ]
    },
    {
     "name": "stdout",
     "output_type": "stream",
     "text": [
      "\u001b[1;33m[Open3D WARNING] Read geometry::PointCloud failed: unknown file extension for ../test/Red Oak/Baum2_59 thu_neust- Cloud.txt (format: auto).\u001b[0;m\n",
      "Warning: No points found in file Baum2_59 thu_neust- Cloud.txt. Trying NumPy fallback.\n",
      "\u001b[1;33m[Open3D WARNING] Read geometry::PointCloud failed: unknown file extension for ../test/Red Oak/Baum8_251 nds_ro- Cloud.txt (format: auto).\u001b[0;m\n",
      "Warning: No points found in file Baum8_251 nds_ro- Cloud.txt. Trying NumPy fallback.\n",
      "\u001b[1;33m[Open3D WARNING] Read geometry::PointCloud failed: unknown file extension for ../test/Red Oak/Baum1_154 nrwl30- Cloud.txt (format: auto).\u001b[0;m\n",
      "Warning: No points found in file Baum1_154 nrwl30- Cloud.txt. Trying NumPy fallback.\n"
     ]
    },
    {
     "name": "stderr",
     "output_type": "stream",
     "text": [
      "Extracting FPFH Features:  72%|███████▏  | 96/134 [00:08<00:03, 11.81it/s]"
     ]
    },
    {
     "name": "stdout",
     "output_type": "stream",
     "text": [
      "\u001b[1;33m[Open3D WARNING] Read geometry::PointCloud failed: unknown file extension for ../test/Red Oak/Baum9_149 nrwl30- Cloud.txt (format: auto).\u001b[0;m\n",
      "Warning: No points found in file Baum9_149 nrwl30- Cloud.txt. Trying NumPy fallback.\n",
      "\u001b[1;33m[Open3D WARNING] Read geometry::PointCloud failed: unknown file extension for ../test/Red Oak/Baum9_188 thu_neust- Cloud.txt (format: auto).\u001b[0;m\n",
      "Warning: No points found in file Baum9_188 thu_neust- Cloud.txt. Trying NumPy fallback.\n",
      "\u001b[1;33m[Open3D WARNING] Read geometry::PointCloud failed: unknown file extension for ../test/Red Oak/Baum6_434 nrwl33- Cloud.txt (format: auto).\u001b[0;m\n",
      "Warning: No points found in file Baum6_434 nrwl33- Cloud.txt. Trying NumPy fallback.\n"
     ]
    },
    {
     "name": "stderr",
     "output_type": "stream",
     "text": [
      "Extracting FPFH Features:  73%|███████▎  | 98/134 [00:08<00:03, 11.35it/s]"
     ]
    },
    {
     "name": "stdout",
     "output_type": "stream",
     "text": [
      "\u001b[1;33m[Open3D WARNING] Read geometry::PointCloud failed: unknown file extension for ../test/Red Oak/Baum4_252 nrwl33- Cloud.txt (format: auto).\u001b[0;m\n",
      "Warning: No points found in file Baum4_252 nrwl33- Cloud.txt. Trying NumPy fallback.\n",
      "\u001b[1;33m[Open3D WARNING] Read geometry::PointCloud failed: unknown file extension for ../test/Red Oak/Baum4_613 thu_jena- Cloud.txt (format: auto).\u001b[0;m\n",
      "Warning: No points found in file Baum4_613 thu_jena- Cloud.txt. Trying NumPy fallback.\n"
     ]
    },
    {
     "name": "stderr",
     "output_type": "stream",
     "text": [
      "Extracting FPFH Features:  76%|███████▌  | 102/134 [00:09<00:02, 10.82it/s]"
     ]
    },
    {
     "name": "stdout",
     "output_type": "stream",
     "text": [
      "\u001b[1;33m[Open3D WARNING] Read geometry::PointCloud failed: unknown file extension for ../test/Red Oak/Baum8_170 nrwl30- Cloud.txt (format: auto).\u001b[0;m\n",
      "Warning: No points found in file Baum8_170 nrwl30- Cloud.txt. Trying NumPy fallback.\n",
      "\u001b[1;33m[Open3D WARNING] Read geometry::PointCloud failed: unknown file extension for ../test/Red Oak/Baum9_288 bwb4 - Cloud.txt (format: auto).\u001b[0;m\n",
      "Warning: No points found in file Baum9_288 bwb4 - Cloud.txt. Trying NumPy fallback.\n"
     ]
    },
    {
     "name": "stderr",
     "output_type": "stream",
     "text": [
      "Extracting FPFH Features:  79%|███████▉  | 106/134 [00:09<00:02, 10.70it/s]"
     ]
    },
    {
     "name": "stdout",
     "output_type": "stream",
     "text": [
      "\u001b[1;33m[Open3D WARNING] Read PTS failed with exception: vector\u001b[0;m\n",
      "Warning: No points found in file 41.pts. Trying NumPy fallback.\n",
      "\u001b[1;33m[Open3D WARNING] Read PTS failed with exception: vector\u001b[0;m\n",
      "Warning: No points found in file 82.pts. Trying NumPy fallback.\n"
     ]
    },
    {
     "name": "stderr",
     "output_type": "stream",
     "text": [
      "Extracting FPFH Features:  85%|████████▌ | 114/134 [00:10<00:01, 10.80it/s]"
     ]
    },
    {
     "name": "stdout",
     "output_type": "stream",
     "text": [
      "\u001b[1;33m[Open3D WARNING] Read PTS failed with exception: vector\u001b[0;m\n",
      "Warning: No points found in file 20.pts. Trying NumPy fallback.\n"
     ]
    },
    {
     "name": "stderr",
     "output_type": "stream",
     "text": [
      "Extracting FPFH Features:  87%|████████▋ | 116/134 [00:10<00:01,  9.42it/s]"
     ]
    },
    {
     "name": "stdout",
     "output_type": "stream",
     "text": [
      "\u001b[1;33m[Open3D WARNING] Read PTS failed with exception: vector\u001b[0;m\n",
      "Warning: No points found in file 36.pts. Trying NumPy fallback.\n"
     ]
    },
    {
     "name": "stderr",
     "output_type": "stream",
     "text": [
      "Extracting FPFH Features:  88%|████████▊ | 118/134 [00:10<00:01, 10.15it/s]"
     ]
    },
    {
     "name": "stdout",
     "output_type": "stream",
     "text": [
      "\u001b[1;33m[Open3D WARNING] Read PTS failed with exception: vector\u001b[0;m\n",
      "Warning: No points found in file 124.pts. Trying NumPy fallback.\n"
     ]
    },
    {
     "name": "stderr",
     "output_type": "stream",
     "text": [
      "Extracting FPFH Features:  90%|████████▉ | 120/134 [00:11<00:01,  7.88it/s]"
     ]
    },
    {
     "name": "stdout",
     "output_type": "stream",
     "text": [
      "\u001b[1;33m[Open3D WARNING] Read PTS failed with exception: vector\u001b[0;m\n",
      "Warning: No points found in file 284.pts. Trying NumPy fallback.\n",
      "\u001b[1;33m[Open3D WARNING] Read PTS failed with exception: vector\u001b[0;m\n",
      "Warning: No points found in file 17.pts. Trying NumPy fallback.\n"
     ]
    },
    {
     "name": "stderr",
     "output_type": "stream",
     "text": [
      "Extracting FPFH Features: 100%|██████████| 134/134 [00:12<00:00, 11.00it/s]"
     ]
    },
    {
     "name": "stdout",
     "output_type": "stream",
     "text": [
      "Feature extraction complete.\n",
      "Shape of training features: (557, 33)\n",
      "Shape of test features: (134, 33)\n"
     ]
    },
    {
     "name": "stderr",
     "output_type": "stream",
     "text": [
      "\n"
     ]
    }
   ],
   "source": [
    "def process_files_for_features(file_paths, feature_dim=33):\n",
    "    \"\"\"Extract FPFH features from point cloud files\"\"\"\n",
    "    features_list = []\n",
    "    failed_files = 0\n",
    "    \n",
    "    # Use tqdm to create a nice progress bar\n",
    "    for path in tqdm(file_paths, desc=\"Extracting FPFH Features\"):\n",
    "        try:\n",
    "            pcd = load_point_cloud(path)\n",
    "            if pcd and len(np.asarray(pcd.points)) > 0:\n",
    "                # Extract FPFH features with appropriate voxel size\n",
    "                features = extract_fpfh_features(pcd, voxel_size=0.2)\n",
    "                if features is not None and len(features) == feature_dim:\n",
    "                    features_list.append(features)\n",
    "                else:\n",
    "                    # Handle cases where features are None or wrong dimension\n",
    "                    features_list.append(np.zeros(feature_dim))\n",
    "                    failed_files += 1\n",
    "            else:\n",
    "                # Handle cases where a file fails to load\n",
    "                features_list.append(np.zeros(feature_dim))\n",
    "                failed_files += 1\n",
    "        except Exception as e:\n",
    "            print(f\"Error processing {path.name}: {e}\")\n",
    "            features_list.append(np.zeros(feature_dim))\n",
    "            failed_files += 1\n",
    "    \n",
    "    if failed_files > 0:\n",
    "        print(f\"Warning: {failed_files} files failed to process properly\")\n",
    "            \n",
    "    return np.array(features_list)\n",
    "\n",
    "# Process training and test data\n",
    "print(\"Processing training data...\")\n",
    "X_train_features = process_files_for_features(X_train_paths)\n",
    "\n",
    "print(\"Processing testing data...\")\n",
    "X_test_features = process_files_for_features(X_test_paths)\n",
    "\n",
    "print(\"Feature extraction complete.\")\n",
    "print(f\"Shape of training features: {X_train_features.shape}\")\n",
    "print(f\"Shape of test features: {X_test_features.shape}\")\n",
    "\n",
    "# Check for any issues\n",
    "if X_train_features.shape[0] == 0:\n",
    "    print(\"❌ No training features extracted!\")\n",
    "if X_test_features.shape[0] == 0:\n",
    "    print(\"❌ No test features extracted!\")"
   ]
  },
  {
   "cell_type": "code",
   "execution_count": 7,
   "id": "6588c94a",
   "metadata": {},
   "outputs": [
    {
     "name": "stdout",
     "output_type": "stream",
     "text": [
      "Training the RBF SVM classifier...\n",
      "Training complete.\n"
     ]
    }
   ],
   "source": [
    "# Crucial step for SVMs: feature scaling\n",
    "scaler = StandardScaler()\n",
    "X_train_scaled = scaler.fit_transform(X_train_features)\n",
    "X_test_scaled = scaler.transform(X_test_features) # Use the same scaler\n",
    "\n",
    "# Create and train the RBF SVM\n",
    "print(\"Training the RBF SVM classifier...\")\n",
    "svm_classifier = SVC(kernel='rbf', C=10, gamma='auto', random_state=42)\n",
    "svm_classifier.fit(X_train_scaled, y_train)\n",
    "print(\"Training complete.\")"
   ]
  },
  {
   "cell_type": "code",
   "execution_count": null,
   "id": "f6079287",
   "metadata": {},
   "outputs": [],
   "source": [
    "# Hyperparameter Optimization with Grid Search\n",
    "print(\"Performing hyperparameter optimization with Grid Search...\")\n",
    "print(\"=\" * 60)\n",
    "\n",
    "# Define parameter grid\n",
    "param_grid = {\n",
    "    'C': [0.1, 1, 10, 100],                    # Regularization strength\n",
    "    'gamma': ['scale', 'auto', 0.1, 1, 10],    # Kernel coefficient\n",
    "    'kernel': ['rbf']                           # We are using RBF SVM\n",
    "}\n",
    "\n",
    "# Create GridSearchCV with cross-validation\n",
    "grid_search = GridSearchCV(\n",
    "    SVC(random_state=42), \n",
    "    param_grid, \n",
    "    cv=3,           # 3-fold cross-validation\n",
    "    verbose=2,      # Show progress\n",
    "    n_jobs=-1,      # Use all available cores\n",
    "    scoring='accuracy'\n",
    ")\n",
    "\n",
    "# Fit the grid search\n",
    "start_time = time.time()\n",
    "print(f\"Testing {len(param_grid['C']) * len(param_grid['gamma'])} parameter combinations...\")\n",
    "grid_search.fit(X_train_scaled, y_train)\n",
    "end_time = time.time()\n",
    "\n",
    "# Results\n",
    "print(f\"\\nGrid Search completed in {end_time - start_time:.2f} seconds\")\n",
    "print(f\"Best parameters found: {grid_search.best_params_}\")\n",
    "print(f\"Best cross-validation score: {grid_search.best_score_:.4f}\")\n",
    "\n",
    "# Get the best estimator\n",
    "best_svm = grid_search.best_estimator_\n",
    "print(f\"Best SVM model: {best_svm}\")\n",
    "\n",
    "# Compare with default parameters\n",
    "print(f\"\\nComparison:\")\n",
    "print(f\"Best CV Score (optimized): {grid_search.best_score_:.4f}\")\n",
    "\n",
    "# Show top 5 parameter combinations\n",
    "print(f\"\\nTop 5 parameter combinations:\")\n",
    "print(\"-\" * 50)\n",
    "results_df = pd.DataFrame(grid_search.cv_results_)\n",
    "top_5 = results_df.nlargest(5, 'mean_test_score')[['params', 'mean_test_score', 'std_test_score']]\n",
    "for idx, row in top_5.iterrows():\n",
    "    params = row['params']\n",
    "    mean_score = row['mean_test_score']\n",
    "    std_score = row['std_test_score']\n",
    "    print(f\"C={params['C']}, gamma={params['gamma']}: {mean_score:.4f} (±{std_score:.4f})\")\n",
    "\n",
    "print(f\"\\n{'='*60}\")\n",
    "print(\"Hyperparameter optimization completed!\")"
   ]
  },
  {
   "cell_type": "code",
   "execution_count": 8,
   "id": "c95278bf",
   "metadata": {},
   "outputs": [
    {
     "name": "stdout",
     "output_type": "stream",
     "text": [
      "Evaluating the model...\n",
      "\n",
      "============================================================\n",
      "           FPFH + RBF SVM Classification Results\n",
      "============================================================\n",
      "Overall Accuracy: 0.8209 (82.09%)\n",
      "\n",
      "Number of test samples: 134\n",
      "Number of species: 7\n",
      "Species: Ash, Beech, Douglas Fir, Oak, Pine, Red Oak, Spruce\n",
      "\n",
      "Detailed Classification Report:\n",
      "------------------------------------------------------------\n",
      "              precision    recall  f1-score   support\n",
      "\n",
      "         Ash       1.00      0.14      0.25         7\n",
      "       Beech       0.78      0.97      0.86        32\n",
      " Douglas Fir       0.82      0.92      0.87        36\n",
      "         Oak       0.00      0.00      0.00         4\n",
      "        Pine       1.00      0.40      0.57         5\n",
      "     Red Oak       0.72      0.95      0.82        19\n",
      "      Spruce       0.96      0.81      0.88        31\n",
      "\n",
      "    accuracy                           0.82       134\n",
      "   macro avg       0.75      0.60      0.61       134\n",
      "weighted avg       0.82      0.82      0.79       134\n",
      "\n",
      "\n",
      "Confusion Matrix:\n",
      "------------------------------\n",
      "             Ash  Beech  Douglas Fir  Oak  Pine  Red Oak  Spruce\n",
      "Ash            1      4            0    0     0        2       0\n",
      "Beech          0     31            0    0     0        1       0\n",
      "Douglas Fir    0      0           33    0     0        2       1\n",
      "Oak            0      2            0    0     0        2       0\n",
      "Pine           0      2            1    0     2        0       0\n",
      "Red Oak        0      0            1    0     0       18       0\n",
      "Spruce         0      1            5    0     0        0      25\n",
      "\n",
      "Per-class Performance:\n",
      "----------------------------------------\n",
      "Ash            : 0.1429 (  7 samples)\n",
      "Beech          : 0.9688 ( 32 samples)\n",
      "Douglas Fir    : 0.9167 ( 36 samples)\n",
      "Oak            : 0.0000 (  4 samples)\n",
      "Pine           : 0.4000 (  5 samples)\n",
      "Red Oak        : 0.9474 ( 19 samples)\n",
      "Spruce         : 0.8065 ( 31 samples)\n",
      "\n",
      "============================================================\n",
      "Pipeline completed successfully!\n"
     ]
    }
   ],
   "source": [
    "print(\"Evaluating the optimized model...\")\n",
    "y_pred_optimized = best_svm.predict(X_test_scaled)\n",
    "\n",
    "# Also evaluate the default model for comparison\n",
    "y_pred_default = svm_classifier.predict(X_test_scaled)\n",
    "\n",
    "# Get the unique class names from both train and test sets\n",
    "train_classes = set(y_train)\n",
    "test_classes = set(y_test)\n",
    "all_classes = sorted(list(train_classes | test_classes))\n",
    "\n",
    "print(\"\\n\" + \"=\"*70)\n",
    "print(\"          FPFH + RBF SVM Classification Results (OPTIMIZED)\")\n",
    "print(\"=\"*70)\n",
    "\n",
    "# Compare accuracies\n",
    "accuracy_optimized = accuracy_score(y_test, y_pred_optimized)\n",
    "accuracy_default = accuracy_score(y_test, y_pred_default)\n",
    "\n",
    "print(f\"Optimized Model Accuracy: {accuracy_optimized:.4f} ({accuracy_optimized*100:.2f}%)\")\n",
    "print(f\"Default Model Accuracy:   {accuracy_default:.4f} ({accuracy_default*100:.2f}%)\")\n",
    "print(f\"Improvement: {(accuracy_optimized - accuracy_default)*100:+.2f} percentage points\")\n",
    "\n",
    "# Detailed classification report for optimized model\n",
    "print(f\"\\nNumber of test samples: {len(y_test)}\")\n",
    "print(f\"Number of species: {len(all_classes)}\")\n",
    "print(f\"Species: {', '.join(all_classes)}\")\n",
    "\n",
    "print(f\"\\nDetailed Classification Report (Optimized Model):\")\n",
    "print(\"-\" * 70)\n",
    "report_optimized = classification_report(y_test, y_pred_optimized, target_names=all_classes, zero_division=0)\n",
    "print(report_optimized)\n",
    "\n",
    "# Additional metrics\n",
    "from sklearn.metrics import confusion_matrix\n",
    "import pandas as pd\n",
    "\n",
    "print(\"\\nConfusion Matrix (Optimized Model):\")\n",
    "print(\"-\" * 40)\n",
    "cm_optimized = confusion_matrix(y_test, y_pred_optimized, labels=all_classes)\n",
    "cm_df_optimized = pd.DataFrame(cm_optimized, index=all_classes, columns=all_classes)\n",
    "print(cm_df_optimized)\n",
    "\n",
    "# Per-class accuracy breakdown for optimized model\n",
    "print(f\"\\nPer-class Performance (Optimized Model):\")\n",
    "print(\"-\" * 50)\n",
    "for i, species in enumerate(all_classes):\n",
    "    if species in set(y_test):\n",
    "        # Get indices for this species in test set\n",
    "        species_indices = [j for j, label in enumerate(y_test) if label == species]\n",
    "        species_predictions_opt = [y_pred_optimized[j] for j in species_indices]\n",
    "        species_predictions_def = [y_pred_default[j] for j in species_indices]\n",
    "        \n",
    "        species_accuracy_opt = sum(1 for pred in species_predictions_opt if pred == species) / len(species_predictions_opt)\n",
    "        species_accuracy_def = sum(1 for pred in species_predictions_def if pred == species) / len(species_predictions_def)\n",
    "        improvement = species_accuracy_opt - species_accuracy_def\n",
    "        \n",
    "        print(f\"{species:<15}: {species_accuracy_opt:.4f} (vs {species_accuracy_def:.4f}, {improvement:+.4f}) | {len(species_indices):3d} samples\")\n",
    "\n",
    "print(f\"\\nBest Model Parameters:\")\n",
    "print(f\"C = {best_svm.C}\")\n",
    "print(f\"gamma = {best_svm.gamma}\")\n",
    "print(f\"kernel = {best_svm.kernel}\")\n",
    "\n",
    "print(f\"\\n{'='*70}\")\n",
    "print(\"Optimized pipeline completed successfully!\")"
   ]
  }
 ],
 "metadata": {
  "kernelspec": {
   "display_name": ".venv",
   "language": "python",
   "name": "python3"
  },
  "language_info": {
   "codemirror_mode": {
    "name": "ipython",
    "version": 3
   },
   "file_extension": ".py",
   "mimetype": "text/x-python",
   "name": "python",
   "nbconvert_exporter": "python",
   "pygments_lexer": "ipython3",
   "version": "3.11.13"
  }
 },
 "nbformat": 4,
 "nbformat_minor": 5
}
