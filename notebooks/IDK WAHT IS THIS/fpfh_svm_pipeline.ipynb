{
 "cells": [
  {
   "cell_type": "code",
   "execution_count": 25,
   "id": "931687b0",
   "metadata": {},
   "outputs": [
    {
     "name": "stdout",
     "output_type": "stream",
     "text": [
      "FPFH + RBF SVM Pipeline for Tree Species Classification\n",
      "============================================================\n",
      "Base path: /Users/ayoub/work/prjt/notebooks/..\n",
      "Data path: /Users/ayoub/work/prjt/notebooks/../data\n",
      "Test CSV path: /Users/ayoub/work/prjt/notebooks/../data/test.csv\n",
      "✓ Data path found\n",
      "✓ Test CSV found\n"
     ]
    }
   ],
   "source": [
    "# Setup data paths and configuration\n",
    "import os\n",
    "from pathlib import Path\n",
    "\n",
    "# Set up paths\n",
    "base_path = Path(\"..\")  # Go up one level from notebooks folder\n",
    "data_path = base_path / \"data\"\n",
    "test_csv_path = data_path / \"test.csv\"\n",
    "\n",
    "print(\"FPFH + RBF SVM Pipeline for Tree Species Classification\")\n",
    "print(\"=\" * 60)\n",
    "print(f\"Base path: {base_path.absolute()}\")\n",
    "print(f\"Data path: {data_path.absolute()}\")\n",
    "print(f\"Test CSV path: {test_csv_path.absolute()}\")\n",
    "\n",
    "# Check if paths exist\n",
    "if not data_path.exists():\n",
    "    print(\"❌ Data path not found!\")\n",
    "else:\n",
    "    print(\"✓ Data path found\")\n",
    "\n",
    "if not test_csv_path.exists():\n",
    "    print(\"❌ Test CSV not found!\")\n",
    "else:\n",
    "    print(\"✓ Test CSV found\")"
   ]
  },
  {
   "cell_type": "code",
   "execution_count": 26,
   "id": "f49b048d",
   "metadata": {},
   "outputs": [
    {
     "name": "stdout",
     "output_type": "stream",
     "text": [
      "All libraries imported successfully!\n"
     ]
    }
   ],
   "source": [
    "import numpy as np\n",
    "import sys\n",
    "from pathlib import Path\n",
    "import time\n",
    "from tqdm import tqdm\n",
    "import pandas as pd\n",
    "from sklearn.svm import SVC\n",
    "from sklearn.preprocessing import StandardScaler\n",
    "from sklearn.metrics import classification_report, accuracy_score\n",
    "from sklearn.model_selection import GridSearchCV\n",
    "\n",
    "# Add the src directory to Python path\n",
    "sys.path.append(str(Path(\"..\").absolute()))\n",
    "\n",
    "from src.point_cloud_processor import load_point_cloud, extract_fpfh_features\n",
    "\n",
    "print(\"All libraries imported successfully!\")"
   ]
  },
  {
   "cell_type": "code",
   "execution_count": 27,
   "id": "a2845a30",
   "metadata": {},
   "outputs": [
    {
     "name": "stdout",
     "output_type": "stream",
     "text": [
      "Loading dataset paths...\n",
      "Warning: Could not load test.csv, using train/test folders directly\n",
      "✓ Training samples: 557\n",
      "✓ Test samples: 134\n",
      "✓ Species found: ['Ash', 'Beech', 'Douglas Fir', 'Oak', 'Pine', 'Red Oak', 'Spruce']\n"
     ]
    }
   ],
   "source": [
    "def load_dataset_paths(data_path, test_csv_path):\n",
    "    \"\"\"Load and split dataset paths based on test.csv file\"\"\"\n",
    "    try:\n",
    "        test_files_df = np.genfromtxt(test_csv_path, delimiter=',', dtype=str, skip_header=1)\n",
    "        test_filenames = set(test_files_df[:, 0])\n",
    "    except:\n",
    "        print(\"Warning: Could not load test.csv, using train/test folders directly\")\n",
    "        return load_from_folders(data_path)\n",
    "    \n",
    "    X_train_paths, y_train, X_test_paths, y_test = [], [], [], []\n",
    "\n",
    "    # Check if we have train folder or species folders directly\n",
    "    train_root = data_path / \"train\"\n",
    "    if not train_root.exists():\n",
    "        # Data might be directly in folders by species\n",
    "        train_root = data_path\n",
    "\n",
    "    for species_dir in train_root.iterdir():\n",
    "        if not species_dir.is_dir():\n",
    "            continue\n",
    "        species_name = species_dir.name\n",
    "        for file_path in species_dir.iterdir():\n",
    "            if file_path.is_file():  # Make sure it's a file\n",
    "                if file_path.name in test_filenames:\n",
    "                    X_test_paths.append(file_path)\n",
    "                    y_test.append(species_name)\n",
    "                else:\n",
    "                    X_train_paths.append(file_path)\n",
    "                    y_train.append(species_name)\n",
    "    \n",
    "    return X_train_paths, y_train, X_test_paths, y_test\n",
    "\n",
    "def load_from_folders(data_path):\n",
    "    \"\"\"Alternative method: load from existing train/test folder structure\"\"\"\n",
    "    X_train_paths, y_train, X_test_paths, y_test = [], [], [], []\n",
    "    \n",
    "    train_root = data_path.parent / \"train\"  # Go back to project root\n",
    "    test_root = data_path.parent / \"test\"\n",
    "    \n",
    "    if train_root.exists():\n",
    "        for species_dir in train_root.iterdir():\n",
    "            if species_dir.is_dir():\n",
    "                species_name = species_dir.name\n",
    "                for file_path in species_dir.iterdir():\n",
    "                    if file_path.is_file():\n",
    "                        X_train_paths.append(file_path)\n",
    "                        y_train.append(species_name)\n",
    "    \n",
    "    if test_root.exists():\n",
    "        for species_dir in test_root.iterdir():\n",
    "            if species_dir.is_dir():\n",
    "                species_name = species_dir.name\n",
    "                for file_path in species_dir.iterdir():\n",
    "                    if file_path.is_file():\n",
    "                        X_test_paths.append(file_path)\n",
    "                        y_test.append(species_name)\n",
    "    \n",
    "    return X_train_paths, y_train, X_test_paths, y_test\n",
    "\n",
    "# Load the dataset paths\n",
    "print(\"Loading dataset paths...\")\n",
    "X_train_paths, y_train, X_test_paths, y_test = load_dataset_paths(data_path, test_csv_path)\n",
    "\n",
    "print(f\"✓ Training samples: {len(X_train_paths)}\")\n",
    "print(f\"✓ Test samples: {len(X_test_paths)}\")\n",
    "print(f\"✓ Species found: {sorted(set(y_train))}\")\n",
    "\n",
    "if len(X_train_paths) == 0 or len(X_test_paths) == 0:\n",
    "    print(\"❌ No data found! Please check your data structure.\")"
   ]
  },
  {
   "cell_type": "code",
   "execution_count": 28,
   "id": "0b0adcff",
   "metadata": {},
   "outputs": [
    {
     "name": "stdout",
     "output_type": "stream",
     "text": [
      "Processing training data...\n"
     ]
    },
    {
     "name": "stderr",
     "output_type": "stream",
     "text": [
      "Extracting FPFH Features:   0%|          | 0/557 [00:00<?, ?it/s]"
     ]
    },
    {
     "name": "stdout",
     "output_type": "stream",
     "text": [
      "\u001b[1;33m[Open3D WARNING] Read geometry::PointCloud failed: unknown file extension for ../train/Oak/29.txt (format: auto).\u001b[0;m\n",
      "Warning: No points found in file 29.txt. Trying NumPy fallback.\n"
     ]
    },
    {
     "name": "stderr",
     "output_type": "stream",
     "text": [
      "Extracting FPFH Features:   0%|          | 1/557 [00:00<01:41,  5.50it/s]"
     ]
    },
    {
     "name": "stdout",
     "output_type": "stream",
     "text": [
      "\u001b[1;33m[Open3D WARNING] Read geometry::PointCloud failed: unknown file extension for ../train/Oak/15.txt (format: auto).\u001b[0;m\n",
      "Warning: No points found in file 15.txt. Trying NumPy fallback.\n"
     ]
    },
    {
     "name": "stderr",
     "output_type": "stream",
     "text": [
      "Extracting FPFH Features:   0%|          | 2/557 [00:00<01:32,  6.00it/s]"
     ]
    },
    {
     "name": "stdout",
     "output_type": "stream",
     "text": [
      "\u001b[1;33m[Open3D WARNING] Read geometry::PointCloud failed: unknown file extension for ../train/Oak/28.txt (format: auto).\u001b[0;m\n",
      "Warning: No points found in file 28.txt. Trying NumPy fallback.\n"
     ]
    },
    {
     "name": "stderr",
     "output_type": "stream",
     "text": [
      "Extracting FPFH Features:   1%|          | 3/557 [00:00<01:29,  6.19it/s]"
     ]
    },
    {
     "name": "stdout",
     "output_type": "stream",
     "text": [
      "\u001b[1;33m[Open3D WARNING] Read geometry::PointCloud failed: unknown file extension for ../train/Oak/16.txt (format: auto).\u001b[0;m\n",
      "Warning: No points found in file 16.txt. Trying NumPy fallback.\n"
     ]
    },
    {
     "name": "stderr",
     "output_type": "stream",
     "text": [
      "Extracting FPFH Features:   1%|          | 4/557 [00:00<01:20,  6.91it/s]"
     ]
    },
    {
     "name": "stdout",
     "output_type": "stream",
     "text": [
      "\u001b[1;33m[Open3D WARNING] Read geometry::PointCloud failed: unknown file extension for ../train/Oak/10.txt (format: auto).\u001b[0;m\n",
      "Warning: No points found in file 10.txt. Trying NumPy fallback.\n"
     ]
    },
    {
     "name": "stderr",
     "output_type": "stream",
     "text": [
      "Extracting FPFH Features:   1%|          | 5/557 [00:00<01:17,  7.09it/s]"
     ]
    },
    {
     "name": "stdout",
     "output_type": "stream",
     "text": [
      "\u001b[1;33m[Open3D WARNING] Read geometry::PointCloud failed: unknown file extension for ../train/Oak/11.txt (format: auto).\u001b[0;m\n",
      "Warning: No points found in file 11.txt. Trying NumPy fallback.\n",
      "\u001b[1;33m[Open3D WARNING] Read geometry::PointCloud failed: unknown file extension for ../train/Oak/5.txt (format: auto).\u001b[0;m\n",
      "Warning: No points found in file 5.txt. Trying NumPy fallback.\n"
     ]
    },
    {
     "name": "stderr",
     "output_type": "stream",
     "text": [
      "Extracting FPFH Features:   1%|▏         | 8/557 [00:01<01:51,  4.92it/s]"
     ]
    },
    {
     "name": "stdout",
     "output_type": "stream",
     "text": [
      "\u001b[1;33m[Open3D WARNING] Read geometry::PointCloud failed: unknown file extension for ../train/Oak/4.txt (format: auto).\u001b[0;m\n",
      "Warning: No points found in file 4.txt. Trying NumPy fallback.\n",
      "\u001b[1;33m[Open3D WARNING] Read geometry::PointCloud failed: unknown file extension for ../train/Oak/6.txt (format: auto).\u001b[0;m\n",
      "Warning: No points found in file 6.txt. Trying NumPy fallback.\n"
     ]
    },
    {
     "name": "stderr",
     "output_type": "stream",
     "text": [
      "Extracting FPFH Features:   2%|▏         | 9/557 [00:01<02:05,  4.35it/s]"
     ]
    },
    {
     "name": "stdout",
     "output_type": "stream",
     "text": [
      "\u001b[1;33m[Open3D WARNING] Read geometry::PointCloud failed: unknown file extension for ../train/Oak/3.txt (format: auto).\u001b[0;m\n",
      "Warning: No points found in file 3.txt. Trying NumPy fallback.\n"
     ]
    },
    {
     "name": "stderr",
     "output_type": "stream",
     "text": [
      "Extracting FPFH Features:   2%|▏         | 11/557 [00:02<02:01,  4.49it/s]"
     ]
    },
    {
     "name": "stdout",
     "output_type": "stream",
     "text": [
      "\u001b[1;33m[Open3D WARNING] Read geometry::PointCloud failed: unknown file extension for ../train/Oak/2.txt (format: auto).\u001b[0;m\n",
      "Warning: No points found in file 2.txt. Trying NumPy fallback.\n",
      "\u001b[1;33m[Open3D WARNING] Read geometry::PointCloud failed: unknown file extension for ../train/Oak/20.txt (format: auto).\u001b[0;m\n",
      "Warning: No points found in file 20.txt. Trying NumPy fallback.\n"
     ]
    },
    {
     "name": "stderr",
     "output_type": "stream",
     "text": [
      "Extracting FPFH Features:   2%|▏         | 12/557 [00:02<01:44,  5.23it/s]"
     ]
    },
    {
     "name": "stdout",
     "output_type": "stream",
     "text": [
      "\u001b[1;33m[Open3D WARNING] Read geometry::PointCloud failed: unknown file extension for ../train/Oak/21.txt (format: auto).\u001b[0;m\n",
      "Warning: No points found in file 21.txt. Trying NumPy fallback.\n"
     ]
    },
    {
     "name": "stderr",
     "output_type": "stream",
     "text": [
      "Extracting FPFH Features:   2%|▏         | 13/557 [00:02<01:46,  5.12it/s]"
     ]
    },
    {
     "name": "stdout",
     "output_type": "stream",
     "text": [
      "\u001b[1;33m[Open3D WARNING] Read geometry::PointCloud failed: unknown file extension for ../train/Oak/26.txt (format: auto).\u001b[0;m\n",
      "Warning: No points found in file 26.txt. Trying NumPy fallback.\n"
     ]
    },
    {
     "name": "stderr",
     "output_type": "stream",
     "text": [
      "Extracting FPFH Features:   3%|▎         | 15/557 [00:02<01:33,  5.77it/s]"
     ]
    },
    {
     "name": "stdout",
     "output_type": "stream",
     "text": [
      "\u001b[1;33m[Open3D WARNING] Read geometry::PointCloud failed: unknown file extension for ../train/Oak/27.txt (format: auto).\u001b[0;m\n",
      "Warning: No points found in file 27.txt. Trying NumPy fallback.\n",
      "\u001b[1;33m[Open3D WARNING] Read geometry::PointCloud failed: unknown file extension for ../train/Oak/31.txt (format: auto).\u001b[0;m\n",
      "Warning: No points found in file 31.txt. Trying NumPy fallback.\n"
     ]
    },
    {
     "name": "stderr",
     "output_type": "stream",
     "text": [
      "Extracting FPFH Features:   3%|▎         | 16/557 [00:02<01:27,  6.20it/s]"
     ]
    },
    {
     "name": "stdout",
     "output_type": "stream",
     "text": [
      "\u001b[1;33m[Open3D WARNING] Read geometry::PointCloud failed: unknown file extension for ../train/Oak/19.txt (format: auto).\u001b[0;m\n",
      "Warning: No points found in file 19.txt. Trying NumPy fallback.\n"
     ]
    },
    {
     "name": "stderr",
     "output_type": "stream",
     "text": [
      "Extracting FPFH Features:   3%|▎         | 17/557 [00:03<02:04,  4.33it/s]"
     ]
    },
    {
     "name": "stdout",
     "output_type": "stream",
     "text": [
      "\u001b[1;33m[Open3D WARNING] Read geometry::PointCloud failed: unknown file extension for ../train/Oak/30.txt (format: auto).\u001b[0;m\n",
      "Warning: No points found in file 30.txt. Trying NumPy fallback.\n"
     ]
    },
    {
     "name": "stderr",
     "output_type": "stream",
     "text": [
      "Extracting FPFH Features:   5%|▍         | 26/557 [00:04<00:52, 10.04it/s]"
     ]
    },
    {
     "name": "stdout",
     "output_type": "stream",
     "text": [
      "\u001b[1;33m[Open3D WARNING] Read geometry::PointCloud failed: unknown file extension for ../train/Douglas Fir/31_86.txt (format: auto).\u001b[0;m\n",
      "Warning: No points found in file 31_86.txt. Trying NumPy fallback.\n",
      "\u001b[1;33m[Open3D WARNING] Read geometry::PointCloud failed: unknown file extension for ../train/Douglas Fir/31_92.txt (format: auto).\u001b[0;m\n",
      "Warning: No points found in file 31_92.txt. Trying NumPy fallback.\n",
      "\u001b[1;33m[Open3D WARNING] Read geometry::PointCloud failed: unknown file extension for ../train/Douglas Fir/31_79.txt (format: auto).\u001b[0;m\n",
      "Warning: No points found in file 31_79.txt. Trying NumPy fallback.\n",
      "\u001b[1;33m[Open3D WARNING] Read geometry::PointCloud failed: unknown file extension for ../train/Douglas Fir/31_78.txt (format: auto).\u001b[0;m\n",
      "Warning: No points found in file 31_78.txt. Trying NumPy fallback.\n",
      "\u001b[1;33m[Open3D WARNING] Read geometry::PointCloud failed: unknown file extension for ../train/Douglas Fir/61_49.txt (format: auto).\u001b[0;m\n",
      "Warning: No points found in file 61_49.txt. Trying NumPy fallback.\n",
      "\u001b[1;33m[Open3D WARNING] Read geometry::PointCloud failed: unknown file extension for ../train/Douglas Fir/61_88.txt (format: auto).\u001b[0;m\n",
      "Warning: No points found in file 61_88.txt. Trying NumPy fallback.\n"
     ]
    },
    {
     "name": "stderr",
     "output_type": "stream",
     "text": [
      "Extracting FPFH Features:   5%|▌         | 28/557 [00:04<01:04,  8.24it/s]"
     ]
    },
    {
     "name": "stdout",
     "output_type": "stream",
     "text": [
      "\u001b[1;33m[Open3D WARNING] Read geometry::PointCloud failed: unknown file extension for ../train/Douglas Fir/61_63.txt (format: auto).\u001b[0;m\n",
      "Warning: No points found in file 61_63.txt. Trying NumPy fallback.\n"
     ]
    },
    {
     "name": "stderr",
     "output_type": "stream",
     "text": [
      "Extracting FPFH Features:   6%|▌         | 33/557 [00:05<00:57,  9.15it/s]"
     ]
    },
    {
     "name": "stdout",
     "output_type": "stream",
     "text": [
      "\u001b[1;33m[Open3D WARNING] Read geometry::PointCloud failed: unknown file extension for ../train/Douglas Fir/31_85.txt (format: auto).\u001b[0;m\n",
      "Warning: No points found in file 31_85.txt. Trying NumPy fallback.\n",
      "\u001b[1;33m[Open3D WARNING] Read geometry::PointCloud failed: unknown file extension for ../train/Douglas Fir/31_52.txt (format: auto).\u001b[0;m\n",
      "Warning: No points found in file 31_52.txt. Trying NumPy fallback.\n",
      "\u001b[1;33m[Open3D WARNING] Read geometry::PointCloud failed: unknown file extension for ../train/Douglas Fir/31_46.txt (format: auto).\u001b[0;m\n",
      "Warning: No points found in file 31_46.txt. Trying NumPy fallback.\n",
      "\u001b[1;33m[Open3D WARNING] Read geometry::PointCloud failed: unknown file extension for ../train/Douglas Fir/31_53.txt (format: auto).\u001b[0;m\n",
      "Warning: No points found in file 31_53.txt. Trying NumPy fallback.\n",
      "\u001b[1;33m[Open3D WARNING] Read geometry::PointCloud failed: unknown file extension for ../train/Douglas Fir/31_84.txt (format: auto).\u001b[0;m\n",
      "Warning: No points found in file 31_84.txt. Trying NumPy fallback.\n"
     ]
    },
    {
     "name": "stderr",
     "output_type": "stream",
     "text": [
      "Extracting FPFH Features:   7%|▋         | 40/557 [00:05<00:36, 14.22it/s]"
     ]
    },
    {
     "name": "stdout",
     "output_type": "stream",
     "text": [
      "\u001b[1;33m[Open3D WARNING] Read geometry::PointCloud failed: unknown file extension for ../train/Douglas Fir/31_3.txt (format: auto).\u001b[0;m\n",
      "Warning: No points found in file 31_3.txt. Trying NumPy fallback.\n",
      "\u001b[1;33m[Open3D WARNING] Read geometry::PointCloud failed: unknown file extension for ../train/Douglas Fir/61_62.txt (format: auto).\u001b[0;m\n",
      "Warning: No points found in file 61_62.txt. Trying NumPy fallback.\n",
      "\u001b[1;33m[Open3D WARNING] Read geometry::PointCloud failed: unknown file extension for ../train/Douglas Fir/61_99.txt (format: auto).\u001b[0;m\n",
      "Warning: No points found in file 61_99.txt. Trying NumPy fallback.\n",
      "\u001b[1;33m[Open3D WARNING] Read geometry::PointCloud failed: unknown file extension for ../train/Douglas Fir/61_72.txt (format: auto).\u001b[0;m\n",
      "Warning: No points found in file 61_72.txt. Trying NumPy fallback.\n",
      "\u001b[1;33m[Open3D WARNING] Read geometry::PointCloud failed: unknown file extension for ../train/Douglas Fir/61_66.txt (format: auto).\u001b[0;m\n",
      "Warning: No points found in file 61_66.txt. Trying NumPy fallback.\n"
     ]
    },
    {
     "name": "stderr",
     "output_type": "stream",
     "text": [
      "Extracting FPFH Features:   8%|▊         | 43/557 [00:06<00:50, 10.10it/s]"
     ]
    },
    {
     "name": "stdout",
     "output_type": "stream",
     "text": [
      "\u001b[1;33m[Open3D WARNING] Read geometry::PointCloud failed: unknown file extension for ../train/Douglas Fir/31_80.txt (format: auto).\u001b[0;m\n",
      "Warning: No points found in file 31_80.txt. Trying NumPy fallback.\n",
      "\u001b[1;33m[Open3D WARNING] Read geometry::PointCloud failed: unknown file extension for ../train/Douglas Fir/31_56.txt (format: auto).\u001b[0;m\n",
      "Warning: No points found in file 31_56.txt. Trying NumPy fallback.\n"
     ]
    },
    {
     "name": "stderr",
     "output_type": "stream",
     "text": [
      "Extracting FPFH Features:   8%|▊         | 45/557 [00:06<00:51,  9.86it/s]"
     ]
    },
    {
     "name": "stdout",
     "output_type": "stream",
     "text": [
      "\u001b[1;33m[Open3D WARNING] Read geometry::PointCloud failed: unknown file extension for ../train/Douglas Fir/61_67.txt (format: auto).\u001b[0;m\n",
      "Warning: No points found in file 61_67.txt. Trying NumPy fallback.\n",
      "\u001b[1;33m[Open3D WARNING] Read geometry::PointCloud failed: unknown file extension for ../train/Douglas Fir/61_98.txt (format: auto).\u001b[0;m\n",
      "Warning: No points found in file 61_98.txt. Trying NumPy fallback.\n"
     ]
    },
    {
     "name": "stderr",
     "output_type": "stream",
     "text": [
      "Extracting FPFH Features:   9%|▉         | 51/557 [00:06<00:41, 12.14it/s]"
     ]
    },
    {
     "name": "stdout",
     "output_type": "stream",
     "text": [
      "\u001b[1;33m[Open3D WARNING] Read geometry::PointCloud failed: unknown file extension for ../train/Douglas Fir/61_65.txt (format: auto).\u001b[0;m\n",
      "Warning: No points found in file 61_65.txt. Trying NumPy fallback.\n",
      "\u001b[1;33m[Open3D WARNING] Read geometry::PointCloud failed: unknown file extension for ../train/Douglas Fir/61_71.txt (format: auto).\u001b[0;m\n",
      "Warning: No points found in file 61_71.txt. Trying NumPy fallback.\n",
      "\u001b[1;33m[Open3D WARNING] Read geometry::PointCloud failed: unknown file extension for ../train/Douglas Fir/61_8.txt (format: auto).\u001b[0;m\n",
      "Warning: No points found in file 61_8.txt. Trying NumPy fallback.\n"
     ]
    },
    {
     "name": "stderr",
     "output_type": "stream",
     "text": [
      "Extracting FPFH Features:  10%|█         | 56/557 [00:07<00:35, 14.06it/s]"
     ]
    },
    {
     "name": "stdout",
     "output_type": "stream",
     "text": [
      "\u001b[1;33m[Open3D WARNING] Read geometry::PointCloud failed: unknown file extension for ../train/Douglas Fir/31_40.txt (format: auto).\u001b[0;m\n",
      "Warning: No points found in file 31_40.txt. Trying NumPy fallback.\n",
      "\u001b[1;33m[Open3D WARNING] Read geometry::PointCloud failed: unknown file extension for ../train/Douglas Fir/63_60.txt (format: auto).\u001b[0;m\n",
      "Warning: No points found in file 63_60.txt. Trying NumPy fallback.\n",
      "\u001b[1;33m[Open3D WARNING] Read geometry::PointCloud failed: unknown file extension for ../train/Douglas Fir/31_54.txt (format: auto).\u001b[0;m\n",
      "Warning: No points found in file 31_54.txt. Trying NumPy fallback.\n",
      "\u001b[1;33m[Open3D WARNING] Read geometry::PointCloud failed: unknown file extension for ../train/Douglas Fir/31_68.txt (format: auto).\u001b[0;m\n",
      "Warning: No points found in file 31_68.txt. Trying NumPy fallback.\n",
      "\u001b[1;33m[Open3D WARNING] Read geometry::PointCloud failed: unknown file extension for ../train/Douglas Fir/31_41.txt (format: auto).\u001b[0;m\n",
      "Warning: No points found in file 31_41.txt. Trying NumPy fallback.\n"
     ]
    },
    {
     "name": "stderr",
     "output_type": "stream",
     "text": [
      "Extracting FPFH Features:  11%|█         | 62/557 [00:07<00:27, 18.18it/s]"
     ]
    },
    {
     "name": "stdout",
     "output_type": "stream",
     "text": [
      "\u001b[1;33m[Open3D WARNING] Read geometry::PointCloud failed: unknown file extension for ../train/Douglas Fir/31_82.txt (format: auto).\u001b[0;m\n",
      "Warning: No points found in file 31_82.txt. Trying NumPy fallback.\n",
      "\u001b[1;33m[Open3D WARNING] Read geometry::PointCloud failed: unknown file extension for ../train/Douglas Fir/61_9.txt (format: auto).\u001b[0;m\n",
      "Warning: No points found in file 61_9.txt. Trying NumPy fallback.\n",
      "\u001b[1;33m[Open3D WARNING] Read geometry::PointCloud failed: unknown file extension for ../train/Douglas Fir/61_70.txt (format: auto).\u001b[0;m\n",
      "Warning: No points found in file 61_70.txt. Trying NumPy fallback.\n",
      "\u001b[1;33m[Open3D WARNING] Read geometry::PointCloud failed: unknown file extension for ../train/Douglas Fir/61_17.txt (format: auto).\u001b[0;m\n",
      "Warning: No points found in file 61_17.txt. Trying NumPy fallback.\n",
      "\u001b[1;33m[Open3D WARNING] Read geometry::PointCloud failed: unknown file extension for ../train/Douglas Fir/62_85.txt (format: auto).\u001b[0;m\n",
      "Warning: No points found in file 62_85.txt. Trying NumPy fallback.\n",
      "\u001b[1;33m[Open3D WARNING] Read geometry::PointCloud failed: unknown file extension for ../train/Douglas Fir/31_26.txt (format: auto).\u001b[0;m\n",
      "Warning: No points found in file 31_26.txt. Trying NumPy fallback.\n"
     ]
    },
    {
     "name": "stderr",
     "output_type": "stream",
     "text": [
      "Extracting FPFH Features:  12%|█▏        | 65/557 [00:07<00:27, 18.10it/s]"
     ]
    },
    {
     "name": "stdout",
     "output_type": "stream",
     "text": [
      "\u001b[1;33m[Open3D WARNING] Read geometry::PointCloud failed: unknown file extension for ../train/Douglas Fir/31_32.txt (format: auto).\u001b[0;m\n",
      "Warning: No points found in file 31_32.txt. Trying NumPy fallback.\n",
      "\u001b[1;33m[Open3D WARNING] Read geometry::PointCloud failed: unknown file extension for ../train/Douglas Fir/31_27.txt (format: auto).\u001b[0;m\n",
      "Warning: No points found in file 31_27.txt. Trying NumPy fallback.\n"
     ]
    },
    {
     "name": "stderr",
     "output_type": "stream",
     "text": [
      "Extracting FPFH Features:  13%|█▎        | 72/557 [00:08<00:35, 13.61it/s]"
     ]
    },
    {
     "name": "stdout",
     "output_type": "stream",
     "text": [
      "\u001b[1;33m[Open3D WARNING] Read geometry::PointCloud failed: unknown file extension for ../train/Douglas Fir/61_16.txt (format: auto).\u001b[0;m\n",
      "Warning: No points found in file 61_16.txt. Trying NumPy fallback.\n",
      "\u001b[1;33m[Open3D WARNING] Read geometry::PointCloud failed: unknown file extension for ../train/Douglas Fir/32_3.txt (format: auto).\u001b[0;m\n",
      "Warning: No points found in file 32_3.txt. Trying NumPy fallback.\n",
      "\u001b[1;33m[Open3D WARNING] Read geometry::PointCloud failed: unknown file extension for ../train/Douglas Fir/61_28.txt (format: auto).\u001b[0;m\n",
      "Warning: No points found in file 61_28.txt. Trying NumPy fallback.\n",
      "\u001b[1;33m[Open3D WARNING] Read geometry::PointCloud failed: unknown file extension for ../train/Douglas Fir/62_104.txt (format: auto).\u001b[0;m\n",
      "Warning: No points found in file 62_104.txt. Trying NumPy fallback.\n",
      "\u001b[1;33m[Open3D WARNING] Read geometry::PointCloud failed: unknown file extension for ../train/Douglas Fir/62_110.txt (format: auto).\u001b[0;m\n",
      "Warning: No points found in file 62_110.txt. Trying NumPy fallback.\n",
      "\u001b[1;33m[Open3D WARNING] Read geometry::PointCloud failed: unknown file extension for ../train/Douglas Fir/61_14.txt (format: auto).\u001b[0;m\n",
      "Warning: No points found in file 61_14.txt. Trying NumPy fallback.\n"
     ]
    },
    {
     "name": "stderr",
     "output_type": "stream",
     "text": [
      "Extracting FPFH Features:  14%|█▎        | 76/557 [00:08<00:28, 16.65it/s]"
     ]
    },
    {
     "name": "stdout",
     "output_type": "stream",
     "text": [
      "\u001b[1;33m[Open3D WARNING] Read geometry::PointCloud failed: unknown file extension for ../train/Douglas Fir/31_31.txt (format: auto).\u001b[0;m\n",
      "Warning: No points found in file 31_31.txt. Trying NumPy fallback.\n",
      "\u001b[1;33m[Open3D WARNING] Read geometry::PointCloud failed: unknown file extension for ../train/Douglas Fir/31_25.txt (format: auto).\u001b[0;m\n",
      "Warning: No points found in file 31_25.txt. Trying NumPy fallback.\n",
      "\u001b[1;33m[Open3D WARNING] Read geometry::PointCloud failed: unknown file extension for ../train/Douglas Fir/31_30.txt (format: auto).\u001b[0;m\n",
      "Warning: No points found in file 31_30.txt. Trying NumPy fallback.\n",
      "\u001b[1;33m[Open3D WARNING] Read geometry::PointCloud failed: unknown file extension for ../train/Douglas Fir/62_33_1.txt (format: auto).\u001b[0;m\n",
      "Warning: No points found in file 62_33_1.txt. Trying NumPy fallback.\n"
     ]
    },
    {
     "name": "stderr",
     "output_type": "stream",
     "text": [
      "Extracting FPFH Features:  14%|█▍        | 79/557 [00:08<00:27, 17.16it/s]"
     ]
    },
    {
     "name": "stdout",
     "output_type": "stream",
     "text": [
      "\u001b[1;33m[Open3D WARNING] Read geometry::PointCloud failed: unknown file extension for ../train/Douglas Fir/61_29.txt (format: auto).\u001b[0;m\n",
      "Warning: No points found in file 61_29.txt. Trying NumPy fallback.\n",
      "\u001b[1;33m[Open3D WARNING] Read geometry::PointCloud failed: unknown file extension for ../train/Douglas Fir/62_115.txt (format: auto).\u001b[0;m\n",
      "Warning: No points found in file 62_115.txt. Trying NumPy fallback.\n"
     ]
    },
    {
     "name": "stderr",
     "output_type": "stream",
     "text": [
      "Extracting FPFH Features:  15%|█▌        | 86/557 [00:09<00:36, 12.99it/s]"
     ]
    },
    {
     "name": "stdout",
     "output_type": "stream",
     "text": [
      "\u001b[1;33m[Open3D WARNING] Read geometry::PointCloud failed: unknown file extension for ../train/Douglas Fir/31_34.txt (format: auto).\u001b[0;m\n",
      "Warning: No points found in file 31_34.txt. Trying NumPy fallback.\n",
      "\u001b[1;33m[Open3D WARNING] Read geometry::PointCloud failed: unknown file extension for ../train/Douglas Fir/31_20.txt (format: auto).\u001b[0;m\n",
      "Warning: No points found in file 31_20.txt. Trying NumPy fallback.\n",
      "\u001b[1;33m[Open3D WARNING] Read geometry::PointCloud failed: unknown file extension for ../train/Douglas Fir/31_21.txt (format: auto).\u001b[0;m\n",
      "Warning: No points found in file 31_21.txt. Trying NumPy fallback.\n",
      "\u001b[1;33m[Open3D WARNING] Read geometry::PointCloud failed: unknown file extension for ../train/Douglas Fir/31_35.txt (format: auto).\u001b[0;m\n",
      "Warning: No points found in file 31_35.txt. Trying NumPy fallback.\n",
      "\u001b[1;33m[Open3D WARNING] Read geometry::PointCloud failed: unknown file extension for ../train/Douglas Fir/61_10.txt (format: auto).\u001b[0;m\n",
      "Warning: No points found in file 61_10.txt. Trying NumPy fallback.\n",
      "\u001b[1;33m[Open3D WARNING] Read geometry::PointCloud failed: unknown file extension for ../train/Douglas Fir/61_12.txt (format: auto).\u001b[0;m\n",
      "Warning: No points found in file 61_12.txt. Trying NumPy fallback.\n",
      "\u001b[1;33m[Open3D WARNING] Read geometry::PointCloud failed: unknown file extension for ../train/Douglas Fir/31_23.txt (format: auto).\u001b[0;m\n",
      "Warning: No points found in file 31_23.txt. Trying NumPy fallback.\n"
     ]
    },
    {
     "name": "stderr",
     "output_type": "stream",
     "text": [
      "Extracting FPFH Features:  17%|█▋        | 92/557 [00:10<00:52,  8.91it/s]"
     ]
    },
    {
     "name": "stdout",
     "output_type": "stream",
     "text": [
      "\u001b[1;33m[Open3D WARNING] Read geometry::PointCloud failed: unknown file extension for ../train/Douglas Fir/61_22.txt (format: auto).\u001b[0;m\n",
      "Warning: No points found in file 61_22.txt. Trying NumPy fallback.\n"
     ]
    },
    {
     "name": "stderr",
     "output_type": "stream",
     "text": [
      "Extracting FPFH Features:  17%|█▋        | 97/557 [00:10<00:49,  9.23it/s]"
     ]
    },
    {
     "name": "stdout",
     "output_type": "stream",
     "text": [
      "\u001b[1;33m[Open3D WARNING] Read geometry::PointCloud failed: unknown file extension for ../train/Douglas Fir/62_37_15.txt (format: auto).\u001b[0;m\n",
      "Warning: No points found in file 62_37_15.txt. Trying NumPy fallback.\n",
      "\u001b[1;33m[Open3D WARNING] Read geometry::PointCloud failed: unknown file extension for ../train/Douglas Fir/31_13.txt (format: auto).\u001b[0;m\n",
      "Warning: No points found in file 31_13.txt. Trying NumPy fallback.\n",
      "\u001b[1;33m[Open3D WARNING] Read geometry::PointCloud failed: unknown file extension for ../train/Douglas Fir/31_12.txt (format: auto).\u001b[0;m\n",
      "Warning: No points found in file 31_12.txt. Trying NumPy fallback.\n",
      "\u001b[1;33m[Open3D WARNING] Read geometry::PointCloud failed: unknown file extension for ../train/Douglas Fir/61_37.txt (format: auto).\u001b[0;m\n",
      "Warning: No points found in file 61_37.txt. Trying NumPy fallback.\n",
      "\u001b[1;33m[Open3D WARNING] Read geometry::PointCloud failed: unknown file extension for ../train/Douglas Fir/61_23.txt (format: auto).\u001b[0;m\n",
      "Warning: No points found in file 61_23.txt. Trying NumPy fallback.\n"
     ]
    },
    {
     "name": "stderr",
     "output_type": "stream",
     "text": [
      "Extracting FPFH Features:  18%|█▊        | 100/557 [00:10<00:41, 11.10it/s]"
     ]
    },
    {
     "name": "stdout",
     "output_type": "stream",
     "text": [
      "\u001b[1;33m[Open3D WARNING] Read geometry::PointCloud failed: unknown file extension for ../train/Douglas Fir/61_35.txt (format: auto).\u001b[0;m\n",
      "Warning: No points found in file 61_35.txt. Trying NumPy fallback.\n",
      "\u001b[1;33m[Open3D WARNING] Read geometry::PointCloud failed: unknown file extension for ../train/Douglas Fir/62_70.txt (format: auto).\u001b[0;m\n",
      "Warning: No points found in file 62_70.txt. Trying NumPy fallback.\n",
      "\u001b[1;33m[Open3D WARNING] Read geometry::PointCloud failed: unknown file extension for ../train/Douglas Fir/32_69.txt (format: auto).\u001b[0;m\n",
      "Warning: No points found in file 32_69.txt. Trying NumPy fallback.\n"
     ]
    },
    {
     "name": "stderr",
     "output_type": "stream",
     "text": [
      "Extracting FPFH Features:  18%|█▊        | 102/557 [00:10<00:38, 11.93it/s]"
     ]
    },
    {
     "name": "stdout",
     "output_type": "stream",
     "text": [
      "\u001b[1;33m[Open3D WARNING] Read geometry::PointCloud failed: unknown file extension for ../train/Douglas Fir/31_38.txt (format: auto).\u001b[0;m\n",
      "Warning: No points found in file 31_38.txt. Trying NumPy fallback.\n",
      "\u001b[1;33m[Open3D WARNING] Read geometry::PointCloud failed: unknown file extension for ../train/Douglas Fir/31_11.txt (format: auto).\u001b[0;m\n",
      "Warning: No points found in file 31_11.txt. Trying NumPy fallback.\n"
     ]
    },
    {
     "name": "stderr",
     "output_type": "stream",
     "text": [
      "Extracting FPFH Features:  19%|█▉        | 107/557 [00:11<00:45,  9.89it/s]"
     ]
    },
    {
     "name": "stdout",
     "output_type": "stream",
     "text": [
      "\u001b[1;33m[Open3D WARNING] Read geometry::PointCloud failed: unknown file extension for ../train/Douglas Fir/61_20.txt (format: auto).\u001b[0;m\n",
      "Warning: No points found in file 61_20.txt. Trying NumPy fallback.\n",
      "\u001b[1;33m[Open3D WARNING] Read geometry::PointCloud failed: unknown file extension for ../train/Douglas Fir/61_34.txt (format: auto).\u001b[0;m\n",
      "Warning: No points found in file 61_34.txt. Trying NumPy fallback.\n",
      "\u001b[1;33m[Open3D WARNING] Read geometry::PointCloud failed: unknown file extension for ../train/Douglas Fir/62_130.txt (format: auto).\u001b[0;m\n",
      "Warning: No points found in file 62_130.txt. Trying NumPy fallback.\n"
     ]
    },
    {
     "name": "stderr",
     "output_type": "stream",
     "text": [
      "Extracting FPFH Features:  20%|██        | 114/557 [00:12<00:35, 12.54it/s]"
     ]
    },
    {
     "name": "stdout",
     "output_type": "stream",
     "text": [
      "\u001b[1;33m[Open3D WARNING] Read geometry::PointCloud failed: unknown file extension for ../train/Douglas Fir/61_30.txt (format: auto).\u001b[0;m\n",
      "Warning: No points found in file 61_30.txt. Trying NumPy fallback.\n",
      "\u001b[1;33m[Open3D WARNING] Read geometry::PointCloud failed: unknown file extension for ../train/Douglas Fir/61_24.txt (format: auto).\u001b[0;m\n",
      "Warning: No points found in file 61_24.txt. Trying NumPy fallback.\n",
      "\u001b[1;33m[Open3D WARNING] Read geometry::PointCloud failed: unknown file extension for ../train/Douglas Fir/61_18.txt (format: auto).\u001b[0;m\n",
      "Warning: No points found in file 61_18.txt. Trying NumPy fallback.\n",
      "\u001b[1;33m[Open3D WARNING] Read geometry::PointCloud failed: unknown file extension for ../train/Douglas Fir/31_15.txt (format: auto).\u001b[0;m\n",
      "Warning: No points found in file 31_15.txt. Trying NumPy fallback.\n",
      "\u001b[1;33m[Open3D WARNING] Read geometry::PointCloud failed: unknown file extension for ../train/Douglas Fir/31_29.txt (format: auto).\u001b[0;m\n",
      "Warning: No points found in file 31_29.txt. Trying NumPy fallback.\n",
      "\u001b[1;33m[Open3D WARNING] Read geometry::PointCloud failed: unknown file extension for ../train/Douglas Fir/31_14.txt (format: auto).\u001b[0;m\n",
      "Warning: No points found in file 31_14.txt. Trying NumPy fallback.\n"
     ]
    },
    {
     "name": "stderr",
     "output_type": "stream",
     "text": [
      "Extracting FPFH Features:  21%|██        | 117/557 [00:12<00:30, 14.39it/s]"
     ]
    },
    {
     "name": "stdout",
     "output_type": "stream",
     "text": [
      "\u001b[1;33m[Open3D WARNING] Read geometry::PointCloud failed: unknown file extension for ../train/Douglas Fir/32_79.txt (format: auto).\u001b[0;m\n",
      "Warning: No points found in file 32_79.txt. Trying NumPy fallback.\n"
     ]
    },
    {
     "name": "stderr",
     "output_type": "stream",
     "text": [
      "Extracting FPFH Features:  21%|██▏       | 119/557 [00:12<00:39, 11.03it/s]"
     ]
    },
    {
     "name": "stdout",
     "output_type": "stream",
     "text": [
      "\u001b[1;33m[Open3D WARNING] Read geometry::PointCloud failed: unknown file extension for ../train/Douglas Fir/61_19.txt (format: auto).\u001b[0;m\n",
      "Warning: No points found in file 61_19.txt. Trying NumPy fallback.\n",
      "\u001b[1;33m[Open3D WARNING] Read geometry::PointCloud failed: unknown file extension for ../train/Douglas Fir/61_25.txt (format: auto).\u001b[0;m\n",
      "Warning: No points found in file 61_25.txt. Trying NumPy fallback.\n"
     ]
    },
    {
     "name": "stderr",
     "output_type": "stream",
     "text": [
      "Extracting FPFH Features:  22%|██▏       | 124/557 [00:12<00:31, 13.75it/s]"
     ]
    },
    {
     "name": "stdout",
     "output_type": "stream",
     "text": [
      "\u001b[1;33m[Open3D WARNING] Read geometry::PointCloud failed: unknown file extension for ../train/Douglas Fir/61_31.txt (format: auto).\u001b[0;m\n",
      "Warning: No points found in file 61_31.txt. Trying NumPy fallback.\n",
      "\u001b[1;33m[Open3D WARNING] Read geometry::PointCloud failed: unknown file extension for ../train/Douglas Fir/61_33.txt (format: auto).\u001b[0;m\n",
      "Warning: No points found in file 61_33.txt. Trying NumPy fallback.\n",
      "\u001b[1;33m[Open3D WARNING] Read geometry::PointCloud failed: unknown file extension for ../train/Douglas Fir/32_84.txt (format: auto).\u001b[0;m\n",
      "Warning: No points found in file 32_84.txt. Trying NumPy fallback.\n",
      "\u001b[1;33m[Open3D WARNING] Read geometry::PointCloud failed: unknown file extension for ../train/Douglas Fir/61_32.txt (format: auto).\u001b[0;m\n",
      "Warning: No points found in file 61_32.txt. Trying NumPy fallback.\n",
      "\u001b[1;33m[Open3D WARNING] Read geometry::PointCloud failed: unknown file extension for ../train/Douglas Fir/61_69.txt (format: auto).\u001b[0;m\n",
      "Warning: No points found in file 61_69.txt. Trying NumPy fallback.\n",
      "\u001b[1;33m[Open3D WARNING] Read geometry::PointCloud failed: unknown file extension for ../train/Douglas Fir/61_41.txt (format: auto).\u001b[0;m\n",
      "Warning: No points found in file 61_41.txt. Trying NumPy fallback.\n"
     ]
    },
    {
     "name": "stderr",
     "output_type": "stream",
     "text": [
      "Extracting FPFH Features:  23%|██▎       | 127/557 [00:12<00:26, 16.43it/s]"
     ]
    },
    {
     "name": "stdout",
     "output_type": "stream",
     "text": [
      "\u001b[1;33m[Open3D WARNING] Read geometry::PointCloud failed: unknown file extension for ../train/Douglas Fir/64_71.txt (format: auto).\u001b[0;m\n",
      "Warning: No points found in file 64_71.txt. Trying NumPy fallback.\n",
      "\u001b[1;33m[Open3D WARNING] Read geometry::PointCloud failed: unknown file extension for ../train/Douglas Fir/31_64.txt (format: auto).\u001b[0;m\n",
      "Warning: No points found in file 31_64.txt. Trying NumPy fallback.\n",
      "\u001b[1;33m[Open3D WARNING] Read geometry::PointCloud failed: unknown file extension for ../train/Douglas Fir/31_70.txt (format: auto).\u001b[0;m\n",
      "Warning: No points found in file 31_70.txt. Trying NumPy fallback.\n"
     ]
    },
    {
     "name": "stderr",
     "output_type": "stream",
     "text": [
      "Extracting FPFH Features:  24%|██▎       | 131/557 [00:13<00:40, 10.48it/s]"
     ]
    },
    {
     "name": "stdout",
     "output_type": "stream",
     "text": [
      "\u001b[1;33m[Open3D WARNING] Read geometry::PointCloud failed: unknown file extension for ../train/Douglas Fir/31_71.txt (format: auto).\u001b[0;m\n",
      "Warning: No points found in file 31_71.txt. Trying NumPy fallback.\n",
      "\u001b[1;33m[Open3D WARNING] Read geometry::PointCloud failed: unknown file extension for ../train/Douglas Fir/31_65.txt (format: auto).\u001b[0;m\n",
      "Warning: No points found in file 31_65.txt. Trying NumPy fallback.\n",
      "\u001b[1;33m[Open3D WARNING] Read geometry::PointCloud failed: unknown file extension for ../train/Douglas Fir/31_59.txt (format: auto).\u001b[0;m\n",
      "Warning: No points found in file 31_59.txt. Trying NumPy fallback.\n"
     ]
    },
    {
     "name": "stderr",
     "output_type": "stream",
     "text": [
      "Extracting FPFH Features:  24%|██▍       | 135/557 [00:13<00:35, 11.79it/s]"
     ]
    },
    {
     "name": "stdout",
     "output_type": "stream",
     "text": [
      "\u001b[1;33m[Open3D WARNING] Read geometry::PointCloud failed: unknown file extension for ../train/Douglas Fir/61_5.txt (format: auto).\u001b[0;m\n",
      "Warning: No points found in file 61_5.txt. Trying NumPy fallback.\n",
      "\u001b[1;33m[Open3D WARNING] Read geometry::PointCloud failed: unknown file extension for ../train/Douglas Fir/61_40.txt (format: auto).\u001b[0;m\n",
      "Warning: No points found in file 61_40.txt. Trying NumPy fallback.\n",
      "\u001b[1;33m[Open3D WARNING] Read geometry::PointCloud failed: unknown file extension for ../train/Douglas Fir/61_68.txt (format: auto).\u001b[0;m\n",
      "Warning: No points found in file 61_68.txt. Trying NumPy fallback.\n"
     ]
    },
    {
     "name": "stderr",
     "output_type": "stream",
     "text": [
      "Extracting FPFH Features:  26%|██▌       | 143/557 [00:14<00:25, 15.98it/s]"
     ]
    },
    {
     "name": "stdout",
     "output_type": "stream",
     "text": [
      "\u001b[1;33m[Open3D WARNING] Read geometry::PointCloud failed: unknown file extension for ../train/Douglas Fir/61_97.txt (format: auto).\u001b[0;m\n",
      "Warning: No points found in file 61_97.txt. Trying NumPy fallback.\n",
      "\u001b[1;33m[Open3D WARNING] Read geometry::PointCloud failed: unknown file extension for ../train/Douglas Fir/62_146.txt (format: auto).\u001b[0;m\n",
      "Warning: No points found in file 62_146.txt. Trying NumPy fallback.\n",
      "\u001b[1;33m[Open3D WARNING] Read geometry::PointCloud failed: unknown file extension for ../train/Douglas Fir/61_56.txt (format: auto).\u001b[0;m\n",
      "Warning: No points found in file 61_56.txt. Trying NumPy fallback.\n",
      "\u001b[1;33m[Open3D WARNING] Read geometry::PointCloud failed: unknown file extension for ../train/Douglas Fir/61_42.txt (format: auto).\u001b[0;m\n",
      "Warning: No points found in file 61_42.txt. Trying NumPy fallback.\n",
      "\u001b[1;33m[Open3D WARNING] Read geometry::PointCloud failed: unknown file extension for ../train/Douglas Fir/32_36.txt (format: auto).\u001b[0;m\n",
      "Warning: No points found in file 32_36.txt. Trying NumPy fallback.\n",
      "\u001b[1;33m[Open3D WARNING] Read geometry::PointCloud failed: unknown file extension for ../train/Douglas Fir/31_73.txt (format: auto).\u001b[0;m\n",
      "Warning: No points found in file 31_73.txt. Trying NumPy fallback.\n"
     ]
    },
    {
     "name": "stderr",
     "output_type": "stream",
     "text": [
      "Extracting FPFH Features:  26%|██▌       | 146/557 [00:14<00:23, 17.40it/s]"
     ]
    },
    {
     "name": "stdout",
     "output_type": "stream",
     "text": [
      "\u001b[1;33m[Open3D WARNING] Read geometry::PointCloud failed: unknown file extension for ../train/Douglas Fir/31_66.txt (format: auto).\u001b[0;m\n",
      "Warning: No points found in file 31_66.txt. Trying NumPy fallback.\n",
      "\u001b[1;33m[Open3D WARNING] Read geometry::PointCloud failed: unknown file extension for ../train/Douglas Fir/32_37.txt (format: auto).\u001b[0;m\n",
      "Warning: No points found in file 32_37.txt. Trying NumPy fallback.\n"
     ]
    },
    {
     "name": "stderr",
     "output_type": "stream",
     "text": [
      "Extracting FPFH Features:  27%|██▋       | 149/557 [00:14<00:27, 14.74it/s]"
     ]
    },
    {
     "name": "stdout",
     "output_type": "stream",
     "text": [
      "\u001b[1;33m[Open3D WARNING] Read geometry::PointCloud failed: unknown file extension for ../train/Douglas Fir/61_57.txt (format: auto).\u001b[0;m\n",
      "Warning: No points found in file 61_57.txt. Trying NumPy fallback.\n",
      "\u001b[1;33m[Open3D WARNING] Read geometry::PointCloud failed: unknown file extension for ../train/Douglas Fir/61_80.txt (format: auto).\u001b[0;m\n",
      "Warning: No points found in file 61_80.txt. Trying NumPy fallback.\n",
      "\u001b[1;33m[Open3D WARNING] Read geometry::PointCloud failed: unknown file extension for ../train/Douglas Fir/61_84.txt (format: auto).\u001b[0;m\n",
      "Warning: No points found in file 61_84.txt. Trying NumPy fallback.\n"
     ]
    },
    {
     "name": "stderr",
     "output_type": "stream",
     "text": [
      "Extracting FPFH Features:  27%|██▋       | 152/557 [00:14<00:28, 14.20it/s]"
     ]
    },
    {
     "name": "stdout",
     "output_type": "stream",
     "text": [
      "\u001b[1;33m[Open3D WARNING] Read geometry::PointCloud failed: unknown file extension for ../train/Douglas Fir/31_89.txt (format: auto).\u001b[0;m\n",
      "Warning: No points found in file 31_89.txt. Trying NumPy fallback.\n",
      "\u001b[1;33m[Open3D WARNING] Read geometry::PointCloud failed: unknown file extension for ../train/Douglas Fir/31_62.txt (format: auto).\u001b[0;m\n",
      "Warning: No points found in file 31_62.txt. Trying NumPy fallback.\n"
     ]
    },
    {
     "name": "stderr",
     "output_type": "stream",
     "text": [
      "Extracting FPFH Features:  28%|██▊       | 155/557 [00:15<00:28, 14.05it/s]"
     ]
    },
    {
     "name": "stdout",
     "output_type": "stream",
     "text": [
      "\u001b[1;33m[Open3D WARNING] Read geometry::PointCloud failed: unknown file extension for ../train/Douglas Fir/31_88.txt (format: auto).\u001b[0;m\n",
      "Warning: No points found in file 31_88.txt. Trying NumPy fallback.\n"
     ]
    },
    {
     "name": "stderr",
     "output_type": "stream",
     "text": [
      "Extracting FPFH Features:  29%|██▉       | 161/557 [00:15<00:32, 12.03it/s]"
     ]
    },
    {
     "name": "stdout",
     "output_type": "stream",
     "text": [
      "\u001b[1;33m[Open3D WARNING] Read geometry::PointCloud failed: unknown file extension for ../train/Douglas Fir/61_46.txt (format: auto).\u001b[0;m\n",
      "Warning: No points found in file 61_46.txt. Trying NumPy fallback.\n",
      "\u001b[1;33m[Open3D WARNING] Read geometry::PointCloud failed: unknown file extension for ../train/Douglas Fir/61_52.txt (format: auto).\u001b[0;m\n",
      "Warning: No points found in file 61_52.txt. Trying NumPy fallback.\n",
      "\u001b[1;33m[Open3D WARNING] Read geometry::PointCloud failed: unknown file extension for ../train/Douglas Fir/63_3.txt (format: auto).\u001b[0;m\n",
      "Warning: No points found in file 63_3.txt. Trying NumPy fallback.\n",
      "\u001b[1;33m[Open3D WARNING] Read geometry::PointCloud failed: unknown file extension for ../train/Douglas Fir/31_61.txt (format: auto).\u001b[0;m\n",
      "Warning: No points found in file 31_61.txt. Trying NumPy fallback.\n",
      "\u001b[1;33m[Open3D WARNING] Read geometry::PointCloud failed: unknown file extension for ../train/Douglas Fir/31_48.txt (format: auto).\u001b[0;m\n",
      "Warning: No points found in file 31_48.txt. Trying NumPy fallback.\n",
      "\u001b[1;33m[Open3D WARNING] Read geometry::PointCloud failed: unknown file extension for ../train/Douglas Fir/31_74.txt (format: auto).\u001b[0;m\n",
      "Warning: No points found in file 31_74.txt. Trying NumPy fallback.\n",
      "\u001b[1;33m[Open3D WARNING] Read geometry::PointCloud failed: unknown file extension for ../train/Douglas Fir/31_60.txt (format: auto).\u001b[0;m\n",
      "Warning: No points found in file 31_60.txt. Trying NumPy fallback.\n",
      "\u001b[1;33m[Open3D WARNING] Read geometry::PointCloud failed: unknown file extension for ../train/Douglas Fir/61_45.txt (format: auto).\u001b[0;m\n",
      "Warning: No points found in file 61_45.txt. Trying NumPy fallback.\n"
     ]
    },
    {
     "name": "stderr",
     "output_type": "stream",
     "text": [
      "Extracting FPFH Features:  30%|███       | 169/557 [00:15<00:21, 18.36it/s]"
     ]
    },
    {
     "name": "stdout",
     "output_type": "stream",
     "text": [
      "\u001b[1;33m[Open3D WARNING] Read geometry::PointCloud failed: unknown file extension for ../train/Spruce/65_38.txt (format: auto).\u001b[0;m\n",
      "Warning: No points found in file 65_38.txt. Trying NumPy fallback.\n",
      "\u001b[1;33m[Open3D WARNING] Read geometry::PointCloud failed: unknown file extension for ../train/Spruce/65_10.txt (format: auto).\u001b[0;m\n",
      "Warning: No points found in file 65_10.txt. Trying NumPy fallback.\n",
      "\u001b[1;33m[Open3D WARNING] Read geometry::PointCloud failed: unknown file extension for ../train/Spruce/65_9.txt (format: auto).\u001b[0;m\n",
      "Warning: No points found in file 65_9.txt. Trying NumPy fallback.\n",
      "\u001b[1;33m[Open3D WARNING] Read geometry::PointCloud failed: unknown file extension for ../train/Spruce/64_78.txt (format: auto).\u001b[0;m\n",
      "Warning: No points found in file 64_78.txt. Trying NumPy fallback.\n",
      "\u001b[1;33m[Open3D WARNING] Read geometry::PointCloud failed: unknown file extension for ../train/Spruce/64_45.txt (format: auto).\u001b[0;m\n",
      "Warning: No points found in file 64_45.txt. Trying NumPy fallback.\n",
      "\u001b[1;33m[Open3D WARNING] Read geometry::PointCloud failed: unknown file extension for ../train/Spruce/65_8.txt (format: auto).\u001b[0;m\n",
      "Warning: No points found in file 65_8.txt. Trying NumPy fallback.\n"
     ]
    },
    {
     "name": "stderr",
     "output_type": "stream",
     "text": [
      "Extracting FPFH Features:  31%|███       | 173/557 [00:16<00:17, 22.03it/s]"
     ]
    },
    {
     "name": "stdout",
     "output_type": "stream",
     "text": [
      "\u001b[1;33m[Open3D WARNING] Read geometry::PointCloud failed: unknown file extension for ../train/Spruce/35_20.txt (format: auto).\u001b[0;m\n",
      "Warning: No points found in file 35_20.txt. Trying NumPy fallback.\n",
      "\u001b[1;33m[Open3D WARNING] Read geometry::PointCloud failed: unknown file extension for ../train/Spruce/65_11.txt (format: auto).\u001b[0;m\n",
      "Warning: No points found in file 65_11.txt. Trying NumPy fallback.\n",
      "\u001b[1;33m[Open3D WARNING] Read geometry::PointCloud failed: unknown file extension for ../train/Spruce/65_39.txt (format: auto).\u001b[0;m\n",
      "Warning: No points found in file 65_39.txt. Trying NumPy fallback.\n"
     ]
    },
    {
     "name": "stderr",
     "output_type": "stream",
     "text": [
      "Extracting FPFH Features:  32%|███▏      | 180/557 [00:16<00:17, 22.09it/s]"
     ]
    },
    {
     "name": "stdout",
     "output_type": "stream",
     "text": [
      "\u001b[1;33m[Open3D WARNING] Read geometry::PointCloud failed: unknown file extension for ../train/Spruce/65_13.txt (format: auto).\u001b[0;m\n",
      "Warning: No points found in file 65_13.txt. Trying NumPy fallback.\n",
      "\u001b[1;33m[Open3D WARNING] Read geometry::PointCloud failed: unknown file extension for ../train/Spruce/35_22.txt (format: auto).\u001b[0;m\n",
      "Warning: No points found in file 35_22.txt. Trying NumPy fallback.\n",
      "\u001b[1;33m[Open3D WARNING] Read geometry::PointCloud failed: unknown file extension for ../train/Spruce/35_23.txt (format: auto).\u001b[0;m\n",
      "Warning: No points found in file 35_23.txt. Trying NumPy fallback.\n",
      "\u001b[1;33m[Open3D WARNING] Read geometry::PointCloud failed: unknown file extension for ../train/Spruce/65_12.txt (format: auto).\u001b[0;m\n",
      "Warning: No points found in file 65_12.txt. Trying NumPy fallback.\n",
      "\u001b[1;33m[Open3D WARNING] Read geometry::PointCloud failed: unknown file extension for ../train/Spruce/65_16.txt (format: auto).\u001b[0;m\n",
      "Warning: No points found in file 65_16.txt. Trying NumPy fallback.\n"
     ]
    },
    {
     "name": "stderr",
     "output_type": "stream",
     "text": [
      "Extracting FPFH Features:  33%|███▎      | 183/557 [00:16<00:19, 19.44it/s]"
     ]
    },
    {
     "name": "stdout",
     "output_type": "stream",
     "text": [
      "\u001b[1;33m[Open3D WARNING] Read geometry::PointCloud failed: unknown file extension for ../train/Spruce/35_27.txt (format: auto).\u001b[0;m\n",
      "Warning: No points found in file 35_27.txt. Trying NumPy fallback.\n",
      "\u001b[1;33m[Open3D WARNING] Read geometry::PointCloud failed: unknown file extension for ../train/Spruce/35_32.txt (format: auto).\u001b[0;m\n",
      "Warning: No points found in file 35_32.txt. Trying NumPy fallback.\n",
      "\u001b[1;33m[Open3D WARNING] Read geometry::PointCloud failed: unknown file extension for ../train/Spruce/65_17.txt (format: auto).\u001b[0;m\n",
      "Warning: No points found in file 65_17.txt. Trying NumPy fallback.\n"
     ]
    },
    {
     "name": "stderr",
     "output_type": "stream",
     "text": [
      "Extracting FPFH Features:  33%|███▎      | 186/557 [00:16<00:18, 19.55it/s]"
     ]
    },
    {
     "name": "stdout",
     "output_type": "stream",
     "text": [
      "\u001b[1;33m[Open3D WARNING] Read geometry::PointCloud failed: unknown file extension for ../train/Spruce/35_2.txt (format: auto).\u001b[0;m\n",
      "Warning: No points found in file 35_2.txt. Trying NumPy fallback.\n",
      "\u001b[1;33m[Open3D WARNING] Read geometry::PointCloud failed: unknown file extension for ../train/Spruce/35_24.txt (format: auto).\u001b[0;m\n",
      "Warning: No points found in file 35_24.txt. Trying NumPy fallback.\n",
      "\u001b[1;33m[Open3D WARNING] Read geometry::PointCloud failed: unknown file extension for ../train/Spruce/64_68.txt (format: auto).\u001b[0;m\n",
      "Warning: No points found in file 64_68.txt. Trying NumPy fallback.\n",
      "\u001b[1;33m[Open3D WARNING] Read geometry::PointCloud failed: unknown file extension for ../train/Spruce/35_19.txt (format: auto).\u001b[0;m\n",
      "Warning: No points found in file 35_19.txt. Trying NumPy fallback.\n"
     ]
    },
    {
     "name": "stderr",
     "output_type": "stream",
     "text": [
      "Extracting FPFH Features:  35%|███▍      | 194/557 [00:17<00:14, 24.55it/s]"
     ]
    },
    {
     "name": "stdout",
     "output_type": "stream",
     "text": [
      "\u001b[1;33m[Open3D WARNING] Read geometry::PointCloud failed: unknown file extension for ../train/Spruce/35_31.txt (format: auto).\u001b[0;m\n",
      "Warning: No points found in file 35_31.txt. Trying NumPy fallback.\n",
      "\u001b[1;33m[Open3D WARNING] Read geometry::PointCloud failed: unknown file extension for ../train/Spruce/35_25.txt (format: auto).\u001b[0;m\n",
      "Warning: No points found in file 35_25.txt. Trying NumPy fallback.\n",
      "\u001b[1;33m[Open3D WARNING] Read geometry::PointCloud failed: unknown file extension for ../train/Spruce/65_28.txt (format: auto).\u001b[0;m\n",
      "Warning: No points found in file 65_28.txt. Trying NumPy fallback.\n",
      "\u001b[1;33m[Open3D WARNING] Read geometry::PointCloud failed: unknown file extension for ../train/Spruce/64_50_2.txt (format: auto).\u001b[0;m\n",
      "Warning: No points found in file 64_50_2.txt. Trying NumPy fallback.\n",
      "\u001b[1;33m[Open3D WARNING] Read geometry::PointCloud failed: unknown file extension for ../train/Spruce/65_14.txt (format: auto).\u001b[0;m\n",
      "Warning: No points found in file 65_14.txt. Trying NumPy fallback.\n",
      "\u001b[1;33m[Open3D WARNING] Read geometry::PointCloud failed: unknown file extension for ../train/Spruce/34_16.txt (format: auto).\u001b[0;m\n",
      "Warning: No points found in file 34_16.txt. Trying NumPy fallback.\n",
      "\u001b[1;33m[Open3D WARNING] Read geometry::PointCloud failed: unknown file extension for ../train/Spruce/65_67.txt (format: auto).\u001b[0;m\n",
      "Warning: No points found in file 65_67.txt. Trying NumPy fallback.\n",
      "\u001b[1;33m[Open3D WARNING] Read geometry::PointCloud failed: unknown file extension for ../train/Spruce/65_73.txt (format: auto).\u001b[0;m\n",
      "Warning: No points found in file 65_73.txt. Trying NumPy fallback.\n"
     ]
    },
    {
     "name": "stderr",
     "output_type": "stream",
     "text": [
      "Extracting FPFH Features:  36%|███▌      | 200/557 [00:17<00:14, 24.24it/s]"
     ]
    },
    {
     "name": "stdout",
     "output_type": "stream",
     "text": [
      "\u001b[1;33m[Open3D WARNING] Read geometry::PointCloud failed: unknown file extension for ../train/Spruce/35_81.txt (format: auto).\u001b[0;m\n",
      "Warning: No points found in file 35_81.txt. Trying NumPy fallback.\n",
      "\u001b[1;33m[Open3D WARNING] Read geometry::PointCloud failed: unknown file extension for ../train/Spruce/64_26.txt (format: auto).\u001b[0;m\n",
      "Warning: No points found in file 64_26.txt. Trying NumPy fallback.\n",
      "\u001b[1;33m[Open3D WARNING] Read geometry::PointCloud failed: unknown file extension for ../train/Spruce/35_80.txt (format: auto).\u001b[0;m\n",
      "Warning: No points found in file 35_80.txt. Trying NumPy fallback.\n",
      "\u001b[1;33m[Open3D WARNING] Read geometry::PointCloud failed: unknown file extension for ../train/Spruce/65_66.txt (format: auto).\u001b[0;m\n",
      "Warning: No points found in file 65_66.txt. Trying NumPy fallback.\n",
      "\u001b[1;33m[Open3D WARNING] Read geometry::PointCloud failed: unknown file extension for ../train/Spruce/65_70.txt (format: auto).\u001b[0;m\n",
      "Warning: No points found in file 65_70.txt. Trying NumPy fallback.\n"
     ]
    },
    {
     "name": "stderr",
     "output_type": "stream",
     "text": [
      "Extracting FPFH Features:  37%|███▋      | 207/557 [00:17<00:13, 25.66it/s]"
     ]
    },
    {
     "name": "stdout",
     "output_type": "stream",
     "text": [
      "\u001b[1;33m[Open3D WARNING] Read geometry::PointCloud failed: unknown file extension for ../train/Spruce/65_64.txt (format: auto).\u001b[0;m\n",
      "Warning: No points found in file 65_64.txt. Trying NumPy fallback.\n",
      "\u001b[1;33m[Open3D WARNING] Read geometry::PointCloud failed: unknown file extension for ../train/Spruce/35_82.txt (format: auto).\u001b[0;m\n",
      "Warning: No points found in file 35_82.txt. Trying NumPy fallback.\n",
      "\u001b[1;33m[Open3D WARNING] Read geometry::PointCloud failed: unknown file extension for ../train/Spruce/35_69.txt (format: auto).\u001b[0;m\n",
      "Warning: No points found in file 35_69.txt. Trying NumPy fallback.\n",
      "\u001b[1;33m[Open3D WARNING] Read geometry::PointCloud failed: unknown file extension for ../train/Spruce/64_19.txt (format: auto).\u001b[0;m\n",
      "Warning: No points found in file 64_19.txt. Trying NumPy fallback.\n"
     ]
    },
    {
     "name": "stderr",
     "output_type": "stream",
     "text": [
      "Extracting FPFH Features:  38%|███▊      | 210/557 [00:17<00:13, 26.19it/s]"
     ]
    },
    {
     "name": "stdout",
     "output_type": "stream",
     "text": [
      "\u001b[1;33m[Open3D WARNING] Read geometry::PointCloud failed: unknown file extension for ../train/Spruce/35_68.txt (format: auto).\u001b[0;m\n",
      "Warning: No points found in file 35_68.txt. Trying NumPy fallback.\n",
      "\u001b[1;33m[Open3D WARNING] Read geometry::PointCloud failed: unknown file extension for ../train/Spruce/35_83.txt (format: auto).\u001b[0;m\n",
      "Warning: No points found in file 35_83.txt. Trying NumPy fallback.\n",
      "\u001b[1;33m[Open3D WARNING] Read geometry::PointCloud failed: unknown file extension for ../train/Spruce/65_65.txt (format: auto).\u001b[0;m\n",
      "Warning: No points found in file 65_65.txt. Trying NumPy fallback.\n",
      "\u001b[1;33m[Open3D WARNING] Read geometry::PointCloud failed: unknown file extension for ../train/Spruce/65_71.txt (format: auto).\u001b[0;m\n",
      "Warning: No points found in file 65_71.txt. Trying NumPy fallback.\n",
      "\u001b[1;33m[Open3D WARNING] Read geometry::PointCloud failed: unknown file extension for ../train/Spruce/65_59.txt (format: auto).\u001b[0;m\n",
      "Warning: No points found in file 65_59.txt. Trying NumPy fallback.\n"
     ]
    },
    {
     "name": "stderr",
     "output_type": "stream",
     "text": [
      "Extracting FPFH Features:  39%|███▉      | 217/557 [00:17<00:13, 24.86it/s]"
     ]
    },
    {
     "name": "stdout",
     "output_type": "stream",
     "text": [
      "\u001b[1;33m[Open3D WARNING] Read geometry::PointCloud failed: unknown file extension for ../train/Spruce/34_10.txt (format: auto).\u001b[0;m\n",
      "Warning: No points found in file 34_10.txt. Trying NumPy fallback.\n",
      "\u001b[1;33m[Open3D WARNING] Read geometry::PointCloud failed: unknown file extension for ../train/Spruce/65_75.txt (format: auto).\u001b[0;m\n",
      "Warning: No points found in file 65_75.txt. Trying NumPy fallback.\n",
      "\u001b[1;33m[Open3D WARNING] Read geometry::PointCloud failed: unknown file extension for ../train/Spruce/65_61.txt (format: auto).\u001b[0;m\n",
      "Warning: No points found in file 65_61.txt. Trying NumPy fallback.\n",
      "\u001b[1;33m[Open3D WARNING] Read geometry::PointCloud failed: unknown file extension for ../train/Spruce/65_49.txt (format: auto).\u001b[0;m\n",
      "Warning: No points found in file 65_49.txt. Trying NumPy fallback.\n",
      "\u001b[1;33m[Open3D WARNING] Read geometry::PointCloud failed: unknown file extension for ../train/Spruce/35_93.txt (format: auto).\u001b[0;m\n",
      "Warning: No points found in file 35_93.txt. Trying NumPy fallback.\n",
      "\u001b[1;33m[Open3D WARNING] Read geometry::PointCloud failed: unknown file extension for ../train/Spruce/35_78.txt (format: auto).\u001b[0;m\n",
      "Warning: No points found in file 35_78.txt. Trying NumPy fallback.\n",
      "\u001b[1;33m[Open3D WARNING] Read geometry::PointCloud failed: unknown file extension for ../train/Spruce/35_79.txt (format: auto).\u001b[0;m\n",
      "Warning: No points found in file 35_79.txt. Trying NumPy fallback.\n",
      "\u001b[1;33m[Open3D WARNING] Read geometry::PointCloud failed: unknown file extension for ../train/Spruce/35_51.txt (format: auto).\u001b[0;m\n",
      "Warning: No points found in file 35_51.txt. Trying NumPy fallback.\n"
     ]
    },
    {
     "name": "stderr",
     "output_type": "stream",
     "text": [
      "Extracting FPFH Features:  41%|████      | 226/557 [00:18<00:11, 28.08it/s]"
     ]
    },
    {
     "name": "stdout",
     "output_type": "stream",
     "text": [
      "\u001b[1;33m[Open3D WARNING] Read geometry::PointCloud failed: unknown file extension for ../train/Spruce/65_60.txt (format: auto).\u001b[0;m\n",
      "Warning: No points found in file 65_60.txt. Trying NumPy fallback.\n",
      "\u001b[1;33m[Open3D WARNING] Read geometry::PointCloud failed: unknown file extension for ../train/Spruce/65_89.txt (format: auto).\u001b[0;m\n",
      "Warning: No points found in file 65_89.txt. Trying NumPy fallback.\n",
      "\u001b[1;33m[Open3D WARNING] Read geometry::PointCloud failed: unknown file extension for ../train/Spruce/65_62.txt (format: auto).\u001b[0;m\n",
      "Warning: No points found in file 65_62.txt. Trying NumPy fallback.\n",
      "\u001b[1;33m[Open3D WARNING] Read geometry::PointCloud failed: unknown file extension for ../train/Spruce/35_90.txt (format: auto).\u001b[0;m\n",
      "Warning: No points found in file 35_90.txt. Trying NumPy fallback.\n",
      "\u001b[1;33m[Open3D WARNING] Read geometry::PointCloud failed: unknown file extension for ../train/Spruce/65_77.txt (format: auto).\u001b[0;m\n",
      "Warning: No points found in file 65_77.txt. Trying NumPy fallback.\n",
      "\u001b[1;33m[Open3D WARNING] Read geometry::PointCloud failed: unknown file extension for ../train/Spruce/65_63.txt (format: auto).\u001b[0;m\n",
      "Warning: No points found in file 65_63.txt. Trying NumPy fallback.\n"
     ]
    },
    {
     "name": "stderr",
     "output_type": "stream",
     "text": [
      "Extracting FPFH Features:  41%|████      | 229/557 [00:18<00:13, 25.01it/s]"
     ]
    },
    {
     "name": "stdout",
     "output_type": "stream",
     "text": [
      "\u001b[1;33m[Open3D WARNING] Read geometry::PointCloud failed: unknown file extension for ../train/Spruce/65_88.txt (format: auto).\u001b[0;m\n",
      "Warning: No points found in file 65_88.txt. Trying NumPy fallback.\n",
      "\u001b[1;33m[Open3D WARNING] Read geometry::PointCloud failed: unknown file extension for ../train/Spruce/34_23.txt (format: auto).\u001b[0;m\n",
      "Warning: No points found in file 34_23.txt. Trying NumPy fallback.\n",
      "\u001b[1;33m[Open3D WARNING] Read geometry::PointCloud failed: unknown file extension for ../train/Spruce/65_85.txt (format: auto).\u001b[0;m\n",
      "Warning: No points found in file 65_85.txt. Trying NumPy fallback.\n",
      "\u001b[1;33m[Open3D WARNING] Read geometry::PointCloud failed: unknown file extension for ../train/Spruce/65_46.txt (format: auto).\u001b[0;m\n",
      "Warning: No points found in file 65_46.txt. Trying NumPy fallback.\n",
      "\u001b[1;33m[Open3D WARNING] Read geometry::PointCloud failed: unknown file extension for ../train/Spruce/65_52.txt (format: auto).\u001b[0;m\n",
      "Warning: No points found in file 65_52.txt. Trying NumPy fallback.\n"
     ]
    },
    {
     "name": "stderr",
     "output_type": "stream",
     "text": [
      "Extracting FPFH Features:  42%|████▏     | 236/557 [00:18<00:11, 28.16it/s]"
     ]
    },
    {
     "name": "stdout",
     "output_type": "stream",
     "text": [
      "\u001b[1;33m[Open3D WARNING] Read geometry::PointCloud failed: unknown file extension for ../train/Spruce/35_88.txt (format: auto).\u001b[0;m\n",
      "Warning: No points found in file 35_88.txt. Trying NumPy fallback.\n",
      "\u001b[1;33m[Open3D WARNING] Read geometry::PointCloud failed: unknown file extension for ../train/Spruce/35_77.txt (format: auto).\u001b[0;m\n",
      "Warning: No points found in file 35_77.txt. Trying NumPy fallback.\n",
      "\u001b[1;33m[Open3D WARNING] Read geometry::PointCloud failed: unknown file extension for ../train/Spruce/35_76.txt (format: auto).\u001b[0;m\n",
      "Warning: No points found in file 35_76.txt. Trying NumPy fallback.\n",
      "\u001b[1;33m[Open3D WARNING] Read geometry::PointCloud failed: unknown file extension for ../train/Spruce/35_62.txt (format: auto).\u001b[0;m\n",
      "Warning: No points found in file 35_62.txt. Trying NumPy fallback.\n",
      "\u001b[1;33m[Open3D WARNING] Read geometry::PointCloud failed: unknown file extension for ../train/Spruce/35_89.txt (format: auto).\u001b[0;m\n",
      "Warning: No points found in file 35_89.txt. Trying NumPy fallback.\n",
      "\u001b[1;33m[Open3D WARNING] Read geometry::PointCloud failed: unknown file extension for ../train/Spruce/65_84.txt (format: auto).\u001b[0;m\n",
      "Warning: No points found in file 65_84.txt. Trying NumPy fallback.\n",
      "\u001b[1;33m[Open3D WARNING] Read geometry::PointCloud failed: unknown file extension for ../train/Spruce/65_86.txt (format: auto).\u001b[0;m\n",
      "Warning: No points found in file 65_86.txt. Trying NumPy fallback.\n",
      "\u001b[1;33m[Open3D WARNING] Read geometry::PointCloud failed: unknown file extension for ../train/Spruce/65_45.txt (format: auto).\u001b[0;m\n",
      "Warning: No points found in file 65_45.txt. Trying NumPy fallback.\n"
     ]
    },
    {
     "name": "stderr",
     "output_type": "stream",
     "text": [
      "Extracting FPFH Features:  44%|████▍     | 244/557 [00:18<00:09, 31.40it/s]"
     ]
    },
    {
     "name": "stdout",
     "output_type": "stream",
     "text": [
      "\u001b[1;33m[Open3D WARNING] Read geometry::PointCloud failed: unknown file extension for ../train/Spruce/35_48.txt (format: auto).\u001b[0;m\n",
      "Warning: No points found in file 35_48.txt. Trying NumPy fallback.\n",
      "\u001b[1;33m[Open3D WARNING] Read geometry::PointCloud failed: unknown file extension for ../train/Spruce/35_60.txt (format: auto).\u001b[0;m\n",
      "Warning: No points found in file 35_60.txt. Trying NumPy fallback.\n",
      "\u001b[1;33m[Open3D WARNING] Read geometry::PointCloud failed: unknown file extension for ../train/Spruce/35_61.txt (format: auto).\u001b[0;m\n",
      "Warning: No points found in file 35_61.txt. Trying NumPy fallback.\n",
      "\u001b[1;33m[Open3D WARNING] Read geometry::PointCloud failed: unknown file extension for ../train/Spruce/65_44.txt (format: auto).\u001b[0;m\n",
      "Warning: No points found in file 65_44.txt. Trying NumPy fallback.\n",
      "\u001b[1;33m[Open3D WARNING] Read geometry::PointCloud failed: unknown file extension for ../train/Spruce/65_50.txt (format: auto).\u001b[0;m\n",
      "Warning: No points found in file 65_50.txt. Trying NumPy fallback.\n",
      "\u001b[1;33m[Open3D WARNING] Read geometry::PointCloud failed: unknown file extension for ../train/Spruce/65_78.txt (format: auto).\u001b[0;m\n",
      "Warning: No points found in file 65_78.txt. Trying NumPy fallback.\n"
     ]
    },
    {
     "name": "stderr",
     "output_type": "stream",
     "text": [
      "Extracting FPFH Features:  45%|████▌     | 251/557 [00:19<00:15, 20.01it/s]"
     ]
    },
    {
     "name": "stdout",
     "output_type": "stream",
     "text": [
      "\u001b[1;33m[Open3D WARNING] Read geometry::PointCloud failed: unknown file extension for ../train/Spruce/34_25.txt (format: auto).\u001b[0;m\n",
      "Warning: No points found in file 34_25.txt. Trying NumPy fallback.\n",
      "\u001b[1;33m[Open3D WARNING] Read geometry::PointCloud failed: unknown file extension for ../train/Spruce/65_83.txt (format: auto).\u001b[0;m\n",
      "Warning: No points found in file 65_83.txt. Trying NumPy fallback.\n",
      "\u001b[1;33m[Open3D WARNING] Read geometry::PointCloud failed: unknown file extension for ../train/Spruce/65_40.txt (format: auto).\u001b[0;m\n",
      "Warning: No points found in file 65_40.txt. Trying NumPy fallback.\n",
      "\u001b[1;33m[Open3D WARNING] Read geometry::PointCloud failed: unknown file extension for ../train/Spruce/65_68.txt (format: auto).\u001b[0;m\n",
      "Warning: No points found in file 65_68.txt. Trying NumPy fallback.\n"
     ]
    },
    {
     "name": "stderr",
     "output_type": "stream",
     "text": [
      "Extracting FPFH Features:  46%|████▌     | 257/557 [00:19<00:13, 22.52it/s]"
     ]
    },
    {
     "name": "stdout",
     "output_type": "stream",
     "text": [
      "\u001b[1;33m[Open3D WARNING] Read geometry::PointCloud failed: unknown file extension for ../train/Spruce/35_71.txt (format: auto).\u001b[0;m\n",
      "Warning: No points found in file 35_71.txt. Trying NumPy fallback.\n",
      "\u001b[1;33m[Open3D WARNING] Read geometry::PointCloud failed: unknown file extension for ../train/Spruce/34_9.txt (format: auto).\u001b[0;m\n",
      "Warning: No points found in file 34_9.txt. Trying NumPy fallback.\n",
      "\u001b[1;33m[Open3D WARNING] Read geometry::PointCloud failed: unknown file extension for ../train/Spruce/64_14.txt (format: auto).\u001b[0;m\n",
      "Warning: No points found in file 64_14.txt. Trying NumPy fallback.\n",
      "\u001b[1;33m[Open3D WARNING] Read geometry::PointCloud failed: unknown file extension for ../train/Spruce/65_69.txt (format: auto).\u001b[0;m\n",
      "Warning: No points found in file 65_69.txt. Trying NumPy fallback.\n",
      "\u001b[1;33m[Open3D WARNING] Read geometry::PointCloud failed: unknown file extension for ../train/Spruce/65_55.txt (format: auto).\u001b[0;m\n",
      "Warning: No points found in file 65_55.txt. Trying NumPy fallback.\n"
     ]
    },
    {
     "name": "stderr",
     "output_type": "stream",
     "text": [
      "Extracting FPFH Features:  47%|████▋     | 260/557 [00:19<00:13, 21.45it/s]"
     ]
    },
    {
     "name": "stdout",
     "output_type": "stream",
     "text": [
      "\u001b[1;33m[Open3D WARNING] Read geometry::PointCloud failed: unknown file extension for ../train/Spruce/65_82.txt (format: auto).\u001b[0;m\n",
      "Warning: No points found in file 65_82.txt. Trying NumPy fallback.\n",
      "\u001b[1;33m[Open3D WARNING] Read geometry::PointCloud failed: unknown file extension for ../train/Spruce/34_24.txt (format: auto).\u001b[0;m\n",
      "Warning: No points found in file 34_24.txt. Trying NumPy fallback.\n",
      "\u001b[1;33m[Open3D WARNING] Read geometry::PointCloud failed: unknown file extension for ../train/Spruce/64_6.txt (format: auto).\u001b[0;m\n",
      "Warning: No points found in file 64_6.txt. Trying NumPy fallback.\n",
      "\u001b[1;33m[Open3D WARNING] Read geometry::PointCloud failed: unknown file extension for ../train/Spruce/34_26.txt (format: auto).\u001b[0;m\n",
      "Warning: No points found in file 34_26.txt. Trying NumPy fallback.\n",
      "\u001b[1;33m[Open3D WARNING] Read geometry::PointCloud failed: unknown file extension for ../train/Spruce/65_80.txt (format: auto).\u001b[0;m\n",
      "Warning: No points found in file 65_80.txt. Trying NumPy fallback.\n"
     ]
    },
    {
     "name": "stderr",
     "output_type": "stream",
     "text": [
      "Extracting FPFH Features:  48%|████▊     | 267/557 [00:20<00:12, 23.38it/s]"
     ]
    },
    {
     "name": "stdout",
     "output_type": "stream",
     "text": [
      "\u001b[1;33m[Open3D WARNING] Read geometry::PointCloud failed: unknown file extension for ../train/Spruce/35_72.txt (format: auto).\u001b[0;m\n",
      "Warning: No points found in file 35_72.txt. Trying NumPy fallback.\n",
      "\u001b[1;33m[Open3D WARNING] Read geometry::PointCloud failed: unknown file extension for ../train/Spruce/64_16.txt (format: auto).\u001b[0;m\n",
      "Warning: No points found in file 64_16.txt. Trying NumPy fallback.\n",
      "\u001b[1;33m[Open3D WARNING] Read geometry::PointCloud failed: unknown file extension for ../train/Spruce/35_73.txt (format: auto).\u001b[0;m\n",
      "Warning: No points found in file 35_73.txt. Trying NumPy fallback.\n",
      "\u001b[1;33m[Open3D WARNING] Read geometry::PointCloud failed: unknown file extension for ../train/Spruce/65_56.txt (format: auto).\u001b[0;m\n",
      "Warning: No points found in file 65_56.txt. Trying NumPy fallback.\n",
      "\u001b[1;33m[Open3D WARNING] Read geometry::PointCloud failed: unknown file extension for ../train/Spruce/65_42.txt (format: auto).\u001b[0;m\n",
      "Warning: No points found in file 65_42.txt. Trying NumPy fallback.\n",
      "\u001b[1;33m[Open3D WARNING] Read geometry::PointCloud failed: unknown file extension for ../train/Spruce/65_81.txt (format: auto).\u001b[0;m\n",
      "Warning: No points found in file 65_81.txt. Trying NumPy fallback.\n"
     ]
    },
    {
     "name": "stderr",
     "output_type": "stream",
     "text": [
      "Extracting FPFH Features:  49%|████▉     | 273/557 [00:20<00:12, 22.66it/s]"
     ]
    },
    {
     "name": "stdout",
     "output_type": "stream",
     "text": [
      "\u001b[1;33m[Open3D WARNING] Read geometry::PointCloud failed: unknown file extension for ../train/Spruce/64_7.txt (format: auto).\u001b[0;m\n",
      "Warning: No points found in file 64_7.txt. Trying NumPy fallback.\n",
      "\u001b[1;33m[Open3D WARNING] Read geometry::PointCloud failed: unknown file extension for ../train/Spruce/65_25.txt (format: auto).\u001b[0;m\n",
      "Warning: No points found in file 65_25.txt. Trying NumPy fallback.\n",
      "\u001b[1;33m[Open3D WARNING] Read geometry::PointCloud failed: unknown file extension for ../train/Spruce/33_62.txt (format: auto).\u001b[0;m\n",
      "Warning: No points found in file 33_62.txt. Trying NumPy fallback.\n",
      "\u001b[1;33m[Open3D WARNING] Read geometry::PointCloud failed: unknown file extension for ../train/Spruce/65_32.txt (format: auto).\u001b[0;m\n",
      "Warning: No points found in file 65_32.txt. Trying NumPy fallback.\n",
      "\u001b[1;33m[Open3D WARNING] Read geometry::PointCloud failed: unknown file extension for ../train/Spruce/65_26.txt (format: auto).\u001b[0;m\n",
      "Warning: No points found in file 65_26.txt. Trying NumPy fallback.\n"
     ]
    },
    {
     "name": "stderr",
     "output_type": "stream",
     "text": [
      "Extracting FPFH Features:  50%|█████     | 279/557 [00:20<00:11, 24.56it/s]"
     ]
    },
    {
     "name": "stdout",
     "output_type": "stream",
     "text": [
      "\u001b[1;33m[Open3D WARNING] Read geometry::PointCloud failed: unknown file extension for ../train/Spruce/65_3.txt (format: auto).\u001b[0;m\n",
      "Warning: No points found in file 65_3.txt. Trying NumPy fallback.\n",
      "\u001b[1;33m[Open3D WARNING] Read geometry::PointCloud failed: unknown file extension for ../train/Spruce/64_67.txt (format: auto).\u001b[0;m\n",
      "Warning: No points found in file 64_67.txt. Trying NumPy fallback.\n",
      "\u001b[1;33m[Open3D WARNING] Read geometry::PointCloud failed: unknown file extension for ../train/Spruce/65_2.txt (format: auto).\u001b[0;m\n",
      "Warning: No points found in file 65_2.txt. Trying NumPy fallback.\n",
      "\u001b[1;33m[Open3D WARNING] Read geometry::PointCloud failed: unknown file extension for ../train/Spruce/65_27.txt (format: auto).\u001b[0;m\n",
      "Warning: No points found in file 65_27.txt. Trying NumPy fallback.\n",
      "\u001b[1;33m[Open3D WARNING] Read geometry::PointCloud failed: unknown file extension for ../train/Spruce/65_33.txt (format: auto).\u001b[0;m\n",
      "Warning: No points found in file 65_33.txt. Trying NumPy fallback.\n",
      "\u001b[1;33m[Open3D WARNING] Read geometry::PointCloud failed: unknown file extension for ../train/Spruce/35_125.txt (format: auto).\u001b[0;m\n",
      "Warning: No points found in file 35_125.txt. Trying NumPy fallback.\n"
     ]
    },
    {
     "name": "stderr",
     "output_type": "stream",
     "text": [
      "Extracting FPFH Features:  51%|█████     | 282/557 [00:20<00:11, 24.40it/s]"
     ]
    },
    {
     "name": "stdout",
     "output_type": "stream",
     "text": [
      "\u001b[1;33m[Open3D WARNING] Read geometry::PointCloud failed: unknown file extension for ../train/Spruce/34_46.txt (format: auto).\u001b[0;m\n",
      "Warning: No points found in file 34_46.txt. Trying NumPy fallback.\n",
      "\u001b[1;33m[Open3D WARNING] Read geometry::PointCloud failed: unknown file extension for ../train/Spruce/65_23.txt (format: auto).\u001b[0;m\n",
      "Warning: No points found in file 65_23.txt. Trying NumPy fallback.\n",
      "\u001b[1;33m[Open3D WARNING] Read geometry::PointCloud failed: unknown file extension for ../train/Spruce/35_12.txt (format: auto).\u001b[0;m\n",
      "Warning: No points found in file 35_12.txt. Trying NumPy fallback.\n"
     ]
    },
    {
     "name": "stderr",
     "output_type": "stream",
     "text": [
      "Extracting FPFH Features:  52%|█████▏    | 288/557 [00:21<00:13, 20.03it/s]"
     ]
    },
    {
     "name": "stdout",
     "output_type": "stream",
     "text": [
      "\u001b[1;33m[Open3D WARNING] Read geometry::PointCloud failed: unknown file extension for ../train/Spruce/65_22.txt (format: auto).\u001b[0;m\n",
      "Warning: No points found in file 65_22.txt. Trying NumPy fallback.\n",
      "\u001b[1;33m[Open3D WARNING] Read geometry::PointCloud failed: unknown file extension for ../train/Spruce/65_36.txt (format: auto).\u001b[0;m\n",
      "Warning: No points found in file 65_36.txt. Trying NumPy fallback.\n",
      "\u001b[1;33m[Open3D WARNING] Read geometry::PointCloud failed: unknown file extension for ../train/Spruce/65_34.txt (format: auto).\u001b[0;m\n",
      "Warning: No points found in file 65_34.txt. Trying NumPy fallback.\n",
      "\u001b[1;33m[Open3D WARNING] Read geometry::PointCloud failed: unknown file extension for ../train/Spruce/65_5.txt (format: auto).\u001b[0;m\n",
      "Warning: No points found in file 65_5.txt. Trying NumPy fallback.\n",
      "\u001b[1;33m[Open3D WARNING] Read geometry::PointCloud failed: unknown file extension for ../train/Spruce/64_49.txt (format: auto).\u001b[0;m\n",
      "Warning: No points found in file 64_49.txt. Trying NumPy fallback.\n"
     ]
    },
    {
     "name": "stderr",
     "output_type": "stream",
     "text": [
      "Extracting FPFH Features:  52%|█████▏    | 291/557 [00:21<00:15, 17.51it/s]"
     ]
    },
    {
     "name": "stdout",
     "output_type": "stream",
     "text": [
      "\u001b[1;33m[Open3D WARNING] Read geometry::PointCloud failed: unknown file extension for ../train/Spruce/65_4.txt (format: auto).\u001b[0;m\n",
      "Warning: No points found in file 65_4.txt. Trying NumPy fallback.\n",
      "\u001b[1;33m[Open3D WARNING] Read geometry::PointCloud failed: unknown file extension for ../train/Spruce/35_10.txt (format: auto).\u001b[0;m\n",
      "Warning: No points found in file 35_10.txt. Trying NumPy fallback.\n"
     ]
    },
    {
     "name": "stderr",
     "output_type": "stream",
     "text": [
      "Extracting FPFH Features:  53%|█████▎    | 294/557 [00:21<00:19, 13.67it/s]"
     ]
    },
    {
     "name": "stdout",
     "output_type": "stream",
     "text": [
      "\u001b[1;33m[Open3D WARNING] Read geometry::PointCloud failed: unknown file extension for ../train/Pine/17.txt (format: auto).\u001b[0;m\n",
      "Warning: No points found in file 17.txt. Trying NumPy fallback.\n",
      "\u001b[1;33m[Open3D WARNING] Read geometry::PointCloud failed: unknown file extension for ../train/Pine/13.txt (format: auto).\u001b[0;m\n",
      "Warning: No points found in file 13.txt. Trying NumPy fallback.\n"
     ]
    },
    {
     "name": "stderr",
     "output_type": "stream",
     "text": [
      "Extracting FPFH Features:  54%|█████▍    | 303/557 [00:22<00:21, 11.95it/s]"
     ]
    },
    {
     "name": "stdout",
     "output_type": "stream",
     "text": [
      "\u001b[1;33m[Open3D WARNING] Read geometry::PointCloud failed: unknown file extension for ../train/Pine/9.txt (format: auto).\u001b[0;m\n",
      "Warning: No points found in file 9.txt. Trying NumPy fallback.\n"
     ]
    },
    {
     "name": "stderr",
     "output_type": "stream",
     "text": [
      "Extracting FPFH Features:  55%|█████▍    | 305/557 [00:22<00:22, 11.30it/s]"
     ]
    },
    {
     "name": "stdout",
     "output_type": "stream",
     "text": [
      "\u001b[1;33m[Open3D WARNING] Read geometry::PointCloud failed: unknown file extension for ../train/Pine/65_53.txt (format: auto).\u001b[0;m\n",
      "Warning: No points found in file 65_53.txt. Trying NumPy fallback.\n",
      "\u001b[1;33m[Open3D WARNING] Read geometry::PointCloud failed: unknown file extension for ../train/Pine/65_57.txt (format: auto).\u001b[0;m\n",
      "Warning: No points found in file 65_57.txt. Trying NumPy fallback.\n",
      "\u001b[1;33m[Open3D WARNING] Read geometry::PointCloud failed: unknown file extension for ../train/Pine/1.txt (format: auto).\u001b[0;m\n",
      "Warning: No points found in file 1.txt. Trying NumPy fallback.\n"
     ]
    },
    {
     "name": "stderr",
     "output_type": "stream",
     "text": [
      "Extracting FPFH Features:  56%|█████▌    | 311/557 [00:23<00:19, 12.44it/s]"
     ]
    },
    {
     "name": "stdout",
     "output_type": "stream",
     "text": [
      "\u001b[1;33m[Open3D WARNING] Read geometry::PointCloud failed: unknown file extension for ../train/Pine/65_7.txt (format: auto).\u001b[0;m\n",
      "Warning: No points found in file 65_7.txt. Trying NumPy fallback.\n",
      "\u001b[1;33m[Open3D WARNING] Read geometry::PointCloud failed: unknown file extension for ../train/Pine/25.txt (format: auto).\u001b[0;m\n",
      "Warning: No points found in file 25.txt. Trying NumPy fallback.\n"
     ]
    },
    {
     "name": "stderr",
     "output_type": "stream",
     "text": [
      "Extracting FPFH Features:  57%|█████▋    | 319/557 [00:23<00:10, 22.22it/s]"
     ]
    },
    {
     "name": "stdout",
     "output_type": "stream",
     "text": [
      "\u001b[1;33m[Open3D WARNING] Read PTS failed with exception: vector\u001b[0;m\n",
      "Warning: No points found in file 45.pts. Trying NumPy fallback.\n"
     ]
    },
    {
     "name": "stderr",
     "output_type": "stream",
     "text": [
      "Extracting FPFH Features:  58%|█████▊    | 325/557 [00:23<00:11, 19.82it/s]"
     ]
    },
    {
     "name": "stdout",
     "output_type": "stream",
     "text": [
      "\u001b[1;33m[Open3D WARNING] Read PTS failed with exception: vector\u001b[0;m\n",
      "Warning: No points found in file 22.pts. Trying NumPy fallback.\n",
      "\u001b[1;33m[Open3D WARNING] Read PTS failed with exception: vector\u001b[0;m\n",
      "Warning: No points found in file 264.pts. Trying NumPy fallback.\n"
     ]
    },
    {
     "name": "stderr",
     "output_type": "stream",
     "text": [
      "Extracting FPFH Features:  62%|██████▏   | 344/557 [00:23<00:05, 37.36it/s]"
     ]
    },
    {
     "name": "stdout",
     "output_type": "stream",
     "text": [
      "\u001b[1;33m[Open3D WARNING] Read geometry::PointCloud failed: unknown file extension for ../train/Red Oak/Baum1_66 nrwl33- Cloud.txt (format: auto).\u001b[0;m\n",
      "Warning: No points found in file Baum1_66 nrwl33- Cloud.txt. Trying NumPy fallback.\n",
      "\u001b[1;33m[Open3D WARNING] Read geometry::PointCloud failed: unknown file extension for ../train/Red Oak/Baum0_188 nrwl33- Cloud.txt (format: auto).\u001b[0;m\n",
      "Warning: No points found in file Baum0_188 nrwl33- Cloud.txt. Trying NumPy fallback.\n",
      "\u001b[1;33m[Open3D WARNING] Read geometry::PointCloud failed: unknown file extension for ../train/Red Oak/Baum5_350 nrwl33- Cloud.txt (format: auto).\u001b[0;m\n",
      "Warning: No points found in file Baum5_350 nrwl33- Cloud.txt. Trying NumPy fallback.\n"
     ]
    },
    {
     "name": "stderr",
     "output_type": "stream",
     "text": [
      "Extracting FPFH Features:  63%|██████▎   | 349/557 [00:24<00:08, 23.51it/s]"
     ]
    },
    {
     "name": "stdout",
     "output_type": "stream",
     "text": [
      "\u001b[1;33m[Open3D WARNING] Read geometry::PointCloud failed: unknown file extension for ../train/Red Oak/Baum8_335 brb_psnord- Cloud.txt (format: auto).\u001b[0;m\n",
      "Warning: No points found in file Baum8_335 brb_psnord- Cloud.txt. Trying NumPy fallback.\n",
      "\u001b[1;33m[Open3D WARNING] Read geometry::PointCloud failed: unknown file extension for ../train/Red Oak/Baum5_649 thu_jena- Cloud.txt (format: auto).\u001b[0;m\n",
      "Warning: No points found in file Baum5_649 thu_jena- Cloud.txt. Trying NumPy fallback.\n",
      "\u001b[1;33m[Open3D WARNING] Read geometry::PointCloud failed: unknown file extension for ../train/Red Oak/Baum0_285 brb_pssüd- Cloud.txt (format: auto).\u001b[0;m\n",
      "Warning: No points found in file Baum0_285 brb_pssüd- Cloud.txt. Trying NumPy fallback.\n",
      "\u001b[1;33m[Open3D WARNING] Read geometry::PointCloud failed: unknown file extension for ../train/Red Oak/Baum3 nds_da - Cloud.txt (format: auto).\u001b[0;m\n",
      "Warning: No points found in file Baum3 nds_da - Cloud.txt. Trying NumPy fallback.\n",
      "\u001b[1;33m[Open3D WARNING] Read geometry::PointCloud failed: unknown file extension for ../train/Red Oak/Baum2_312 brb_psnord - Cloud.txt (format: auto).\u001b[0;m\n",
      "Warning: No points found in file Baum2_312 brb_psnord - Cloud.txt. Trying NumPy fallback.\n",
      "\u001b[1;33m[Open3D WARNING] Read geometry::PointCloud failed: unknown file extension for ../train/Red Oak/Baum2_128 bwb4 - Cloud.txt (format: auto).\u001b[0;m\n",
      "Warning: No points found in file Baum2_128 bwb4 - Cloud.txt. Trying NumPy fallback.\n"
     ]
    },
    {
     "name": "stderr",
     "output_type": "stream",
     "text": [
      "Extracting FPFH Features:  63%|██████▎   | 353/557 [00:24<00:10, 18.68it/s]"
     ]
    },
    {
     "name": "stdout",
     "output_type": "stream",
     "text": [
      "\u001b[1;33m[Open3D WARNING] Read geometry::PointCloud failed: unknown file extension for ../train/Red Oak/Baum3_311 nrwl30- Cloud.txt (format: auto).\u001b[0;m\n",
      "Warning: No points found in file Baum3_311 nrwl30- Cloud.txt. Trying NumPy fallback.\n",
      "\u001b[1;33m[Open3D WARNING] Read geometry::PointCloud failed: unknown file extension for ../train/Red Oak/Baum3_355 brb_pssüd- Cloud.txt (format: auto).\u001b[0;m\n",
      "Warning: No points found in file Baum3_355 brb_pssüd- Cloud.txt. Trying NumPy fallback.\n",
      "\u001b[1;33m[Open3D WARNING] Read geometry::PointCloud failed: unknown file extension for ../train/Red Oak/Baum4_404 thu_neust- Cloud.txt (format: auto).\u001b[0;m\n",
      "Warning: No points found in file Baum4_404 thu_neust- Cloud.txt. Trying NumPy fallback.\n"
     ]
    },
    {
     "name": "stderr",
     "output_type": "stream",
     "text": [
      "Extracting FPFH Features:  64%|██████▍   | 356/557 [00:24<00:12, 16.53it/s]"
     ]
    },
    {
     "name": "stdout",
     "output_type": "stream",
     "text": [
      "\u001b[1;33m[Open3D WARNING] Read geometry::PointCloud failed: unknown file extension for ../train/Red Oak/Baum6_382 bwb2 - Cloud.txt (format: auto).\u001b[0;m\n",
      "Warning: No points found in file Baum6_382 bwb2 - Cloud.txt. Trying NumPy fallback.\n",
      "\u001b[1;33m[Open3D WARNING] Read geometry::PointCloud failed: unknown file extension for ../train/Red Oak/Baum8_115 nrwl33 - Cloud.txt (format: auto).\u001b[0;m\n",
      "Warning: No points found in file Baum8_115 nrwl33 - Cloud.txt. Trying NumPy fallback.\n",
      "\u001b[1;33m[Open3D WARNING] Read geometry::PointCloud failed: unknown file extension for ../train/Red Oak/Baum0 nds_da - Cloud.txt (format: auto).\u001b[0;m\n",
      "Warning: No points found in file Baum0 nds_da - Cloud.txt. Trying NumPy fallback.\n"
     ]
    },
    {
     "name": "stderr",
     "output_type": "stream",
     "text": [
      "Extracting FPFH Features:  64%|██████▍   | 359/557 [00:25<00:13, 14.58it/s]"
     ]
    },
    {
     "name": "stdout",
     "output_type": "stream",
     "text": [
      "\u001b[1;33m[Open3D WARNING] Read geometry::PointCloud failed: unknown file extension for ../train/Red Oak/Baum0_506 bwb4 - Cloud.txt (format: auto).\u001b[0;m\n",
      "Warning: No points found in file Baum0_506 bwb4 - Cloud.txt. Trying NumPy fallback.\n",
      "\u001b[1;33m[Open3D WARNING] Read geometry::PointCloud failed: unknown file extension for ../train/Red Oak/Baum4_277 brb_psnord- Cloud.txt (format: auto).\u001b[0;m\n",
      "Warning: No points found in file Baum4_277 brb_psnord- Cloud.txt. Trying NumPy fallback.\n"
     ]
    },
    {
     "name": "stderr",
     "output_type": "stream",
     "text": [
      "Extracting FPFH Features:  65%|██████▍   | 361/557 [00:25<00:14, 13.27it/s]"
     ]
    },
    {
     "name": "stdout",
     "output_type": "stream",
     "text": [
      "\u001b[1;33m[Open3D WARNING] Read geometry::PointCloud failed: unknown file extension for ../train/Red Oak/Baum6 nds_da - Cloud.txt (format: auto).\u001b[0;m\n",
      "Warning: No points found in file Baum6 nds_da - Cloud.txt. Trying NumPy fallback.\n",
      "\u001b[1;33m[Open3D WARNING] Read geometry::PointCloud failed: unknown file extension for ../train/Red Oak/Baum6_178 nrwl30- Cloud.txt (format: auto).\u001b[0;m\n",
      "Warning: No points found in file Baum6_178 nrwl30- Cloud.txt. Trying NumPy fallback.\n"
     ]
    },
    {
     "name": "stderr",
     "output_type": "stream",
     "text": [
      "Extracting FPFH Features:  66%|██████▌   | 365/557 [00:25<00:15, 12.79it/s]"
     ]
    },
    {
     "name": "stdout",
     "output_type": "stream",
     "text": [
      "\u001b[1;33m[Open3D WARNING] Read geometry::PointCloud failed: unknown file extension for ../train/Red Oak/Baum8_437 bwb4 - Cloud.txt (format: auto).\u001b[0;m\n",
      "Warning: No points found in file Baum8_437 bwb4 - Cloud.txt. Trying NumPy fallback.\n",
      "\u001b[1;33m[Open3D WARNING] Read geometry::PointCloud failed: unknown file extension for ../train/Red Oak/Baum1_175 bwb4 - Cloud.txt (format: auto).\u001b[0;m\n",
      "Warning: No points found in file Baum1_175 bwb4 - Cloud.txt. Trying NumPy fallback.\n",
      "\u001b[1;33m[Open3D WARNING] Read geometry::PointCloud failed: unknown file extension for ../train/Red Oak/Baum5_485 nds_ro- Cloud.txt (format: auto).\u001b[0;m\n",
      "Warning: No points found in file Baum5_485 nds_ro- Cloud.txt. Trying NumPy fallback.\n"
     ]
    },
    {
     "name": "stderr",
     "output_type": "stream",
     "text": [
      "Extracting FPFH Features:  66%|██████▌   | 367/557 [00:25<00:14, 12.75it/s]"
     ]
    },
    {
     "name": "stdout",
     "output_type": "stream",
     "text": [
      "\u001b[1;33m[Open3D WARNING] Read geometry::PointCloud failed: unknown file extension for ../train/Red Oak/Baum4_430 bwb4 - Cloud.txt (format: auto).\u001b[0;m\n",
      "Warning: No points found in file Baum4_430 bwb4 - Cloud.txt. Trying NumPy fallback.\n",
      "\u001b[1;33m[Open3D WARNING] Read geometry::PointCloud failed: unknown file extension for ../train/Red Oak/Baum7_498 nds_ro- Cloud.txt (format: auto).\u001b[0;m\n",
      "Warning: No points found in file Baum7_498 nds_ro- Cloud.txt. Trying NumPy fallback.\n",
      "\u001b[1;33m[Open3D WARNING] Read geometry::PointCloud failed: unknown file extension for ../train/Red Oak/Baum6_401 thu_jena- Cloud.txt (format: auto).\u001b[0;m\n",
      "Warning: No points found in file Baum6_401 thu_jena- Cloud.txt. Trying NumPy fallback.\n"
     ]
    },
    {
     "name": "stderr",
     "output_type": "stream",
     "text": [
      "Extracting FPFH Features:  67%|██████▋   | 371/557 [00:26<00:15, 11.99it/s]"
     ]
    },
    {
     "name": "stdout",
     "output_type": "stream",
     "text": [
      "\u001b[1;33m[Open3D WARNING] Read geometry::PointCloud failed: unknown file extension for ../train/Red Oak/Baum9_552 nds_ro- Cloud.txt (format: auto).\u001b[0;m\n",
      "Warning: No points found in file Baum9_552 nds_ro- Cloud.txt. Trying NumPy fallback.\n",
      "\u001b[1;33m[Open3D WARNING] Read geometry::PointCloud failed: unknown file extension for ../train/Red Oak/Baum1_128 brb_pssüd- Cloud.txt (format: auto).\u001b[0;m\n",
      "Warning: No points found in file Baum1_128 brb_pssüd- Cloud.txt. Trying NumPy fallback.\n",
      "\u001b[1;33m[Open3D WARNING] Read geometry::PointCloud failed: unknown file extension for ../train/Red Oak/Baum7_103 thu_neust- Cloud.txt (format: auto).\u001b[0;m\n",
      "Warning: No points found in file Baum7_103 thu_neust- Cloud.txt. Trying NumPy fallback.\n"
     ]
    },
    {
     "name": "stderr",
     "output_type": "stream",
     "text": [
      "Extracting FPFH Features:  67%|██████▋   | 373/557 [00:26<00:15, 11.50it/s]"
     ]
    },
    {
     "name": "stdout",
     "output_type": "stream",
     "text": [
      "\u001b[1;33m[Open3D WARNING] Read geometry::PointCloud failed: unknown file extension for ../train/Red Oak/Baum2_263 nrwl30- Cloud.txt (format: auto).\u001b[0;m\n",
      "Warning: No points found in file Baum2_263 nrwl30- Cloud.txt. Trying NumPy fallback.\n",
      "\u001b[1;33m[Open3D WARNING] Read geometry::PointCloud failed: unknown file extension for ../train/Red Oak/Baum8_308 thu_jena- Cloud.txt (format: auto).\u001b[0;m\n",
      "Warning: No points found in file Baum8_308 thu_jena- Cloud.txt. Trying NumPy fallback.\n",
      "\u001b[1;33m[Open3D WARNING] Read geometry::PointCloud failed: unknown file extension for ../train/Red Oak/Baum0_227 thu_jena- Cloud.txt (format: auto).\u001b[0;m\n",
      "Warning: No points found in file Baum0_227 thu_jena- Cloud.txt. Trying NumPy fallback.\n"
     ]
    },
    {
     "name": "stderr",
     "output_type": "stream",
     "text": [
      "Extracting FPFH Features:  68%|██████▊   | 377/557 [00:26<00:13, 13.14it/s]"
     ]
    },
    {
     "name": "stdout",
     "output_type": "stream",
     "text": [
      "\u001b[1;33m[Open3D WARNING] Read geometry::PointCloud failed: unknown file extension for ../train/Red Oak/Baum5_267 brb_pssüd - Cloud.txt (format: auto).\u001b[0;m\n",
      "Warning: No points found in file Baum5_267 brb_pssüd - Cloud.txt. Trying NumPy fallback.\n",
      "\u001b[1;33m[Open3D WARNING] Read geometry::PointCloud failed: unknown file extension for ../train/Red Oak/Baum6_479 bwb4 - Cloud.txt (format: auto).\u001b[0;m\n",
      "Warning: No points found in file Baum6_479 bwb4 - Cloud.txt. Trying NumPy fallback.\n",
      "\u001b[1;33m[Open3D WARNING] Read geometry::PointCloud failed: unknown file extension for ../train/Red Oak/Baum5_345 thu_neust- Cloud.txt (format: auto).\u001b[0;m\n",
      "Warning: No points found in file Baum5_345 thu_neust- Cloud.txt. Trying NumPy fallback.\n"
     ]
    },
    {
     "name": "stderr",
     "output_type": "stream",
     "text": [
      "Extracting FPFH Features:  68%|██████▊   | 379/557 [00:26<00:13, 13.05it/s]"
     ]
    },
    {
     "name": "stdout",
     "output_type": "stream",
     "text": [
      "\u001b[1;33m[Open3D WARNING] Read geometry::PointCloud failed: unknown file extension for ../train/Red Oak/Baum9_583 thu_jena- Cloud.txt (format: auto).\u001b[0;m\n",
      "Warning: No points found in file Baum9_583 thu_jena- Cloud.txt. Trying NumPy fallback.\n",
      "\u001b[1;33m[Open3D WARNING] Read geometry::PointCloud failed: unknown file extension for ../train/Red Oak/Baum5_373 bwb4 - Cloud.txt (format: auto).\u001b[0;m\n",
      "Warning: No points found in file Baum5_373 bwb4 - Cloud.txt. Trying NumPy fallback.\n",
      "\u001b[1;33m[Open3D WARNING] Read geometry::PointCloud failed: unknown file extension for ../train/Red Oak/Baum7_404 nrwl33- Cloud.txt (format: auto).\u001b[0;m\n",
      "Warning: No points found in file Baum7_404 nrwl33- Cloud.txt. Trying NumPy fallback.\n"
     ]
    },
    {
     "name": "stderr",
     "output_type": "stream",
     "text": [
      "Extracting FPFH Features:  69%|██████▉   | 383/557 [00:27<00:13, 12.49it/s]"
     ]
    },
    {
     "name": "stdout",
     "output_type": "stream",
     "text": [
      "\u001b[1;33m[Open3D WARNING] Read geometry::PointCloud failed: unknown file extension for ../train/Red Oak/Baum2_197 brb_pssüd- Cloud.txt (format: auto).\u001b[0;m\n",
      "Warning: No points found in file Baum2_197 brb_pssüd- Cloud.txt. Trying NumPy fallback.\n",
      "\u001b[1;33m[Open3D WARNING] Read geometry::PointCloud failed: unknown file extension for ../train/Red Oak/Baum5 nds_da - Cloud.txt (format: auto).\u001b[0;m\n",
      "Warning: No points found in file Baum5 nds_da - Cloud.txt. Trying NumPy fallback.\n",
      "\u001b[1;33m[Open3D WARNING] Read geometry::PointCloud failed: unknown file extension for ../train/Red Oak/Baum8 nds_da - Cloud.txt (format: auto).\u001b[0;m\n",
      "Warning: No points found in file Baum8 nds_da - Cloud.txt. Trying NumPy fallback.\n"
     ]
    },
    {
     "name": "stderr",
     "output_type": "stream",
     "text": [
      "Extracting FPFH Features:  69%|██████▉   | 387/557 [00:27<00:12, 13.85it/s]"
     ]
    },
    {
     "name": "stdout",
     "output_type": "stream",
     "text": [
      "\u001b[1;33m[Open3D WARNING] Read geometry::PointCloud failed: unknown file extension for ../train/Red Oak/Baum0_534 brb_psnord- Cloud.txt (format: auto).\u001b[0;m\n",
      "Warning: No points found in file Baum0_534 brb_psnord- Cloud.txt. Trying NumPy fallback.\n",
      "\u001b[1;33m[Open3D WARNING] Read geometry::PointCloud failed: unknown file extension for ../train/Red Oak/Baum3_359 thu_jena- Cloud.txt (format: auto).\u001b[0;m\n",
      "Warning: No points found in file Baum3_359 thu_jena- Cloud.txt. Trying NumPy fallback.\n",
      "\u001b[1;33m[Open3D WARNING] Read geometry::PointCloud failed: unknown file extension for ../train/Red Oak/Baum7_88 nrwl30- Cloud.txt (format: auto).\u001b[0;m\n",
      "Warning: No points found in file Baum7_88 nrwl30- Cloud.txt. Trying NumPy fallback.\n",
      "\u001b[1;33m[Open3D WARNING] Read geometry::PointCloud failed: unknown file extension for ../train/Red Oak/Baum5_450 brb_psnord- Cloud.txt (format: auto).\u001b[0;m\n",
      "Warning: No points found in file Baum5_450 brb_psnord- Cloud.txt. Trying NumPy fallback.\n"
     ]
    },
    {
     "name": "stderr",
     "output_type": "stream",
     "text": [
      "Extracting FPFH Features:  70%|██████▉   | 389/557 [00:27<00:11, 14.18it/s]"
     ]
    },
    {
     "name": "stdout",
     "output_type": "stream",
     "text": [
      "\u001b[1;33m[Open3D WARNING] Read geometry::PointCloud failed: unknown file extension for ../train/Red Oak/Baum9_512 bwb2 - Cloud.txt (format: auto).\u001b[0;m\n",
      "Warning: No points found in file Baum9_512 bwb2 - Cloud.txt. Trying NumPy fallback.\n",
      "\u001b[1;33m[Open3D WARNING] Read geometry::PointCloud failed: unknown file extension for ../train/Red Oak/Baum3_78 bwb2 - Cloud.txt (format: auto).\u001b[0;m\n",
      "Warning: No points found in file Baum3_78 bwb2 - Cloud.txt. Trying NumPy fallback.\n",
      "\u001b[1;33m[Open3D WARNING] Read geometry::PointCloud failed: unknown file extension for ../train/Red Oak/Baum0_578 nds_ro- Cloud.txt (format: auto).\u001b[0;m\n",
      "Warning: No points found in file Baum0_578 nds_ro- Cloud.txt. Trying NumPy fallback.\n"
     ]
    },
    {
     "name": "stderr",
     "output_type": "stream",
     "text": [
      "Extracting FPFH Features:  71%|███████   | 393/557 [00:27<00:11, 14.84it/s]"
     ]
    },
    {
     "name": "stdout",
     "output_type": "stream",
     "text": [
      "\u001b[1;33m[Open3D WARNING] Read geometry::PointCloud failed: unknown file extension for ../train/Red Oak/Baum4 nds_da - Cloud.txt (format: auto).\u001b[0;m\n",
      "Warning: No points found in file Baum4 nds_da - Cloud.txt. Trying NumPy fallback.\n",
      "\u001b[1;33m[Open3D WARNING] Read geometry::PointCloud failed: unknown file extension for ../train/Red Oak/Baum9 nds_da - Cloud.txt (format: auto).\u001b[0;m\n",
      "Warning: No points found in file Baum9 nds_da - Cloud.txt. Trying NumPy fallback.\n",
      "\u001b[1;33m[Open3D WARNING] Read geometry::PointCloud failed: unknown file extension for ../train/Red Oak/Baum3_124 brb_psnord- Cloud.txt (format: auto).\u001b[0;m\n",
      "Warning: No points found in file Baum3_124 brb_psnord- Cloud.txt. Trying NumPy fallback.\n"
     ]
    },
    {
     "name": "stderr",
     "output_type": "stream",
     "text": [
      "Extracting FPFH Features:  71%|███████   | 395/557 [00:28<00:12, 12.99it/s]"
     ]
    },
    {
     "name": "stdout",
     "output_type": "stream",
     "text": [
      "\u001b[1;33m[Open3D WARNING] Read geometry::PointCloud failed: unknown file extension for ../train/Red Oak/Baum0_332 bwb2- Cloud.txt (format: auto).\u001b[0;m\n",
      "Warning: No points found in file Baum0_332 bwb2- Cloud.txt. Trying NumPy fallback.\n",
      "\u001b[1;33m[Open3D WARNING] Read geometry::PointCloud failed: unknown file extension for ../train/Red Oak/Baum6_562 brb_psnord- Cloud.txt (format: auto).\u001b[0;m\n",
      "Warning: No points found in file Baum6_562 brb_psnord- Cloud.txt. Trying NumPy fallback.\n",
      "\u001b[1;33m[Open3D WARNING] Read geometry::PointCloud failed: unknown file extension for ../train/Red Oak/Baum9_29 nrwl33- Cloud.txt (format: auto).\u001b[0;m\n",
      "Warning: No points found in file Baum9_29 nrwl33- Cloud.txt. Trying NumPy fallback.\n"
     ]
    },
    {
     "name": "stderr",
     "output_type": "stream",
     "text": [
      "Extracting FPFH Features:  72%|███████▏  | 399/557 [00:28<00:12, 12.18it/s]"
     ]
    },
    {
     "name": "stdout",
     "output_type": "stream",
     "text": [
      "\u001b[1;33m[Open3D WARNING] Read geometry::PointCloud failed: unknown file extension for ../train/Red Oak/Baum8_194 brb_pssüd- Cloud.txt (format: auto).\u001b[0;m\n",
      "Warning: No points found in file Baum8_194 brb_pssüd- Cloud.txt. Trying NumPy fallback.\n",
      "\u001b[1;33m[Open3D WARNING] Read geometry::PointCloud failed: unknown file extension for ../train/Red Oak/Baum7_256 brb_pssüd- Cloud.txt (format: auto).\u001b[0;m\n",
      "Warning: No points found in file Baum7_256 brb_pssüd- Cloud.txt. Trying NumPy fallback.\n",
      "\u001b[1;33m[Open3D WARNING] Read geometry::PointCloud failed: unknown file extension for ../train/Red Oak/Baum9_149 brb_pssüd- Cloud.txt (format: auto).\u001b[0;m\n",
      "Warning: No points found in file Baum9_149 brb_pssüd- Cloud.txt. Trying NumPy fallback.\n"
     ]
    },
    {
     "name": "stderr",
     "output_type": "stream",
     "text": [
      "Extracting FPFH Features:  72%|███████▏  | 403/557 [00:28<00:11, 13.60it/s]"
     ]
    },
    {
     "name": "stdout",
     "output_type": "stream",
     "text": [
      "\u001b[1;33m[Open3D WARNING] Read geometry::PointCloud failed: unknown file extension for ../train/Red Oak/Baum7_41 thu_jena- Cloud.txt (format: auto).\u001b[0;m\n",
      "Warning: No points found in file Baum7_41 thu_jena- Cloud.txt. Trying NumPy fallback.\n",
      "\u001b[1;33m[Open3D WARNING] Read geometry::PointCloud failed: unknown file extension for ../train/Red Oak/Baum1_614 brb_psnord - Cloud.txt (format: auto).\u001b[0;m\n",
      "Warning: No points found in file Baum1_614 brb_psnord - Cloud.txt. Trying NumPy fallback.\n",
      "\u001b[1;33m[Open3D WARNING] Read geometry::PointCloud failed: unknown file extension for ../train/Red Oak/Baum1_351 bwb2 - Cloud.txt (format: auto).\u001b[0;m\n",
      "Warning: No points found in file Baum1_351 bwb2 - Cloud.txt. Trying NumPy fallback.\n",
      "\u001b[1;33m[Open3D WARNING] Read geometry::PointCloud failed: unknown file extension for ../train/Red Oak/Baum7 nds_da - Cloud.txt (format: auto).\u001b[0;m\n",
      "Warning: No points found in file Baum7 nds_da - Cloud.txt. Trying NumPy fallback.\n"
     ]
    },
    {
     "name": "stderr",
     "output_type": "stream",
     "text": [
      "Extracting FPFH Features:  73%|███████▎  | 405/557 [00:28<00:10, 14.67it/s]"
     ]
    },
    {
     "name": "stdout",
     "output_type": "stream",
     "text": [
      "\u001b[1;33m[Open3D WARNING] Read geometry::PointCloud failed: unknown file extension for ../train/Red Oak/Baum5_1 bwb2- Cloud.txt (format: auto).\u001b[0;m\n",
      "Warning: No points found in file Baum5_1 bwb2- Cloud.txt. Trying NumPy fallback.\n",
      "\u001b[1;33m[Open3D WARNING] Read geometry::PointCloud failed: unknown file extension for ../train/Red Oak/Baum3_37 nds_ro- Cloud.txt (format: auto).\u001b[0;m\n",
      "Warning: No points found in file Baum3_37 nds_ro- Cloud.txt. Trying NumPy fallback.\n",
      "\u001b[1;33m[Open3D WARNING] Read geometry::PointCloud failed: unknown file extension for ../train/Red Oak/Baum3 _98 nrwl33- Cloud.txt (format: auto).\u001b[0;m\n",
      "Warning: No points found in file Baum3 _98 nrwl33- Cloud.txt. Trying NumPy fallback.\n"
     ]
    },
    {
     "name": "stderr",
     "output_type": "stream",
     "text": [
      "Extracting FPFH Features:  73%|███████▎  | 409/557 [00:29<00:10, 13.99it/s]"
     ]
    },
    {
     "name": "stdout",
     "output_type": "stream",
     "text": [
      "\u001b[1;33m[Open3D WARNING] Read geometry::PointCloud failed: unknown file extension for ../train/Red Oak/Baum6_27 brb_pssüd- Cloud.txt (format: auto).\u001b[0;m\n",
      "Warning: No points found in file Baum6_27 brb_pssüd- Cloud.txt. Trying NumPy fallback.\n",
      "\u001b[1;33m[Open3D WARNING] Read geometry::PointCloud failed: unknown file extension for ../train/Red Oak/Baum4_33 nrwl30- Cloud.txt (format: auto).\u001b[0;m\n",
      "Warning: No points found in file Baum4_33 nrwl30- Cloud.txt. Trying NumPy fallback.\n",
      "\u001b[1;33m[Open3D WARNING] Read geometry::PointCloud failed: unknown file extension for ../train/Red Oak/Baum1_114 thu_jena- Cloud.txt (format: auto).\u001b[0;m\n",
      "Warning: No points found in file Baum1_114 thu_jena- Cloud.txt. Trying NumPy fallback.\n",
      "\u001b[1;33m[Open3D WARNING] Read geometry::PointCloud failed: unknown file extension for ../train/Red Oak/Baum4_398 nds_ro- Cloud.txt (format: auto).\u001b[0;m\n",
      "Warning: No points found in file Baum4_398 nds_ro- Cloud.txt. Trying NumPy fallback.\n"
     ]
    },
    {
     "name": "stderr",
     "output_type": "stream",
     "text": [
      "Extracting FPFH Features:  74%|███████▍  | 413/557 [00:29<00:10, 13.36it/s]"
     ]
    },
    {
     "name": "stdout",
     "output_type": "stream",
     "text": [
      "\u001b[1;33m[Open3D WARNING] Read geometry::PointCloud failed: unknown file extension for ../train/Red Oak/Baum2_171 bwb2 - Cloud.txt (format: auto).\u001b[0;m\n",
      "Warning: No points found in file Baum2_171 bwb2 - Cloud.txt. Trying NumPy fallback.\n",
      "\u001b[1;33m[Open3D WARNING] Read geometry::PointCloud failed: unknown file extension for ../train/Red Oak/Baum8_395 thu_neust- Cloud.txt (format: auto).\u001b[0;m\n",
      "Warning: No points found in file Baum8_395 thu_neust- Cloud.txt. Trying NumPy fallback.\n",
      "\u001b[1;33m[Open3D WARNING] Read geometry::PointCloud failed: unknown file extension for ../train/Red Oak/Baum0_123 nrwl30- Cloud.txt (format: auto).\u001b[0;m\n",
      "Warning: No points found in file Baum0_123 nrwl30- Cloud.txt. Trying NumPy fallback.\n"
     ]
    },
    {
     "name": "stderr",
     "output_type": "stream",
     "text": [
      "Extracting FPFH Features:  75%|███████▍  | 415/557 [00:29<00:10, 13.66it/s]"
     ]
    },
    {
     "name": "stdout",
     "output_type": "stream",
     "text": [
      "\u001b[1;33m[Open3D WARNING] Read geometry::PointCloud failed: unknown file extension for ../train/Red Oak/Baum2_504 thu_jena- Cloud.txt (format: auto).\u001b[0;m\n",
      "Warning: No points found in file Baum2_504 thu_jena- Cloud.txt. Trying NumPy fallback.\n",
      "\u001b[1;33m[Open3D WARNING] Read geometry::PointCloud failed: unknown file extension for ../train/Red Oak/Baum4_217 bwb2 - Cloud.txt (format: auto).\u001b[0;m\n",
      "Warning: No points found in file Baum4_217 bwb2 - Cloud.txt. Trying NumPy fallback.\n",
      "\u001b[1;33m[Open3D WARNING] Read geometry::PointCloud failed: unknown file extension for ../train/Red Oak/Baum1 nds_da - Cloud.txt (format: auto).\u001b[0;m\n",
      "Warning: No points found in file Baum1 nds_da - Cloud.txt. Trying NumPy fallback.\n"
     ]
    },
    {
     "name": "stderr",
     "output_type": "stream",
     "text": [
      "Extracting FPFH Features:  75%|███████▌  | 420/557 [00:29<00:09, 14.67it/s]"
     ]
    },
    {
     "name": "stdout",
     "output_type": "stream",
     "text": [
      "\u001b[1;33m[Open3D WARNING] Read geometry::PointCloud failed: unknown file extension for ../train/Red Oak/Baum7_424 bwb2 - Cloud.txt (format: auto).\u001b[0;m\n",
      "Warning: No points found in file Baum7_424 bwb2 - Cloud.txt. Trying NumPy fallback.\n",
      "\u001b[1;33m[Open3D WARNING] Read geometry::PointCloud failed: unknown file extension for ../train/Red Oak/Baum2 nds_da - Cloud.txt (format: auto).\u001b[0;m\n",
      "Warning: No points found in file Baum2 nds_da - Cloud.txt. Trying NumPy fallback.\n",
      "\u001b[1;33m[Open3D WARNING] Read geometry::PointCloud failed: unknown file extension for ../train/Red Oak/Baum6_179 nds_ro- Cloud.txt (format: auto).\u001b[0;m\n",
      "Warning: No points found in file Baum6_179 nds_ro- Cloud.txt. Trying NumPy fallback.\n",
      "\u001b[1;33m[Open3D WARNING] Read geometry::PointCloud failed: unknown file extension for ../train/Red Oak/Baum7_404 bwb4 - Cloud.txt (format: auto).\u001b[0;m\n",
      "Warning: No points found in file Baum7_404 bwb4 - Cloud.txt. Trying NumPy fallback.\n"
     ]
    },
    {
     "name": "stderr",
     "output_type": "stream",
     "text": [
      "Extracting FPFH Features:  76%|███████▌  | 422/557 [00:30<00:09, 14.70it/s]"
     ]
    },
    {
     "name": "stdout",
     "output_type": "stream",
     "text": [
      "\u001b[1;33m[Open3D WARNING] Read geometry::PointCloud failed: unknown file extension for ../train/Red Oak/Baum1_414 thu_neust- Cloud.txt (format: auto).\u001b[0;m\n",
      "Warning: No points found in file Baum1_414 thu_neust- Cloud.txt. Trying NumPy fallback.\n",
      "\u001b[1;33m[Open3D WARNING] Read geometry::PointCloud failed: unknown file extension for ../train/Red Oak/Baum1_568 nds_ro- Cloud.txt (format: auto).\u001b[0;m\n",
      "Warning: No points found in file Baum1_568 nds_ro- Cloud.txt. Trying NumPy fallback.\n",
      "\u001b[1;33m[Open3D WARNING] Read geometry::PointCloud failed: unknown file extension for ../train/Red Oak/Baum4_336 brb_pssüd- Cloud.txt (format: auto).\u001b[0;m\n",
      "Warning: No points found in file Baum4_336 brb_pssüd- Cloud.txt. Trying NumPy fallback.\n"
     ]
    },
    {
     "name": "stderr",
     "output_type": "stream",
     "text": [
      "Extracting FPFH Features:  77%|███████▋  | 427/557 [00:30<00:08, 15.86it/s]"
     ]
    },
    {
     "name": "stdout",
     "output_type": "stream",
     "text": [
      "\u001b[1;33m[Open3D WARNING] Read geometry::PointCloud failed: unknown file extension for ../train/Red Oak/Baum3_299 thu_neust- Cloud.txt (format: auto).\u001b[0;m\n",
      "Warning: No points found in file Baum3_299 thu_neust- Cloud.txt. Trying NumPy fallback.\n",
      "\u001b[1;33m[Open3D WARNING] Read PTS failed with exception: vector\u001b[0;m\n",
      "Warning: No points found in file 57.pts. Trying NumPy fallback.\n",
      "\u001b[1;33m[Open3D WARNING] Read PTS failed with exception: vector\u001b[0;m\n",
      "Warning: No points found in file 43.pts. Trying NumPy fallback.\n"
     ]
    },
    {
     "name": "stderr",
     "output_type": "stream",
     "text": [
      "Extracting FPFH Features:  78%|███████▊  | 435/557 [00:30<00:05, 22.29it/s]"
     ]
    },
    {
     "name": "stdout",
     "output_type": "stream",
     "text": [
      "\u001b[1;33m[Open3D WARNING] Read PTS failed with exception: vector\u001b[0;m\n",
      "Warning: No points found in file 42.pts. Trying NumPy fallback.\n",
      "\u001b[1;33m[Open3D WARNING] Read PTS failed with exception: vector\u001b[0;m\n",
      "Warning: No points found in file 40.pts. Trying NumPy fallback.\n"
     ]
    },
    {
     "name": "stderr",
     "output_type": "stream",
     "text": [
      "Extracting FPFH Features:  81%|████████  | 449/557 [00:31<00:06, 17.65it/s]"
     ]
    },
    {
     "name": "stdout",
     "output_type": "stream",
     "text": [
      "\u001b[1;33m[Open3D WARNING] Read PTS failed with exception: vector\u001b[0;m\n",
      "Warning: No points found in file 3.pts. Trying NumPy fallback.\n",
      "\u001b[1;33m[Open3D WARNING] Read PTS failed with exception: vector\u001b[0;m\n",
      "Warning: No points found in file 44.pts. Trying NumPy fallback.\n",
      "\u001b[1;33m[Open3D WARNING] Read PTS failed with exception: vector\u001b[0;m\n",
      "Warning: No points found in file 91.pts. Trying NumPy fallback.\n"
     ]
    },
    {
     "name": "stderr",
     "output_type": "stream",
     "text": [
      "Extracting FPFH Features:  81%|████████▏ | 453/557 [00:31<00:04, 21.88it/s]"
     ]
    },
    {
     "name": "stdout",
     "output_type": "stream",
     "text": [
      "\u001b[1;33m[Open3D WARNING] Read PTS failed with exception: vector\u001b[0;m\n",
      "Warning: No points found in file 46.pts. Trying NumPy fallback.\n"
     ]
    },
    {
     "name": "stderr",
     "output_type": "stream",
     "text": [
      "Extracting FPFH Features:  83%|████████▎ | 463/557 [00:32<00:04, 19.57it/s]"
     ]
    },
    {
     "name": "stdout",
     "output_type": "stream",
     "text": [
      "\u001b[1;33m[Open3D WARNING] Read PTS failed with exception: vector\u001b[0;m\n",
      "Warning: No points found in file 121.pts. Trying NumPy fallback.\n"
     ]
    },
    {
     "name": "stderr",
     "output_type": "stream",
     "text": [
      "Extracting FPFH Features:  84%|████████▍ | 469/557 [00:32<00:05, 16.35it/s]"
     ]
    },
    {
     "name": "stdout",
     "output_type": "stream",
     "text": [
      "\u001b[1;33m[Open3D WARNING] Read PTS failed with exception: vector\u001b[0;m\n",
      "Warning: No points found in file 21.pts. Trying NumPy fallback.\n",
      "\u001b[1;33m[Open3D WARNING] Read PTS failed with exception: vector\u001b[0;m\n",
      "Warning: No points found in file 120.pts. Trying NumPy fallback.\n"
     ]
    },
    {
     "name": "stderr",
     "output_type": "stream",
     "text": [
      "Extracting FPFH Features:  85%|████████▍ | 471/557 [00:32<00:06, 14.17it/s]"
     ]
    },
    {
     "name": "stdout",
     "output_type": "stream",
     "text": [
      "\u001b[1;33m[Open3D WARNING] Read PTS failed with exception: vector\u001b[0;m\n",
      "Warning: No points found in file 23.pts. Trying NumPy fallback.\n",
      "\u001b[1;33m[Open3D WARNING] Read PTS failed with exception: vector\u001b[0;m\n",
      "Warning: No points found in file 37.pts. Trying NumPy fallback.\n"
     ]
    },
    {
     "name": "stderr",
     "output_type": "stream",
     "text": [
      "Extracting FPFH Features:  87%|████████▋ | 483/557 [00:33<00:03, 20.34it/s]"
     ]
    },
    {
     "name": "stdout",
     "output_type": "stream",
     "text": [
      "\u001b[1;33m[Open3D WARNING] Read PTS failed with exception: vector\u001b[0;m\n",
      "Warning: No points found in file 19.pts. Trying NumPy fallback.\n"
     ]
    },
    {
     "name": "stderr",
     "output_type": "stream",
     "text": [
      "Extracting FPFH Features:  88%|████████▊ | 490/557 [00:34<00:06, 11.13it/s]"
     ]
    },
    {
     "name": "stdout",
     "output_type": "stream",
     "text": [
      "\u001b[1;33m[Open3D WARNING] Read PTS failed with exception: vector\u001b[0;m\n",
      "Warning: No points found in file 24.pts. Trying NumPy fallback.\n",
      "\u001b[1;33m[Open3D WARNING] Read PTS failed with exception: vector\u001b[0;m\n",
      "Warning: No points found in file 18.pts. Trying NumPy fallback.\n",
      "\u001b[1;33m[Open3D WARNING] Read PTS failed with exception: vector\u001b[0;m\n",
      "Warning: No points found in file 125.pts. Trying NumPy fallback.\n"
     ]
    },
    {
     "name": "stderr",
     "output_type": "stream",
     "text": [
      "Extracting FPFH Features:  89%|████████▉ | 498/557 [00:34<00:04, 13.65it/s]"
     ]
    },
    {
     "name": "stdout",
     "output_type": "stream",
     "text": [
      "\u001b[1;33m[Open3D WARNING] Read PTS failed with exception: vector\u001b[0;m\n",
      "Warning: No points found in file 28.pts. Trying NumPy fallback.\n"
     ]
    },
    {
     "name": "stderr",
     "output_type": "stream",
     "text": [
      "Extracting FPFH Features:  91%|█████████▏| 509/557 [00:35<00:02, 17.48it/s]"
     ]
    },
    {
     "name": "stdout",
     "output_type": "stream",
     "text": [
      "\u001b[1;33m[Open3D WARNING] Read PTS failed with exception: vector\u001b[0;m\n",
      "Warning: No points found in file 12.pts. Trying NumPy fallback.\n"
     ]
    },
    {
     "name": "stderr",
     "output_type": "stream",
     "text": [
      "Extracting FPFH Features:  94%|█████████▎| 521/557 [00:36<00:01, 21.17it/s]"
     ]
    },
    {
     "name": "stdout",
     "output_type": "stream",
     "text": [
      "\u001b[1;33m[Open3D WARNING] Read PTS failed with exception: vector\u001b[0;m\n",
      "Warning: No points found in file 76.pts. Trying NumPy fallback.\n"
     ]
    },
    {
     "name": "stderr",
     "output_type": "stream",
     "text": [
      "Extracting FPFH Features:  99%|█████████▊| 549/557 [00:38<00:00, 13.38it/s]"
     ]
    },
    {
     "name": "stdout",
     "output_type": "stream",
     "text": [
      "\u001b[1;33m[Open3D WARNING] Read PTS failed with exception: vector\u001b[0;m\n",
      "Warning: No points found in file 166.pts. Trying NumPy fallback.\n"
     ]
    },
    {
     "name": "stderr",
     "output_type": "stream",
     "text": [
      "Extracting FPFH Features: 100%|██████████| 557/557 [00:38<00:00, 14.43it/s]\n"
     ]
    },
    {
     "name": "stdout",
     "output_type": "stream",
     "text": [
      "Processing testing data...\n"
     ]
    },
    {
     "name": "stderr",
     "output_type": "stream",
     "text": [
      "Extracting FPFH Features:   0%|          | 0/134 [00:00<?, ?it/s]"
     ]
    },
    {
     "name": "stdout",
     "output_type": "stream",
     "text": [
      "\u001b[1;33m[Open3D WARNING] Read geometry::PointCloud failed: unknown file extension for ../test/Oak/14.txt (format: auto).\u001b[0;m\n",
      "Warning: No points found in file 14.txt. Trying NumPy fallback.\n"
     ]
    },
    {
     "name": "stderr",
     "output_type": "stream",
     "text": [
      "Extracting FPFH Features:   1%|          | 1/134 [00:00<00:46,  2.85it/s]"
     ]
    },
    {
     "name": "stdout",
     "output_type": "stream",
     "text": [
      "\u001b[1;33m[Open3D WARNING] Read geometry::PointCloud failed: unknown file extension for ../test/Oak/22.txt (format: auto).\u001b[0;m\n",
      "Warning: No points found in file 22.txt. Trying NumPy fallback.\n"
     ]
    },
    {
     "name": "stderr",
     "output_type": "stream",
     "text": [
      "Extracting FPFH Features:   2%|▏         | 3/134 [00:00<00:30,  4.26it/s]"
     ]
    },
    {
     "name": "stdout",
     "output_type": "stream",
     "text": [
      "\u001b[1;33m[Open3D WARNING] Read geometry::PointCloud failed: unknown file extension for ../test/Oak/18.txt (format: auto).\u001b[0;m\n",
      "Warning: No points found in file 18.txt. Trying NumPy fallback.\n",
      "\u001b[1;33m[Open3D WARNING] Read geometry::PointCloud failed: unknown file extension for ../test/Oak/24.txt (format: auto).\u001b[0;m\n",
      "Warning: No points found in file 24.txt. Trying NumPy fallback.\n"
     ]
    },
    {
     "name": "stderr",
     "output_type": "stream",
     "text": [
      "Extracting FPFH Features:   6%|▌         | 8/134 [00:01<00:10, 11.87it/s]"
     ]
    },
    {
     "name": "stdout",
     "output_type": "stream",
     "text": [
      "\u001b[1;33m[Open3D WARNING] Read geometry::PointCloud failed: unknown file extension for ../test/Douglas Fir/61_60.txt (format: auto).\u001b[0;m\n",
      "Warning: No points found in file 61_60.txt. Trying NumPy fallback.\n",
      "\u001b[1;33m[Open3D WARNING] Read geometry::PointCloud failed: unknown file extension for ../test/Douglas Fir/31_45.txt (format: auto).\u001b[0;m\n",
      "Warning: No points found in file 31_45.txt. Trying NumPy fallback.\n",
      "\u001b[1;33m[Open3D WARNING] Read geometry::PointCloud failed: unknown file extension for ../test/Douglas Fir/31_44.txt (format: auto).\u001b[0;m\n",
      "Warning: No points found in file 31_44.txt. Trying NumPy fallback.\n",
      "\u001b[1;33m[Open3D WARNING] Read geometry::PointCloud failed: unknown file extension for ../test/Douglas Fir/31_87.txt (format: auto).\u001b[0;m\n",
      "Warning: No points found in file 31_87.txt. Trying NumPy fallback.\n",
      "\u001b[1;33m[Open3D WARNING] Read geometry::PointCloud failed: unknown file extension for ../test/Douglas Fir/31_81.txt (format: auto).\u001b[0;m\n",
      "Warning: No points found in file 31_81.txt. Trying NumPy fallback.\n",
      "\u001b[1;33m[Open3D WARNING] Read geometry::PointCloud failed: unknown file extension for ../test/Douglas Fir/61_73.txt (format: auto).\u001b[0;m\n",
      "Warning: No points found in file 61_73.txt. Trying NumPy fallback.\n",
      "\u001b[1;33m[Open3D WARNING] Read geometry::PointCloud failed: unknown file extension for ../test/Douglas Fir/31_83.txt (format: auto).\u001b[0;m\n",
      "Warning: No points found in file 31_83.txt. Trying NumPy fallback.\n"
     ]
    },
    {
     "name": "stderr",
     "output_type": "stream",
     "text": [
      "Extracting FPFH Features:   9%|▉         | 12/134 [00:01<00:07, 16.42it/s]"
     ]
    },
    {
     "name": "stdout",
     "output_type": "stream",
     "text": [
      "\u001b[1;33m[Open3D WARNING] Read geometry::PointCloud failed: unknown file extension for ../test/Douglas Fir/31_69.txt (format: auto).\u001b[0;m\n",
      "Warning: No points found in file 31_69.txt. Trying NumPy fallback.\n",
      "\u001b[1;33m[Open3D WARNING] Read geometry::PointCloud failed: unknown file extension for ../test/Douglas Fir/61_64.txt (format: auto).\u001b[0;m\n",
      "Warning: No points found in file 61_64.txt. Trying NumPy fallback.\n",
      "\u001b[1;33m[Open3D WARNING] Read geometry::PointCloud failed: unknown file extension for ../test/Douglas Fir/62_31_1.txt (format: auto).\u001b[0;m\n",
      "Warning: No points found in file 62_31_1.txt. Trying NumPy fallback.\n"
     ]
    },
    {
     "name": "stderr",
     "output_type": "stream",
     "text": [
      "Extracting FPFH Features:  11%|█         | 15/134 [00:01<00:10, 11.08it/s]"
     ]
    },
    {
     "name": "stdout",
     "output_type": "stream",
     "text": [
      "\u001b[1;33m[Open3D WARNING] Read geometry::PointCloud failed: unknown file extension for ../test/Douglas Fir/62_93.txt (format: auto).\u001b[0;m\n",
      "Warning: No points found in file 62_93.txt. Trying NumPy fallback.\n",
      "\u001b[1;33m[Open3D WARNING] Read geometry::PointCloud failed: unknown file extension for ../test/Douglas Fir/61_15.txt (format: auto).\u001b[0;m\n",
      "Warning: No points found in file 61_15.txt. Trying NumPy fallback.\n",
      "\u001b[1;33m[Open3D WARNING] Read geometry::PointCloud failed: unknown file extension for ../test/Douglas Fir/61_11.txt (format: auto).\u001b[0;m\n",
      "Warning: No points found in file 61_11.txt. Trying NumPy fallback.\n"
     ]
    },
    {
     "name": "stderr",
     "output_type": "stream",
     "text": [
      "Extracting FPFH Features:  17%|█▋        | 23/134 [00:02<00:12,  9.11it/s]"
     ]
    },
    {
     "name": "stdout",
     "output_type": "stream",
     "text": [
      "\u001b[1;33m[Open3D WARNING] Read geometry::PointCloud failed: unknown file extension for ../test/Douglas Fir/32_45.txt (format: auto).\u001b[0;m\n",
      "Warning: No points found in file 32_45.txt. Trying NumPy fallback.\n",
      "\u001b[1;33m[Open3D WARNING] Read geometry::PointCloud failed: unknown file extension for ../test/Douglas Fir/62_89.txt (format: auto).\u001b[0;m\n",
      "Warning: No points found in file 62_89.txt. Trying NumPy fallback.\n"
     ]
    },
    {
     "name": "stderr",
     "output_type": "stream",
     "text": [
      "Extracting FPFH Features:  19%|█▊        | 25/134 [00:02<00:12,  8.54it/s]"
     ]
    },
    {
     "name": "stdout",
     "output_type": "stream",
     "text": [
      "\u001b[1;33m[Open3D WARNING] Read geometry::PointCloud failed: unknown file extension for ../test/Douglas Fir/32_47.txt (format: auto).\u001b[0;m\n",
      "Warning: No points found in file 32_47.txt. Trying NumPy fallback.\n"
     ]
    },
    {
     "name": "stderr",
     "output_type": "stream",
     "text": [
      "Extracting FPFH Features:  23%|██▎       | 31/134 [00:03<00:08, 11.91it/s]"
     ]
    },
    {
     "name": "stdout",
     "output_type": "stream",
     "text": [
      "\u001b[1;33m[Open3D WARNING] Read geometry::PointCloud failed: unknown file extension for ../test/Douglas Fir/61_26.txt (format: auto).\u001b[0;m\n",
      "Warning: No points found in file 61_26.txt. Trying NumPy fallback.\n",
      "\u001b[1;33m[Open3D WARNING] Read geometry::PointCloud failed: unknown file extension for ../test/Douglas Fir/61_96.txt (format: auto).\u001b[0;m\n",
      "Warning: No points found in file 61_96.txt. Trying NumPy fallback.\n",
      "\u001b[1;33m[Open3D WARNING] Read geometry::PointCloud failed: unknown file extension for ../test/Douglas Fir/32_34.txt (format: auto).\u001b[0;m\n",
      "Warning: No points found in file 32_34.txt. Trying NumPy fallback.\n",
      "\u001b[1;33m[Open3D WARNING] Read geometry::PointCloud failed: unknown file extension for ../test/Douglas Fir/61_54.txt (format: auto).\u001b[0;m\n",
      "Warning: No points found in file 61_54.txt. Trying NumPy fallback.\n",
      "\u001b[1;33m[Open3D WARNING] Read geometry::PointCloud failed: unknown file extension for ../test/Douglas Fir/62_144.txt (format: auto).\u001b[0;m\n",
      "Warning: No points found in file 62_144.txt. Trying NumPy fallback.\n",
      "\u001b[1;33m[Open3D WARNING] Read geometry::PointCloud failed: unknown file extension for ../test/Douglas Fir/61_83.txt (format: auto).\u001b[0;m\n",
      "Warning: No points found in file 61_83.txt. Trying NumPy fallback.\n",
      "\u001b[1;33m[Open3D WARNING] Read geometry::PointCloud failed: unknown file extension for ../test/Douglas Fir/31_72.txt (format: auto).\u001b[0;m\n",
      "Warning: No points found in file 31_72.txt. Trying NumPy fallback.\n",
      "\u001b[1;33m[Open3D WARNING] Read geometry::PointCloud failed: unknown file extension for ../test/Douglas Fir/61_6.txt (format: auto).\u001b[0;m\n",
      "Warning: No points found in file 61_6.txt. Trying NumPy fallback.\n"
     ]
    },
    {
     "name": "stderr",
     "output_type": "stream",
     "text": [
      "Extracting FPFH Features:  29%|██▉       | 39/134 [00:03<00:05, 16.21it/s]"
     ]
    },
    {
     "name": "stdout",
     "output_type": "stream",
     "text": [
      "\u001b[1;33m[Open3D WARNING] Read geometry::PointCloud failed: unknown file extension for ../test/Douglas Fir/62_153.txt (format: auto).\u001b[0;m\n",
      "Warning: No points found in file 62_153.txt. Trying NumPy fallback.\n",
      "\u001b[1;33m[Open3D WARNING] Read geometry::PointCloud failed: unknown file extension for ../test/Douglas Fir/61_90.txt (format: auto).\u001b[0;m\n",
      "Warning: No points found in file 61_90.txt. Trying NumPy fallback.\n",
      "\u001b[1;33m[Open3D WARNING] Read geometry::PointCloud failed: unknown file extension for ../test/Douglas Fir/61_2.txt (format: auto).\u001b[0;m\n",
      "Warning: No points found in file 61_2.txt. Trying NumPy fallback.\n",
      "\u001b[1;33m[Open3D WARNING] Read geometry::PointCloud failed: unknown file extension for ../test/Douglas Fir/61_3.txt (format: auto).\u001b[0;m\n",
      "Warning: No points found in file 61_3.txt. Trying NumPy fallback.\n",
      "\u001b[1;33m[Open3D WARNING] Read geometry::PointCloud failed: unknown file extension for ../test/Douglas Fir/61_85.txt (format: auto).\u001b[0;m\n",
      "Warning: No points found in file 61_85.txt. Trying NumPy fallback.\n",
      "\u001b[1;33m[Open3D WARNING] Read geometry::PointCloud failed: unknown file extension for ../test/Spruce/35_34.txt (format: auto).\u001b[0;m\n",
      "Warning: No points found in file 35_34.txt. Trying NumPy fallback.\n"
     ]
    },
    {
     "name": "stderr",
     "output_type": "stream",
     "text": [
      "Extracting FPFH Features:  34%|███▍      | 46/134 [00:04<00:04, 18.04it/s]"
     ]
    },
    {
     "name": "stdout",
     "output_type": "stream",
     "text": [
      "\u001b[1;33m[Open3D WARNING] Read geometry::PointCloud failed: unknown file extension for ../test/Spruce/35_7.txt (format: auto).\u001b[0;m\n",
      "Warning: No points found in file 35_7.txt. Trying NumPy fallback.\n",
      "\u001b[1;33m[Open3D WARNING] Read geometry::PointCloud failed: unknown file extension for ../test/Spruce/64_43.txt (format: auto).\u001b[0;m\n",
      "Warning: No points found in file 64_43.txt. Trying NumPy fallback.\n",
      "\u001b[1;33m[Open3D WARNING] Read geometry::PointCloud failed: unknown file extension for ../test/Spruce/65_15.txt (format: auto).\u001b[0;m\n",
      "Warning: No points found in file 65_15.txt. Trying NumPy fallback.\n",
      "\u001b[1;33m[Open3D WARNING] Read geometry::PointCloud failed: unknown file extension for ../test/Spruce/35_1.txt (format: auto).\u001b[0;m\n",
      "Warning: No points found in file 35_1.txt. Trying NumPy fallback.\n",
      "\u001b[1;33m[Open3D WARNING] Read geometry::PointCloud failed: unknown file extension for ../test/Spruce/34_17.txt (format: auto).\u001b[0;m\n",
      "Warning: No points found in file 34_17.txt. Trying NumPy fallback.\n"
     ]
    },
    {
     "name": "stderr",
     "output_type": "stream",
     "text": [
      "Extracting FPFH Features:  39%|███▉      | 52/134 [00:04<00:04, 19.24it/s]"
     ]
    },
    {
     "name": "stdout",
     "output_type": "stream",
     "text": [
      "\u001b[1;33m[Open3D WARNING] Read geometry::PointCloud failed: unknown file extension for ../test/Spruce/35_97.txt (format: auto).\u001b[0;m\n",
      "Warning: No points found in file 35_97.txt. Trying NumPy fallback.\n",
      "\u001b[1;33m[Open3D WARNING] Read geometry::PointCloud failed: unknown file extension for ../test/Spruce/35_87.txt (format: auto).\u001b[0;m\n",
      "Warning: No points found in file 35_87.txt. Trying NumPy fallback.\n",
      "\u001b[1;33m[Open3D WARNING] Read geometry::PointCloud failed: unknown file extension for ../test/Spruce/35_86.txt (format: auto).\u001b[0;m\n",
      "Warning: No points found in file 35_86.txt. Trying NumPy fallback.\n",
      "\u001b[1;33m[Open3D WARNING] Read geometry::PointCloud failed: unknown file extension for ../test/Spruce/65_48.txt (format: auto).\u001b[0;m\n",
      "Warning: No points found in file 65_48.txt. Trying NumPy fallback.\n",
      "\u001b[1;33m[Open3D WARNING] Read geometry::PointCloud failed: unknown file extension for ../test/Spruce/35_91.txt (format: auto).\u001b[0;m\n",
      "Warning: No points found in file 35_91.txt. Trying NumPy fallback.\n"
     ]
    },
    {
     "name": "stderr",
     "output_type": "stream",
     "text": [
      "Extracting FPFH Features:  41%|████      | 55/134 [00:04<00:04, 16.71it/s]"
     ]
    },
    {
     "name": "stdout",
     "output_type": "stream",
     "text": [
      "\u001b[1;33m[Open3D WARNING] Read geometry::PointCloud failed: unknown file extension for ../test/Spruce/35_85.txt (format: auto).\u001b[0;m\n",
      "Warning: No points found in file 35_85.txt. Trying NumPy fallback.\n",
      "\u001b[1;33m[Open3D WARNING] Read geometry::PointCloud failed: unknown file extension for ../test/Spruce/65_79.txt (format: auto).\u001b[0;m\n",
      "Warning: No points found in file 65_79.txt. Trying NumPy fallback.\n"
     ]
    },
    {
     "name": "stderr",
     "output_type": "stream",
     "text": [
      "Extracting FPFH Features:  44%|████▍     | 59/134 [00:04<00:03, 18.89it/s]"
     ]
    },
    {
     "name": "stdout",
     "output_type": "stream",
     "text": [
      "\u001b[1;33m[Open3D WARNING] Read geometry::PointCloud failed: unknown file extension for ../test/Spruce/65_51.txt (format: auto).\u001b[0;m\n",
      "Warning: No points found in file 65_51.txt. Trying NumPy fallback.\n",
      "\u001b[1;33m[Open3D WARNING] Read geometry::PointCloud failed: unknown file extension for ../test/Spruce/35_74.txt (format: auto).\u001b[0;m\n",
      "Warning: No points found in file 35_74.txt. Trying NumPy fallback.\n",
      "\u001b[1;33m[Open3D WARNING] Read geometry::PointCloud failed: unknown file extension for ../test/Spruce/64_11.txt (format: auto).\u001b[0;m\n",
      "Warning: No points found in file 64_11.txt. Trying NumPy fallback.\n",
      "\u001b[1;33m[Open3D WARNING] Read geometry::PointCloud failed: unknown file extension for ../test/Spruce/35_75.txt (format: auto).\u001b[0;m\n",
      "Warning: No points found in file 35_75.txt. Trying NumPy fallback.\n",
      "\u001b[1;33m[Open3D WARNING] Read geometry::PointCloud failed: unknown file extension for ../test/Spruce/35_49.txt (format: auto).\u001b[0;m\n",
      "Warning: No points found in file 35_49.txt. Trying NumPy fallback.\n",
      "\u001b[1;33m[Open3D WARNING] Read geometry::PointCloud failed: unknown file extension for ../test/Spruce/65_43.txt (format: auto).\u001b[0;m\n",
      "Warning: No points found in file 65_43.txt. Trying NumPy fallback.\n"
     ]
    },
    {
     "name": "stderr",
     "output_type": "stream",
     "text": [
      "Extracting FPFH Features:  47%|████▋     | 63/134 [00:04<00:03, 22.04it/s]"
     ]
    },
    {
     "name": "stdout",
     "output_type": "stream",
     "text": [
      "\u001b[1;33m[Open3D WARNING] Read geometry::PointCloud failed: unknown file extension for ../test/Spruce/65_24.txt (format: auto).\u001b[0;m\n",
      "Warning: No points found in file 65_24.txt. Trying NumPy fallback.\n"
     ]
    },
    {
     "name": "stderr",
     "output_type": "stream",
     "text": [
      "Extracting FPFH Features:  49%|████▉     | 66/134 [00:05<00:04, 16.63it/s]"
     ]
    },
    {
     "name": "stdout",
     "output_type": "stream",
     "text": [
      "\u001b[1;33m[Open3D WARNING] Read geometry::PointCloud failed: unknown file extension for ../test/Spruce/65_37.txt (format: auto).\u001b[0;m\n",
      "Warning: No points found in file 65_37.txt. Trying NumPy fallback.\n",
      "\u001b[1;33m[Open3D WARNING] Read geometry::PointCloud failed: unknown file extension for ../test/Spruce/65_6.txt (format: auto).\u001b[0;m\n",
      "Warning: No points found in file 65_6.txt. Trying NumPy fallback.\n",
      "\u001b[1;33m[Open3D WARNING] Read geometry::PointCloud failed: unknown file extension for ../test/Spruce/64_62.txt (format: auto).\u001b[0;m\n",
      "Warning: No points found in file 64_62.txt. Trying NumPy fallback.\n"
     ]
    },
    {
     "name": "stderr",
     "output_type": "stream",
     "text": [
      "Extracting FPFH Features:  54%|█████▎    | 72/134 [00:05<00:03, 18.88it/s]"
     ]
    },
    {
     "name": "stdout",
     "output_type": "stream",
     "text": [
      "\u001b[1;33m[Open3D WARNING] Read geometry::PointCloud failed: unknown file extension for ../test/Spruce/35_122.txt (format: auto).\u001b[0;m\n",
      "Warning: No points found in file 35_122.txt. Trying NumPy fallback.\n",
      "\u001b[1;33m[Open3D WARNING] Read geometry::PointCloud failed: unknown file extension for ../test/Spruce/65_35.txt (format: auto).\u001b[0;m\n",
      "Warning: No points found in file 65_35.txt. Trying NumPy fallback.\n"
     ]
    },
    {
     "name": "stderr",
     "output_type": "stream",
     "text": [
      "Extracting FPFH Features:  60%|█████▉    | 80/134 [00:05<00:02, 23.74it/s]"
     ]
    },
    {
     "name": "stdout",
     "output_type": "stream",
     "text": [
      "\u001b[1;33m[Open3D WARNING] Read geometry::PointCloud failed: unknown file extension for ../test/Pine/65_54.txt (format: auto).\u001b[0;m\n",
      "Warning: No points found in file 65_54.txt. Trying NumPy fallback.\n",
      "\u001b[1;33m[Open3D WARNING] Read PTS failed with exception: vector\u001b[0;m\n",
      "Warning: No points found in file 123.pts. Trying NumPy fallback.\n",
      "\u001b[1;33m[Open3D WARNING] Read PTS failed with exception: vector\u001b[0;m\n",
      "Warning: No points found in file 38.pts. Trying NumPy fallback.\n"
     ]
    },
    {
     "name": "stderr",
     "output_type": "stream",
     "text": [
      "Extracting FPFH Features:  63%|██████▎   | 84/134 [00:05<00:01, 25.14it/s]"
     ]
    },
    {
     "name": "stdout",
     "output_type": "stream",
     "text": [
      "\u001b[1;33m[Open3D WARNING] Read geometry::PointCloud failed: unknown file extension for ../test/Red Oak/Baum2_21 nrwl33- Cloud.txt (format: auto).\u001b[0;m\n",
      "Warning: No points found in file Baum2_21 nrwl33- Cloud.txt. Trying NumPy fallback.\n",
      "\u001b[1;33m[Open3D WARNING] Read geometry::PointCloud failed: unknown file extension for ../test/Red Oak/Baum0_13 thu_neust- Cloud.txt (format: auto).\u001b[0;m\n",
      "Warning: No points found in file Baum0_13 thu_neust- Cloud.txt. Trying NumPy fallback.\n",
      "\u001b[1;33m[Open3D WARNING] Read geometry::PointCloud failed: unknown file extension for ../test/Red Oak/Baum8_45 bwb2 - Cloud.txt (format: auto).\u001b[0;m\n",
      "Warning: No points found in file Baum8_45 bwb2 - Cloud.txt. Trying NumPy fallback.\n",
      "\u001b[1;33m[Open3D WARNING] Read geometry::PointCloud failed: unknown file extension for ../test/Red Oak/Baum9_418 brb_psnord- Cloud.txt (format: auto).\u001b[0;m\n",
      "Warning: No points found in file Baum9_418 brb_psnord- Cloud.txt. Trying NumPy fallback.\n"
     ]
    },
    {
     "name": "stderr",
     "output_type": "stream",
     "text": [
      "Extracting FPFH Features:  65%|██████▍   | 87/134 [00:06<00:02, 21.67it/s]"
     ]
    },
    {
     "name": "stdout",
     "output_type": "stream",
     "text": [
      "\u001b[1;33m[Open3D WARNING] Read geometry::PointCloud failed: unknown file extension for ../test/Red Oak/Baum2_559 nds_ro- Cloud.txt (format: auto).\u001b[0;m\n",
      "Warning: No points found in file Baum2_559 nds_ro- Cloud.txt. Trying NumPy fallback.\n",
      "\u001b[1;33m[Open3D WARNING] Read geometry::PointCloud failed: unknown file extension for ../test/Red Oak/Baum6_210 thu_neust- Cloud.txt (format: auto).\u001b[0;m\n",
      "Warning: No points found in file Baum6_210 thu_neust- Cloud.txt. Trying NumPy fallback.\n",
      "\u001b[1;33m[Open3D WARNING] Read geometry::PointCloud failed: unknown file extension for ../test/Red Oak/Baum7_208 brb_psnord- Cloud.txt (format: auto).\u001b[0;m\n",
      "Warning: No points found in file Baum7_208 brb_psnord- Cloud.txt. Trying NumPy fallback.\n"
     ]
    },
    {
     "name": "stderr",
     "output_type": "stream",
     "text": [
      "Extracting FPFH Features:  69%|██████▉   | 93/134 [00:06<00:02, 17.99it/s]"
     ]
    },
    {
     "name": "stdout",
     "output_type": "stream",
     "text": [
      "\u001b[1;33m[Open3D WARNING] Read geometry::PointCloud failed: unknown file extension for ../test/Red Oak/Baum3 - 467 bwb4- Cloud.txt (format: auto).\u001b[0;m\n",
      "Warning: No points found in file Baum3 - 467 bwb4- Cloud.txt. Trying NumPy fallback.\n",
      "\u001b[1;33m[Open3D WARNING] Read geometry::PointCloud failed: unknown file extension for ../test/Red Oak/Baum5_57 nrwl30 - Cloud.txt (format: auto).\u001b[0;m\n",
      "Warning: No points found in file Baum5_57 nrwl30 - Cloud.txt. Trying NumPy fallback.\n",
      "\u001b[1;33m[Open3D WARNING] Read geometry::PointCloud failed: unknown file extension for ../test/Red Oak/Baum2_59 thu_neust- Cloud.txt (format: auto).\u001b[0;m\n",
      "Warning: No points found in file Baum2_59 thu_neust- Cloud.txt. Trying NumPy fallback.\n",
      "\u001b[1;33m[Open3D WARNING] Read geometry::PointCloud failed: unknown file extension for ../test/Red Oak/Baum8_251 nds_ro- Cloud.txt (format: auto).\u001b[0;m\n",
      "Warning: No points found in file Baum8_251 nds_ro- Cloud.txt. Trying NumPy fallback.\n"
     ]
    },
    {
     "name": "stderr",
     "output_type": "stream",
     "text": [
      "Extracting FPFH Features:  71%|███████   | 95/134 [00:06<00:02, 16.87it/s]"
     ]
    },
    {
     "name": "stdout",
     "output_type": "stream",
     "text": [
      "\u001b[1;33m[Open3D WARNING] Read geometry::PointCloud failed: unknown file extension for ../test/Red Oak/Baum1_154 nrwl30- Cloud.txt (format: auto).\u001b[0;m\n",
      "Warning: No points found in file Baum1_154 nrwl30- Cloud.txt. Trying NumPy fallback.\n",
      "\u001b[1;33m[Open3D WARNING] Read geometry::PointCloud failed: unknown file extension for ../test/Red Oak/Baum9_149 nrwl30- Cloud.txt (format: auto).\u001b[0;m\n",
      "Warning: No points found in file Baum9_149 nrwl30- Cloud.txt. Trying NumPy fallback.\n",
      "\u001b[1;33m[Open3D WARNING] Read geometry::PointCloud failed: unknown file extension for ../test/Red Oak/Baum9_188 thu_neust- Cloud.txt (format: auto).\u001b[0;m\n",
      "Warning: No points found in file Baum9_188 thu_neust- Cloud.txt. Trying NumPy fallback.\n"
     ]
    },
    {
     "name": "stderr",
     "output_type": "stream",
     "text": [
      "Extracting FPFH Features:  74%|███████▍  | 99/134 [00:07<00:02, 14.22it/s]"
     ]
    },
    {
     "name": "stdout",
     "output_type": "stream",
     "text": [
      "\u001b[1;33m[Open3D WARNING] Read geometry::PointCloud failed: unknown file extension for ../test/Red Oak/Baum6_434 nrwl33- Cloud.txt (format: auto).\u001b[0;m\n",
      "Warning: No points found in file Baum6_434 nrwl33- Cloud.txt. Trying NumPy fallback.\n",
      "\u001b[1;33m[Open3D WARNING] Read geometry::PointCloud failed: unknown file extension for ../test/Red Oak/Baum4_252 nrwl33- Cloud.txt (format: auto).\u001b[0;m\n",
      "Warning: No points found in file Baum4_252 nrwl33- Cloud.txt. Trying NumPy fallback.\n",
      "\u001b[1;33m[Open3D WARNING] Read geometry::PointCloud failed: unknown file extension for ../test/Red Oak/Baum4_613 thu_jena- Cloud.txt (format: auto).\u001b[0;m\n",
      "Warning: No points found in file Baum4_613 thu_jena- Cloud.txt. Trying NumPy fallback.\n"
     ]
    },
    {
     "name": "stderr",
     "output_type": "stream",
     "text": [
      "Extracting FPFH Features:  75%|███████▌  | 101/134 [00:07<00:02, 13.69it/s]"
     ]
    },
    {
     "name": "stdout",
     "output_type": "stream",
     "text": [
      "\u001b[1;33m[Open3D WARNING] Read geometry::PointCloud failed: unknown file extension for ../test/Red Oak/Baum8_170 nrwl30- Cloud.txt (format: auto).\u001b[0;m\n",
      "Warning: No points found in file Baum8_170 nrwl30- Cloud.txt. Trying NumPy fallback.\n",
      "\u001b[1;33m[Open3D WARNING] Read geometry::PointCloud failed: unknown file extension for ../test/Red Oak/Baum9_288 bwb4 - Cloud.txt (format: auto).\u001b[0;m\n",
      "Warning: No points found in file Baum9_288 bwb4 - Cloud.txt. Trying NumPy fallback.\n"
     ]
    },
    {
     "name": "stderr",
     "output_type": "stream",
     "text": [
      "Extracting FPFH Features:  79%|███████▉  | 106/134 [00:07<00:01, 14.29it/s]"
     ]
    },
    {
     "name": "stdout",
     "output_type": "stream",
     "text": [
      "\u001b[1;33m[Open3D WARNING] Read PTS failed with exception: vector\u001b[0;m\n",
      "Warning: No points found in file 41.pts. Trying NumPy fallback.\n",
      "\u001b[1;33m[Open3D WARNING] Read PTS failed with exception: vector\u001b[0;m\n",
      "Warning: No points found in file 82.pts. Trying NumPy fallback.\n"
     ]
    },
    {
     "name": "stderr",
     "output_type": "stream",
     "text": [
      "Extracting FPFH Features:  85%|████████▌ | 114/134 [00:08<00:01, 12.61it/s]"
     ]
    },
    {
     "name": "stdout",
     "output_type": "stream",
     "text": [
      "\u001b[1;33m[Open3D WARNING] Read PTS failed with exception: vector\u001b[0;m\n",
      "Warning: No points found in file 20.pts. Trying NumPy fallback.\n"
     ]
    },
    {
     "name": "stderr",
     "output_type": "stream",
     "text": [
      "Extracting FPFH Features:  87%|████████▋ | 116/134 [00:08<00:01, 11.55it/s]"
     ]
    },
    {
     "name": "stdout",
     "output_type": "stream",
     "text": [
      "\u001b[1;33m[Open3D WARNING] Read PTS failed with exception: vector\u001b[0;m\n",
      "Warning: No points found in file 36.pts. Trying NumPy fallback.\n",
      "\u001b[1;33m[Open3D WARNING] Read PTS failed with exception: vector\u001b[0;m\n",
      "Warning: No points found in file 124.pts. Trying NumPy fallback.\n"
     ]
    },
    {
     "name": "stderr",
     "output_type": "stream",
     "text": [
      "Extracting FPFH Features:  90%|█████████ | 121/134 [00:08<00:01, 12.15it/s]"
     ]
    },
    {
     "name": "stdout",
     "output_type": "stream",
     "text": [
      "\u001b[1;33m[Open3D WARNING] Read PTS failed with exception: vector\u001b[0;m\n",
      "Warning: No points found in file 284.pts. Trying NumPy fallback.\n",
      "\u001b[1;33m[Open3D WARNING] Read PTS failed with exception: vector\u001b[0;m\n",
      "Warning: No points found in file 17.pts. Trying NumPy fallback.\n"
     ]
    },
    {
     "name": "stderr",
     "output_type": "stream",
     "text": [
      "Extracting FPFH Features: 100%|██████████| 134/134 [00:09<00:00, 13.93it/s]"
     ]
    },
    {
     "name": "stdout",
     "output_type": "stream",
     "text": [
      "Feature extraction complete.\n",
      "Shape of training features: (557, 33)\n",
      "Shape of test features: (134, 33)\n"
     ]
    },
    {
     "name": "stderr",
     "output_type": "stream",
     "text": [
      "\n"
     ]
    }
   ],
   "source": [
    "VOXEL_SIZE = 0.2  \n",
    "\n",
    "def process_files_for_features(file_paths, feature_dim=33, voxel_size=0.2):\n",
    "    \"\"\"Extract FPFH features from point cloud files\"\"\"\n",
    "    features_list = []\n",
    "    failed_files = 0\n",
    "    \n",
    "    # Use tqdm to create a nice progress bar\n",
    "    for path in tqdm(file_paths, desc=\"Extracting FPFH Features\"):\n",
    "        try:\n",
    "            pcd = load_point_cloud(path)\n",
    "            if pcd and len(np.asarray(pcd.points)) > 0:\n",
    "                # Extract FPFH features with provided voxel size\n",
    "                features = extract_fpfh_features(pcd, voxel_size=voxel_size)\n",
    "                if features is not None and len(features) == feature_dim:\n",
    "                    features_list.append(features)\n",
    "                else:\n",
    "                    # Handle cases where features are None or wrong dimension\n",
    "                    features_list.append(np.zeros(feature_dim))\n",
    "                    failed_files += 1\n",
    "            else:\n",
    "                # Handle cases where a file fails to load\n",
    "                features_list.append(np.zeros(feature_dim))\n",
    "                failed_files += 1\n",
    "        except Exception as e:\n",
    "            print(f\"Error processing {path.name}: {e}\")\n",
    "            features_list.append(np.zeros(feature_dim))\n",
    "            failed_files += 1\n",
    "    \n",
    "    if failed_files > 0:\n",
    "        print(f\"Warning: {failed_files} files failed to process properly\")\n",
    "            \n",
    "    return np.array(features_list)\n",
    "\n",
    "# Process training and test data\n",
    "print(\"Processing training data...\")\n",
    "X_train_features = process_files_for_features(X_train_paths, voxel_size=VOXEL_SIZE)\n",
    "\n",
    "print(\"Processing testing data...\")\n",
    "X_test_features = process_files_for_features(X_test_paths, voxel_size=VOXEL_SIZE)\n",
    "\n",
    "print(\"Feature extraction complete.\")\n",
    "print(f\"Shape of training features: {X_train_features.shape}\")\n",
    "print(f\"Shape of test features: {X_test_features.shape}\")\n",
    "\n",
    "# Check for any issues\n",
    "if X_train_features.shape[0] == 0:\n",
    "    print(\"❌ No training features extracted!\")\n",
    "if X_test_features.shape[0] == 0:\n",
    "    print(\"❌ No test features extracted!\")"
   ]
  },
  {
   "cell_type": "code",
   "execution_count": 29,
   "id": "0cf762ab",
   "metadata": {},
   "outputs": [
    {
     "name": "stdout",
     "output_type": "stream",
     "text": [
      "Evaluating the optimized model...\n"
     ]
    },
    {
     "ename": "NotFittedError",
     "evalue": "This SVC instance is not fitted yet. Call 'fit' with appropriate arguments before using this estimator.",
     "output_type": "error",
     "traceback": [
      "\u001b[31m---------------------------------------------------------------------------\u001b[39m",
      "\u001b[31mNotFittedError\u001b[39m                            Traceback (most recent call last)",
      "\u001b[36mCell\u001b[39m\u001b[36m \u001b[39m\u001b[32mIn[29]\u001b[39m\u001b[32m, line 11\u001b[39m\n\u001b[32m      7\u001b[39m best_svm = svm_classifier\n\u001b[32m      9\u001b[39m \u001b[38;5;66;03m#X_test_scaled = scaler.transform(X_test_features)\u001b[39;00m\n\u001b[32m---> \u001b[39m\u001b[32m11\u001b[39m y_pred_optimized = \u001b[43mbest_svm\u001b[49m\u001b[43m.\u001b[49m\u001b[43mpredict\u001b[49m\u001b[43m(\u001b[49m\u001b[43mX_test_scaled\u001b[49m\u001b[43m)\u001b[49m\n\u001b[32m     13\u001b[39m \u001b[38;5;66;03m# Also evaluate the default model for comparison\u001b[39;00m\n\u001b[32m     14\u001b[39m y_pred_default = svm_classifier.predict(X_test_scaled)\n",
      "\u001b[36mFile \u001b[39m\u001b[32m~/work/prjt/.venv/lib/python3.11/site-packages/sklearn/svm/_base.py:809\u001b[39m, in \u001b[36mBaseSVC.predict\u001b[39m\u001b[34m(self, X)\u001b[39m\n\u001b[32m    792\u001b[39m \u001b[38;5;28;01mdef\u001b[39;00m\u001b[38;5;250m \u001b[39m\u001b[34mpredict\u001b[39m(\u001b[38;5;28mself\u001b[39m, X):\n\u001b[32m    793\u001b[39m \u001b[38;5;250m    \u001b[39m\u001b[33;03m\"\"\"Perform classification on samples in X.\u001b[39;00m\n\u001b[32m    794\u001b[39m \n\u001b[32m    795\u001b[39m \u001b[33;03m    For an one-class model, +1 or -1 is returned.\u001b[39;00m\n\u001b[32m   (...)\u001b[39m\u001b[32m    807\u001b[39m \u001b[33;03m        Class labels for samples in X.\u001b[39;00m\n\u001b[32m    808\u001b[39m \u001b[33;03m    \"\"\"\u001b[39;00m\n\u001b[32m--> \u001b[39m\u001b[32m809\u001b[39m     \u001b[43mcheck_is_fitted\u001b[49m\u001b[43m(\u001b[49m\u001b[38;5;28;43mself\u001b[39;49m\u001b[43m)\u001b[49m\n\u001b[32m    810\u001b[39m     \u001b[38;5;28;01mif\u001b[39;00m \u001b[38;5;28mself\u001b[39m.break_ties \u001b[38;5;129;01mand\u001b[39;00m \u001b[38;5;28mself\u001b[39m.decision_function_shape == \u001b[33m\"\u001b[39m\u001b[33movo\u001b[39m\u001b[33m\"\u001b[39m:\n\u001b[32m    811\u001b[39m         \u001b[38;5;28;01mraise\u001b[39;00m \u001b[38;5;167;01mValueError\u001b[39;00m(\n\u001b[32m    812\u001b[39m             \u001b[33m\"\u001b[39m\u001b[33mbreak_ties must be False when decision_function_shape is \u001b[39m\u001b[33m'\u001b[39m\u001b[33movo\u001b[39m\u001b[33m'\u001b[39m\u001b[33m\"\u001b[39m\n\u001b[32m    813\u001b[39m         )\n",
      "\u001b[36mFile \u001b[39m\u001b[32m~/work/prjt/.venv/lib/python3.11/site-packages/sklearn/utils/validation.py:1754\u001b[39m, in \u001b[36mcheck_is_fitted\u001b[39m\u001b[34m(estimator, attributes, msg, all_or_any)\u001b[39m\n\u001b[32m   1751\u001b[39m     \u001b[38;5;28;01mreturn\u001b[39;00m\n\u001b[32m   1753\u001b[39m \u001b[38;5;28;01mif\u001b[39;00m \u001b[38;5;129;01mnot\u001b[39;00m _is_fitted(estimator, attributes, all_or_any):\n\u001b[32m-> \u001b[39m\u001b[32m1754\u001b[39m     \u001b[38;5;28;01mraise\u001b[39;00m NotFittedError(msg % {\u001b[33m\"\u001b[39m\u001b[33mname\u001b[39m\u001b[33m\"\u001b[39m: \u001b[38;5;28mtype\u001b[39m(estimator).\u001b[34m__name__\u001b[39m})\n",
      "\u001b[31mNotFittedError\u001b[39m: This SVC instance is not fitted yet. Call 'fit' with appropriate arguments before using this estimator."
     ]
    }
   ],
   "source": [
    "print(\"Evaluating the optimized model...\")\n",
    "scaler = StandardScaler()\n",
    "X_train_scaled = scaler.fit_transform(X_train_features)\n",
    "X_test_scaled = scaler.transform(X_test_features)\n",
    "\n",
    "svm_classifier = SVC(kernel='rbf', C=10, gamma='scale', class_weight='balanced', random_state=42)\n",
    "best_svm = svm_classifier\n",
    "#X_test_scaled = scaler.transform(X_test_features)\n",
    "\n",
    "y_pred_optimized = best_svm.predict(X_test_scaled)\n",
    "\n",
    "# Also evaluate the default model for comparison\n",
    "y_pred_default = svm_classifier.predict(X_test_scaled)\n",
    "\n",
    "# Get the unique class names from both train and test sets\n",
    "train_classes = set(y_train)\n",
    "test_classes = set(y_test)\n",
    "all_classes = sorted(list(train_classes | test_classes))\n",
    "\n",
    "print(\"\\n\" + \"=\"*70)\n",
    "print(\"          FPFH + RBF SVM Classification Results (OPTIMIZED)\")\n",
    "print(\"=\"*70)\n",
    "\n",
    "# Compare accuracies\n",
    "accuracy_optimized = accuracy_score(y_test, y_pred_optimized)\n",
    "accuracy_default = accuracy_score(y_test, y_pred_default)\n",
    "\n",
    "print(f\"Optimized Model Accuracy: {accuracy_optimized:.4f} ({accuracy_optimized*100:.2f}%)\")\n",
    "print(f\"Default Model Accuracy:   {accuracy_default:.4f} ({accuracy_default*100:.2f}%)\")\n",
    "print(f\"Improvement: {(accuracy_optimized - accuracy_default)*100:+.2f} percentage points\")\n",
    "\n",
    "# Detailed classification report for optimized model\n",
    "print(f\"\\nNumber of test samples: {len(y_test)}\")\n",
    "print(f\"Number of species: {len(all_classes)}\")\n",
    "print(f\"Species: {', '.join(all_classes)}\")\n",
    "\n",
    "print(f\"\\nDetailed Classification Report (Optimized Model):\")\n",
    "print(\"-\" * 70)\n",
    "report_optimized = classification_report(y_test, y_pred_optimized, target_names=all_classes, zero_division=0)\n",
    "print(report_optimized)\n",
    "\n",
    "# Additional metrics\n",
    "from sklearn.metrics import confusion_matrix\n",
    "import pandas as pd\n",
    "\n",
    "print(\"\\nConfusion Matrix (Optimized Model):\")\n",
    "print(\"-\" * 40)\n",
    "cm_optimized = confusion_matrix(y_test, y_pred_optimized, labels=all_classes)\n",
    "cm_df_optimized = pd.DataFrame(cm_optimized, index=all_classes, columns=all_classes)\n",
    "print(cm_df_optimized)\n",
    "\n",
    "# Per-class accuracy breakdown for optimized model\n",
    "print(f\"\\nPer-class Performance (Optimized Model):\")\n",
    "print(\"-\" * 50)\n",
    "for i, species in enumerate(all_classes):\n",
    "    if species in set(y_test):\n",
    "        # Get indices for this species in test set\n",
    "        species_indices = [j for j, label in enumerate(y_test) if label == species]\n",
    "        species_predictions_opt = [y_pred_optimized[j] for j in species_indices]\n",
    "        species_predictions_def = [y_pred_default[j] for j in species_indices]\n",
    "        \n",
    "        species_accuracy_opt = sum(1 for pred in species_predictions_opt if pred == species) / len(species_predictions_opt)\n",
    "        species_accuracy_def = sum(1 for pred in species_predictions_def if pred == species) / len(species_predictions_def)\n",
    "        improvement = species_accuracy_opt - species_accuracy_def\n",
    "        \n",
    "        print(f\"{species:<15}: {species_accuracy_opt:.4f} (vs {species_accuracy_def:.4f}, {improvement:+.4f}) | {len(species_indices):3d} samples\")\n",
    "\n",
    "print(f\"\\nBest Model Parameters:\")\n",
    "print(f\"C = {best_svm.C}\")\n",
    "print(f\"gamma = {best_svm.gamma}\")\n",
    "print(f\"kernel = {best_svm.kernel}\")\n",
    "\n",
    "print(f\"\\n{'='*70}\")\n",
    "print(\"Optimized pipeline completed successfully!\")"
   ]
  },
  {
   "cell_type": "code",
   "execution_count": null,
   "id": "70613061",
   "metadata": {},
   "outputs": [
    {
     "name": "stdout",
     "output_type": "stream",
     "text": [
      "Evaluating the optimized model...\n",
      "\n",
      "======================================================================\n",
      "          FPFH + RBF SVM Classification Results (OPTIMIZED)\n",
      "======================================================================\n",
      "Optimized Model Accuracy: 0.7910 (79.10%)\n",
      "Default Model Accuracy:   0.6866 (68.66%)\n",
      "Improvement: +10.45 percentage points\n",
      "\n",
      "Number of test samples: 134\n",
      "Number of species: 7\n",
      "Species: Ash, Beech, Douglas Fir, Oak, Pine, Red Oak, Spruce\n",
      "\n",
      "Detailed Classification Report (Optimized Model):\n",
      "----------------------------------------------------------------------\n",
      "              precision    recall  f1-score   support\n",
      "\n",
      "         Ash       0.25      0.29      0.27         7\n",
      "       Beech       0.87      0.84      0.86        32\n",
      " Douglas Fir       0.82      0.86      0.84        36\n",
      "         Oak       0.67      0.50      0.57         4\n",
      "        Pine       0.67      0.80      0.73         5\n",
      "     Red Oak       0.68      0.79      0.73        19\n",
      "      Spruce       0.96      0.81      0.88        31\n",
      "\n",
      "    accuracy                           0.79       134\n",
      "   macro avg       0.70      0.70      0.70       134\n",
      "weighted avg       0.80      0.79      0.79       134\n",
      "\n",
      "\n",
      "Confusion Matrix (Optimized Model):\n",
      "----------------------------------------\n",
      "             Ash  Beech  Douglas Fir  Oak  Pine  Red Oak  Spruce\n",
      "Ash            2      3            0    0     0        2       0\n",
      "Beech          4     27            0    0     0        1       0\n",
      "Douglas Fir    0      0           31    0     2        2       1\n",
      "Oak            0      1            0    2     0        1       0\n",
      "Pine           0      0            1    0     4        0       0\n",
      "Red Oak        2      0            1    1     0       15       0\n",
      "Spruce         0      0            5    0     0        1      25\n",
      "\n",
      "Per-class Performance (Optimized Model):\n",
      "--------------------------------------------------\n",
      "Ash            : 0.2857 (vs 0.5714, -0.2857) |   7 samples\n",
      "Beech          : 0.8438 (vs 0.5312, +0.3125) |  32 samples\n",
      "Douglas Fir    : 0.8611 (vs 0.7778, +0.0833) |  36 samples\n",
      "Oak            : 0.5000 (vs 0.7500, -0.2500) |   4 samples\n",
      "Pine           : 0.8000 (vs 0.8000, +0.0000) |   5 samples\n",
      "Red Oak        : 0.7895 (vs 0.6316, +0.1579) |  19 samples\n",
      "Spruce         : 0.8065 (vs 0.7742, +0.0323) |  31 samples\n",
      "\n",
      "Best Model Parameters:\n",
      "C = 100\n",
      "gamma = auto\n",
      "kernel = rbf\n",
      "\n",
      "======================================================================\n",
      "Optimized pipeline completed successfully!\n"
     ]
    }
   ],
   "source": [
    "print(\"Evaluating the optimized model...\")\n",
    "y_pred_optimized = best_svm.predict(X_test_scaled)\n",
    "\n",
    "# Also evaluate the default model for comparison\n",
    "y_pred_default = svm_classifier.predict(X_test_scaled)\n",
    "\n",
    "# Get the unique class names from both train and test sets\n",
    "train_classes = set(y_train)\n",
    "test_classes = set(y_test)\n",
    "all_classes = sorted(list(train_classes | test_classes))\n",
    "\n",
    "print(\"\\n\" + \"=\"*70)\n",
    "print(\"          FPFH + RBF SVM Classification Results (OPTIMIZED)\")\n",
    "print(\"=\"*70)\n",
    "\n",
    "# Compare accuracies\n",
    "accuracy_optimized = accuracy_score(y_test, y_pred_optimized)\n",
    "accuracy_default = accuracy_score(y_test, y_pred_default)\n",
    "\n",
    "print(f\"Optimized Model Accuracy: {accuracy_optimized:.4f} ({accuracy_optimized*100:.2f}%)\")\n",
    "print(f\"Default Model Accuracy:   {accuracy_default:.4f} ({accuracy_default*100:.2f}%)\")\n",
    "print(f\"Improvement: {(accuracy_optimized - accuracy_default)*100:+.2f} percentage points\")\n",
    "\n",
    "# Detailed classification report for optimized model\n",
    "print(f\"\\nNumber of test samples: {len(y_test)}\")\n",
    "print(f\"Number of species: {len(all_classes)}\")\n",
    "print(f\"Species: {', '.join(all_classes)}\")\n",
    "\n",
    "print(f\"\\nDetailed Classification Report (Optimized Model):\")\n",
    "print(\"-\" * 70)\n",
    "report_optimized = classification_report(y_test, y_pred_optimized, target_names=all_classes, zero_division=0)\n",
    "print(report_optimized)\n",
    "\n",
    "# Additional metrics\n",
    "from sklearn.metrics import confusion_matrix\n",
    "import pandas as pd\n",
    "\n",
    "print(\"\\nConfusion Matrix (Optimized Model):\")\n",
    "print(\"-\" * 40)\n",
    "cm_optimized = confusion_matrix(y_test, y_pred_optimized, labels=all_classes)\n",
    "cm_df_optimized = pd.DataFrame(cm_optimized, index=all_classes, columns=all_classes)\n",
    "print(cm_df_optimized)\n",
    "\n",
    "# Per-class accuracy breakdown for optimized model\n",
    "print(f\"\\nPer-class Performance (Optimized Model):\")\n",
    "print(\"-\" * 50)\n",
    "for i, species in enumerate(all_classes):\n",
    "    if species in set(y_test):\n",
    "        # Get indices for this species in test set\n",
    "        species_indices = [j for j, label in enumerate(y_test) if label == species]\n",
    "        species_predictions_opt = [y_pred_optimized[j] for j in species_indices]\n",
    "        species_predictions_def = [y_pred_default[j] for j in species_indices]\n",
    "        \n",
    "        species_accuracy_opt = sum(1 for pred in species_predictions_opt if pred == species) / len(species_predictions_opt)\n",
    "        species_accuracy_def = sum(1 for pred in species_predictions_def if pred == species) / len(species_predictions_def)\n",
    "        improvement = species_accuracy_opt - species_accuracy_def\n",
    "        \n",
    "        print(f\"{species:<15}: {species_accuracy_opt:.4f} (vs {species_accuracy_def:.4f}, {improvement:+.4f}) | {len(species_indices):3d} samples\")\n",
    "\n",
    "print(f\"\\nBest Model Parameters:\")\n",
    "print(f\"C = {best_svm.C}\")\n",
    "print(f\"gamma = {best_svm.gamma}\")\n",
    "print(f\"kernel = {best_svm.kernel}\")\n",
    "\n",
    "print(f\"\\n{'='*70}\")\n",
    "print(\"Optimized pipeline completed successfully!\")"
   ]
  },
  {
   "cell_type": "code",
   "execution_count": null,
   "id": "64a78c4c",
   "metadata": {},
   "outputs": [
    {
     "name": "stdout",
     "output_type": "stream",
     "text": [
      "Evaluating the optimized model...\n",
      "\n",
      "======================================================================\n",
      "          FPFH + RBF SVM Classification Results (OPTIMIZED)\n",
      "======================================================================\n",
      "Optimized Model Accuracy: 0.7910 (79.10%)\n",
      "Default Model Accuracy:   0.6866 (68.66%)\n",
      "Improvement: +10.45 percentage points\n",
      "\n",
      "Number of test samples: 134\n",
      "Number of species: 7\n",
      "Species: Ash, Beech, Douglas Fir, Oak, Pine, Red Oak, Spruce\n",
      "\n",
      "Detailed Classification Report (Optimized Model):\n",
      "----------------------------------------------------------------------\n",
      "              precision    recall  f1-score   support\n",
      "\n",
      "         Ash       0.25      0.29      0.27         7\n",
      "       Beech       0.87      0.84      0.86        32\n",
      " Douglas Fir       0.82      0.86      0.84        36\n",
      "         Oak       0.67      0.50      0.57         4\n",
      "        Pine       0.67      0.80      0.73         5\n",
      "     Red Oak       0.68      0.79      0.73        19\n",
      "      Spruce       0.96      0.81      0.88        31\n",
      "\n",
      "    accuracy                           0.79       134\n",
      "   macro avg       0.70      0.70      0.70       134\n",
      "weighted avg       0.80      0.79      0.79       134\n",
      "\n",
      "\n",
      "Confusion Matrix (Optimized Model):\n",
      "----------------------------------------\n",
      "             Ash  Beech  Douglas Fir  Oak  Pine  Red Oak  Spruce\n",
      "Ash            2      3            0    0     0        2       0\n",
      "Beech          4     27            0    0     0        1       0\n",
      "Douglas Fir    0      0           31    0     2        2       1\n",
      "Oak            0      1            0    2     0        1       0\n",
      "Pine           0      0            1    0     4        0       0\n",
      "Red Oak        2      0            1    1     0       15       0\n",
      "Spruce         0      0            5    0     0        1      25\n",
      "\n",
      "Per-class Performance (Optimized Model):\n",
      "--------------------------------------------------\n",
      "Ash            : 0.2857 (vs 0.5714, -0.2857) |   7 samples\n",
      "Beech          : 0.8438 (vs 0.5312, +0.3125) |  32 samples\n",
      "Douglas Fir    : 0.8611 (vs 0.7778, +0.0833) |  36 samples\n",
      "Oak            : 0.5000 (vs 0.7500, -0.2500) |   4 samples\n",
      "Pine           : 0.8000 (vs 0.8000, +0.0000) |   5 samples\n",
      "Red Oak        : 0.7895 (vs 0.6316, +0.1579) |  19 samples\n",
      "Spruce         : 0.8065 (vs 0.7742, +0.0323) |  31 samples\n",
      "\n",
      "Best Model Parameters:\n",
      "C = 100\n",
      "gamma = auto\n",
      "kernel = rbf\n",
      "\n",
      "======================================================================\n",
      "Optimized pipeline completed successfully!\n"
     ]
    }
   ],
   "source": [
    "print(\"Evaluating the optimized model...\")\n",
    "y_pred_optimized = best_svm.predict(X_test_scaled)\n",
    "\n",
    "# Also evaluate the default model for comparison\n",
    "y_pred_default = svm_classifier.predict(X_test_scaled)\n",
    "\n",
    "# Get the unique class names from both train and test sets\n",
    "train_classes = set(y_train)\n",
    "test_classes = set(y_test)\n",
    "all_classes = sorted(list(train_classes | test_classes))\n",
    "\n",
    "print(\"\\n\" + \"=\"*70)\n",
    "print(\"          FPFH + RBF SVM Classification Results (OPTIMIZED)\")\n",
    "print(\"=\"*70)\n",
    "\n",
    "# Compare accuracies\n",
    "accuracy_optimized = accuracy_score(y_test, y_pred_optimized)\n",
    "accuracy_default = accuracy_score(y_test, y_pred_default)\n",
    "\n",
    "print(f\"Optimized Model Accuracy: {accuracy_optimized:.4f} ({accuracy_optimized*100:.2f}%)\")\n",
    "print(f\"Default Model Accuracy:   {accuracy_default:.4f} ({accuracy_default*100:.2f}%)\")\n",
    "print(f\"Improvement: {(accuracy_optimized - accuracy_default)*100:+.2f} percentage points\")\n",
    "\n",
    "# Detailed classification report for optimized model\n",
    "print(f\"\\nNumber of test samples: {len(y_test)}\")\n",
    "print(f\"Number of species: {len(all_classes)}\")\n",
    "print(f\"Species: {', '.join(all_classes)}\")\n",
    "\n",
    "print(f\"\\nDetailed Classification Report (Optimized Model):\")\n",
    "print(\"-\" * 70)\n",
    "report_optimized = classification_report(y_test, y_pred_optimized, target_names=all_classes, zero_division=0)\n",
    "print(report_optimized)\n",
    "\n",
    "# Additional metrics\n",
    "from sklearn.metrics import confusion_matrix\n",
    "import pandas as pd\n",
    "\n",
    "print(\"\\nConfusion Matrix (Optimized Model):\")\n",
    "print(\"-\" * 40)\n",
    "cm_optimized = confusion_matrix(y_test, y_pred_optimized, labels=all_classes)\n",
    "cm_df_optimized = pd.DataFrame(cm_optimized, index=all_classes, columns=all_classes)\n",
    "print(cm_df_optimized)\n",
    "\n",
    "# Per-class accuracy breakdown for optimized model\n",
    "print(f\"\\nPer-class Performance (Optimized Model):\")\n",
    "print(\"-\" * 50)\n",
    "for i, species in enumerate(all_classes):\n",
    "    if species in set(y_test):\n",
    "        # Get indices for this species in test set\n",
    "        species_indices = [j for j, label in enumerate(y_test) if label == species]\n",
    "        species_predictions_opt = [y_pred_optimized[j] for j in species_indices]\n",
    "        species_predictions_def = [y_pred_default[j] for j in species_indices]\n",
    "        \n",
    "        species_accuracy_opt = sum(1 for pred in species_predictions_opt if pred == species) / len(species_predictions_opt)\n",
    "        species_accuracy_def = sum(1 for pred in species_predictions_def if pred == species) / len(species_predictions_def)\n",
    "        improvement = species_accuracy_opt - species_accuracy_def\n",
    "        \n",
    "        print(f\"{species:<15}: {species_accuracy_opt:.4f} (vs {species_accuracy_def:.4f}, {improvement:+.4f}) | {len(species_indices):3d} samples\")\n",
    "\n",
    "print(f\"\\nBest Model Parameters:\")\n",
    "print(f\"C = {best_svm.C}\")\n",
    "print(f\"gamma = {best_svm.gamma}\")\n",
    "print(f\"kernel = {best_svm.kernel}\")\n",
    "\n",
    "print(f\"\\n{'='*70}\")\n",
    "print(\"Optimized pipeline completed successfully!\")"
   ]
  },
  {
   "cell_type": "code",
   "execution_count": null,
   "id": "06f0b6d0",
   "metadata": {},
   "outputs": [
    {
     "name": "stdout",
     "output_type": "stream",
     "text": [
      "Evaluating the optimized model...\n",
      "\n",
      "======================================================================\n",
      "          FPFH + RBF SVM Classification Results (OPTIMIZED)\n",
      "======================================================================\n",
      "Optimized Model Accuracy: 0.7910 (79.10%)\n",
      "Default Model Accuracy:   0.6866 (68.66%)\n",
      "Improvement: +10.45 percentage points\n",
      "\n",
      "Number of test samples: 134\n",
      "Number of species: 7\n",
      "Species: Ash, Beech, Douglas Fir, Oak, Pine, Red Oak, Spruce\n",
      "\n",
      "Detailed Classification Report (Optimized Model):\n",
      "----------------------------------------------------------------------\n",
      "              precision    recall  f1-score   support\n",
      "\n",
      "         Ash       0.25      0.29      0.27         7\n",
      "       Beech       0.87      0.84      0.86        32\n",
      " Douglas Fir       0.82      0.86      0.84        36\n",
      "         Oak       0.67      0.50      0.57         4\n",
      "        Pine       0.67      0.80      0.73         5\n",
      "     Red Oak       0.68      0.79      0.73        19\n",
      "      Spruce       0.96      0.81      0.88        31\n",
      "\n",
      "    accuracy                           0.79       134\n",
      "   macro avg       0.70      0.70      0.70       134\n",
      "weighted avg       0.80      0.79      0.79       134\n",
      "\n",
      "\n",
      "Confusion Matrix (Optimized Model):\n",
      "----------------------------------------\n",
      "             Ash  Beech  Douglas Fir  Oak  Pine  Red Oak  Spruce\n",
      "Ash            2      3            0    0     0        2       0\n",
      "Beech          4     27            0    0     0        1       0\n",
      "Douglas Fir    0      0           31    0     2        2       1\n",
      "Oak            0      1            0    2     0        1       0\n",
      "Pine           0      0            1    0     4        0       0\n",
      "Red Oak        2      0            1    1     0       15       0\n",
      "Spruce         0      0            5    0     0        1      25\n",
      "\n",
      "Per-class Performance (Optimized Model):\n",
      "--------------------------------------------------\n",
      "Ash            : 0.2857 (vs 0.5714, -0.2857) |   7 samples\n",
      "Beech          : 0.8438 (vs 0.5312, +0.3125) |  32 samples\n",
      "Douglas Fir    : 0.8611 (vs 0.7778, +0.0833) |  36 samples\n",
      "Oak            : 0.5000 (vs 0.7500, -0.2500) |   4 samples\n",
      "Pine           : 0.8000 (vs 0.8000, +0.0000) |   5 samples\n",
      "Red Oak        : 0.7895 (vs 0.6316, +0.1579) |  19 samples\n",
      "Spruce         : 0.8065 (vs 0.7742, +0.0323) |  31 samples\n",
      "\n",
      "Best Model Parameters:\n",
      "C = 100\n",
      "gamma = auto\n",
      "kernel = rbf\n",
      "\n",
      "======================================================================\n",
      "Optimized pipeline completed successfully!\n"
     ]
    }
   ],
   "source": [
    "print(\"Evaluating the optimized model...\")\n",
    "y_pred_optimized = best_svm.predict(X_test_scaled)\n",
    "\n",
    "# Also evaluate the default model for comparison\n",
    "y_pred_default = svm_classifier.predict(X_test_scaled)\n",
    "\n",
    "# Get the unique class names from both train and test sets\n",
    "train_classes = set(y_train)\n",
    "test_classes = set(y_test)\n",
    "all_classes = sorted(list(train_classes | test_classes))\n",
    "\n",
    "print(\"\\n\" + \"=\"*70)\n",
    "print(\"          FPFH + RBF SVM Classification Results (OPTIMIZED)\")\n",
    "print(\"=\"*70)\n",
    "\n",
    "# Compare accuracies\n",
    "accuracy_optimized = accuracy_score(y_test, y_pred_optimized)\n",
    "accuracy_default = accuracy_score(y_test, y_pred_default)\n",
    "\n",
    "print(f\"Optimized Model Accuracy: {accuracy_optimized:.4f} ({accuracy_optimized*100:.2f}%)\")\n",
    "print(f\"Default Model Accuracy:   {accuracy_default:.4f} ({accuracy_default*100:.2f}%)\")\n",
    "print(f\"Improvement: {(accuracy_optimized - accuracy_default)*100:+.2f} percentage points\")\n",
    "\n",
    "# Detailed classification report for optimized model\n",
    "print(f\"\\nNumber of test samples: {len(y_test)}\")\n",
    "print(f\"Number of species: {len(all_classes)}\")\n",
    "print(f\"Species: {', '.join(all_classes)}\")\n",
    "\n",
    "print(f\"\\nDetailed Classification Report (Optimized Model):\")\n",
    "print(\"-\" * 70)\n",
    "report_optimized = classification_report(y_test, y_pred_optimized, target_names=all_classes, zero_division=0)\n",
    "print(report_optimized)\n",
    "\n",
    "# Additional metrics\n",
    "from sklearn.metrics import confusion_matrix\n",
    "import pandas as pd\n",
    "\n",
    "print(\"\\nConfusion Matrix (Optimized Model):\")\n",
    "print(\"-\" * 40)\n",
    "cm_optimized = confusion_matrix(y_test, y_pred_optimized, labels=all_classes)\n",
    "cm_df_optimized = pd.DataFrame(cm_optimized, index=all_classes, columns=all_classes)\n",
    "print(cm_df_optimized)\n",
    "\n",
    "# Per-class accuracy breakdown for optimized model\n",
    "print(f\"\\nPer-class Performance (Optimized Model):\")\n",
    "print(\"-\" * 50)\n",
    "for i, species in enumerate(all_classes):\n",
    "    if species in set(y_test):\n",
    "        # Get indices for this species in test set\n",
    "        species_indices = [j for j, label in enumerate(y_test) if label == species]\n",
    "        species_predictions_opt = [y_pred_optimized[j] for j in species_indices]\n",
    "        species_predictions_def = [y_pred_default[j] for j in species_indices]\n",
    "        \n",
    "        species_accuracy_opt = sum(1 for pred in species_predictions_opt if pred == species) / len(species_predictions_opt)\n",
    "        species_accuracy_def = sum(1 for pred in species_predictions_def if pred == species) / len(species_predictions_def)\n",
    "        improvement = species_accuracy_opt - species_accuracy_def\n",
    "        \n",
    "        print(f\"{species:<15}: {species_accuracy_opt:.4f} (vs {species_accuracy_def:.4f}, {improvement:+.4f}) | {len(species_indices):3d} samples\")\n",
    "\n",
    "print(f\"\\nBest Model Parameters:\")\n",
    "print(f\"C = {best_svm.C}\")\n",
    "print(f\"gamma = {best_svm.gamma}\")\n",
    "print(f\"kernel = {best_svm.kernel}\")\n",
    "\n",
    "print(f\"\\n{'='*70}\")\n",
    "print(\"Optimized pipeline completed successfully!\")"
   ]
  },
  {
   "cell_type": "code",
   "execution_count": null,
   "id": "f480c1c5",
   "metadata": {},
   "outputs": [
    {
     "name": "stdout",
     "output_type": "stream",
     "text": [
      "Evaluating the optimized model...\n",
      "\n",
      "======================================================================\n",
      "          FPFH + RBF SVM Classification Results (OPTIMIZED)\n",
      "======================================================================\n",
      "Optimized Model Accuracy: 0.7910 (79.10%)\n",
      "Default Model Accuracy:   0.6866 (68.66%)\n",
      "Improvement: +10.45 percentage points\n",
      "\n",
      "Number of test samples: 134\n",
      "Number of species: 7\n",
      "Species: Ash, Beech, Douglas Fir, Oak, Pine, Red Oak, Spruce\n",
      "\n",
      "Detailed Classification Report (Optimized Model):\n",
      "----------------------------------------------------------------------\n",
      "              precision    recall  f1-score   support\n",
      "\n",
      "         Ash       0.25      0.29      0.27         7\n",
      "       Beech       0.87      0.84      0.86        32\n",
      " Douglas Fir       0.82      0.86      0.84        36\n",
      "         Oak       0.67      0.50      0.57         4\n",
      "        Pine       0.67      0.80      0.73         5\n",
      "     Red Oak       0.68      0.79      0.73        19\n",
      "      Spruce       0.96      0.81      0.88        31\n",
      "\n",
      "    accuracy                           0.79       134\n",
      "   macro avg       0.70      0.70      0.70       134\n",
      "weighted avg       0.80      0.79      0.79       134\n",
      "\n",
      "\n",
      "Confusion Matrix (Optimized Model):\n",
      "----------------------------------------\n",
      "             Ash  Beech  Douglas Fir  Oak  Pine  Red Oak  Spruce\n",
      "Ash            2      3            0    0     0        2       0\n",
      "Beech          4     27            0    0     0        1       0\n",
      "Douglas Fir    0      0           31    0     2        2       1\n",
      "Oak            0      1            0    2     0        1       0\n",
      "Pine           0      0            1    0     4        0       0\n",
      "Red Oak        2      0            1    1     0       15       0\n",
      "Spruce         0      0            5    0     0        1      25\n",
      "\n",
      "Per-class Performance (Optimized Model):\n",
      "--------------------------------------------------\n",
      "Ash            : 0.2857 (vs 0.5714, -0.2857) |   7 samples\n",
      "Beech          : 0.8438 (vs 0.5312, +0.3125) |  32 samples\n",
      "Douglas Fir    : 0.8611 (vs 0.7778, +0.0833) |  36 samples\n",
      "Oak            : 0.5000 (vs 0.7500, -0.2500) |   4 samples\n",
      "Pine           : 0.8000 (vs 0.8000, +0.0000) |   5 samples\n",
      "Red Oak        : 0.7895 (vs 0.6316, +0.1579) |  19 samples\n",
      "Spruce         : 0.8065 (vs 0.7742, +0.0323) |  31 samples\n",
      "\n",
      "Best Model Parameters:\n",
      "C = 100\n",
      "gamma = auto\n",
      "kernel = rbf\n",
      "\n",
      "======================================================================\n",
      "Optimized pipeline completed successfully!\n"
     ]
    }
   ],
   "source": [
    "print(\"Evaluating the optimized model...\")\n",
    "y_pred_optimized = best_svm.predict(X_test_scaled)\n",
    "\n",
    "# Also evaluate the default model for comparison\n",
    "y_pred_default = svm_classifier.predict(X_test_scaled)\n",
    "\n",
    "# Get the unique class names from both train and test sets\n",
    "train_classes = set(y_train)\n",
    "test_classes = set(y_test)\n",
    "all_classes = sorted(list(train_classes | test_classes))\n",
    "\n",
    "print(\"\\n\" + \"=\"*70)\n",
    "print(\"          FPFH + RBF SVM Classification Results (OPTIMIZED)\")\n",
    "print(\"=\"*70)\n",
    "\n",
    "# Compare accuracies\n",
    "accuracy_optimized = accuracy_score(y_test, y_pred_optimized)\n",
    "accuracy_default = accuracy_score(y_test, y_pred_default)\n",
    "\n",
    "print(f\"Optimized Model Accuracy: {accuracy_optimized:.4f} ({accuracy_optimized*100:.2f}%)\")\n",
    "print(f\"Default Model Accuracy:   {accuracy_default:.4f} ({accuracy_default*100:.2f}%)\")\n",
    "print(f\"Improvement: {(accuracy_optimized - accuracy_default)*100:+.2f} percentage points\")\n",
    "\n",
    "# Detailed classification report for optimized model\n",
    "print(f\"\\nNumber of test samples: {len(y_test)}\")\n",
    "print(f\"Number of species: {len(all_classes)}\")\n",
    "print(f\"Species: {', '.join(all_classes)}\")\n",
    "\n",
    "print(f\"\\nDetailed Classification Report (Optimized Model):\")\n",
    "print(\"-\" * 70)\n",
    "report_optimized = classification_report(y_test, y_pred_optimized, target_names=all_classes, zero_division=0)\n",
    "print(report_optimized)\n",
    "\n",
    "# Additional metrics\n",
    "from sklearn.metrics import confusion_matrix\n",
    "import pandas as pd\n",
    "\n",
    "print(\"\\nConfusion Matrix (Optimized Model):\")\n",
    "print(\"-\" * 40)\n",
    "cm_optimized = confusion_matrix(y_test, y_pred_optimized, labels=all_classes)\n",
    "cm_df_optimized = pd.DataFrame(cm_optimized, index=all_classes, columns=all_classes)\n",
    "print(cm_df_optimized)\n",
    "\n",
    "# Per-class accuracy breakdown for optimized model\n",
    "print(f\"\\nPer-class Performance (Optimized Model):\")\n",
    "print(\"-\" * 50)\n",
    "for i, species in enumerate(all_classes):\n",
    "    if species in set(y_test):\n",
    "        # Get indices for this species in test set\n",
    "        species_indices = [j for j, label in enumerate(y_test) if label == species]\n",
    "        species_predictions_opt = [y_pred_optimized[j] for j in species_indices]\n",
    "        species_predictions_def = [y_pred_default[j] for j in species_indices]\n",
    "        \n",
    "        species_accuracy_opt = sum(1 for pred in species_predictions_opt if pred == species) / len(species_predictions_opt)\n",
    "        species_accuracy_def = sum(1 for pred in species_predictions_def if pred == species) / len(species_predictions_def)\n",
    "        improvement = species_accuracy_opt - species_accuracy_def\n",
    "        \n",
    "        print(f\"{species:<15}: {species_accuracy_opt:.4f} (vs {species_accuracy_def:.4f}, {improvement:+.4f}) | {len(species_indices):3d} samples\")\n",
    "\n",
    "print(f\"\\nBest Model Parameters:\")\n",
    "print(f\"C = {best_svm.C}\")\n",
    "print(f\"gamma = {best_svm.gamma}\")\n",
    "print(f\"kernel = {best_svm.kernel}\")\n",
    "\n",
    "print(f\"\\n{'='*70}\")\n",
    "print(\"Optimized pipeline completed successfully!\")"
   ]
  },
  {
   "cell_type": "code",
   "execution_count": null,
   "id": "09a566cd",
   "metadata": {},
   "outputs": [],
   "source": [
    "print(\"Evaluating the optimized model...\")\n",
    "y_pred_optimized = best_svm.predict(X_test_scaled)\n",
    "\n",
    "# Also evaluate the default model for comparison\n",
    "y_pred_default = svm_classifier.predict(X_test_scaled)\n",
    "\n",
    "# Get the unique class names from both train and test sets\n",
    "train_classes = set(y_train)\n",
    "test_classes = set(y_test)\n",
    "all_classes = sorted(list(train_classes | test_classes))\n",
    "\n",
    "print(\"\\n\" + \"=\"*70)\n",
    "print(\"          FPFH + RBF SVM Classification Results (OPTIMIZED)\")\n",
    "print(\"=\"*70)\n",
    "\n",
    "# Compare accuracies\n",
    "accuracy_optimized = accuracy_score(y_test, y_pred_optimized)\n",
    "accuracy_default = accuracy_score(y_test, y_pred_default)\n",
    "\n",
    "print(f\"Optimized Model Accuracy: {accuracy_optimized:.4f} ({accuracy_optimized*100:.2f}%)\")\n",
    "print(f\"Default Model Accuracy:   {accuracy_default:.4f} ({accuracy_default*100:.2f}%)\")\n",
    "print(f\"Improvement: {(accuracy_optimized - accuracy_default)*100:+.2f} percentage points\")\n",
    "\n",
    "# Detailed classification report for optimized model\n",
    "print(f\"\\nNumber of test samples: {len(y_test)}\")\n",
    "print(f\"Number of species: {len(all_classes)}\")\n",
    "print(f\"Species: {', '.join(all_classes)}\")\n",
    "\n",
    "print(f\"\\nDetailed Classification Report (Optimized Model):\")\n",
    "print(\"-\" * 70)\n",
    "report_optimized = classification_report(y_test, y_pred_optimized, target_names=all_classes, zero_division=0)\n",
    "print(report_optimized)\n",
    "\n",
    "# Additional metrics\n",
    "from sklearn.metrics import confusion_matrix\n",
    "import pandas as pd\n",
    "\n",
    "print(\"\\nConfusion Matrix (Optimized Model):\")\n",
    "print(\"-\" * 40)\n",
    "cm_optimized = confusion_matrix(y_test, y_pred_optimized, labels=all_classes)\n",
    "cm_df_optimized = pd.DataFrame(cm_optimized, index=all_classes, columns=all_classes)\n",
    "print(cm_df_optimized)\n",
    "\n",
    "# Per-class accuracy breakdown for optimized model\n",
    "print(f\"\\nPer-class Performance (Optimized Model):\")\n",
    "print(\"-\" * 50)\n",
    "for i, species in enumerate(all_classes):\n",
    "    if species in set(y_test):\n",
    "        # Get indices for this species in test set\n",
    "        species_indices = [j for j, label in enumerate(y_test) if label == species]\n",
    "        species_predictions_opt = [y_pred_optimized[j] for j in species_indices]\n",
    "        species_predictions_def = [y_pred_default[j] for j in species_indices]\n",
    "        \n",
    "        species_accuracy_opt = sum(1 for pred in species_predictions_opt if pred == species) / len(species_predictions_opt)\n",
    "        species_accuracy_def = sum(1 for pred in species_predictions_def if pred == species) / len(species_predictions_def)\n",
    "        improvement = species_accuracy_opt - species_accuracy_def\n",
    "        \n",
    "        print(f\"{species:<15}: {species_accuracy_opt:.4f} (vs {species_accuracy_def:.4f}, {improvement:+.4f}) | {len(species_indices):3d} samples\")\n",
    "\n",
    "print(f\"\\nBest Model Parameters:\")\n",
    "print(f\"C = {best_svm.C}\")\n",
    "print(f\"gamma = {best_svm.gamma}\")\n",
    "print(f\"kernel = {best_svm.kernel}\")\n",
    "\n",
    "print(f\"\\n{'='*70}\")\n",
    "print(\"Optimized pipeline completed successfully!\")"
   ]
  },
  {
   "cell_type": "code",
   "execution_count": null,
   "id": "c072abac",
   "metadata": {},
   "outputs": [],
   "source": [
    "print(\"Evaluating the optimized model...\")\n",
    "y_pred_optimized = best_svm.predict(X_test_scaled)\n",
    "\n",
    "# Also evaluate the default model for comparison\n",
    "y_pred_default = svm_classifier.predict(X_test_scaled)\n",
    "\n",
    "# Get the unique class names from both train and test sets\n",
    "train_classes = set(y_train)\n",
    "test_classes = set(y_test)\n",
    "all_classes = sorted(list(train_classes | test_classes))\n",
    "\n",
    "print(\"\\n\" + \"=\"*70)\n",
    "print(\"          FPFH + RBF SVM Classification Results (OPTIMIZED)\")\n",
    "print(\"=\"*70)\n",
    "\n",
    "# Compare accuracies\n",
    "accuracy_optimized = accuracy_score(y_test, y_pred_optimized)\n",
    "accuracy_default = accuracy_score(y_test, y_pred_default)\n",
    "\n",
    "print(f\"Optimized Model Accuracy: {accuracy_optimized:.4f} ({accuracy_optimized*100:.2f}%)\")\n",
    "print(f\"Default Model Accuracy:   {accuracy_default:.4f} ({accuracy_default*100:.2f}%)\")\n",
    "print(f\"Improvement: {(accuracy_optimized - accuracy_default)*100:+.2f} percentage points\")\n",
    "\n",
    "# Detailed classification report for optimized model\n",
    "print(f\"\\nNumber of test samples: {len(y_test)}\")\n",
    "print(f\"Number of species: {len(all_classes)}\")\n",
    "print(f\"Species: {', '.join(all_classes)}\")\n",
    "\n",
    "print(f\"\\nDetailed Classification Report (Optimized Model):\")\n",
    "print(\"-\" * 70)\n",
    "report_optimized = classification_report(y_test, y_pred_optimized, target_names=all_classes, zero_division=0)\n",
    "print(report_optimized)\n",
    "\n",
    "# Additional metrics\n",
    "from sklearn.metrics import confusion_matrix\n",
    "import pandas as pd\n",
    "\n",
    "print(\"\\nConfusion Matrix (Optimized Model):\")\n",
    "print(\"-\" * 40)\n",
    "cm_optimized = confusion_matrix(y_test, y_pred_optimized, labels=all_classes)\n",
    "cm_df_optimized = pd.DataFrame(cm_optimized, index=all_classes, columns=all_classes)\n",
    "print(cm_df_optimized)\n",
    "\n",
    "# Per-class accuracy breakdown for optimized model\n",
    "print(f\"\\nPer-class Performance (Optimized Model):\")\n",
    "print(\"-\" * 50)\n",
    "for i, species in enumerate(all_classes):\n",
    "    if species in set(y_test):\n",
    "        # Get indices for this species in test set\n",
    "        species_indices = [j for j, label in enumerate(y_test) if label == species]\n",
    "        species_predictions_opt = [y_pred_optimized[j] for j in species_indices]\n",
    "        species_predictions_def = [y_pred_default[j] for j in species_indices]\n",
    "        \n",
    "        species_accuracy_opt = sum(1 for pred in species_predictions_opt if pred == species) / len(species_predictions_opt)\n",
    "        species_accuracy_def = sum(1 for pred in species_predictions_def if pred == species) / len(species_predictions_def)\n",
    "        improvement = species_accuracy_opt - species_accuracy_def\n",
    "        \n",
    "        print(f\"{species:<15}: {species_accuracy_opt:.4f} (vs {species_accuracy_def:.4f}, {improvement:+.4f}) | {len(species_indices):3d} samples\")\n",
    "\n",
    "print(f\"\\nBest Model Parameters:\")\n",
    "print(f\"C = {best_svm.C}\")\n",
    "print(f\"gamma = {best_svm.gamma}\")\n",
    "print(f\"kernel = {best_svm.kernel}\")\n",
    "\n",
    "print(f\"\\n{'='*70}\")\n",
    "print(\"Optimized pipeline completed successfully!\")"
   ]
  },
  {
   "cell_type": "code",
   "execution_count": null,
   "id": "b51f711b",
   "metadata": {},
   "outputs": [],
   "source": [
    "print(\"Evaluating the model...\")\n",
    "\n",
    "# Pick model: use best_svm if available and fitted; else fall back to baseline svm_classifier\n",
    "from sklearn.utils.validation import check_is_fitted\n",
    "try:\n",
    "    check_is_fitted(best_svm)\n",
    "    model_for_eval = best_svm\n",
    "    used_label = \"Optimized\"\n",
    "except Exception:\n",
    "    model_for_eval = svm_classifier\n",
    "    used_label = \"Baseline\"\n",
    "\n",
    "# Predictions\n",
    "y_pred = model_for_eval.predict(X_test_scaled)\n",
    "# Always compute baseline predictions for comparison\n",
    "y_pred_default = svm_classifier.predict(X_test_scaled)\n",
    "\n",
    "# Classes\n",
    "train_classes = set(y_train)\n",
    "test_classes = set(y_test)\n",
    "all_classes = sorted(list(train_classes | test_classes))\n",
    "\n",
    "print(\"\\n\" + \"=\"*70)\n",
    "print(f\"          FPFH + RBF SVM Classification Results ({used_label})\")\n",
    "print(\"=\"*70)\n",
    "\n",
    "# Accuracies\n",
    "accuracy_used = accuracy_score(y_test, y_pred)\n",
    "accuracy_default = accuracy_score(y_test, y_pred_default)\n",
    "\n",
    "print(f\"{used_label} Model Accuracy: {accuracy_used:.4f} ({accuracy_used*100:.2f}%)\")\n",
    "print(f\"Default Model Accuracy:   {accuracy_default:.4f} ({accuracy_default*100:.2f}%)\")\n",
    "print(f\"Improvement: {(accuracy_used - accuracy_default)*100:+.2f} percentage points\")\n",
    "\n",
    "# Report\n",
    "print(f\"\\nNumber of test samples: {len(y_test)}\")\n",
    "print(f\"Number of species: {len(all_classes)}\")\n",
    "print(f\"Species: {', '.join(all_classes)}\")\n",
    "\n",
    "print(f\"\\nDetailed Classification Report ({used_label} Model):\")\n",
    "print(\"-\" * 70)\n",
    "report_used = classification_report(y_test, y_pred, target_names=all_classes, zero_division=0)\n",
    "print(report_used)\n",
    "\n",
    "# Confusion matrix\n",
    "from sklearn.metrics import confusion_matrix\n",
    "import pandas as pd\n",
    "\n",
    "print(\"\\nConfusion Matrix (Used Model):\")\n",
    "print(\"-\" * 40)\n",
    "cm_used = confusion_matrix(y_test, y_pred, labels=all_classes)\n",
    "cm_df_used = pd.DataFrame(cm_used, index=all_classes, columns=all_classes)\n",
    "print(cm_df_used)\n",
    "\n",
    "# Per-class performance\n",
    "print(f\"\\nPer-class Performance ({used_label} Model):\")\n",
    "print(\"-\" * 50)\n",
    "for i, species in enumerate(all_classes):\n",
    "    if species in set(y_test):\n",
    "        species_indices = [j for j, label in enumerate(y_test) if label == species]\n",
    "        species_predictions_used = [y_pred[j] for j in species_indices]\n",
    "        species_predictions_def = [y_pred_default[j] for j in species_indices]\n",
    "        species_accuracy_used = sum(1 for pred in species_predictions_used if pred == species) / len(species_predictions_used)\n",
    "        species_accuracy_def = sum(1 for pred in species_predictions_def if pred == species) / len(species_predictions_def)\n",
    "        improvement = species_accuracy_used - species_accuracy_def\n",
    "        print(f\"{species:<15}: {species_accuracy_used:.4f} (vs {species_accuracy_def:.4f}, {improvement:+.4f}) | {len(species_indices):3d} samples\")\n",
    "\n",
    "# Model parameters (print what we used)\n",
    "print(f\"\\nBest/Baseline Model Parameters Used:\")\n",
    "print(f\"C = {model_for_eval.C}\")\n",
    "print(f\"gamma = {model_for_eval.gamma}\")\n",
    "print(f\"kernel = {model_for_eval.kernel}\")\n",
    "\n",
    "print(f\"\\n{'='*70}\")\n",
    "print(\"Evaluation completed successfully!\")"
   ]
  },
  {
   "cell_type": "code",
   "execution_count": null,
   "id": "29c20f87",
   "metadata": {},
   "outputs": [],
   "source": [
    "print(\"Evaluating the optimized model...\")\n",
    "y_pred_optimized = best_svm.predict(X_test_scaled)\n",
    "\n",
    "# Also evaluate the default model for comparison\n",
    "y_pred_default = svm_classifier.predict(X_test_scaled)\n",
    "\n",
    "# Get the unique class names from both train and test sets\n",
    "train_classes = set(y_train)\n",
    "test_classes = set(y_test)\n",
    "all_classes = sorted(list(train_classes | test_classes))\n",
    "\n",
    "print(\"\\n\" + \"=\"*70)\n",
    "print(\"          FPFH + RBF SVM Classification Results (OPTIMIZED)\")\n",
    "print(\"=\"*70)\n",
    "\n",
    "# Compare accuracies\n",
    "accuracy_optimized = accuracy_score(y_test, y_pred_optimized)\n",
    "accuracy_default = accuracy_score(y_test, y_pred_default)\n",
    "\n",
    "print(f\"Optimized Model Accuracy: {accuracy_optimized:.4f} ({accuracy_optimized*100:.2f}%)\")\n",
    "print(f\"Default Model Accuracy:   {accuracy_default:.4f} ({accuracy_default*100:.2f}%)\")\n",
    "print(f\"Improvement: {(accuracy_optimized - accuracy_default)*100:+.2f} percentage points\")\n",
    "\n",
    "# Detailed classification report for optimized model\n",
    "print(f\"\\nNumber of test samples: {len(y_test)}\")\n",
    "print(f\"Number of species: {len(all_classes)}\")\n",
    "print(f\"Species: {', '.join(all_classes)}\")\n",
    "\n",
    "print(f\"\\nDetailed Classification Report (Optimized Model):\")\n",
    "print(\"-\" * 70)\n",
    "report_optimized = classification_report(y_test, y_pred_optimized, target_names=all_classes, zero_division=0)\n",
    "print(report_optimized)\n",
    "\n",
    "# Additional metrics\n",
    "from sklearn.metrics import confusion_matrix\n",
    "import pandas as pd\n",
    "\n",
    "print(\"\\nConfusion Matrix (Optimized Model):\")\n",
    "print(\"-\" * 40)\n",
    "cm_optimized = confusion_matrix(y_test, y_pred_optimized, labels=all_classes)\n",
    "cm_df_optimized = pd.DataFrame(cm_optimized, index=all_classes, columns=all_classes)\n",
    "print(cm_df_optimized)\n",
    "\n",
    "# Per-class accuracy breakdown for optimized model\n",
    "print(f\"\\nPer-class Performance (Optimized Model):\")\n",
    "print(\"-\" * 50)\n",
    "for i, species in enumerate(all_classes):\n",
    "    if species in set(y_test):\n",
    "        # Get indices for this species in test set\n",
    "        species_indices = [j for j, label in enumerate(y_test) if label == species]\n",
    "        species_predictions_opt = [y_pred_optimized[j] for j in species_indices]\n",
    "        species_predictions_def = [y_pred_default[j] for j in species_indices]\n",
    "        \n",
    "        species_accuracy_opt = sum(1 for pred in species_predictions_opt if pred == species) / len(species_predictions_opt)\n",
    "        species_accuracy_def = sum(1 for pred in species_predictions_def if pred == species) / len(species_predictions_def)\n",
    "        improvement = species_accuracy_opt - species_accuracy_def\n",
    "        \n",
    "        print(f\"{species:<15}: {species_accuracy_opt:.4f} (vs {species_accuracy_def:.4f}, {improvement:+.4f}) | {len(species_indices):3d} samples\")\n",
    "\n",
    "print(f\"\\nBest Model Parameters:\")\n",
    "print(f\"C = {best_svm.C}\")\n",
    "print(f\"gamma = {best_svm.gamma}\")\n",
    "print(f\"kernel = {best_svm.kernel}\")\n",
    "\n",
    "print(f\"\\n{'='*70}\")\n",
    "print(\"Optimized pipeline completed successfully!\")"
   ]
  },
  {
   "cell_type": "code",
   "execution_count": null,
   "id": "6588c94a",
   "metadata": {},
   "outputs": [],
   "source": [
    "# Crucial step for SVMs: feature scaling\n",
    "scaler = StandardScaler()\n",
    "X_train_scaled = scaler.fit_transform(X_train_features)\n",
    "X_test_scaled = scaler.transform(X_test_features) # Use the same scaler\n",
    "\n",
    "# Create and train the RBF SVM\n",
    "print(\"Training the RBF SVM classifier...\")\n",
    "\n",
    "svm_classifier = SVC(kernel='rbf', C=10, gamma='scale', class_weight='balanced', random_state=42)\n",
    "svm_classifier.fit(X_train_scaled, y_train)\n",
    "print(\"Training complete.\")\n",
    "\n",
    "# Ensure best_svm exists even if GridSearchCV hasn't been run yet\n",
    "best_svm = svm_classifier"
   ]
  },
  {
   "cell_type": "code",
   "execution_count": null,
   "id": "f4c37e2f",
   "metadata": {},
   "outputs": [],
   "source": [
    "# Voxel-size sweep with optional SMOTE balancing\n",
    "from sklearn.model_selection import StratifiedKFold\n",
    "from sklearn.metrics import balanced_accuracy_score\n",
    "from sklearn.pipeline import Pipeline\n",
    "from sklearn.preprocessing import StandardScaler\n",
    "from sklearn.svm import SVC\n",
    "\n",
    "try:\n",
    "    from imblearn.over_sampling import SMOTE\n",
    "    HAS_SMOTE = True\n",
    "except Exception:\n",
    "    HAS_SMOTE = False\n",
    "\n",
    "voxel_sizes = [0.1, 0.15, 0.2, 0.3]\n",
    "use_smote = True  # toggle\n",
    "\n",
    "results = []\n",
    "for vs in voxel_sizes:\n",
    "    print(f\"\\n=== Voxel size: {vs} ===\")\n",
    "    X_tr = process_files_for_features(X_train_paths, voxel_size=vs)\n",
    "    X_te = process_files_for_features(X_test_paths, voxel_size=vs)\n",
    "\n",
    "    # Optional SMOTE balancing\n",
    "    if use_smote and HAS_SMOTE:\n",
    "        smote = SMOTE(random_state=42)\n",
    "        X_tr_bal, y_tr_bal = smote.fit_resample(X_tr, y_train)\n",
    "    else:\n",
    "        X_tr_bal, y_tr_bal = X_tr, y_train\n",
    "\n",
    "    # Scale\n",
    "    scaler = StandardScaler()\n",
    "    X_tr_scaled = scaler.fit_transform(X_tr_bal)\n",
    "    X_te_scaled = scaler.transform(X_te)\n",
    "\n",
    "    # Grid search focused (smaller for speed)\n",
    "    param_grid = {\n",
    "        'C': [1, 3, 10, 30],\n",
    "        'gamma': ['scale', 0.03, 0.1, 0.3],\n",
    "        'class_weight': [None, 'balanced'],\n",
    "        'kernel': ['rbf']\n",
    "    }\n",
    "    cv = StratifiedKFold(n_splits=5, shuffle=True, random_state=42)\n",
    "    grid_search = GridSearchCV(\n",
    "        SVC(random_state=42),\n",
    "        param_grid,\n",
    "        cv=cv,\n",
    "        verbose=0,\n",
    "        n_jobs=-1,\n",
    "        scoring='balanced_accuracy'\n",
    "    )\n",
    "    grid_search.fit(X_tr_scaled, y_tr_bal)\n",
    "\n",
    "    best_svm_vs = grid_search.best_estimator_\n",
    "    y_pred = best_svm_vs.predict(X_te_scaled)\n",
    "    bal_acc = balanced_accuracy_score(y_test, y_pred)\n",
    "\n",
    "    results.append({\n",
    "        'voxel_size': vs,\n",
    "        'best_params': grid_search.best_params_,\n",
    "        'cv_bal_acc': grid_search.best_score_,\n",
    "        'test_bal_acc': bal_acc\n",
    "    })\n",
    "    print(f\"Best params @ vs={vs}: {grid_search.best_params_}\")\n",
    "    print(f\"CV balanced acc: {grid_search.best_score_:.4f}\")\n",
    "    print(f\"Test balanced acc: {bal_acc:.4f}\")\n",
    "\n",
    "# Display summary\n",
    "import pandas as pd\n",
    "res_df = pd.DataFrame(results)\n",
    "print(\"\\nVoxel sweep results:\")\n",
    "print(res_df.sort_values('test_bal_acc', ascending=False))\n"
   ]
  },
  {
   "cell_type": "code",
   "execution_count": null,
   "id": "f6079287",
   "metadata": {},
   "outputs": [],
   "source": [
    "# Hyperparameter Optimization with Grid Search\n",
    "print(\"Performing hyperparameter optimization with Grid Search...\")\n",
    "print(\"=\" * 60)\n",
    "\n",
    "from sklearn.model_selection import StratifiedKFold\n",
    "\n",
    "# Define parameter grid (tune class_weight as well)\n",
    "param_grid = {\n",
    "    'C': [0.1, 1, 3, 10, 30, 100],\n",
    "    'gamma': ['scale', 'auto', 0.03, 0.1, 0.3, 1],\n",
    "    'class_weight': [None, 'balanced'],\n",
    "    'kernel': ['rbf']\n",
    "}\n",
    "\n",
    "# Use stratified CV and balanced accuracy to reward minority-class performance\n",
    "cv = StratifiedKFold(n_splits=5, shuffle=True, random_state=42)\n",
    "\n",
    "grid_search = GridSearchCV(\n",
    "    SVC(random_state=42),\n",
    "    param_grid,\n",
    "    cv=cv,\n",
    "    verbose=2,\n",
    "    n_jobs=-1,\n",
    "    scoring='balanced_accuracy'\n",
    ")\n",
    "\n",
    "# Fit the grid search\n",
    "start_time = time.time()\n",
    "print(f\"Testing {len(param_grid['C']) * len(param_grid['gamma']) * len(param_grid['class_weight'])} parameter combinations...\")\n",
    "grid_search.fit(X_train_scaled, y_train)\n",
    "end_time = time.time()\n",
    "\n",
    "# Results\n",
    "print(f\"\\nGrid Search completed in {end_time - start_time:.2f} seconds\")\n",
    "print(f\"Best parameters found: {grid_search.best_params_}\")\n",
    "print(f\"Best cross-validation balanced accuracy: {grid_search.best_score_:.4f}\")\n",
    "\n",
    "# Get the best estimator\n",
    "best_svm = grid_search.best_estimator_\n",
    "print(f\"Best SVM model: {best_svm}\")\n",
    "\n",
    "# Show top 5 parameter combinations\n",
    "print(f\"\\nTop 5 parameter combinations (by balanced accuracy):\")\n",
    "print(\"-\" * 50)\n",
    "results_df = pd.DataFrame(grid_search.cv_results_)\n",
    "top_5 = results_df.nlargest(5, 'mean_test_score')[['params', 'mean_test_score', 'std_test_score']]\n",
    "for idx, row in top_5.iterrows():\n",
    "    params = row['params']\n",
    "    mean_score = row['mean_test_score']\n",
    "    std_score = row['std_test_score']\n",
    "    print(f\"C={params['C']}, gamma={params['gamma']}, class_weight={params.get('class_weight')}: {mean_score:.4f} (±{std_score:.4f})\")\n",
    "\n",
    "print(f\"\\n{'='*60}\")\n",
    "print(\"Hyperparameter optimization completed!\")"
   ]
  },
  {
   "cell_type": "code",
   "execution_count": null,
   "id": "c95278bf",
   "metadata": {},
   "outputs": [],
   "source": [
    "print(\"Evaluating the optimized model...\")\n",
    "y_pred_optimized = best_svm.predict(X_test_scaled)\n",
    "\n",
    "# Also evaluate the default model for comparison\n",
    "y_pred_default = svm_classifier.predict(X_test_scaled)\n",
    "\n",
    "# Get the unique class names from both train and test sets\n",
    "train_classes = set(y_train)\n",
    "test_classes = set(y_test)\n",
    "all_classes = sorted(list(train_classes | test_classes))\n",
    "\n",
    "print(\"\\n\" + \"=\"*70)\n",
    "print(\"          FPFH + RBF SVM Classification Results (OPTIMIZED)\")\n",
    "print(\"=\"*70)\n",
    "\n",
    "# Compare accuracies\n",
    "accuracy_optimized = accuracy_score(y_test, y_pred_optimized)\n",
    "accuracy_default = accuracy_score(y_test, y_pred_default)\n",
    "\n",
    "print(f\"Optimized Model Accuracy: {accuracy_optimized:.4f} ({accuracy_optimized*100:.2f}%)\")\n",
    "print(f\"Default Model Accuracy:   {accuracy_default:.4f} ({accuracy_default*100:.2f}%)\")\n",
    "print(f\"Improvement: {(accuracy_optimized - accuracy_default)*100:+.2f} percentage points\")\n",
    "\n",
    "# Detailed classification report for optimized model\n",
    "print(f\"\\nNumber of test samples: {len(y_test)}\")\n",
    "print(f\"Number of species: {len(all_classes)}\")\n",
    "print(f\"Species: {', '.join(all_classes)}\")\n",
    "\n",
    "print(f\"\\nDetailed Classification Report (Optimized Model):\")\n",
    "print(\"-\" * 70)\n",
    "report_optimized = classification_report(y_test, y_pred_optimized, target_names=all_classes, zero_division=0)\n",
    "print(report_optimized)\n",
    "\n",
    "# Additional metrics\n",
    "from sklearn.metrics import confusion_matrix\n",
    "import pandas as pd\n",
    "\n",
    "print(\"\\nConfusion Matrix (Optimized Model):\")\n",
    "print(\"-\" * 40)\n",
    "cm_optimized = confusion_matrix(y_test, y_pred_optimized, labels=all_classes)\n",
    "cm_df_optimized = pd.DataFrame(cm_optimized, index=all_classes, columns=all_classes)\n",
    "print(cm_df_optimized)\n",
    "\n",
    "# Per-class accuracy breakdown for optimized model\n",
    "print(f\"\\nPer-class Performance (Optimized Model):\")\n",
    "print(\"-\" * 50)\n",
    "for i, species in enumerate(all_classes):\n",
    "    if species in set(y_test):\n",
    "        # Get indices for this species in test set\n",
    "        species_indices = [j for j, label in enumerate(y_test) if label == species]\n",
    "        species_predictions_opt = [y_pred_optimized[j] for j in species_indices]\n",
    "        species_predictions_def = [y_pred_default[j] for j in species_indices]\n",
    "        \n",
    "        species_accuracy_opt = sum(1 for pred in species_predictions_opt if pred == species) / len(species_predictions_opt)\n",
    "        species_accuracy_def = sum(1 for pred in species_predictions_def if pred == species) / len(species_predictions_def)\n",
    "        improvement = species_accuracy_opt - species_accuracy_def\n",
    "        \n",
    "        print(f\"{species:<15}: {species_accuracy_opt:.4f} (vs {species_accuracy_def:.4f}, {improvement:+.4f}) | {len(species_indices):3d} samples\")\n",
    "\n",
    "print(f\"\\nBest Model Parameters:\")\n",
    "print(f\"C = {best_svm.C}\")\n",
    "print(f\"gamma = {best_svm.gamma}\")\n",
    "print(f\"kernel = {best_svm.kernel}\")\n",
    "\n",
    "print(f\"\\n{'='*70}\")\n",
    "print(\"Optimized pipeline completed successfully!\")"
   ]
  }
 ],
 "metadata": {
  "kernelspec": {
   "display_name": ".venv",
   "language": "python",
   "name": "python3"
  },
  "language_info": {
   "codemirror_mode": {
    "name": "ipython",
    "version": 3
   },
   "file_extension": ".py",
   "mimetype": "text/x-python",
   "name": "python",
   "nbconvert_exporter": "python",
   "pygments_lexer": "ipython3",
   "version": "3.11.13"
  }
 },
 "nbformat": 4,
 "nbformat_minor": 5
}
