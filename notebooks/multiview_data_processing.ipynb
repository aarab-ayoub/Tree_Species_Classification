{
 "cells": [
  {
   "cell_type": "code",
   "execution_count": 13,
   "id": "bf25482d",
   "metadata": {},
   "outputs": [],
   "source": [
    "import numpy as np\n",
    "import open3d as o3d\n",
    "from pathlib import Path\n",
    "from tqdm import tqdm\n",
    "import cv2\n",
    "from src.point_cloud_processor import load_point_cloud\n",
    "\n",
    "def create_multi_view_images(pcd, image_size=224, n_rotations=8):\n",
    "    \"\"\"\n",
    "    Create multi-view images from a point cloud.\n",
    "    Returns a dict with keys: 'top', 'front', 'side', 'rot_0', 'rot_1', ...\n",
    "    \"\"\"\n",
    "    if pcd is None or not pcd.has_points():\n",
    "        return None\n",
    "\n",
    "    pts = np.asarray(pcd.points)\n",
    "    if pts.size == 0:\n",
    "        return None\n",
    "\n",
    "    # Center\n",
    "    pts = pts - np.mean(pts, axis=0, keepdims=True)\n",
    "\n",
    "    # Optional: downsample very dense clouds for speed\n",
    "    if pts.shape[0] > 1_200_000:\n",
    "        idx = np.random.choice(pts.shape[0], 1_200_000, replace=False)\n",
    "        pts = pts[idx]\n",
    "\n",
    "    def to_image(a, b):\n",
    "        # Map coords to [0, image_size-1]\n",
    "        amin, amax = np.min(a), np.max(a)\n",
    "        bmin, bmax = np.min(b), np.max(b)\n",
    "        ar = amax - amin\n",
    "        br = bmax - bmin\n",
    "        if ar == 0: ar = 1.0\n",
    "        if br == 0: br = 1.0\n",
    "        a_n = (a - amin) / ar\n",
    "        b_n = (b - bmin) / br\n",
    "        H, _, _ = np.histogram2d(a_n, b_n, bins=image_size, range=[[0,1],[0,1]])\n",
    "        if H.max() > 0:\n",
    "            H = (H / H.max()) * 255.0\n",
    "        return H.astype(np.uint8)\n",
    "\n",
    "    images = {}\n",
    "    # Original orthographic projections\n",
    "    images['top'] = to_image(pts[:,0], pts[:,1])    # XY\n",
    "    images['front'] = to_image(pts[:,0], pts[:,2])  # XZ\n",
    "    images['side'] = to_image(pts[:,1], pts[:,2])   # YZ\n",
    "\n",
    "    # Rotated views around Z axis\n",
    "    angles = np.linspace(0, 360, n_rotations, endpoint=False)\n",
    "    for i, angle in enumerate(angles):\n",
    "        rad = np.deg2rad(angle)\n",
    "        # Rotation matrix around Z axis\n",
    "        R = np.array([\n",
    "            [np.cos(rad), -np.sin(rad), 0],\n",
    "            [np.sin(rad),  np.cos(rad), 0],\n",
    "            [0, 0, 1]\n",
    "        ])\n",
    "        rotated_pts = pts @ R.T\n",
    "        images[f'rot_{i}'] = to_image(rotated_pts[:,0], rotated_pts[:,2])  # XZ plane for rotated side view\n",
    "\n",
    "    return images"
   ]
  },
  {
   "cell_type": "code",
   "execution_count": 15,
   "id": "6e136124",
   "metadata": {},
   "outputs": [
    {
     "name": "stderr",
     "output_type": "stream",
     "text": [
      "Processing train: 100%|██████████| 7/7 [01:12<00:00, 10.29s/it]\n",
      "Processing test: 100%|██████████| 7/7 [00:17<00:00,  2.54s/it]"
     ]
    },
    {
     "name": "stdout",
     "output_type": "stream",
     "text": [
      "Multi-view image dataset with rotated views created successfully!\n"
     ]
    },
    {
     "name": "stderr",
     "output_type": "stream",
     "text": [
      "\n"
     ]
    }
   ],
   "source": [
    "base_path = Path(\"..\")\n",
    "train_path = base_path / \"train\"\n",
    "test_path = base_path / \"test\"\n",
    "output_path = base_path / \"data\" / \"multi_view_images\"\n",
    "output_path.mkdir(exist_ok=True)\n",
    "\n",
    "# Processing loop\n",
    "def process_and_save_images(source_root, dest_root, n_rotations=8):\n",
    "    dest_root.mkdir(exist_ok=True)\n",
    "    \n",
    "    for species_dir in tqdm(sorted(list(source_root.iterdir())), desc=f\"Processing {source_root.name}\"):\n",
    "        if not species_dir.is_dir():\n",
    "            continue\n",
    "            \n",
    "        (dest_root / species_dir.name).mkdir(exist_ok=True)\n",
    "        \n",
    "        for file_path in species_dir.iterdir():\n",
    "            if file_path.suffix in ['.pts', '.xyz', '.txt']:\n",
    "                pcd = load_point_cloud(file_path)\n",
    "                \n",
    "                if pcd:\n",
    "                    images = create_multi_view_images(pcd, n_rotations=n_rotations)\n",
    "                    \n",
    "                    if images:\n",
    "                        base_name = file_path.stem\n",
    "                        for view_name, img in images.items():\n",
    "                            cv2.imwrite(str(dest_root / species_dir.name / f\"{base_name}_{view_name}.png\"), img)\n",
    "\n",
    "# Run\n",
    "process_and_save_images(train_path, output_path / \"train\", n_rotations=8)\n",
    "process_and_save_images(test_path, output_path / \"test\", n_rotations=8)\n",
    "\n",
    "print(\"Multi-view image dataset with rotated views created successfully!\")\n"
   ]
  }
 ],
 "metadata": {
  "kernelspec": {
   "display_name": ".venv",
   "language": "python",
   "name": "python3"
  },
  "language_info": {
   "codemirror_mode": {
    "name": "ipython",
    "version": 3
   },
   "file_extension": ".py",
   "mimetype": "text/x-python",
   "name": "python",
   "nbconvert_exporter": "python",
   "pygments_lexer": "ipython3",
   "version": "3.11.13"
  }
 },
 "nbformat": 4,
 "nbformat_minor": 5
}
