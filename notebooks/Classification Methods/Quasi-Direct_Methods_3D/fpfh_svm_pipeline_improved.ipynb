{
  "cells": [
    {
      "cell_type": "code",
      "execution_count": null,
      "metadata": {},
      "outputs": [
        {
          "name": "stdout",
          "output_type": "stream",
          "text": [
            "Base: /Users/ayoub/work/prjt/notebooks/..\n",
            "Data: /Users/ayoub/work/prjt/notebooks/../data\n"
          ]
        }
      ],
      "source": [
        "import os\n",
        "from pathlib import Path\n",
        "import sys\n",
        "import time\n",
        "\n",
        "import numpy as np\n",
        "import pandas as pd\n",
        "from tqdm import tqdm\n",
        "\n",
        "from sklearn.svm import SVC\n",
        "from sklearn.preprocessing import StandardScaler\n",
        "from sklearn.metrics import classification_report, accuracy_score\n",
        "from sklearn.model_selection import GridSearchCV, StratifiedKFold\n",
        "from sklearn.metrics import confusion_matrix\n",
        "\n",
        "\n",
        "sys.path.append(str(Path(\"..\").absolute()))\n",
        "from src.point_cloud_processor import load_point_cloud, extract_fpfh_features\n",
        "\n",
        "base_path = Path(\"..\")\n",
        "data_path = base_path / \"data\"\n",
        "print(\"Base:\", base_path.absolute())\n",
        "print(\"Data:\", data_path.absolute())\n"
      ]
    },
    {
      "cell_type": "code",
      "execution_count": 2,
      "metadata": {},
      "outputs": [
        {
          "name": "stdout",
          "output_type": "stream",
          "text": [
            "Train: 557 | Test: 134 | Classes: ['Ash', 'Beech', 'Douglas Fir', 'Oak', 'Pine', 'Red Oak', 'Spruce']\n"
          ]
        }
      ],
      "source": [
        "# Dataset loading helpers (same logic as baseline)\n",
        "\n",
        "def load_from_folders(data_path: Path):\n",
        "\tX_train_paths, y_train, X_test_paths, y_test = [], [], [], []\n",
        "\ttrain_root = data_path.parent / \"train\"\n",
        "\ttest_root = data_path.parent / \"test\"\n",
        "\tif train_root.exists():\n",
        "\t\tfor species_dir in train_root.iterdir():\n",
        "\t\t\tif species_dir.is_dir():\n",
        "\t\t\t\tspecies = species_dir.name\n",
        "\t\t\t\tfor f in species_dir.iterdir():\n",
        "\t\t\t\t\tif f.is_file():\n",
        "\t\t\t\t\t\tX_train_paths.append(f)\n",
        "\t\t\t\t\t\ty_train.append(species)\n",
        "\tif test_root.exists():\n",
        "\t\tfor species_dir in test_root.iterdir():\n",
        "\t\t\tif species_dir.is_dir():\n",
        "\t\t\t\tspecies = species_dir.name\n",
        "\t\t\t\tfor f in species_dir.iterdir():\n",
        "\t\t\t\t\tif f.is_file():\n",
        "\t\t\t\t\t\tX_test_paths.append(f)\n",
        "\t\t\t\t\t\ty_test.append(species)\n",
        "\treturn X_train_paths, y_train, X_test_paths, y_test\n",
        "\n",
        "X_train_paths, y_train, X_test_paths, y_test = load_from_folders(data_path)\n",
        "print(f\"Train: {len(X_train_paths)} | Test: {len(X_test_paths)} | Classes: {sorted(set(y_train))}\")\n"
      ]
    },
    {
      "cell_type": "code",
      "execution_count": 9,
      "metadata": {},
      "outputs": [
        {
          "name": "stdout",
          "output_type": "stream",
          "text": [
            "Voxel candidates: [0.1]\n"
          ]
        }
      ],
      "source": [
        "# Feature extraction with voxel_size as a parameter\n",
        "\n",
        "def extract_features(file_paths, voxel_size=0.2, feature_dim=33):\n",
        "\tfeatures = []\n",
        "\tfails = 0\n",
        "\tfor p in tqdm(file_paths, desc=f\"FPFH v={voxel_size}\"):\n",
        "\t\ttry:\n",
        "\t\t\tpcd = load_point_cloud(p)\n",
        "\t\t\tif pcd and len(np.asarray(pcd.points)) > 0:\n",
        "\t\t\t\tf = extract_fpfh_features(pcd, voxel_size=voxel_size)\n",
        "\t\t\t\tif f is not None and len(f) == feature_dim:\n",
        "\t\t\t\t\tfeatures.append(f)\n",
        "\t\t\t\telse:\n",
        "\t\t\t\t\tfeatures.append(np.zeros(feature_dim))\n",
        "\t\t\t\t\tfails += 1\n",
        "\t\t\telse:\n",
        "\t\t\t\tfeatures.append(np.zeros(feature_dim))\n",
        "\t\t\t\tfails += 1\n",
        "\t\texcept Exception as e:\n",
        "\t\t\tfeatures.append(np.zeros(feature_dim))\n",
        "\t\t\tfails += 1\n",
        "\treturn np.array(features), fails\n",
        "\n",
        "# voxel_grid = [0.10, 0.15, 0.20, 0.30]\n",
        "voxel_grid = [0.10]\n",
        "print(\"Voxel candidates:\", voxel_grid)\n",
        "\n"
      ]
    },
    {
      "cell_type": "code",
      "execution_count": 10,
      "metadata": {},
      "outputs": [
        {
          "name": "stdout",
          "output_type": "stream",
          "text": [
            "\n",
            "============================================================\n",
            "Voxel size = 0.1\n",
            "============================================================\n"
          ]
        },
        {
          "name": "stderr",
          "output_type": "stream",
          "text": [
            "FPFH v=0.1:   0%|          | 1/557 [00:00<01:36,  5.73it/s]"
          ]
        },
        {
          "name": "stdout",
          "output_type": "stream",
          "text": [
            "\u001b[1;33m[Open3D WARNING] Read geometry::PointCloud failed: unknown file extension for ../train/Oak/29.txt (format: auto).\u001b[0;m\n",
            "Warning: No points found in file 29.txt. Trying NumPy fallback.\n",
            "\u001b[1;33m[Open3D WARNING] Read geometry::PointCloud failed: unknown file extension for ../train/Oak/15.txt (format: auto).\u001b[0;m\n",
            "Warning: No points found in file 15.txt. Trying NumPy fallback.\n"
          ]
        },
        {
          "name": "stderr",
          "output_type": "stream",
          "text": [
            "FPFH v=0.1:   1%|          | 3/557 [00:00<01:34,  5.85it/s]"
          ]
        },
        {
          "name": "stdout",
          "output_type": "stream",
          "text": [
            "\u001b[1;33m[Open3D WARNING] Read geometry::PointCloud failed: unknown file extension for ../train/Oak/28.txt (format: auto).\u001b[0;m\n",
            "Warning: No points found in file 28.txt. Trying NumPy fallback.\n",
            "\u001b[1;33m[Open3D WARNING] Read geometry::PointCloud failed: unknown file extension for ../train/Oak/16.txt (format: auto).\u001b[0;m\n",
            "Warning: No points found in file 16.txt. Trying NumPy fallback.\n"
          ]
        },
        {
          "name": "stderr",
          "output_type": "stream",
          "text": [
            "FPFH v=0.1:   1%|          | 5/557 [00:00<01:28,  6.24it/s]"
          ]
        },
        {
          "name": "stdout",
          "output_type": "stream",
          "text": [
            "\u001b[1;33m[Open3D WARNING] Read geometry::PointCloud failed: unknown file extension for ../train/Oak/10.txt (format: auto).\u001b[0;m\n",
            "Warning: No points found in file 10.txt. Trying NumPy fallback.\n",
            "\u001b[1;33m[Open3D WARNING] Read geometry::PointCloud failed: unknown file extension for ../train/Oak/11.txt (format: auto).\u001b[0;m\n",
            "Warning: No points found in file 11.txt. Trying NumPy fallback.\n",
            "\u001b[1;33m[Open3D WARNING] Read geometry::PointCloud failed: unknown file extension for ../train/Oak/5.txt (format: auto).\u001b[0;m\n",
            "Warning: No points found in file 5.txt. Trying NumPy fallback.\n"
          ]
        },
        {
          "name": "stderr",
          "output_type": "stream",
          "text": [
            "FPFH v=0.1:   1%|▏         | 7/557 [00:01<02:20,  3.90it/s]"
          ]
        },
        {
          "name": "stdout",
          "output_type": "stream",
          "text": [
            "\u001b[1;33m[Open3D WARNING] Read geometry::PointCloud failed: unknown file extension for ../train/Oak/4.txt (format: auto).\u001b[0;m\n",
            "Warning: No points found in file 4.txt. Trying NumPy fallback.\n"
          ]
        },
        {
          "name": "stderr",
          "output_type": "stream",
          "text": [
            "FPFH v=0.1:   1%|▏         | 8/557 [00:01<02:15,  4.05it/s]"
          ]
        },
        {
          "name": "stdout",
          "output_type": "stream",
          "text": [
            "\u001b[1;33m[Open3D WARNING] Read geometry::PointCloud failed: unknown file extension for ../train/Oak/6.txt (format: auto).\u001b[0;m\n",
            "Warning: No points found in file 6.txt. Trying NumPy fallback.\n"
          ]
        },
        {
          "name": "stderr",
          "output_type": "stream",
          "text": [
            "FPFH v=0.1:   2%|▏         | 9/557 [00:02<02:40,  3.42it/s]"
          ]
        },
        {
          "name": "stdout",
          "output_type": "stream",
          "text": [
            "\u001b[1;33m[Open3D WARNING] Read geometry::PointCloud failed: unknown file extension for ../train/Oak/3.txt (format: auto).\u001b[0;m\n",
            "Warning: No points found in file 3.txt. Trying NumPy fallback.\n"
          ]
        },
        {
          "name": "stderr",
          "output_type": "stream",
          "text": [
            "FPFH v=0.1:   2%|▏         | 10/557 [00:02<02:39,  3.44it/s]"
          ]
        },
        {
          "name": "stdout",
          "output_type": "stream",
          "text": [
            "\u001b[1;33m[Open3D WARNING] Read geometry::PointCloud failed: unknown file extension for ../train/Oak/2.txt (format: auto).\u001b[0;m\n",
            "Warning: No points found in file 2.txt. Trying NumPy fallback.\n"
          ]
        },
        {
          "name": "stderr",
          "output_type": "stream",
          "text": [
            "FPFH v=0.1:   2%|▏         | 12/557 [00:02<02:10,  4.18it/s]"
          ]
        },
        {
          "name": "stdout",
          "output_type": "stream",
          "text": [
            "\u001b[1;33m[Open3D WARNING] Read geometry::PointCloud failed: unknown file extension for ../train/Oak/20.txt (format: auto).\u001b[0;m\n",
            "Warning: No points found in file 20.txt. Trying NumPy fallback.\n",
            "\u001b[1;33m[Open3D WARNING] Read geometry::PointCloud failed: unknown file extension for ../train/Oak/21.txt (format: auto).\u001b[0;m\n",
            "Warning: No points found in file 21.txt. Trying NumPy fallback.\n"
          ]
        },
        {
          "name": "stderr",
          "output_type": "stream",
          "text": [
            "FPFH v=0.1:   2%|▏         | 13/557 [00:03<02:14,  4.05it/s]"
          ]
        },
        {
          "name": "stdout",
          "output_type": "stream",
          "text": [
            "\u001b[1;33m[Open3D WARNING] Read geometry::PointCloud failed: unknown file extension for ../train/Oak/26.txt (format: auto).\u001b[0;m\n",
            "Warning: No points found in file 26.txt. Trying NumPy fallback.\n"
          ]
        },
        {
          "name": "stderr",
          "output_type": "stream",
          "text": [
            "FPFH v=0.1:   3%|▎         | 15/557 [00:03<01:58,  4.57it/s]"
          ]
        },
        {
          "name": "stdout",
          "output_type": "stream",
          "text": [
            "\u001b[1;33m[Open3D WARNING] Read geometry::PointCloud failed: unknown file extension for ../train/Oak/27.txt (format: auto).\u001b[0;m\n",
            "Warning: No points found in file 27.txt. Trying NumPy fallback.\n",
            "\u001b[1;33m[Open3D WARNING] Read geometry::PointCloud failed: unknown file extension for ../train/Oak/31.txt (format: auto).\u001b[0;m\n",
            "Warning: No points found in file 31.txt. Trying NumPy fallback.\n"
          ]
        },
        {
          "name": "stderr",
          "output_type": "stream",
          "text": [
            "FPFH v=0.1:   3%|▎         | 16/557 [00:03<01:50,  4.91it/s]"
          ]
        },
        {
          "name": "stdout",
          "output_type": "stream",
          "text": [
            "\u001b[1;33m[Open3D WARNING] Read geometry::PointCloud failed: unknown file extension for ../train/Oak/19.txt (format: auto).\u001b[0;m\n",
            "Warning: No points found in file 19.txt. Trying NumPy fallback.\n"
          ]
        },
        {
          "name": "stderr",
          "output_type": "stream",
          "text": [
            "FPFH v=0.1:   3%|▎         | 18/557 [00:04<02:04,  4.32it/s]"
          ]
        },
        {
          "name": "stdout",
          "output_type": "stream",
          "text": [
            "\u001b[1;33m[Open3D WARNING] Read geometry::PointCloud failed: unknown file extension for ../train/Oak/30.txt (format: auto).\u001b[0;m\n",
            "Warning: No points found in file 30.txt. Trying NumPy fallback.\n"
          ]
        },
        {
          "name": "stderr",
          "output_type": "stream",
          "text": [
            "FPFH v=0.1:   4%|▍         | 24/557 [00:05<01:54,  4.64it/s]"
          ]
        },
        {
          "name": "stdout",
          "output_type": "stream",
          "text": [
            "\u001b[1;33m[Open3D WARNING] Read geometry::PointCloud failed: unknown file extension for ../train/Douglas Fir/31_86.txt (format: auto).\u001b[0;m\n",
            "Warning: No points found in file 31_86.txt. Trying NumPy fallback.\n",
            "\u001b[1;33m[Open3D WARNING] Read geometry::PointCloud failed: unknown file extension for ../train/Douglas Fir/31_92.txt (format: auto).\u001b[0;m\n",
            "Warning: No points found in file 31_92.txt. Trying NumPy fallback.\n",
            "\u001b[1;33m[Open3D WARNING] Read geometry::PointCloud failed: unknown file extension for ../train/Douglas Fir/31_79.txt (format: auto).\u001b[0;m\n",
            "Warning: No points found in file 31_79.txt. Trying NumPy fallback.\n",
            "\u001b[1;33m[Open3D WARNING] Read geometry::PointCloud failed: unknown file extension for ../train/Douglas Fir/31_78.txt (format: auto).\u001b[0;m\n",
            "Warning: No points found in file 31_78.txt. Trying NumPy fallback.\n",
            "\u001b[1;33m[Open3D WARNING] Read geometry::PointCloud failed: unknown file extension for ../train/Douglas Fir/61_49.txt (format: auto).\u001b[0;m\n",
            "Warning: No points found in file 61_49.txt. Trying NumPy fallback.\n"
          ]
        },
        {
          "name": "stderr",
          "output_type": "stream",
          "text": [
            "FPFH v=0.1:   5%|▍         | 27/557 [00:06<01:14,  7.14it/s]"
          ]
        },
        {
          "name": "stdout",
          "output_type": "stream",
          "text": [
            "\u001b[1;33m[Open3D WARNING] Read geometry::PointCloud failed: unknown file extension for ../train/Douglas Fir/61_88.txt (format: auto).\u001b[0;m\n",
            "Warning: No points found in file 61_88.txt. Trying NumPy fallback.\n"
          ]
        },
        {
          "name": "stderr",
          "output_type": "stream",
          "text": [
            "FPFH v=0.1:   5%|▌         | 29/557 [00:06<01:51,  4.74it/s]"
          ]
        },
        {
          "name": "stdout",
          "output_type": "stream",
          "text": [
            "\u001b[1;33m[Open3D WARNING] Read geometry::PointCloud failed: unknown file extension for ../train/Douglas Fir/61_63.txt (format: auto).\u001b[0;m\n",
            "Warning: No points found in file 61_63.txt. Trying NumPy fallback.\n"
          ]
        },
        {
          "name": "stderr",
          "output_type": "stream",
          "text": [
            "FPFH v=0.1:   6%|▌         | 32/557 [00:07<02:14,  3.91it/s]"
          ]
        },
        {
          "name": "stdout",
          "output_type": "stream",
          "text": [
            "\u001b[1;33m[Open3D WARNING] Read geometry::PointCloud failed: unknown file extension for ../train/Douglas Fir/31_85.txt (format: auto).\u001b[0;m\n",
            "Warning: No points found in file 31_85.txt. Trying NumPy fallback.\n",
            "\u001b[1;33m[Open3D WARNING] Read geometry::PointCloud failed: unknown file extension for ../train/Douglas Fir/31_52.txt (format: auto).\u001b[0;m\n",
            "Warning: No points found in file 31_52.txt. Trying NumPy fallback.\n",
            "\u001b[1;33m[Open3D WARNING] Read geometry::PointCloud failed: unknown file extension for ../train/Douglas Fir/31_46.txt (format: auto).\u001b[0;m\n",
            "Warning: No points found in file 31_46.txt. Trying NumPy fallback.\n",
            "\u001b[1;33m[Open3D WARNING] Read geometry::PointCloud failed: unknown file extension for ../train/Douglas Fir/31_53.txt (format: auto).\u001b[0;m\n",
            "Warning: No points found in file 31_53.txt. Trying NumPy fallback.\n"
          ]
        },
        {
          "name": "stderr",
          "output_type": "stream",
          "text": [
            "FPFH v=0.1:   6%|▋         | 35/557 [00:08<01:28,  5.92it/s]"
          ]
        },
        {
          "name": "stdout",
          "output_type": "stream",
          "text": [
            "\u001b[1;33m[Open3D WARNING] Read geometry::PointCloud failed: unknown file extension for ../train/Douglas Fir/31_84.txt (format: auto).\u001b[0;m\n",
            "Warning: No points found in file 31_84.txt. Trying NumPy fallback.\n"
          ]
        },
        {
          "name": "stderr",
          "output_type": "stream",
          "text": [
            "FPFH v=0.1:   7%|▋         | 37/557 [00:08<01:28,  5.91it/s]"
          ]
        },
        {
          "name": "stdout",
          "output_type": "stream",
          "text": [
            "\u001b[1;33m[Open3D WARNING] Read geometry::PointCloud failed: unknown file extension for ../train/Douglas Fir/31_3.txt (format: auto).\u001b[0;m\n",
            "Warning: No points found in file 31_3.txt. Trying NumPy fallback.\n",
            "\u001b[1;33m[Open3D WARNING] Read geometry::PointCloud failed: unknown file extension for ../train/Douglas Fir/61_62.txt (format: auto).\u001b[0;m\n",
            "Warning: No points found in file 61_62.txt. Trying NumPy fallback.\n",
            "\u001b[1;33m[Open3D WARNING] Read geometry::PointCloud failed: unknown file extension for ../train/Douglas Fir/61_99.txt (format: auto).\u001b[0;m\n",
            "Warning: No points found in file 61_99.txt. Trying NumPy fallback.\n",
            "\u001b[1;33m[Open3D WARNING] Read geometry::PointCloud failed: unknown file extension for ../train/Douglas Fir/61_72.txt (format: auto).\u001b[0;m\n",
            "Warning: No points found in file 61_72.txt. Trying NumPy fallback.\n"
          ]
        },
        {
          "name": "stderr",
          "output_type": "stream",
          "text": [
            "FPFH v=0.1:   7%|▋         | 40/557 [00:08<01:03,  8.17it/s]"
          ]
        },
        {
          "name": "stdout",
          "output_type": "stream",
          "text": [
            "\u001b[1;33m[Open3D WARNING] Read geometry::PointCloud failed: unknown file extension for ../train/Douglas Fir/61_66.txt (format: auto).\u001b[0;m\n",
            "Warning: No points found in file 61_66.txt. Trying NumPy fallback.\n"
          ]
        },
        {
          "name": "stderr",
          "output_type": "stream",
          "text": [
            "FPFH v=0.1:   8%|▊         | 44/557 [00:09<01:16,  6.72it/s]"
          ]
        },
        {
          "name": "stdout",
          "output_type": "stream",
          "text": [
            "\u001b[1;33m[Open3D WARNING] Read geometry::PointCloud failed: unknown file extension for ../train/Douglas Fir/31_80.txt (format: auto).\u001b[0;m\n",
            "Warning: No points found in file 31_80.txt. Trying NumPy fallback.\n",
            "\u001b[1;33m[Open3D WARNING] Read geometry::PointCloud failed: unknown file extension for ../train/Douglas Fir/31_56.txt (format: auto).\u001b[0;m\n",
            "Warning: No points found in file 31_56.txt. Trying NumPy fallback.\n"
          ]
        },
        {
          "name": "stderr",
          "output_type": "stream",
          "text": [
            "FPFH v=0.1:   8%|▊         | 46/557 [00:09<01:28,  5.79it/s]"
          ]
        },
        {
          "name": "stdout",
          "output_type": "stream",
          "text": [
            "\u001b[1;33m[Open3D WARNING] Read geometry::PointCloud failed: unknown file extension for ../train/Douglas Fir/61_67.txt (format: auto).\u001b[0;m\n",
            "Warning: No points found in file 61_67.txt. Trying NumPy fallback.\n",
            "\u001b[1;33m[Open3D WARNING] Read geometry::PointCloud failed: unknown file extension for ../train/Douglas Fir/61_98.txt (format: auto).\u001b[0;m\n",
            "Warning: No points found in file 61_98.txt. Trying NumPy fallback.\n"
          ]
        },
        {
          "name": "stderr",
          "output_type": "stream",
          "text": [
            "FPFH v=0.1:   9%|▉         | 50/557 [00:10<01:27,  5.78it/s]"
          ]
        },
        {
          "name": "stdout",
          "output_type": "stream",
          "text": [
            "\u001b[1;33m[Open3D WARNING] Read geometry::PointCloud failed: unknown file extension for ../train/Douglas Fir/61_65.txt (format: auto).\u001b[0;m\n",
            "Warning: No points found in file 61_65.txt. Trying NumPy fallback.\n",
            "\u001b[1;33m[Open3D WARNING] Read geometry::PointCloud failed: unknown file extension for ../train/Douglas Fir/61_71.txt (format: auto).\u001b[0;m\n",
            "Warning: No points found in file 61_71.txt. Trying NumPy fallback.\n",
            "\u001b[1;33m[Open3D WARNING] Read geometry::PointCloud failed: unknown file extension for ../train/Douglas Fir/61_8.txt (format: auto).\u001b[0;m\n",
            "Warning: No points found in file 61_8.txt. Trying NumPy fallback.\n"
          ]
        },
        {
          "name": "stderr",
          "output_type": "stream",
          "text": [
            "FPFH v=0.1:  10%|▉         | 54/557 [00:11<01:08,  7.32it/s]"
          ]
        },
        {
          "name": "stdout",
          "output_type": "stream",
          "text": [
            "\u001b[1;33m[Open3D WARNING] Read geometry::PointCloud failed: unknown file extension for ../train/Douglas Fir/31_40.txt (format: auto).\u001b[0;m\n",
            "Warning: No points found in file 31_40.txt. Trying NumPy fallback.\n",
            "\u001b[1;33m[Open3D WARNING] Read geometry::PointCloud failed: unknown file extension for ../train/Douglas Fir/63_60.txt (format: auto).\u001b[0;m\n",
            "Warning: No points found in file 63_60.txt. Trying NumPy fallback.\n",
            "\u001b[1;33m[Open3D WARNING] Read geometry::PointCloud failed: unknown file extension for ../train/Douglas Fir/31_54.txt (format: auto).\u001b[0;m\n",
            "Warning: No points found in file 31_54.txt. Trying NumPy fallback.\n",
            "\u001b[1;33m[Open3D WARNING] Read geometry::PointCloud failed: unknown file extension for ../train/Douglas Fir/31_68.txt (format: auto).\u001b[0;m\n",
            "Warning: No points found in file 31_68.txt. Trying NumPy fallback.\n"
          ]
        },
        {
          "name": "stderr",
          "output_type": "stream",
          "text": [
            "FPFH v=0.1:  10%|█         | 58/557 [00:11<00:52,  9.44it/s]"
          ]
        },
        {
          "name": "stdout",
          "output_type": "stream",
          "text": [
            "\u001b[1;33m[Open3D WARNING] Read geometry::PointCloud failed: unknown file extension for ../train/Douglas Fir/31_41.txt (format: auto).\u001b[0;m\n",
            "Warning: No points found in file 31_41.txt. Trying NumPy fallback.\n",
            "\u001b[1;33m[Open3D WARNING] Read geometry::PointCloud failed: unknown file extension for ../train/Douglas Fir/31_82.txt (format: auto).\u001b[0;m\n",
            "Warning: No points found in file 31_82.txt. Trying NumPy fallback.\n",
            "\u001b[1;33m[Open3D WARNING] Read geometry::PointCloud failed: unknown file extension for ../train/Douglas Fir/61_9.txt (format: auto).\u001b[0;m\n",
            "Warning: No points found in file 61_9.txt. Trying NumPy fallback.\n"
          ]
        },
        {
          "name": "stderr",
          "output_type": "stream",
          "text": [
            "FPFH v=0.1:  11%|█         | 61/557 [00:11<00:41, 11.86it/s]"
          ]
        },
        {
          "name": "stdout",
          "output_type": "stream",
          "text": [
            "\u001b[1;33m[Open3D WARNING] Read geometry::PointCloud failed: unknown file extension for ../train/Douglas Fir/61_70.txt (format: auto).\u001b[0;m\n",
            "Warning: No points found in file 61_70.txt. Trying NumPy fallback.\n",
            "\u001b[1;33m[Open3D WARNING] Read geometry::PointCloud failed: unknown file extension for ../train/Douglas Fir/61_17.txt (format: auto).\u001b[0;m\n",
            "Warning: No points found in file 61_17.txt. Trying NumPy fallback.\n",
            "\u001b[1;33m[Open3D WARNING] Read geometry::PointCloud failed: unknown file extension for ../train/Douglas Fir/62_85.txt (format: auto).\u001b[0;m\n",
            "Warning: No points found in file 62_85.txt. Trying NumPy fallback.\n"
          ]
        },
        {
          "name": "stderr",
          "output_type": "stream",
          "text": [
            "FPFH v=0.1:  11%|█▏        | 63/557 [00:11<00:42, 11.75it/s]"
          ]
        },
        {
          "name": "stdout",
          "output_type": "stream",
          "text": [
            "\u001b[1;33m[Open3D WARNING] Read geometry::PointCloud failed: unknown file extension for ../train/Douglas Fir/31_26.txt (format: auto).\u001b[0;m\n",
            "Warning: No points found in file 31_26.txt. Trying NumPy fallback.\n",
            "\u001b[1;33m[Open3D WARNING] Read geometry::PointCloud failed: unknown file extension for ../train/Douglas Fir/31_32.txt (format: auto).\u001b[0;m\n",
            "Warning: No points found in file 31_32.txt. Trying NumPy fallback.\n",
            "\u001b[1;33m[Open3D WARNING] Read geometry::PointCloud failed: unknown file extension for ../train/Douglas Fir/31_27.txt (format: auto).\u001b[0;m\n",
            "Warning: No points found in file 31_27.txt. Trying NumPy fallback.\n"
          ]
        },
        {
          "name": "stderr",
          "output_type": "stream",
          "text": [
            "FPFH v=0.1:  13%|█▎        | 71/557 [00:13<01:09,  6.97it/s]"
          ]
        },
        {
          "name": "stdout",
          "output_type": "stream",
          "text": [
            "\u001b[1;33m[Open3D WARNING] Read geometry::PointCloud failed: unknown file extension for ../train/Douglas Fir/61_16.txt (format: auto).\u001b[0;m\n",
            "Warning: No points found in file 61_16.txt. Trying NumPy fallback.\n",
            "\u001b[1;33m[Open3D WARNING] Read geometry::PointCloud failed: unknown file extension for ../train/Douglas Fir/32_3.txt (format: auto).\u001b[0;m\n",
            "Warning: No points found in file 32_3.txt. Trying NumPy fallback.\n",
            "\u001b[1;33m[Open3D WARNING] Read geometry::PointCloud failed: unknown file extension for ../train/Douglas Fir/61_28.txt (format: auto).\u001b[0;m\n",
            "Warning: No points found in file 61_28.txt. Trying NumPy fallback.\n",
            "\u001b[1;33m[Open3D WARNING] Read geometry::PointCloud failed: unknown file extension for ../train/Douglas Fir/62_104.txt (format: auto).\u001b[0;m\n",
            "Warning: No points found in file 62_104.txt. Trying NumPy fallback.\n"
          ]
        },
        {
          "name": "stderr",
          "output_type": "stream",
          "text": [
            "FPFH v=0.1:  13%|█▎        | 75/557 [00:13<00:52,  9.20it/s]"
          ]
        },
        {
          "name": "stdout",
          "output_type": "stream",
          "text": [
            "\u001b[1;33m[Open3D WARNING] Read geometry::PointCloud failed: unknown file extension for ../train/Douglas Fir/62_110.txt (format: auto).\u001b[0;m\n",
            "Warning: No points found in file 62_110.txt. Trying NumPy fallback.\n",
            "\u001b[1;33m[Open3D WARNING] Read geometry::PointCloud failed: unknown file extension for ../train/Douglas Fir/61_14.txt (format: auto).\u001b[0;m\n",
            "Warning: No points found in file 61_14.txt. Trying NumPy fallback.\n",
            "\u001b[1;33m[Open3D WARNING] Read geometry::PointCloud failed: unknown file extension for ../train/Douglas Fir/31_31.txt (format: auto).\u001b[0;m\n",
            "Warning: No points found in file 31_31.txt. Trying NumPy fallback.\n",
            "\u001b[1;33m[Open3D WARNING] Read geometry::PointCloud failed: unknown file extension for ../train/Douglas Fir/31_25.txt (format: auto).\u001b[0;m\n",
            "Warning: No points found in file 31_25.txt. Trying NumPy fallback.\n"
          ]
        },
        {
          "name": "stderr",
          "output_type": "stream",
          "text": [
            "FPFH v=0.1:  14%|█▍        | 77/557 [00:13<00:46, 10.28it/s]"
          ]
        },
        {
          "name": "stdout",
          "output_type": "stream",
          "text": [
            "\u001b[1;33m[Open3D WARNING] Read geometry::PointCloud failed: unknown file extension for ../train/Douglas Fir/31_30.txt (format: auto).\u001b[0;m\n",
            "Warning: No points found in file 31_30.txt. Trying NumPy fallback.\n",
            "\u001b[1;33m[Open3D WARNING] Read geometry::PointCloud failed: unknown file extension for ../train/Douglas Fir/62_33_1.txt (format: auto).\u001b[0;m\n",
            "Warning: No points found in file 62_33_1.txt. Trying NumPy fallback.\n",
            "\u001b[1;33m[Open3D WARNING] Read geometry::PointCloud failed: unknown file extension for ../train/Douglas Fir/61_29.txt (format: auto).\u001b[0;m\n",
            "Warning: No points found in file 61_29.txt. Trying NumPy fallback.\n"
          ]
        },
        {
          "name": "stderr",
          "output_type": "stream",
          "text": [
            "FPFH v=0.1:  15%|█▍        | 81/557 [00:14<01:20,  5.95it/s]"
          ]
        },
        {
          "name": "stdout",
          "output_type": "stream",
          "text": [
            "\u001b[1;33m[Open3D WARNING] Read geometry::PointCloud failed: unknown file extension for ../train/Douglas Fir/62_115.txt (format: auto).\u001b[0;m\n",
            "Warning: No points found in file 62_115.txt. Trying NumPy fallback.\n"
          ]
        },
        {
          "name": "stderr",
          "output_type": "stream",
          "text": [
            "FPFH v=0.1:  15%|█▌        | 85/557 [00:15<01:13,  6.45it/s]"
          ]
        },
        {
          "name": "stdout",
          "output_type": "stream",
          "text": [
            "\u001b[1;33m[Open3D WARNING] Read geometry::PointCloud failed: unknown file extension for ../train/Douglas Fir/31_34.txt (format: auto).\u001b[0;m\n",
            "Warning: No points found in file 31_34.txt. Trying NumPy fallback.\n",
            "\u001b[1;33m[Open3D WARNING] Read geometry::PointCloud failed: unknown file extension for ../train/Douglas Fir/31_20.txt (format: auto).\u001b[0;m\n",
            "Warning: No points found in file 31_20.txt. Trying NumPy fallback.\n",
            "\u001b[1;33m[Open3D WARNING] Read geometry::PointCloud failed: unknown file extension for ../train/Douglas Fir/31_21.txt (format: auto).\u001b[0;m\n",
            "Warning: No points found in file 31_21.txt. Trying NumPy fallback.\n",
            "\u001b[1;33m[Open3D WARNING] Read geometry::PointCloud failed: unknown file extension for ../train/Douglas Fir/31_35.txt (format: auto).\u001b[0;m\n",
            "Warning: No points found in file 31_35.txt. Trying NumPy fallback.\n"
          ]
        },
        {
          "name": "stderr",
          "output_type": "stream",
          "text": [
            "FPFH v=0.1:  16%|█▌        | 87/557 [00:15<01:03,  7.46it/s]"
          ]
        },
        {
          "name": "stdout",
          "output_type": "stream",
          "text": [
            "\u001b[1;33m[Open3D WARNING] Read geometry::PointCloud failed: unknown file extension for ../train/Douglas Fir/61_10.txt (format: auto).\u001b[0;m\n",
            "Warning: No points found in file 61_10.txt. Trying NumPy fallback.\n",
            "\u001b[1;33m[Open3D WARNING] Read geometry::PointCloud failed: unknown file extension for ../train/Douglas Fir/61_12.txt (format: auto).\u001b[0;m\n",
            "Warning: No points found in file 61_12.txt. Trying NumPy fallback.\n",
            "\u001b[1;33m[Open3D WARNING] Read geometry::PointCloud failed: unknown file extension for ../train/Douglas Fir/31_23.txt (format: auto).\u001b[0;m\n",
            "Warning: No points found in file 31_23.txt. Trying NumPy fallback.\n"
          ]
        },
        {
          "name": "stderr",
          "output_type": "stream",
          "text": [
            "FPFH v=0.1:  17%|█▋        | 92/557 [00:16<01:47,  4.31it/s]"
          ]
        },
        {
          "name": "stdout",
          "output_type": "stream",
          "text": [
            "\u001b[1;33m[Open3D WARNING] Read geometry::PointCloud failed: unknown file extension for ../train/Douglas Fir/61_22.txt (format: auto).\u001b[0;m\n",
            "Warning: No points found in file 61_22.txt. Trying NumPy fallback.\n"
          ]
        },
        {
          "name": "stderr",
          "output_type": "stream",
          "text": [
            "FPFH v=0.1:  17%|█▋        | 95/557 [00:17<01:57,  3.92it/s]"
          ]
        },
        {
          "name": "stdout",
          "output_type": "stream",
          "text": [
            "\u001b[1;33m[Open3D WARNING] Read geometry::PointCloud failed: unknown file extension for ../train/Douglas Fir/62_37_15.txt (format: auto).\u001b[0;m\n",
            "Warning: No points found in file 62_37_15.txt. Trying NumPy fallback.\n",
            "\u001b[1;33m[Open3D WARNING] Read geometry::PointCloud failed: unknown file extension for ../train/Douglas Fir/31_13.txt (format: auto).\u001b[0;m\n",
            "Warning: No points found in file 31_13.txt. Trying NumPy fallback.\n"
          ]
        },
        {
          "name": "stderr",
          "output_type": "stream",
          "text": [
            "FPFH v=0.1:  17%|█▋        | 97/557 [00:17<01:30,  5.10it/s]"
          ]
        },
        {
          "name": "stdout",
          "output_type": "stream",
          "text": [
            "\u001b[1;33m[Open3D WARNING] Read geometry::PointCloud failed: unknown file extension for ../train/Douglas Fir/31_12.txt (format: auto).\u001b[0;m\n",
            "Warning: No points found in file 31_12.txt. Trying NumPy fallback.\n",
            "\u001b[1;33m[Open3D WARNING] Read geometry::PointCloud failed: unknown file extension for ../train/Douglas Fir/61_37.txt (format: auto).\u001b[0;m\n",
            "Warning: No points found in file 61_37.txt. Trying NumPy fallback.\n",
            "\u001b[1;33m[Open3D WARNING] Read geometry::PointCloud failed: unknown file extension for ../train/Douglas Fir/61_23.txt (format: auto).\u001b[0;m\n",
            "Warning: No points found in file 61_23.txt. Trying NumPy fallback.\n"
          ]
        },
        {
          "name": "stderr",
          "output_type": "stream",
          "text": [
            "FPFH v=0.1:  18%|█▊        | 101/557 [00:18<00:49,  9.23it/s]"
          ]
        },
        {
          "name": "stdout",
          "output_type": "stream",
          "text": [
            "\u001b[1;33m[Open3D WARNING] Read geometry::PointCloud failed: unknown file extension for ../train/Douglas Fir/61_35.txt (format: auto).\u001b[0;m\n",
            "Warning: No points found in file 61_35.txt. Trying NumPy fallback.\n",
            "\u001b[1;33m[Open3D WARNING] Read geometry::PointCloud failed: unknown file extension for ../train/Douglas Fir/62_70.txt (format: auto).\u001b[0;m\n",
            "Warning: No points found in file 62_70.txt. Trying NumPy fallback.\n",
            "\u001b[1;33m[Open3D WARNING] Read geometry::PointCloud failed: unknown file extension for ../train/Douglas Fir/32_69.txt (format: auto).\u001b[0;m\n",
            "Warning: No points found in file 32_69.txt. Trying NumPy fallback.\n"
          ]
        },
        {
          "name": "stderr",
          "output_type": "stream",
          "text": [
            "FPFH v=0.1:  18%|█▊        | 103/557 [00:18<00:44, 10.30it/s]"
          ]
        },
        {
          "name": "stdout",
          "output_type": "stream",
          "text": [
            "\u001b[1;33m[Open3D WARNING] Read geometry::PointCloud failed: unknown file extension for ../train/Douglas Fir/31_38.txt (format: auto).\u001b[0;m\n",
            "Warning: No points found in file 31_38.txt. Trying NumPy fallback.\n",
            "\u001b[1;33m[Open3D WARNING] Read geometry::PointCloud failed: unknown file extension for ../train/Douglas Fir/31_11.txt (format: auto).\u001b[0;m\n",
            "Warning: No points found in file 31_11.txt. Trying NumPy fallback.\n"
          ]
        },
        {
          "name": "stderr",
          "output_type": "stream",
          "text": [
            "FPFH v=0.1:  19%|█▉        | 107/557 [00:19<01:13,  6.11it/s]"
          ]
        },
        {
          "name": "stdout",
          "output_type": "stream",
          "text": [
            "\u001b[1;33m[Open3D WARNING] Read geometry::PointCloud failed: unknown file extension for ../train/Douglas Fir/61_20.txt (format: auto).\u001b[0;m\n",
            "Warning: No points found in file 61_20.txt. Trying NumPy fallback.\n",
            "\u001b[1;33m[Open3D WARNING] Read geometry::PointCloud failed: unknown file extension for ../train/Douglas Fir/61_34.txt (format: auto).\u001b[0;m\n",
            "Warning: No points found in file 61_34.txt. Trying NumPy fallback.\n",
            "\u001b[1;33m[Open3D WARNING] Read geometry::PointCloud failed: unknown file extension for ../train/Douglas Fir/62_130.txt (format: auto).\u001b[0;m\n",
            "Warning: No points found in file 62_130.txt. Trying NumPy fallback.\n"
          ]
        },
        {
          "name": "stderr",
          "output_type": "stream",
          "text": [
            "FPFH v=0.1:  20%|██        | 113/557 [00:19<00:59,  7.46it/s]"
          ]
        },
        {
          "name": "stdout",
          "output_type": "stream",
          "text": [
            "\u001b[1;33m[Open3D WARNING] Read geometry::PointCloud failed: unknown file extension for ../train/Douglas Fir/61_30.txt (format: auto).\u001b[0;m\n",
            "Warning: No points found in file 61_30.txt. Trying NumPy fallback.\n",
            "\u001b[1;33m[Open3D WARNING] Read geometry::PointCloud failed: unknown file extension for ../train/Douglas Fir/61_24.txt (format: auto).\u001b[0;m\n",
            "Warning: No points found in file 61_24.txt. Trying NumPy fallback.\n",
            "\u001b[1;33m[Open3D WARNING] Read geometry::PointCloud failed: unknown file extension for ../train/Douglas Fir/61_18.txt (format: auto).\u001b[0;m\n",
            "Warning: No points found in file 61_18.txt. Trying NumPy fallback.\n",
            "\u001b[1;33m[Open3D WARNING] Read geometry::PointCloud failed: unknown file extension for ../train/Douglas Fir/31_15.txt (format: auto).\u001b[0;m\n",
            "Warning: No points found in file 31_15.txt. Trying NumPy fallback.\n"
          ]
        },
        {
          "name": "stderr",
          "output_type": "stream",
          "text": [
            "FPFH v=0.1:  21%|██        | 115/557 [00:20<00:53,  8.28it/s]"
          ]
        },
        {
          "name": "stdout",
          "output_type": "stream",
          "text": [
            "\u001b[1;33m[Open3D WARNING] Read geometry::PointCloud failed: unknown file extension for ../train/Douglas Fir/31_29.txt (format: auto).\u001b[0;m\n",
            "Warning: No points found in file 31_29.txt. Trying NumPy fallback.\n",
            "\u001b[1;33m[Open3D WARNING] Read geometry::PointCloud failed: unknown file extension for ../train/Douglas Fir/31_14.txt (format: auto).\u001b[0;m\n",
            "Warning: No points found in file 31_14.txt. Trying NumPy fallback.\n",
            "\u001b[1;33m[Open3D WARNING] Read geometry::PointCloud failed: unknown file extension for ../train/Douglas Fir/32_79.txt (format: auto).\u001b[0;m\n",
            "Warning: No points found in file 32_79.txt. Trying NumPy fallback.\n"
          ]
        },
        {
          "name": "stderr",
          "output_type": "stream",
          "text": [
            "FPFH v=0.1:  21%|██▏       | 119/557 [00:20<01:03,  6.86it/s]"
          ]
        },
        {
          "name": "stdout",
          "output_type": "stream",
          "text": [
            "\u001b[1;33m[Open3D WARNING] Read geometry::PointCloud failed: unknown file extension for ../train/Douglas Fir/61_19.txt (format: auto).\u001b[0;m\n",
            "Warning: No points found in file 61_19.txt. Trying NumPy fallback.\n"
          ]
        },
        {
          "name": "stderr",
          "output_type": "stream",
          "text": [
            "FPFH v=0.1:  22%|██▏       | 123/557 [00:21<00:51,  8.48it/s]"
          ]
        },
        {
          "name": "stdout",
          "output_type": "stream",
          "text": [
            "\u001b[1;33m[Open3D WARNING] Read geometry::PointCloud failed: unknown file extension for ../train/Douglas Fir/61_25.txt (format: auto).\u001b[0;m\n",
            "Warning: No points found in file 61_25.txt. Trying NumPy fallback.\n",
            "\u001b[1;33m[Open3D WARNING] Read geometry::PointCloud failed: unknown file extension for ../train/Douglas Fir/61_31.txt (format: auto).\u001b[0;m\n",
            "Warning: No points found in file 61_31.txt. Trying NumPy fallback.\n",
            "\u001b[1;33m[Open3D WARNING] Read geometry::PointCloud failed: unknown file extension for ../train/Douglas Fir/61_33.txt (format: auto).\u001b[0;m\n",
            "Warning: No points found in file 61_33.txt. Trying NumPy fallback.\n",
            "\u001b[1;33m[Open3D WARNING] Read geometry::PointCloud failed: unknown file extension for ../train/Douglas Fir/32_84.txt (format: auto).\u001b[0;m\n",
            "Warning: No points found in file 32_84.txt. Trying NumPy fallback.\n"
          ]
        },
        {
          "name": "stderr",
          "output_type": "stream",
          "text": [
            "FPFH v=0.1:  23%|██▎       | 127/557 [00:21<00:38, 11.22it/s]"
          ]
        },
        {
          "name": "stdout",
          "output_type": "stream",
          "text": [
            "\u001b[1;33m[Open3D WARNING] Read geometry::PointCloud failed: unknown file extension for ../train/Douglas Fir/61_32.txt (format: auto).\u001b[0;m\n",
            "Warning: No points found in file 61_32.txt. Trying NumPy fallback.\n",
            "\u001b[1;33m[Open3D WARNING] Read geometry::PointCloud failed: unknown file extension for ../train/Douglas Fir/61_69.txt (format: auto).\u001b[0;m\n",
            "Warning: No points found in file 61_69.txt. Trying NumPy fallback.\n",
            "\u001b[1;33m[Open3D WARNING] Read geometry::PointCloud failed: unknown file extension for ../train/Douglas Fir/61_41.txt (format: auto).\u001b[0;m\n",
            "Warning: No points found in file 61_41.txt. Trying NumPy fallback.\n",
            "\u001b[1;33m[Open3D WARNING] Read geometry::PointCloud failed: unknown file extension for ../train/Douglas Fir/64_71.txt (format: auto).\u001b[0;m\n",
            "Warning: No points found in file 64_71.txt. Trying NumPy fallback.\n"
          ]
        },
        {
          "name": "stderr",
          "output_type": "stream",
          "text": [
            "FPFH v=0.1:  23%|██▎       | 129/557 [00:21<00:34, 12.42it/s]"
          ]
        },
        {
          "name": "stdout",
          "output_type": "stream",
          "text": [
            "\u001b[1;33m[Open3D WARNING] Read geometry::PointCloud failed: unknown file extension for ../train/Douglas Fir/31_64.txt (format: auto).\u001b[0;m\n",
            "Warning: No points found in file 31_64.txt. Trying NumPy fallback.\n",
            "\u001b[1;33m[Open3D WARNING] Read geometry::PointCloud failed: unknown file extension for ../train/Douglas Fir/31_70.txt (format: auto).\u001b[0;m\n",
            "Warning: No points found in file 31_70.txt. Trying NumPy fallback.\n"
          ]
        },
        {
          "name": "stderr",
          "output_type": "stream",
          "text": [
            "FPFH v=0.1:  24%|██▍       | 134/557 [00:22<00:53,  7.95it/s]"
          ]
        },
        {
          "name": "stdout",
          "output_type": "stream",
          "text": [
            "\u001b[1;33m[Open3D WARNING] Read geometry::PointCloud failed: unknown file extension for ../train/Douglas Fir/31_71.txt (format: auto).\u001b[0;m\n",
            "Warning: No points found in file 31_71.txt. Trying NumPy fallback.\n",
            "\u001b[1;33m[Open3D WARNING] Read geometry::PointCloud failed: unknown file extension for ../train/Douglas Fir/31_65.txt (format: auto).\u001b[0;m\n",
            "Warning: No points found in file 31_65.txt. Trying NumPy fallback.\n",
            "\u001b[1;33m[Open3D WARNING] Read geometry::PointCloud failed: unknown file extension for ../train/Douglas Fir/31_59.txt (format: auto).\u001b[0;m\n",
            "Warning: No points found in file 31_59.txt. Trying NumPy fallback.\n"
          ]
        },
        {
          "name": "stderr",
          "output_type": "stream",
          "text": [
            "FPFH v=0.1:  25%|██▍       | 138/557 [00:22<00:47,  8.86it/s]"
          ]
        },
        {
          "name": "stdout",
          "output_type": "stream",
          "text": [
            "\u001b[1;33m[Open3D WARNING] Read geometry::PointCloud failed: unknown file extension for ../train/Douglas Fir/61_5.txt (format: auto).\u001b[0;m\n",
            "Warning: No points found in file 61_5.txt. Trying NumPy fallback.\n",
            "\u001b[1;33m[Open3D WARNING] Read geometry::PointCloud failed: unknown file extension for ../train/Douglas Fir/61_40.txt (format: auto).\u001b[0;m\n",
            "Warning: No points found in file 61_40.txt. Trying NumPy fallback.\n",
            "\u001b[1;33m[Open3D WARNING] Read geometry::PointCloud failed: unknown file extension for ../train/Douglas Fir/61_68.txt (format: auto).\u001b[0;m\n",
            "Warning: No points found in file 61_68.txt. Trying NumPy fallback.\n"
          ]
        },
        {
          "name": "stderr",
          "output_type": "stream",
          "text": [
            "FPFH v=0.1:  25%|██▌       | 140/557 [00:23<00:52,  7.89it/s]"
          ]
        },
        {
          "name": "stdout",
          "output_type": "stream",
          "text": [
            "\u001b[1;33m[Open3D WARNING] Read geometry::PointCloud failed: unknown file extension for ../train/Douglas Fir/61_97.txt (format: auto).\u001b[0;m\n",
            "Warning: No points found in file 61_97.txt. Trying NumPy fallback.\n",
            "\u001b[1;33m[Open3D WARNING] Read geometry::PointCloud failed: unknown file extension for ../train/Douglas Fir/62_146.txt (format: auto).\u001b[0;m\n",
            "Warning: No points found in file 62_146.txt. Trying NumPy fallback.\n",
            "\u001b[1;33m[Open3D WARNING] Read geometry::PointCloud failed: unknown file extension for ../train/Douglas Fir/61_56.txt (format: auto).\u001b[0;m\n",
            "Warning: No points found in file 61_56.txt. Trying NumPy fallback.\n",
            "\u001b[1;33m[Open3D WARNING] Read geometry::PointCloud failed: unknown file extension for ../train/Douglas Fir/61_42.txt (format: auto).\u001b[0;m\n",
            "Warning: No points found in file 61_42.txt. Trying NumPy fallback.\n"
          ]
        },
        {
          "name": "stderr",
          "output_type": "stream",
          "text": [
            "FPFH v=0.1:  26%|██▌       | 145/557 [00:23<00:38, 10.76it/s]"
          ]
        },
        {
          "name": "stdout",
          "output_type": "stream",
          "text": [
            "\u001b[1;33m[Open3D WARNING] Read geometry::PointCloud failed: unknown file extension for ../train/Douglas Fir/32_36.txt (format: auto).\u001b[0;m\n",
            "Warning: No points found in file 32_36.txt. Trying NumPy fallback.\n",
            "\u001b[1;33m[Open3D WARNING] Read geometry::PointCloud failed: unknown file extension for ../train/Douglas Fir/31_73.txt (format: auto).\u001b[0;m\n",
            "Warning: No points found in file 31_73.txt. Trying NumPy fallback.\n",
            "\u001b[1;33m[Open3D WARNING] Read geometry::PointCloud failed: unknown file extension for ../train/Douglas Fir/31_66.txt (format: auto).\u001b[0;m\n",
            "Warning: No points found in file 31_66.txt. Trying NumPy fallback.\n"
          ]
        },
        {
          "name": "stderr",
          "output_type": "stream",
          "text": [
            "FPFH v=0.1:  26%|██▋       | 147/557 [00:23<00:36, 11.23it/s]"
          ]
        },
        {
          "name": "stdout",
          "output_type": "stream",
          "text": [
            "\u001b[1;33m[Open3D WARNING] Read geometry::PointCloud failed: unknown file extension for ../train/Douglas Fir/32_37.txt (format: auto).\u001b[0;m\n",
            "Warning: No points found in file 32_37.txt. Trying NumPy fallback.\n"
          ]
        },
        {
          "name": "stderr",
          "output_type": "stream",
          "text": [
            "FPFH v=0.1:  27%|██▋       | 149/557 [00:24<00:51,  7.92it/s]"
          ]
        },
        {
          "name": "stdout",
          "output_type": "stream",
          "text": [
            "\u001b[1;33m[Open3D WARNING] Read geometry::PointCloud failed: unknown file extension for ../train/Douglas Fir/61_57.txt (format: auto).\u001b[0;m\n",
            "Warning: No points found in file 61_57.txt. Trying NumPy fallback.\n",
            "\u001b[1;33m[Open3D WARNING] Read geometry::PointCloud failed: unknown file extension for ../train/Douglas Fir/61_80.txt (format: auto).\u001b[0;m\n",
            "Warning: No points found in file 61_80.txt. Trying NumPy fallback.\n",
            "\u001b[1;33m[Open3D WARNING] Read geometry::PointCloud failed: unknown file extension for ../train/Douglas Fir/61_84.txt (format: auto).\u001b[0;m\n",
            "Warning: No points found in file 61_84.txt. Trying NumPy fallback.\n"
          ]
        },
        {
          "name": "stderr",
          "output_type": "stream",
          "text": [
            "FPFH v=0.1:  28%|██▊       | 154/557 [00:24<00:43,  9.30it/s]"
          ]
        },
        {
          "name": "stdout",
          "output_type": "stream",
          "text": [
            "\u001b[1;33m[Open3D WARNING] Read geometry::PointCloud failed: unknown file extension for ../train/Douglas Fir/31_89.txt (format: auto).\u001b[0;m\n",
            "Warning: No points found in file 31_89.txt. Trying NumPy fallback.\n",
            "\u001b[1;33m[Open3D WARNING] Read geometry::PointCloud failed: unknown file extension for ../train/Douglas Fir/31_62.txt (format: auto).\u001b[0;m\n",
            "Warning: No points found in file 31_62.txt. Trying NumPy fallback.\n"
          ]
        },
        {
          "name": "stderr",
          "output_type": "stream",
          "text": [
            "FPFH v=0.1:  28%|██▊       | 156/557 [00:25<00:49,  8.09it/s]"
          ]
        },
        {
          "name": "stdout",
          "output_type": "stream",
          "text": [
            "\u001b[1;33m[Open3D WARNING] Read geometry::PointCloud failed: unknown file extension for ../train/Douglas Fir/31_88.txt (format: auto).\u001b[0;m\n",
            "Warning: No points found in file 31_88.txt. Trying NumPy fallback.\n"
          ]
        },
        {
          "name": "stderr",
          "output_type": "stream",
          "text": [
            "FPFH v=0.1:  28%|██▊       | 158/557 [00:25<01:23,  4.78it/s]"
          ]
        },
        {
          "name": "stdout",
          "output_type": "stream",
          "text": [
            "\u001b[1;33m[Open3D WARNING] Read geometry::PointCloud failed: unknown file extension for ../train/Douglas Fir/61_46.txt (format: auto).\u001b[0;m\n",
            "Warning: No points found in file 61_46.txt. Trying NumPy fallback.\n",
            "\u001b[1;33m[Open3D WARNING] Read geometry::PointCloud failed: unknown file extension for ../train/Douglas Fir/61_52.txt (format: auto).\u001b[0;m\n",
            "Warning: No points found in file 61_52.txt. Trying NumPy fallback.\n",
            "\u001b[1;33m[Open3D WARNING] Read geometry::PointCloud failed: unknown file extension for ../train/Douglas Fir/63_3.txt (format: auto).\u001b[0;m\n",
            "Warning: No points found in file 63_3.txt. Trying NumPy fallback.\n",
            "\u001b[1;33m[Open3D WARNING] Read geometry::PointCloud failed: unknown file extension for ../train/Douglas Fir/31_61.txt (format: auto).\u001b[0;m\n",
            "Warning: No points found in file 31_61.txt. Trying NumPy fallback.\n"
          ]
        },
        {
          "name": "stderr",
          "output_type": "stream",
          "text": [
            "FPFH v=0.1:  29%|██▉       | 164/557 [00:26<00:44,  8.77it/s]"
          ]
        },
        {
          "name": "stdout",
          "output_type": "stream",
          "text": [
            "\u001b[1;33m[Open3D WARNING] Read geometry::PointCloud failed: unknown file extension for ../train/Douglas Fir/31_48.txt (format: auto).\u001b[0;m\n",
            "Warning: No points found in file 31_48.txt. Trying NumPy fallback.\n",
            "\u001b[1;33m[Open3D WARNING] Read geometry::PointCloud failed: unknown file extension for ../train/Douglas Fir/31_74.txt (format: auto).\u001b[0;m\n",
            "Warning: No points found in file 31_74.txt. Trying NumPy fallback.\n",
            "\u001b[1;33m[Open3D WARNING] Read geometry::PointCloud failed: unknown file extension for ../train/Douglas Fir/31_60.txt (format: auto).\u001b[0;m\n",
            "Warning: No points found in file 31_60.txt. Trying NumPy fallback.\n",
            "\u001b[1;33m[Open3D WARNING] Read geometry::PointCloud failed: unknown file extension for ../train/Douglas Fir/61_45.txt (format: auto).\u001b[0;m\n",
            "Warning: No points found in file 61_45.txt. Trying NumPy fallback.\n",
            "\u001b[1;33m[Open3D WARNING] Read geometry::PointCloud failed: unknown file extension for ../train/Spruce/65_38.txt (format: auto).\u001b[0;m\n",
            "Warning: No points found in file 65_38.txt. Trying NumPy fallback.\n"
          ]
        },
        {
          "name": "stderr",
          "output_type": "stream",
          "text": [
            "FPFH v=0.1:  30%|███       | 168/557 [00:26<00:36, 10.63it/s]"
          ]
        },
        {
          "name": "stdout",
          "output_type": "stream",
          "text": [
            "\u001b[1;33m[Open3D WARNING] Read geometry::PointCloud failed: unknown file extension for ../train/Spruce/65_10.txt (format: auto).\u001b[0;m\n",
            "Warning: No points found in file 65_10.txt. Trying NumPy fallback.\n",
            "\u001b[1;33m[Open3D WARNING] Read geometry::PointCloud failed: unknown file extension for ../train/Spruce/65_9.txt (format: auto).\u001b[0;m\n",
            "Warning: No points found in file 65_9.txt. Trying NumPy fallback.\n",
            "\u001b[1;33m[Open3D WARNING] Read geometry::PointCloud failed: unknown file extension for ../train/Spruce/64_78.txt (format: auto).\u001b[0;m\n",
            "Warning: No points found in file 64_78.txt. Trying NumPy fallback.\n"
          ]
        },
        {
          "name": "stderr",
          "output_type": "stream",
          "text": [
            "FPFH v=0.1:  31%|███       | 173/557 [00:26<00:27, 14.15it/s]"
          ]
        },
        {
          "name": "stdout",
          "output_type": "stream",
          "text": [
            "\u001b[1;33m[Open3D WARNING] Read geometry::PointCloud failed: unknown file extension for ../train/Spruce/64_45.txt (format: auto).\u001b[0;m\n",
            "Warning: No points found in file 64_45.txt. Trying NumPy fallback.\n",
            "\u001b[1;33m[Open3D WARNING] Read geometry::PointCloud failed: unknown file extension for ../train/Spruce/65_8.txt (format: auto).\u001b[0;m\n",
            "Warning: No points found in file 65_8.txt. Trying NumPy fallback.\n",
            "\u001b[1;33m[Open3D WARNING] Read geometry::PointCloud failed: unknown file extension for ../train/Spruce/35_20.txt (format: auto).\u001b[0;m\n",
            "Warning: No points found in file 35_20.txt. Trying NumPy fallback.\n",
            "\u001b[1;33m[Open3D WARNING] Read geometry::PointCloud failed: unknown file extension for ../train/Spruce/65_11.txt (format: auto).\u001b[0;m\n",
            "Warning: No points found in file 65_11.txt. Trying NumPy fallback.\n",
            "\u001b[1;33m[Open3D WARNING] Read geometry::PointCloud failed: unknown file extension for ../train/Spruce/65_39.txt (format: auto).\u001b[0;m\n",
            "Warning: No points found in file 65_39.txt. Trying NumPy fallback.\n"
          ]
        },
        {
          "name": "stderr",
          "output_type": "stream",
          "text": [
            "FPFH v=0.1:  32%|███▏      | 179/557 [00:27<00:23, 15.79it/s]"
          ]
        },
        {
          "name": "stdout",
          "output_type": "stream",
          "text": [
            "\u001b[1;33m[Open3D WARNING] Read geometry::PointCloud failed: unknown file extension for ../train/Spruce/65_13.txt (format: auto).\u001b[0;m\n",
            "Warning: No points found in file 65_13.txt. Trying NumPy fallback.\n",
            "\u001b[1;33m[Open3D WARNING] Read geometry::PointCloud failed: unknown file extension for ../train/Spruce/35_22.txt (format: auto).\u001b[0;m\n",
            "Warning: No points found in file 35_22.txt. Trying NumPy fallback.\n",
            "\u001b[1;33m[Open3D WARNING] Read geometry::PointCloud failed: unknown file extension for ../train/Spruce/35_23.txt (format: auto).\u001b[0;m\n",
            "Warning: No points found in file 35_23.txt. Trying NumPy fallback.\n",
            "\u001b[1;33m[Open3D WARNING] Read geometry::PointCloud failed: unknown file extension for ../train/Spruce/65_12.txt (format: auto).\u001b[0;m\n",
            "Warning: No points found in file 65_12.txt. Trying NumPy fallback.\n"
          ]
        },
        {
          "name": "stderr",
          "output_type": "stream",
          "text": [
            "FPFH v=0.1:  32%|███▏      | 181/557 [00:27<00:28, 13.27it/s]"
          ]
        },
        {
          "name": "stdout",
          "output_type": "stream",
          "text": [
            "\u001b[1;33m[Open3D WARNING] Read geometry::PointCloud failed: unknown file extension for ../train/Spruce/65_16.txt (format: auto).\u001b[0;m\n",
            "Warning: No points found in file 65_16.txt. Trying NumPy fallback.\n",
            "\u001b[1;33m[Open3D WARNING] Read geometry::PointCloud failed: unknown file extension for ../train/Spruce/35_27.txt (format: auto).\u001b[0;m\n",
            "Warning: No points found in file 35_27.txt. Trying NumPy fallback.\n"
          ]
        },
        {
          "name": "stderr",
          "output_type": "stream",
          "text": [
            "FPFH v=0.1:  33%|███▎      | 186/557 [00:27<00:28, 12.83it/s]"
          ]
        },
        {
          "name": "stdout",
          "output_type": "stream",
          "text": [
            "\u001b[1;33m[Open3D WARNING] Read geometry::PointCloud failed: unknown file extension for ../train/Spruce/35_32.txt (format: auto).\u001b[0;m\n",
            "Warning: No points found in file 35_32.txt. Trying NumPy fallback.\n",
            "\u001b[1;33m[Open3D WARNING] Read geometry::PointCloud failed: unknown file extension for ../train/Spruce/65_17.txt (format: auto).\u001b[0;m\n",
            "Warning: No points found in file 65_17.txt. Trying NumPy fallback.\n",
            "\u001b[1;33m[Open3D WARNING] Read geometry::PointCloud failed: unknown file extension for ../train/Spruce/35_2.txt (format: auto).\u001b[0;m\n",
            "Warning: No points found in file 35_2.txt. Trying NumPy fallback.\n",
            "\u001b[1;33m[Open3D WARNING] Read geometry::PointCloud failed: unknown file extension for ../train/Spruce/35_24.txt (format: auto).\u001b[0;m\n",
            "Warning: No points found in file 35_24.txt. Trying NumPy fallback.\n",
            "\u001b[1;33m[Open3D WARNING] Read geometry::PointCloud failed: unknown file extension for ../train/Spruce/64_68.txt (format: auto).\u001b[0;m\n",
            "Warning: No points found in file 64_68.txt. Trying NumPy fallback.\n"
          ]
        },
        {
          "name": "stderr",
          "output_type": "stream",
          "text": [
            "FPFH v=0.1:  34%|███▍      | 190/557 [00:28<00:26, 13.96it/s]"
          ]
        },
        {
          "name": "stdout",
          "output_type": "stream",
          "text": [
            "\u001b[1;33m[Open3D WARNING] Read geometry::PointCloud failed: unknown file extension for ../train/Spruce/35_19.txt (format: auto).\u001b[0;m\n",
            "Warning: No points found in file 35_19.txt. Trying NumPy fallback.\n",
            "\u001b[1;33m[Open3D WARNING] Read geometry::PointCloud failed: unknown file extension for ../train/Spruce/35_31.txt (format: auto).\u001b[0;m\n",
            "Warning: No points found in file 35_31.txt. Trying NumPy fallback.\n",
            "\u001b[1;33m[Open3D WARNING] Read geometry::PointCloud failed: unknown file extension for ../train/Spruce/35_25.txt (format: auto).\u001b[0;m\n",
            "Warning: No points found in file 35_25.txt. Trying NumPy fallback.\n",
            "\u001b[1;33m[Open3D WARNING] Read geometry::PointCloud failed: unknown file extension for ../train/Spruce/65_28.txt (format: auto).\u001b[0;m\n",
            "Warning: No points found in file 65_28.txt. Trying NumPy fallback.\n",
            "\u001b[1;33m[Open3D WARNING] Read geometry::PointCloud failed: unknown file extension for ../train/Spruce/64_50_2.txt (format: auto).\u001b[0;m\n",
            "Warning: No points found in file 64_50_2.txt. Trying NumPy fallback.\n"
          ]
        },
        {
          "name": "stderr",
          "output_type": "stream",
          "text": [
            "FPFH v=0.1:  35%|███▌      | 196/557 [00:28<00:20, 17.43it/s]"
          ]
        },
        {
          "name": "stdout",
          "output_type": "stream",
          "text": [
            "\u001b[1;33m[Open3D WARNING] Read geometry::PointCloud failed: unknown file extension for ../train/Spruce/65_14.txt (format: auto).\u001b[0;m\n",
            "Warning: No points found in file 65_14.txt. Trying NumPy fallback.\n",
            "\u001b[1;33m[Open3D WARNING] Read geometry::PointCloud failed: unknown file extension for ../train/Spruce/34_16.txt (format: auto).\u001b[0;m\n",
            "Warning: No points found in file 34_16.txt. Trying NumPy fallback.\n",
            "\u001b[1;33m[Open3D WARNING] Read geometry::PointCloud failed: unknown file extension for ../train/Spruce/65_67.txt (format: auto).\u001b[0;m\n",
            "Warning: No points found in file 65_67.txt. Trying NumPy fallback.\n",
            "\u001b[1;33m[Open3D WARNING] Read geometry::PointCloud failed: unknown file extension for ../train/Spruce/65_73.txt (format: auto).\u001b[0;m\n",
            "Warning: No points found in file 65_73.txt. Trying NumPy fallback.\n"
          ]
        },
        {
          "name": "stderr",
          "output_type": "stream",
          "text": [
            "FPFH v=0.1:  36%|███▌      | 198/557 [00:28<00:20, 17.66it/s]"
          ]
        },
        {
          "name": "stdout",
          "output_type": "stream",
          "text": [
            "\u001b[1;33m[Open3D WARNING] Read geometry::PointCloud failed: unknown file extension for ../train/Spruce/35_81.txt (format: auto).\u001b[0;m\n",
            "Warning: No points found in file 35_81.txt. Trying NumPy fallback.\n",
            "\u001b[1;33m[Open3D WARNING] Read geometry::PointCloud failed: unknown file extension for ../train/Spruce/64_26.txt (format: auto).\u001b[0;m\n",
            "Warning: No points found in file 64_26.txt. Trying NumPy fallback.\n"
          ]
        },
        {
          "name": "stderr",
          "output_type": "stream",
          "text": [
            "FPFH v=0.1:  36%|███▋      | 203/557 [00:28<00:20, 17.44it/s]"
          ]
        },
        {
          "name": "stdout",
          "output_type": "stream",
          "text": [
            "\u001b[1;33m[Open3D WARNING] Read geometry::PointCloud failed: unknown file extension for ../train/Spruce/35_80.txt (format: auto).\u001b[0;m\n",
            "Warning: No points found in file 35_80.txt. Trying NumPy fallback.\n",
            "\u001b[1;33m[Open3D WARNING] Read geometry::PointCloud failed: unknown file extension for ../train/Spruce/65_66.txt (format: auto).\u001b[0;m\n",
            "Warning: No points found in file 65_66.txt. Trying NumPy fallback.\n",
            "\u001b[1;33m[Open3D WARNING] Read geometry::PointCloud failed: unknown file extension for ../train/Spruce/65_70.txt (format: auto).\u001b[0;m\n",
            "Warning: No points found in file 65_70.txt. Trying NumPy fallback.\n",
            "\u001b[1;33m[Open3D WARNING] Read geometry::PointCloud failed: unknown file extension for ../train/Spruce/65_64.txt (format: auto).\u001b[0;m\n",
            "Warning: No points found in file 65_64.txt. Trying NumPy fallback.\n"
          ]
        },
        {
          "name": "stderr",
          "output_type": "stream",
          "text": [
            "FPFH v=0.1:  37%|███▋      | 205/557 [00:28<00:20, 17.35it/s]"
          ]
        },
        {
          "name": "stdout",
          "output_type": "stream",
          "text": [
            "\u001b[1;33m[Open3D WARNING] Read geometry::PointCloud failed: unknown file extension for ../train/Spruce/35_82.txt (format: auto).\u001b[0;m\n",
            "Warning: No points found in file 35_82.txt. Trying NumPy fallback.\n",
            "\u001b[1;33m[Open3D WARNING] Read geometry::PointCloud failed: unknown file extension for ../train/Spruce/35_69.txt (format: auto).\u001b[0;m\n",
            "Warning: No points found in file 35_69.txt. Trying NumPy fallback.\n"
          ]
        },
        {
          "name": "stderr",
          "output_type": "stream",
          "text": [
            "FPFH v=0.1:  38%|███▊      | 209/557 [00:29<00:22, 15.68it/s]"
          ]
        },
        {
          "name": "stdout",
          "output_type": "stream",
          "text": [
            "\u001b[1;33m[Open3D WARNING] Read geometry::PointCloud failed: unknown file extension for ../train/Spruce/64_19.txt (format: auto).\u001b[0;m\n",
            "Warning: No points found in file 64_19.txt. Trying NumPy fallback.\n",
            "\u001b[1;33m[Open3D WARNING] Read geometry::PointCloud failed: unknown file extension for ../train/Spruce/35_68.txt (format: auto).\u001b[0;m\n",
            "Warning: No points found in file 35_68.txt. Trying NumPy fallback.\n",
            "\u001b[1;33m[Open3D WARNING] Read geometry::PointCloud failed: unknown file extension for ../train/Spruce/35_83.txt (format: auto).\u001b[0;m\n",
            "Warning: No points found in file 35_83.txt. Trying NumPy fallback.\n",
            "\u001b[1;33m[Open3D WARNING] Read geometry::PointCloud failed: unknown file extension for ../train/Spruce/65_65.txt (format: auto).\u001b[0;m\n",
            "Warning: No points found in file 65_65.txt. Trying NumPy fallback.\n"
          ]
        },
        {
          "name": "stderr",
          "output_type": "stream",
          "text": [
            "FPFH v=0.1:  38%|███▊      | 213/557 [00:29<00:24, 13.82it/s]"
          ]
        },
        {
          "name": "stdout",
          "output_type": "stream",
          "text": [
            "\u001b[1;33m[Open3D WARNING] Read geometry::PointCloud failed: unknown file extension for ../train/Spruce/65_71.txt (format: auto).\u001b[0;m\n",
            "Warning: No points found in file 65_71.txt. Trying NumPy fallback.\n",
            "\u001b[1;33m[Open3D WARNING] Read geometry::PointCloud failed: unknown file extension for ../train/Spruce/65_59.txt (format: auto).\u001b[0;m\n",
            "Warning: No points found in file 65_59.txt. Trying NumPy fallback.\n",
            "\u001b[1;33m[Open3D WARNING] Read geometry::PointCloud failed: unknown file extension for ../train/Spruce/34_10.txt (format: auto).\u001b[0;m\n",
            "Warning: No points found in file 34_10.txt. Trying NumPy fallback.\n"
          ]
        },
        {
          "name": "stderr",
          "output_type": "stream",
          "text": [
            "FPFH v=0.1:  39%|███▉      | 218/557 [00:29<00:20, 16.85it/s]"
          ]
        },
        {
          "name": "stdout",
          "output_type": "stream",
          "text": [
            "\u001b[1;33m[Open3D WARNING] Read geometry::PointCloud failed: unknown file extension for ../train/Spruce/65_75.txt (format: auto).\u001b[0;m\n",
            "Warning: No points found in file 65_75.txt. Trying NumPy fallback.\n",
            "\u001b[1;33m[Open3D WARNING] Read geometry::PointCloud failed: unknown file extension for ../train/Spruce/65_61.txt (format: auto).\u001b[0;m\n",
            "Warning: No points found in file 65_61.txt. Trying NumPy fallback.\n",
            "\u001b[1;33m[Open3D WARNING] Read geometry::PointCloud failed: unknown file extension for ../train/Spruce/65_49.txt (format: auto).\u001b[0;m\n",
            "Warning: No points found in file 65_49.txt. Trying NumPy fallback.\n",
            "\u001b[1;33m[Open3D WARNING] Read geometry::PointCloud failed: unknown file extension for ../train/Spruce/35_93.txt (format: auto).\u001b[0;m\n",
            "Warning: No points found in file 35_93.txt. Trying NumPy fallback.\n",
            "\u001b[1;33m[Open3D WARNING] Read geometry::PointCloud failed: unknown file extension for ../train/Spruce/35_78.txt (format: auto).\u001b[0;m\n",
            "Warning: No points found in file 35_78.txt. Trying NumPy fallback.\n"
          ]
        },
        {
          "name": "stderr",
          "output_type": "stream",
          "text": [
            "FPFH v=0.1:  40%|███▉      | 222/557 [00:29<00:17, 19.65it/s]"
          ]
        },
        {
          "name": "stdout",
          "output_type": "stream",
          "text": [
            "\u001b[1;33m[Open3D WARNING] Read geometry::PointCloud failed: unknown file extension for ../train/Spruce/35_79.txt (format: auto).\u001b[0;m\n",
            "Warning: No points found in file 35_79.txt. Trying NumPy fallback.\n",
            "\u001b[1;33m[Open3D WARNING] Read geometry::PointCloud failed: unknown file extension for ../train/Spruce/35_51.txt (format: auto).\u001b[0;m\n",
            "Warning: No points found in file 35_51.txt. Trying NumPy fallback.\n",
            "\u001b[1;33m[Open3D WARNING] Read geometry::PointCloud failed: unknown file extension for ../train/Spruce/65_60.txt (format: auto).\u001b[0;m\n",
            "Warning: No points found in file 65_60.txt. Trying NumPy fallback.\n",
            "\u001b[1;33m[Open3D WARNING] Read geometry::PointCloud failed: unknown file extension for ../train/Spruce/65_89.txt (format: auto).\u001b[0;m\n",
            "Warning: No points found in file 65_89.txt. Trying NumPy fallback.\n",
            "\u001b[1;33m[Open3D WARNING] Read geometry::PointCloud failed: unknown file extension for ../train/Spruce/65_62.txt (format: auto).\u001b[0;m\n",
            "Warning: No points found in file 65_62.txt. Trying NumPy fallback.\n"
          ]
        },
        {
          "name": "stderr",
          "output_type": "stream",
          "text": [
            "FPFH v=0.1:  41%|████      | 226/557 [00:30<00:18, 18.20it/s]"
          ]
        },
        {
          "name": "stdout",
          "output_type": "stream",
          "text": [
            "\u001b[1;33m[Open3D WARNING] Read geometry::PointCloud failed: unknown file extension for ../train/Spruce/35_90.txt (format: auto).\u001b[0;m\n",
            "Warning: No points found in file 35_90.txt. Trying NumPy fallback.\n",
            "\u001b[1;33m[Open3D WARNING] Read geometry::PointCloud failed: unknown file extension for ../train/Spruce/65_77.txt (format: auto).\u001b[0;m\n",
            "Warning: No points found in file 65_77.txt. Trying NumPy fallback.\n",
            "\u001b[1;33m[Open3D WARNING] Read geometry::PointCloud failed: unknown file extension for ../train/Spruce/65_63.txt (format: auto).\u001b[0;m\n",
            "Warning: No points found in file 65_63.txt. Trying NumPy fallback.\n"
          ]
        },
        {
          "name": "stderr",
          "output_type": "stream",
          "text": [
            "FPFH v=0.1:  41%|████      | 228/557 [00:30<00:20, 15.82it/s]"
          ]
        },
        {
          "name": "stdout",
          "output_type": "stream",
          "text": [
            "\u001b[1;33m[Open3D WARNING] Read geometry::PointCloud failed: unknown file extension for ../train/Spruce/65_88.txt (format: auto).\u001b[0;m\n",
            "Warning: No points found in file 65_88.txt. Trying NumPy fallback.\n",
            "\u001b[1;33m[Open3D WARNING] Read geometry::PointCloud failed: unknown file extension for ../train/Spruce/34_23.txt (format: auto).\u001b[0;m\n",
            "Warning: No points found in file 34_23.txt. Trying NumPy fallback.\n",
            "\u001b[1;33m[Open3D WARNING] Read geometry::PointCloud failed: unknown file extension for ../train/Spruce/65_85.txt (format: auto).\u001b[0;m\n",
            "Warning: No points found in file 65_85.txt. Trying NumPy fallback.\n"
          ]
        },
        {
          "name": "stderr",
          "output_type": "stream",
          "text": [
            "FPFH v=0.1:  42%|████▏     | 232/557 [00:30<00:21, 15.04it/s]"
          ]
        },
        {
          "name": "stdout",
          "output_type": "stream",
          "text": [
            "\u001b[1;33m[Open3D WARNING] Read geometry::PointCloud failed: unknown file extension for ../train/Spruce/65_46.txt (format: auto).\u001b[0;m\n",
            "Warning: No points found in file 65_46.txt. Trying NumPy fallback.\n",
            "\u001b[1;33m[Open3D WARNING] Read geometry::PointCloud failed: unknown file extension for ../train/Spruce/65_52.txt (format: auto).\u001b[0;m\n",
            "Warning: No points found in file 65_52.txt. Trying NumPy fallback.\n",
            "\u001b[1;33m[Open3D WARNING] Read geometry::PointCloud failed: unknown file extension for ../train/Spruce/35_88.txt (format: auto).\u001b[0;m\n",
            "Warning: No points found in file 35_88.txt. Trying NumPy fallback.\n",
            "\u001b[1;33m[Open3D WARNING] Read geometry::PointCloud failed: unknown file extension for ../train/Spruce/35_77.txt (format: auto).\u001b[0;m\n",
            "Warning: No points found in file 35_77.txt. Trying NumPy fallback.\n"
          ]
        },
        {
          "name": "stderr",
          "output_type": "stream",
          "text": [
            "FPFH v=0.1:  43%|████▎     | 238/557 [00:30<00:15, 19.97it/s]"
          ]
        },
        {
          "name": "stdout",
          "output_type": "stream",
          "text": [
            "\u001b[1;33m[Open3D WARNING] Read geometry::PointCloud failed: unknown file extension for ../train/Spruce/35_76.txt (format: auto).\u001b[0;m\n",
            "Warning: No points found in file 35_76.txt. Trying NumPy fallback.\n",
            "\u001b[1;33m[Open3D WARNING] Read geometry::PointCloud failed: unknown file extension for ../train/Spruce/35_62.txt (format: auto).\u001b[0;m\n",
            "Warning: No points found in file 35_62.txt. Trying NumPy fallback.\n",
            "\u001b[1;33m[Open3D WARNING] Read geometry::PointCloud failed: unknown file extension for ../train/Spruce/35_89.txt (format: auto).\u001b[0;m\n",
            "Warning: No points found in file 35_89.txt. Trying NumPy fallback.\n",
            "\u001b[1;33m[Open3D WARNING] Read geometry::PointCloud failed: unknown file extension for ../train/Spruce/65_84.txt (format: auto).\u001b[0;m\n",
            "Warning: No points found in file 65_84.txt. Trying NumPy fallback.\n",
            "\u001b[1;33m[Open3D WARNING] Read geometry::PointCloud failed: unknown file extension for ../train/Spruce/65_86.txt (format: auto).\u001b[0;m\n",
            "Warning: No points found in file 65_86.txt. Trying NumPy fallback.\n"
          ]
        },
        {
          "name": "stderr",
          "output_type": "stream",
          "text": [
            "FPFH v=0.1:  43%|████▎     | 241/557 [00:30<00:16, 19.35it/s]"
          ]
        },
        {
          "name": "stdout",
          "output_type": "stream",
          "text": [
            "\u001b[1;33m[Open3D WARNING] Read geometry::PointCloud failed: unknown file extension for ../train/Spruce/65_45.txt (format: auto).\u001b[0;m\n",
            "Warning: No points found in file 65_45.txt. Trying NumPy fallback.\n",
            "\u001b[1;33m[Open3D WARNING] Read geometry::PointCloud failed: unknown file extension for ../train/Spruce/35_48.txt (format: auto).\u001b[0;m\n",
            "Warning: No points found in file 35_48.txt. Trying NumPy fallback.\n",
            "\u001b[1;33m[Open3D WARNING] Read geometry::PointCloud failed: unknown file extension for ../train/Spruce/35_60.txt (format: auto).\u001b[0;m\n",
            "Warning: No points found in file 35_60.txt. Trying NumPy fallback.\n",
            "\u001b[1;33m[Open3D WARNING] Read geometry::PointCloud failed: unknown file extension for ../train/Spruce/35_61.txt (format: auto).\u001b[0;m\n",
            "Warning: No points found in file 35_61.txt. Trying NumPy fallback.\n",
            "\u001b[1;33m[Open3D WARNING] Read geometry::PointCloud failed: unknown file extension for ../train/Spruce/65_44.txt (format: auto).\u001b[0;m\n",
            "Warning: No points found in file 65_44.txt. Trying NumPy fallback.\n"
          ]
        },
        {
          "name": "stderr",
          "output_type": "stream",
          "text": [
            "FPFH v=0.1:  44%|████▍     | 244/557 [00:31<00:15, 19.83it/s]"
          ]
        },
        {
          "name": "stdout",
          "output_type": "stream",
          "text": [
            "\u001b[1;33m[Open3D WARNING] Read geometry::PointCloud failed: unknown file extension for ../train/Spruce/65_50.txt (format: auto).\u001b[0;m\n",
            "Warning: No points found in file 65_50.txt. Trying NumPy fallback.\n",
            "\u001b[1;33m[Open3D WARNING] Read geometry::PointCloud failed: unknown file extension for ../train/Spruce/65_78.txt (format: auto).\u001b[0;m\n",
            "Warning: No points found in file 65_78.txt. Trying NumPy fallback.\n"
          ]
        },
        {
          "name": "stderr",
          "output_type": "stream",
          "text": [
            "FPFH v=0.1:  45%|████▍     | 249/557 [00:31<00:31,  9.74it/s]"
          ]
        },
        {
          "name": "stdout",
          "output_type": "stream",
          "text": [
            "\u001b[1;33m[Open3D WARNING] Read geometry::PointCloud failed: unknown file extension for ../train/Spruce/34_25.txt (format: auto).\u001b[0;m\n",
            "Warning: No points found in file 34_25.txt. Trying NumPy fallback.\n",
            "\u001b[1;33m[Open3D WARNING] Read geometry::PointCloud failed: unknown file extension for ../train/Spruce/65_83.txt (format: auto).\u001b[0;m\n",
            "Warning: No points found in file 65_83.txt. Trying NumPy fallback.\n",
            "\u001b[1;33m[Open3D WARNING] Read geometry::PointCloud failed: unknown file extension for ../train/Spruce/65_40.txt (format: auto).\u001b[0;m\n",
            "Warning: No points found in file 65_40.txt. Trying NumPy fallback.\n"
          ]
        },
        {
          "name": "stderr",
          "output_type": "stream",
          "text": [
            "FPFH v=0.1:  45%|████▌     | 253/557 [00:32<00:24, 12.19it/s]"
          ]
        },
        {
          "name": "stdout",
          "output_type": "stream",
          "text": [
            "\u001b[1;33m[Open3D WARNING] Read geometry::PointCloud failed: unknown file extension for ../train/Spruce/65_68.txt (format: auto).\u001b[0;m\n",
            "Warning: No points found in file 65_68.txt. Trying NumPy fallback.\n",
            "\u001b[1;33m[Open3D WARNING] Read geometry::PointCloud failed: unknown file extension for ../train/Spruce/35_71.txt (format: auto).\u001b[0;m\n",
            "Warning: No points found in file 35_71.txt. Trying NumPy fallback.\n",
            "\u001b[1;33m[Open3D WARNING] Read geometry::PointCloud failed: unknown file extension for ../train/Spruce/34_9.txt (format: auto).\u001b[0;m\n",
            "Warning: No points found in file 34_9.txt. Trying NumPy fallback.\n",
            "\u001b[1;33m[Open3D WARNING] Read geometry::PointCloud failed: unknown file extension for ../train/Spruce/64_14.txt (format: auto).\u001b[0;m\n",
            "Warning: No points found in file 64_14.txt. Trying NumPy fallback.\n"
          ]
        },
        {
          "name": "stderr",
          "output_type": "stream",
          "text": [
            "FPFH v=0.1:  46%|████▌     | 257/557 [00:32<00:22, 13.27it/s]"
          ]
        },
        {
          "name": "stdout",
          "output_type": "stream",
          "text": [
            "\u001b[1;33m[Open3D WARNING] Read geometry::PointCloud failed: unknown file extension for ../train/Spruce/65_69.txt (format: auto).\u001b[0;m\n",
            "Warning: No points found in file 65_69.txt. Trying NumPy fallback.\n",
            "\u001b[1;33m[Open3D WARNING] Read geometry::PointCloud failed: unknown file extension for ../train/Spruce/65_55.txt (format: auto).\u001b[0;m\n",
            "Warning: No points found in file 65_55.txt. Trying NumPy fallback.\n"
          ]
        },
        {
          "name": "stderr",
          "output_type": "stream",
          "text": [
            "FPFH v=0.1:  46%|████▋     | 259/557 [00:32<00:23, 12.73it/s]"
          ]
        },
        {
          "name": "stdout",
          "output_type": "stream",
          "text": [
            "\u001b[1;33m[Open3D WARNING] Read geometry::PointCloud failed: unknown file extension for ../train/Spruce/65_82.txt (format: auto).\u001b[0;m\n",
            "Warning: No points found in file 65_82.txt. Trying NumPy fallback.\n",
            "\u001b[1;33m[Open3D WARNING] Read geometry::PointCloud failed: unknown file extension for ../train/Spruce/34_24.txt (format: auto).\u001b[0;m\n",
            "Warning: No points found in file 34_24.txt. Trying NumPy fallback.\n",
            "\u001b[1;33m[Open3D WARNING] Read geometry::PointCloud failed: unknown file extension for ../train/Spruce/64_6.txt (format: auto).\u001b[0;m\n",
            "Warning: No points found in file 64_6.txt. Trying NumPy fallback.\n"
          ]
        },
        {
          "name": "stderr",
          "output_type": "stream",
          "text": [
            "FPFH v=0.1:  47%|████▋     | 263/557 [00:32<00:25, 11.59it/s]"
          ]
        },
        {
          "name": "stdout",
          "output_type": "stream",
          "text": [
            "\u001b[1;33m[Open3D WARNING] Read geometry::PointCloud failed: unknown file extension for ../train/Spruce/34_26.txt (format: auto).\u001b[0;m\n",
            "Warning: No points found in file 34_26.txt. Trying NumPy fallback.\n",
            "\u001b[1;33m[Open3D WARNING] Read geometry::PointCloud failed: unknown file extension for ../train/Spruce/65_80.txt (format: auto).\u001b[0;m\n",
            "Warning: No points found in file 65_80.txt. Trying NumPy fallback.\n",
            "\u001b[1;33m[Open3D WARNING] Read geometry::PointCloud failed: unknown file extension for ../train/Spruce/35_72.txt (format: auto).\u001b[0;m\n",
            "Warning: No points found in file 35_72.txt. Trying NumPy fallback.\n",
            "\u001b[1;33m[Open3D WARNING] Read geometry::PointCloud failed: unknown file extension for ../train/Spruce/64_16.txt (format: auto).\u001b[0;m\n",
            "Warning: No points found in file 64_16.txt. Trying NumPy fallback.\n"
          ]
        },
        {
          "name": "stderr",
          "output_type": "stream",
          "text": [
            "FPFH v=0.1:  48%|████▊     | 267/557 [00:33<00:21, 13.75it/s]"
          ]
        },
        {
          "name": "stdout",
          "output_type": "stream",
          "text": [
            "\u001b[1;33m[Open3D WARNING] Read geometry::PointCloud failed: unknown file extension for ../train/Spruce/35_73.txt (format: auto).\u001b[0;m\n",
            "Warning: No points found in file 35_73.txt. Trying NumPy fallback.\n",
            "\u001b[1;33m[Open3D WARNING] Read geometry::PointCloud failed: unknown file extension for ../train/Spruce/65_56.txt (format: auto).\u001b[0;m\n",
            "Warning: No points found in file 65_56.txt. Trying NumPy fallback.\n",
            "\u001b[1;33m[Open3D WARNING] Read geometry::PointCloud failed: unknown file extension for ../train/Spruce/65_42.txt (format: auto).\u001b[0;m\n",
            "Warning: No points found in file 65_42.txt. Trying NumPy fallback.\n",
            "\u001b[1;33m[Open3D WARNING] Read geometry::PointCloud failed: unknown file extension for ../train/Spruce/65_81.txt (format: auto).\u001b[0;m\n",
            "Warning: No points found in file 65_81.txt. Trying NumPy fallback.\n"
          ]
        },
        {
          "name": "stderr",
          "output_type": "stream",
          "text": [
            "FPFH v=0.1:  49%|████▊     | 271/557 [00:33<00:21, 13.17it/s]"
          ]
        },
        {
          "name": "stdout",
          "output_type": "stream",
          "text": [
            "\u001b[1;33m[Open3D WARNING] Read geometry::PointCloud failed: unknown file extension for ../train/Spruce/64_7.txt (format: auto).\u001b[0;m\n",
            "Warning: No points found in file 64_7.txt. Trying NumPy fallback.\n",
            "\u001b[1;33m[Open3D WARNING] Read geometry::PointCloud failed: unknown file extension for ../train/Spruce/65_25.txt (format: auto).\u001b[0;m\n",
            "Warning: No points found in file 65_25.txt. Trying NumPy fallback.\n",
            "\u001b[1;33m[Open3D WARNING] Read geometry::PointCloud failed: unknown file extension for ../train/Spruce/33_62.txt (format: auto).\u001b[0;m\n",
            "Warning: No points found in file 33_62.txt. Trying NumPy fallback.\n"
          ]
        },
        {
          "name": "stderr",
          "output_type": "stream",
          "text": [
            "FPFH v=0.1:  49%|████▉     | 275/557 [00:33<00:20, 13.74it/s]"
          ]
        },
        {
          "name": "stdout",
          "output_type": "stream",
          "text": [
            "\u001b[1;33m[Open3D WARNING] Read geometry::PointCloud failed: unknown file extension for ../train/Spruce/65_32.txt (format: auto).\u001b[0;m\n",
            "Warning: No points found in file 65_32.txt. Trying NumPy fallback.\n",
            "\u001b[1;33m[Open3D WARNING] Read geometry::PointCloud failed: unknown file extension for ../train/Spruce/65_26.txt (format: auto).\u001b[0;m\n",
            "Warning: No points found in file 65_26.txt. Trying NumPy fallback.\n",
            "\u001b[1;33m[Open3D WARNING] Read geometry::PointCloud failed: unknown file extension for ../train/Spruce/65_3.txt (format: auto).\u001b[0;m\n",
            "Warning: No points found in file 65_3.txt. Trying NumPy fallback.\n",
            "\u001b[1;33m[Open3D WARNING] Read geometry::PointCloud failed: unknown file extension for ../train/Spruce/64_67.txt (format: auto).\u001b[0;m\n",
            "Warning: No points found in file 64_67.txt. Trying NumPy fallback.\n"
          ]
        },
        {
          "name": "stderr",
          "output_type": "stream",
          "text": [
            "FPFH v=0.1:  50%|█████     | 279/557 [00:33<00:17, 15.72it/s]"
          ]
        },
        {
          "name": "stdout",
          "output_type": "stream",
          "text": [
            "\u001b[1;33m[Open3D WARNING] Read geometry::PointCloud failed: unknown file extension for ../train/Spruce/65_2.txt (format: auto).\u001b[0;m\n",
            "Warning: No points found in file 65_2.txt. Trying NumPy fallback.\n",
            "\u001b[1;33m[Open3D WARNING] Read geometry::PointCloud failed: unknown file extension for ../train/Spruce/65_27.txt (format: auto).\u001b[0;m\n",
            "Warning: No points found in file 65_27.txt. Trying NumPy fallback.\n",
            "\u001b[1;33m[Open3D WARNING] Read geometry::PointCloud failed: unknown file extension for ../train/Spruce/65_33.txt (format: auto).\u001b[0;m\n",
            "Warning: No points found in file 65_33.txt. Trying NumPy fallback.\n",
            "\u001b[1;33m[Open3D WARNING] Read geometry::PointCloud failed: unknown file extension for ../train/Spruce/35_125.txt (format: auto).\u001b[0;m\n",
            "Warning: No points found in file 35_125.txt. Trying NumPy fallback.\n"
          ]
        },
        {
          "name": "stderr",
          "output_type": "stream",
          "text": [
            "FPFH v=0.1:  50%|█████     | 281/557 [00:34<00:18, 14.98it/s]"
          ]
        },
        {
          "name": "stdout",
          "output_type": "stream",
          "text": [
            "\u001b[1;33m[Open3D WARNING] Read geometry::PointCloud failed: unknown file extension for ../train/Spruce/34_46.txt (format: auto).\u001b[0;m\n",
            "Warning: No points found in file 34_46.txt. Trying NumPy fallback.\n",
            "\u001b[1;33m[Open3D WARNING] Read geometry::PointCloud failed: unknown file extension for ../train/Spruce/65_23.txt (format: auto).\u001b[0;m\n",
            "Warning: No points found in file 65_23.txt. Trying NumPy fallback.\n",
            "\u001b[1;33m[Open3D WARNING] Read geometry::PointCloud failed: unknown file extension for ../train/Spruce/35_12.txt (format: auto).\u001b[0;m\n",
            "Warning: No points found in file 35_12.txt. Trying NumPy fallback.\n"
          ]
        },
        {
          "name": "stderr",
          "output_type": "stream",
          "text": [
            "FPFH v=0.1:  52%|█████▏    | 287/557 [00:34<00:24, 11.21it/s]"
          ]
        },
        {
          "name": "stdout",
          "output_type": "stream",
          "text": [
            "\u001b[1;33m[Open3D WARNING] Read geometry::PointCloud failed: unknown file extension for ../train/Spruce/65_22.txt (format: auto).\u001b[0;m\n",
            "Warning: No points found in file 65_22.txt. Trying NumPy fallback.\n",
            "\u001b[1;33m[Open3D WARNING] Read geometry::PointCloud failed: unknown file extension for ../train/Spruce/65_36.txt (format: auto).\u001b[0;m\n",
            "Warning: No points found in file 65_36.txt. Trying NumPy fallback.\n",
            "\u001b[1;33m[Open3D WARNING] Read geometry::PointCloud failed: unknown file extension for ../train/Spruce/65_34.txt (format: auto).\u001b[0;m\n",
            "Warning: No points found in file 65_34.txt. Trying NumPy fallback.\n",
            "\u001b[1;33m[Open3D WARNING] Read geometry::PointCloud failed: unknown file extension for ../train/Spruce/65_5.txt (format: auto).\u001b[0;m\n",
            "Warning: No points found in file 65_5.txt. Trying NumPy fallback.\n"
          ]
        },
        {
          "name": "stderr",
          "output_type": "stream",
          "text": [
            "FPFH v=0.1:  52%|█████▏    | 289/557 [00:34<00:23, 11.46it/s]"
          ]
        },
        {
          "name": "stdout",
          "output_type": "stream",
          "text": [
            "\u001b[1;33m[Open3D WARNING] Read geometry::PointCloud failed: unknown file extension for ../train/Spruce/64_49.txt (format: auto).\u001b[0;m\n",
            "Warning: No points found in file 64_49.txt. Trying NumPy fallback.\n"
          ]
        },
        {
          "name": "stderr",
          "output_type": "stream",
          "text": [
            "FPFH v=0.1:  52%|█████▏    | 291/557 [00:35<00:27,  9.67it/s]"
          ]
        },
        {
          "name": "stdout",
          "output_type": "stream",
          "text": [
            "\u001b[1;33m[Open3D WARNING] Read geometry::PointCloud failed: unknown file extension for ../train/Spruce/65_4.txt (format: auto).\u001b[0;m\n",
            "Warning: No points found in file 65_4.txt. Trying NumPy fallback.\n",
            "\u001b[1;33m[Open3D WARNING] Read geometry::PointCloud failed: unknown file extension for ../train/Spruce/35_10.txt (format: auto).\u001b[0;m\n",
            "Warning: No points found in file 35_10.txt. Trying NumPy fallback.\n"
          ]
        },
        {
          "name": "stderr",
          "output_type": "stream",
          "text": [
            "FPFH v=0.1:  53%|█████▎    | 293/557 [00:35<00:27,  9.54it/s]"
          ]
        },
        {
          "name": "stdout",
          "output_type": "stream",
          "text": [
            "\u001b[1;33m[Open3D WARNING] Read geometry::PointCloud failed: unknown file extension for ../train/Pine/17.txt (format: auto).\u001b[0;m\n",
            "Warning: No points found in file 17.txt. Trying NumPy fallback.\n",
            "\u001b[1;33m[Open3D WARNING] Read geometry::PointCloud failed: unknown file extension for ../train/Pine/13.txt (format: auto).\u001b[0;m\n",
            "Warning: No points found in file 13.txt. Trying NumPy fallback.\n"
          ]
        },
        {
          "name": "stderr",
          "output_type": "stream",
          "text": [
            "FPFH v=0.1:  54%|█████▍    | 303/557 [00:36<00:36,  6.90it/s]"
          ]
        },
        {
          "name": "stdout",
          "output_type": "stream",
          "text": [
            "\u001b[1;33m[Open3D WARNING] Read geometry::PointCloud failed: unknown file extension for ../train/Pine/9.txt (format: auto).\u001b[0;m\n",
            "Warning: No points found in file 9.txt. Trying NumPy fallback.\n"
          ]
        },
        {
          "name": "stderr",
          "output_type": "stream",
          "text": [
            "FPFH v=0.1:  55%|█████▍    | 304/557 [00:37<00:44,  5.69it/s]"
          ]
        },
        {
          "name": "stdout",
          "output_type": "stream",
          "text": [
            "\u001b[1;33m[Open3D WARNING] Read geometry::PointCloud failed: unknown file extension for ../train/Pine/65_53.txt (format: auto).\u001b[0;m\n",
            "Warning: No points found in file 65_53.txt. Trying NumPy fallback.\n"
          ]
        },
        {
          "name": "stderr",
          "output_type": "stream",
          "text": [
            "FPFH v=0.1:  55%|█████▍    | 306/557 [00:37<00:38,  6.46it/s]"
          ]
        },
        {
          "name": "stdout",
          "output_type": "stream",
          "text": [
            "\u001b[1;33m[Open3D WARNING] Read geometry::PointCloud failed: unknown file extension for ../train/Pine/65_57.txt (format: auto).\u001b[0;m\n",
            "Warning: No points found in file 65_57.txt. Trying NumPy fallback.\n",
            "\u001b[1;33m[Open3D WARNING] Read geometry::PointCloud failed: unknown file extension for ../train/Pine/1.txt (format: auto).\u001b[0;m\n",
            "Warning: No points found in file 1.txt. Trying NumPy fallback.\n"
          ]
        },
        {
          "name": "stderr",
          "output_type": "stream",
          "text": [
            "FPFH v=0.1:  56%|█████▌    | 311/557 [00:37<00:27,  8.89it/s]"
          ]
        },
        {
          "name": "stdout",
          "output_type": "stream",
          "text": [
            "\u001b[1;33m[Open3D WARNING] Read geometry::PointCloud failed: unknown file extension for ../train/Pine/65_7.txt (format: auto).\u001b[0;m\n",
            "Warning: No points found in file 65_7.txt. Trying NumPy fallback.\n",
            "\u001b[1;33m[Open3D WARNING] Read geometry::PointCloud failed: unknown file extension for ../train/Pine/25.txt (format: auto).\u001b[0;m\n",
            "Warning: No points found in file 25.txt. Trying NumPy fallback.\n"
          ]
        },
        {
          "name": "stderr",
          "output_type": "stream",
          "text": [
            "FPFH v=0.1:  56%|█████▌    | 313/557 [00:38<00:26,  9.35it/s]"
          ]
        },
        {
          "name": "stdout",
          "output_type": "stream",
          "text": [
            "\u001b[1;33m[Open3D WARNING] Read PTS failed with exception: vector\u001b[0;m\n",
            "Warning: No points found in file 45.pts. Trying NumPy fallback.\n"
          ]
        },
        {
          "name": "stderr",
          "output_type": "stream",
          "text": [
            "FPFH v=0.1:  58%|█████▊    | 323/557 [00:38<00:14, 16.21it/s]"
          ]
        },
        {
          "name": "stdout",
          "output_type": "stream",
          "text": [
            "\u001b[1;33m[Open3D WARNING] Read PTS failed with exception: vector\u001b[0;m\n",
            "Warning: No points found in file 22.pts. Trying NumPy fallback.\n"
          ]
        },
        {
          "name": "stderr",
          "output_type": "stream",
          "text": [
            "FPFH v=0.1:  59%|█████▉    | 330/557 [00:38<00:12, 18.80it/s]"
          ]
        },
        {
          "name": "stdout",
          "output_type": "stream",
          "text": [
            "\u001b[1;33m[Open3D WARNING] Read PTS failed with exception: vector\u001b[0;m\n",
            "Warning: No points found in file 264.pts. Trying NumPy fallback.\n"
          ]
        },
        {
          "name": "stderr",
          "output_type": "stream",
          "text": [
            "FPFH v=0.1:  62%|██████▏   | 344/557 [00:39<00:07, 27.85it/s]"
          ]
        },
        {
          "name": "stdout",
          "output_type": "stream",
          "text": [
            "\u001b[1;33m[Open3D WARNING] Read geometry::PointCloud failed: unknown file extension for ../train/Red Oak/Baum1_66 nrwl33- Cloud.txt (format: auto).\u001b[0;m\n",
            "Warning: No points found in file Baum1_66 nrwl33- Cloud.txt. Trying NumPy fallback.\n",
            "\u001b[1;33m[Open3D WARNING] Read geometry::PointCloud failed: unknown file extension for ../train/Red Oak/Baum0_188 nrwl33- Cloud.txt (format: auto).\u001b[0;m\n",
            "Warning: No points found in file Baum0_188 nrwl33- Cloud.txt. Trying NumPy fallback.\n",
            "\u001b[1;33m[Open3D WARNING] Read geometry::PointCloud failed: unknown file extension for ../train/Red Oak/Baum5_350 nrwl33- Cloud.txt (format: auto).\u001b[0;m\n",
            "Warning: No points found in file Baum5_350 nrwl33- Cloud.txt. Trying NumPy fallback.\n"
          ]
        },
        {
          "name": "stderr",
          "output_type": "stream",
          "text": [
            "FPFH v=0.1:  62%|██████▏   | 347/557 [00:39<00:10, 19.54it/s]"
          ]
        },
        {
          "name": "stdout",
          "output_type": "stream",
          "text": [
            "\u001b[1;33m[Open3D WARNING] Read geometry::PointCloud failed: unknown file extension for ../train/Red Oak/Baum8_335 brb_psnord- Cloud.txt (format: auto).\u001b[0;m\n",
            "Warning: No points found in file Baum8_335 brb_psnord- Cloud.txt. Trying NumPy fallback.\n",
            "\u001b[1;33m[Open3D WARNING] Read geometry::PointCloud failed: unknown file extension for ../train/Red Oak/Baum5_649 thu_jena- Cloud.txt (format: auto).\u001b[0;m\n",
            "Warning: No points found in file Baum5_649 thu_jena- Cloud.txt. Trying NumPy fallback.\n",
            "\u001b[1;33m[Open3D WARNING] Read geometry::PointCloud failed: unknown file extension for ../train/Red Oak/Baum0_285 brb_pssüd- Cloud.txt (format: auto).\u001b[0;m\n",
            "Warning: No points found in file Baum0_285 brb_pssüd- Cloud.txt. Trying NumPy fallback.\n"
          ]
        },
        {
          "name": "stderr",
          "output_type": "stream",
          "text": [
            "FPFH v=0.1:  63%|██████▎   | 350/557 [00:39<00:12, 17.10it/s]"
          ]
        },
        {
          "name": "stdout",
          "output_type": "stream",
          "text": [
            "\u001b[1;33m[Open3D WARNING] Read geometry::PointCloud failed: unknown file extension for ../train/Red Oak/Baum3 nds_da - Cloud.txt (format: auto).\u001b[0;m\n",
            "Warning: No points found in file Baum3 nds_da - Cloud.txt. Trying NumPy fallback.\n",
            "\u001b[1;33m[Open3D WARNING] Read geometry::PointCloud failed: unknown file extension for ../train/Red Oak/Baum2_312 brb_psnord - Cloud.txt (format: auto).\u001b[0;m\n",
            "Warning: No points found in file Baum2_312 brb_psnord - Cloud.txt. Trying NumPy fallback.\n"
          ]
        },
        {
          "name": "stderr",
          "output_type": "stream",
          "text": [
            "FPFH v=0.1:  64%|██████▎   | 354/557 [00:40<00:14, 13.99it/s]"
          ]
        },
        {
          "name": "stdout",
          "output_type": "stream",
          "text": [
            "\u001b[1;33m[Open3D WARNING] Read geometry::PointCloud failed: unknown file extension for ../train/Red Oak/Baum2_128 bwb4 - Cloud.txt (format: auto).\u001b[0;m\n",
            "Warning: No points found in file Baum2_128 bwb4 - Cloud.txt. Trying NumPy fallback.\n",
            "\u001b[1;33m[Open3D WARNING] Read geometry::PointCloud failed: unknown file extension for ../train/Red Oak/Baum3_311 nrwl30- Cloud.txt (format: auto).\u001b[0;m\n",
            "Warning: No points found in file Baum3_311 nrwl30- Cloud.txt. Trying NumPy fallback.\n",
            "\u001b[1;33m[Open3D WARNING] Read geometry::PointCloud failed: unknown file extension for ../train/Red Oak/Baum3_355 brb_pssüd- Cloud.txt (format: auto).\u001b[0;m\n",
            "Warning: No points found in file Baum3_355 brb_pssüd- Cloud.txt. Trying NumPy fallback.\n"
          ]
        },
        {
          "name": "stderr",
          "output_type": "stream",
          "text": [
            "FPFH v=0.1:  64%|██████▍   | 356/557 [00:40<00:14, 13.71it/s]"
          ]
        },
        {
          "name": "stdout",
          "output_type": "stream",
          "text": [
            "\u001b[1;33m[Open3D WARNING] Read geometry::PointCloud failed: unknown file extension for ../train/Red Oak/Baum4_404 thu_neust- Cloud.txt (format: auto).\u001b[0;m\n",
            "Warning: No points found in file Baum4_404 thu_neust- Cloud.txt. Trying NumPy fallback.\n",
            "\u001b[1;33m[Open3D WARNING] Read geometry::PointCloud failed: unknown file extension for ../train/Red Oak/Baum6_382 bwb2 - Cloud.txt (format: auto).\u001b[0;m\n",
            "Warning: No points found in file Baum6_382 bwb2 - Cloud.txt. Trying NumPy fallback.\n",
            "\u001b[1;33m[Open3D WARNING] Read geometry::PointCloud failed: unknown file extension for ../train/Red Oak/Baum8_115 nrwl33 - Cloud.txt (format: auto).\u001b[0;m\n",
            "Warning: No points found in file Baum8_115 nrwl33 - Cloud.txt. Trying NumPy fallback.\n"
          ]
        },
        {
          "name": "stderr",
          "output_type": "stream",
          "text": [
            "FPFH v=0.1:  65%|██████▍   | 360/557 [00:40<00:17, 11.26it/s]"
          ]
        },
        {
          "name": "stdout",
          "output_type": "stream",
          "text": [
            "\u001b[1;33m[Open3D WARNING] Read geometry::PointCloud failed: unknown file extension for ../train/Red Oak/Baum0 nds_da - Cloud.txt (format: auto).\u001b[0;m\n",
            "Warning: No points found in file Baum0 nds_da - Cloud.txt. Trying NumPy fallback.\n",
            "\u001b[1;33m[Open3D WARNING] Read geometry::PointCloud failed: unknown file extension for ../train/Red Oak/Baum0_506 bwb4 - Cloud.txt (format: auto).\u001b[0;m\n",
            "Warning: No points found in file Baum0_506 bwb4 - Cloud.txt. Trying NumPy fallback.\n",
            "\u001b[1;33m[Open3D WARNING] Read geometry::PointCloud failed: unknown file extension for ../train/Red Oak/Baum4_277 brb_psnord- Cloud.txt (format: auto).\u001b[0;m\n",
            "Warning: No points found in file Baum4_277 brb_psnord- Cloud.txt. Trying NumPy fallback.\n"
          ]
        },
        {
          "name": "stderr",
          "output_type": "stream",
          "text": [
            "FPFH v=0.1:  65%|██████▍   | 362/557 [00:41<00:18, 10.64it/s]"
          ]
        },
        {
          "name": "stdout",
          "output_type": "stream",
          "text": [
            "\u001b[1;33m[Open3D WARNING] Read geometry::PointCloud failed: unknown file extension for ../train/Red Oak/Baum6 nds_da - Cloud.txt (format: auto).\u001b[0;m\n",
            "Warning: No points found in file Baum6 nds_da - Cloud.txt. Trying NumPy fallback.\n",
            "\u001b[1;33m[Open3D WARNING] Read geometry::PointCloud failed: unknown file extension for ../train/Red Oak/Baum6_178 nrwl30- Cloud.txt (format: auto).\u001b[0;m\n",
            "Warning: No points found in file Baum6_178 nrwl30- Cloud.txt. Trying NumPy fallback.\n",
            "\u001b[1;33m[Open3D WARNING] Read geometry::PointCloud failed: unknown file extension for ../train/Red Oak/Baum8_437 bwb4 - Cloud.txt (format: auto).\u001b[0;m\n",
            "Warning: No points found in file Baum8_437 bwb4 - Cloud.txt. Trying NumPy fallback.\n"
          ]
        },
        {
          "name": "stderr",
          "output_type": "stream",
          "text": [
            "FPFH v=0.1:  65%|██████▌   | 364/557 [00:41<00:17, 10.89it/s]"
          ]
        },
        {
          "name": "stdout",
          "output_type": "stream",
          "text": [
            "\u001b[1;33m[Open3D WARNING] Read geometry::PointCloud failed: unknown file extension for ../train/Red Oak/Baum1_175 bwb4 - Cloud.txt (format: auto).\u001b[0;m\n",
            "Warning: No points found in file Baum1_175 bwb4 - Cloud.txt. Trying NumPy fallback.\n",
            "\u001b[1;33m[Open3D WARNING] Read geometry::PointCloud failed: unknown file extension for ../train/Red Oak/Baum5_485 nds_ro- Cloud.txt (format: auto).\u001b[0;m\n",
            "Warning: No points found in file Baum5_485 nds_ro- Cloud.txt. Trying NumPy fallback.\n"
          ]
        },
        {
          "name": "stderr",
          "output_type": "stream",
          "text": [
            "FPFH v=0.1:  66%|██████▌   | 368/557 [00:41<00:18, 10.46it/s]"
          ]
        },
        {
          "name": "stdout",
          "output_type": "stream",
          "text": [
            "\u001b[1;33m[Open3D WARNING] Read geometry::PointCloud failed: unknown file extension for ../train/Red Oak/Baum4_430 bwb4 - Cloud.txt (format: auto).\u001b[0;m\n",
            "Warning: No points found in file Baum4_430 bwb4 - Cloud.txt. Trying NumPy fallback.\n",
            "\u001b[1;33m[Open3D WARNING] Read geometry::PointCloud failed: unknown file extension for ../train/Red Oak/Baum7_498 nds_ro- Cloud.txt (format: auto).\u001b[0;m\n",
            "Warning: No points found in file Baum7_498 nds_ro- Cloud.txt. Trying NumPy fallback.\n",
            "\u001b[1;33m[Open3D WARNING] Read geometry::PointCloud failed: unknown file extension for ../train/Red Oak/Baum6_401 thu_jena- Cloud.txt (format: auto).\u001b[0;m\n",
            "Warning: No points found in file Baum6_401 thu_jena- Cloud.txt. Trying NumPy fallback.\n"
          ]
        },
        {
          "name": "stderr",
          "output_type": "stream",
          "text": [
            "FPFH v=0.1:  66%|██████▋   | 370/557 [00:41<00:17, 10.80it/s]"
          ]
        },
        {
          "name": "stdout",
          "output_type": "stream",
          "text": [
            "\u001b[1;33m[Open3D WARNING] Read geometry::PointCloud failed: unknown file extension for ../train/Red Oak/Baum9_552 nds_ro- Cloud.txt (format: auto).\u001b[0;m\n",
            "Warning: No points found in file Baum9_552 nds_ro- Cloud.txt. Trying NumPy fallback.\n",
            "\u001b[1;33m[Open3D WARNING] Read geometry::PointCloud failed: unknown file extension for ../train/Red Oak/Baum1_128 brb_pssüd- Cloud.txt (format: auto).\u001b[0;m\n",
            "Warning: No points found in file Baum1_128 brb_pssüd- Cloud.txt. Trying NumPy fallback.\n",
            "\u001b[1;33m[Open3D WARNING] Read geometry::PointCloud failed: unknown file extension for ../train/Red Oak/Baum7_103 thu_neust- Cloud.txt (format: auto).\u001b[0;m\n",
            "Warning: No points found in file Baum7_103 thu_neust- Cloud.txt. Trying NumPy fallback.\n"
          ]
        },
        {
          "name": "stderr",
          "output_type": "stream",
          "text": [
            "FPFH v=0.1:  67%|██████▋   | 372/557 [00:42<00:17, 10.68it/s]"
          ]
        },
        {
          "name": "stdout",
          "output_type": "stream",
          "text": [
            "\u001b[1;33m[Open3D WARNING] Read geometry::PointCloud failed: unknown file extension for ../train/Red Oak/Baum2_263 nrwl30- Cloud.txt (format: auto).\u001b[0;m\n",
            "Warning: No points found in file Baum2_263 nrwl30- Cloud.txt. Trying NumPy fallback.\n",
            "\u001b[1;33m[Open3D WARNING] Read geometry::PointCloud failed: unknown file extension for ../train/Red Oak/Baum8_308 thu_jena- Cloud.txt (format: auto).\u001b[0;m\n",
            "Warning: No points found in file Baum8_308 thu_jena- Cloud.txt. Trying NumPy fallback.\n"
          ]
        },
        {
          "name": "stderr",
          "output_type": "stream",
          "text": [
            "FPFH v=0.1:  68%|██████▊   | 376/557 [00:42<00:16, 10.73it/s]"
          ]
        },
        {
          "name": "stdout",
          "output_type": "stream",
          "text": [
            "\u001b[1;33m[Open3D WARNING] Read geometry::PointCloud failed: unknown file extension for ../train/Red Oak/Baum0_227 thu_jena- Cloud.txt (format: auto).\u001b[0;m\n",
            "Warning: No points found in file Baum0_227 thu_jena- Cloud.txt. Trying NumPy fallback.\n",
            "\u001b[1;33m[Open3D WARNING] Read geometry::PointCloud failed: unknown file extension for ../train/Red Oak/Baum5_267 brb_pssüd - Cloud.txt (format: auto).\u001b[0;m\n",
            "Warning: No points found in file Baum5_267 brb_pssüd - Cloud.txt. Trying NumPy fallback.\n",
            "\u001b[1;33m[Open3D WARNING] Read geometry::PointCloud failed: unknown file extension for ../train/Red Oak/Baum6_479 bwb4 - Cloud.txt (format: auto).\u001b[0;m\n",
            "Warning: No points found in file Baum6_479 bwb4 - Cloud.txt. Trying NumPy fallback.\n"
          ]
        },
        {
          "name": "stderr",
          "output_type": "stream",
          "text": [
            "FPFH v=0.1:  68%|██████▊   | 378/557 [00:42<00:15, 11.42it/s]"
          ]
        },
        {
          "name": "stdout",
          "output_type": "stream",
          "text": [
            "\u001b[1;33m[Open3D WARNING] Read geometry::PointCloud failed: unknown file extension for ../train/Red Oak/Baum5_345 thu_neust- Cloud.txt (format: auto).\u001b[0;m\n",
            "Warning: No points found in file Baum5_345 thu_neust- Cloud.txt. Trying NumPy fallback.\n",
            "\u001b[1;33m[Open3D WARNING] Read geometry::PointCloud failed: unknown file extension for ../train/Red Oak/Baum9_583 thu_jena- Cloud.txt (format: auto).\u001b[0;m\n",
            "Warning: No points found in file Baum9_583 thu_jena- Cloud.txt. Trying NumPy fallback.\n",
            "\u001b[1;33m[Open3D WARNING] Read geometry::PointCloud failed: unknown file extension for ../train/Red Oak/Baum5_373 bwb4 - Cloud.txt (format: auto).\u001b[0;m\n",
            "Warning: No points found in file Baum5_373 bwb4 - Cloud.txt. Trying NumPy fallback.\n"
          ]
        },
        {
          "name": "stderr",
          "output_type": "stream",
          "text": [
            "FPFH v=0.1:  68%|██████▊   | 380/557 [00:42<00:14, 12.01it/s]"
          ]
        },
        {
          "name": "stdout",
          "output_type": "stream",
          "text": [
            "\u001b[1;33m[Open3D WARNING] Read geometry::PointCloud failed: unknown file extension for ../train/Red Oak/Baum7_404 nrwl33- Cloud.txt (format: auto).\u001b[0;m\n",
            "Warning: No points found in file Baum7_404 nrwl33- Cloud.txt. Trying NumPy fallback.\n",
            "\u001b[1;33m[Open3D WARNING] Read geometry::PointCloud failed: unknown file extension for ../train/Red Oak/Baum2_197 brb_pssüd- Cloud.txt (format: auto).\u001b[0;m\n",
            "Warning: No points found in file Baum2_197 brb_pssüd- Cloud.txt. Trying NumPy fallback.\n"
          ]
        },
        {
          "name": "stderr",
          "output_type": "stream",
          "text": [
            "FPFH v=0.1:  69%|██████▉   | 384/557 [00:43<00:16, 10.61it/s]"
          ]
        },
        {
          "name": "stdout",
          "output_type": "stream",
          "text": [
            "\u001b[1;33m[Open3D WARNING] Read geometry::PointCloud failed: unknown file extension for ../train/Red Oak/Baum5 nds_da - Cloud.txt (format: auto).\u001b[0;m\n",
            "Warning: No points found in file Baum5 nds_da - Cloud.txt. Trying NumPy fallback.\n",
            "\u001b[1;33m[Open3D WARNING] Read geometry::PointCloud failed: unknown file extension for ../train/Red Oak/Baum8 nds_da - Cloud.txt (format: auto).\u001b[0;m\n",
            "Warning: No points found in file Baum8 nds_da - Cloud.txt. Trying NumPy fallback.\n",
            "\u001b[1;33m[Open3D WARNING] Read geometry::PointCloud failed: unknown file extension for ../train/Red Oak/Baum0_534 brb_psnord- Cloud.txt (format: auto).\u001b[0;m\n",
            "Warning: No points found in file Baum0_534 brb_psnord- Cloud.txt. Trying NumPy fallback.\n"
          ]
        },
        {
          "name": "stderr",
          "output_type": "stream",
          "text": [
            "FPFH v=0.1:  69%|██████▉   | 386/557 [00:43<00:13, 12.33it/s]"
          ]
        },
        {
          "name": "stdout",
          "output_type": "stream",
          "text": [
            "\u001b[1;33m[Open3D WARNING] Read geometry::PointCloud failed: unknown file extension for ../train/Red Oak/Baum3_359 thu_jena- Cloud.txt (format: auto).\u001b[0;m\n",
            "Warning: No points found in file Baum3_359 thu_jena- Cloud.txt. Trying NumPy fallback.\n",
            "\u001b[1;33m[Open3D WARNING] Read geometry::PointCloud failed: unknown file extension for ../train/Red Oak/Baum7_88 nrwl30- Cloud.txt (format: auto).\u001b[0;m\n",
            "Warning: No points found in file Baum7_88 nrwl30- Cloud.txt. Trying NumPy fallback.\n"
          ]
        },
        {
          "name": "stderr",
          "output_type": "stream",
          "text": [
            "FPFH v=0.1:  70%|██████▉   | 388/557 [00:43<00:16, 10.38it/s]"
          ]
        },
        {
          "name": "stdout",
          "output_type": "stream",
          "text": [
            "\u001b[1;33m[Open3D WARNING] Read geometry::PointCloud failed: unknown file extension for ../train/Red Oak/Baum5_450 brb_psnord- Cloud.txt (format: auto).\u001b[0;m\n",
            "Warning: No points found in file Baum5_450 brb_psnord- Cloud.txt. Trying NumPy fallback.\n",
            "\u001b[1;33m[Open3D WARNING] Read geometry::PointCloud failed: unknown file extension for ../train/Red Oak/Baum9_512 bwb2 - Cloud.txt (format: auto).\u001b[0;m\n",
            "Warning: No points found in file Baum9_512 bwb2 - Cloud.txt. Trying NumPy fallback.\n",
            "\u001b[1;33m[Open3D WARNING] Read geometry::PointCloud failed: unknown file extension for ../train/Red Oak/Baum3_78 bwb2 - Cloud.txt (format: auto).\u001b[0;m\n",
            "Warning: No points found in file Baum3_78 bwb2 - Cloud.txt. Trying NumPy fallback.\n"
          ]
        },
        {
          "name": "stderr",
          "output_type": "stream",
          "text": [
            "FPFH v=0.1:  70%|███████   | 392/557 [00:43<00:14, 11.10it/s]"
          ]
        },
        {
          "name": "stdout",
          "output_type": "stream",
          "text": [
            "\u001b[1;33m[Open3D WARNING] Read geometry::PointCloud failed: unknown file extension for ../train/Red Oak/Baum0_578 nds_ro- Cloud.txt (format: auto).\u001b[0;m\n",
            "Warning: No points found in file Baum0_578 nds_ro- Cloud.txt. Trying NumPy fallback.\n",
            "\u001b[1;33m[Open3D WARNING] Read geometry::PointCloud failed: unknown file extension for ../train/Red Oak/Baum4 nds_da - Cloud.txt (format: auto).\u001b[0;m\n",
            "Warning: No points found in file Baum4 nds_da - Cloud.txt. Trying NumPy fallback.\n",
            "\u001b[1;33m[Open3D WARNING] Read geometry::PointCloud failed: unknown file extension for ../train/Red Oak/Baum9 nds_da - Cloud.txt (format: auto).\u001b[0;m\n",
            "Warning: No points found in file Baum9 nds_da - Cloud.txt. Trying NumPy fallback.\n"
          ]
        },
        {
          "name": "stderr",
          "output_type": "stream",
          "text": [
            "FPFH v=0.1:  71%|███████   | 394/557 [00:44<00:15, 10.63it/s]"
          ]
        },
        {
          "name": "stdout",
          "output_type": "stream",
          "text": [
            "\u001b[1;33m[Open3D WARNING] Read geometry::PointCloud failed: unknown file extension for ../train/Red Oak/Baum3_124 brb_psnord- Cloud.txt (format: auto).\u001b[0;m\n",
            "Warning: No points found in file Baum3_124 brb_psnord- Cloud.txt. Trying NumPy fallback.\n",
            "\u001b[1;33m[Open3D WARNING] Read geometry::PointCloud failed: unknown file extension for ../train/Red Oak/Baum0_332 bwb2- Cloud.txt (format: auto).\u001b[0;m\n",
            "Warning: No points found in file Baum0_332 bwb2- Cloud.txt. Trying NumPy fallback.\n"
          ]
        },
        {
          "name": "stderr",
          "output_type": "stream",
          "text": [
            "FPFH v=0.1:  71%|███████   | 396/557 [00:44<00:15, 10.43it/s]"
          ]
        },
        {
          "name": "stdout",
          "output_type": "stream",
          "text": [
            "\u001b[1;33m[Open3D WARNING] Read geometry::PointCloud failed: unknown file extension for ../train/Red Oak/Baum6_562 brb_psnord- Cloud.txt (format: auto).\u001b[0;m\n",
            "Warning: No points found in file Baum6_562 brb_psnord- Cloud.txt. Trying NumPy fallback.\n",
            "\u001b[1;33m[Open3D WARNING] Read geometry::PointCloud failed: unknown file extension for ../train/Red Oak/Baum9_29 nrwl33- Cloud.txt (format: auto).\u001b[0;m\n",
            "Warning: No points found in file Baum9_29 nrwl33- Cloud.txt. Trying NumPy fallback.\n",
            "\u001b[1;33m[Open3D WARNING] Read geometry::PointCloud failed: unknown file extension for ../train/Red Oak/Baum8_194 brb_pssüd- Cloud.txt (format: auto).\u001b[0;m\n",
            "Warning: No points found in file Baum8_194 brb_pssüd- Cloud.txt. Trying NumPy fallback.\n"
          ]
        },
        {
          "name": "stderr",
          "output_type": "stream",
          "text": [
            "FPFH v=0.1:  72%|███████▏  | 400/557 [00:44<00:15, 10.34it/s]"
          ]
        },
        {
          "name": "stdout",
          "output_type": "stream",
          "text": [
            "\u001b[1;33m[Open3D WARNING] Read geometry::PointCloud failed: unknown file extension for ../train/Red Oak/Baum7_256 brb_pssüd- Cloud.txt (format: auto).\u001b[0;m\n",
            "Warning: No points found in file Baum7_256 brb_pssüd- Cloud.txt. Trying NumPy fallback.\n",
            "\u001b[1;33m[Open3D WARNING] Read geometry::PointCloud failed: unknown file extension for ../train/Red Oak/Baum9_149 brb_pssüd- Cloud.txt (format: auto).\u001b[0;m\n",
            "Warning: No points found in file Baum9_149 brb_pssüd- Cloud.txt. Trying NumPy fallback.\n",
            "\u001b[1;33m[Open3D WARNING] Read geometry::PointCloud failed: unknown file extension for ../train/Red Oak/Baum7_41 thu_jena- Cloud.txt (format: auto).\u001b[0;m\n",
            "Warning: No points found in file Baum7_41 thu_jena- Cloud.txt. Trying NumPy fallback.\n"
          ]
        },
        {
          "name": "stderr",
          "output_type": "stream",
          "text": [
            "FPFH v=0.1:  72%|███████▏  | 402/557 [00:44<00:14, 10.90it/s]"
          ]
        },
        {
          "name": "stdout",
          "output_type": "stream",
          "text": [
            "\u001b[1;33m[Open3D WARNING] Read geometry::PointCloud failed: unknown file extension for ../train/Red Oak/Baum1_614 brb_psnord - Cloud.txt (format: auto).\u001b[0;m\n",
            "Warning: No points found in file Baum1_614 brb_psnord - Cloud.txt. Trying NumPy fallback.\n",
            "\u001b[1;33m[Open3D WARNING] Read geometry::PointCloud failed: unknown file extension for ../train/Red Oak/Baum1_351 bwb2 - Cloud.txt (format: auto).\u001b[0;m\n",
            "Warning: No points found in file Baum1_351 bwb2 - Cloud.txt. Trying NumPy fallback.\n",
            "\u001b[1;33m[Open3D WARNING] Read geometry::PointCloud failed: unknown file extension for ../train/Red Oak/Baum7 nds_da - Cloud.txt (format: auto).\u001b[0;m\n",
            "Warning: No points found in file Baum7 nds_da - Cloud.txt. Trying NumPy fallback.\n"
          ]
        },
        {
          "name": "stderr",
          "output_type": "stream",
          "text": [
            "FPFH v=0.1:  73%|███████▎  | 406/557 [00:45<00:13, 11.11it/s]"
          ]
        },
        {
          "name": "stdout",
          "output_type": "stream",
          "text": [
            "\u001b[1;33m[Open3D WARNING] Read geometry::PointCloud failed: unknown file extension for ../train/Red Oak/Baum5_1 bwb2- Cloud.txt (format: auto).\u001b[0;m\n",
            "Warning: No points found in file Baum5_1 bwb2- Cloud.txt. Trying NumPy fallback.\n",
            "\u001b[1;33m[Open3D WARNING] Read geometry::PointCloud failed: unknown file extension for ../train/Red Oak/Baum3_37 nds_ro- Cloud.txt (format: auto).\u001b[0;m\n",
            "Warning: No points found in file Baum3_37 nds_ro- Cloud.txt. Trying NumPy fallback.\n",
            "\u001b[1;33m[Open3D WARNING] Read geometry::PointCloud failed: unknown file extension for ../train/Red Oak/Baum3 _98 nrwl33- Cloud.txt (format: auto).\u001b[0;m\n",
            "Warning: No points found in file Baum3 _98 nrwl33- Cloud.txt. Trying NumPy fallback.\n"
          ]
        },
        {
          "name": "stderr",
          "output_type": "stream",
          "text": [
            "FPFH v=0.1:  73%|███████▎  | 408/557 [00:45<00:12, 11.67it/s]"
          ]
        },
        {
          "name": "stdout",
          "output_type": "stream",
          "text": [
            "\u001b[1;33m[Open3D WARNING] Read geometry::PointCloud failed: unknown file extension for ../train/Red Oak/Baum6_27 brb_pssüd- Cloud.txt (format: auto).\u001b[0;m\n",
            "Warning: No points found in file Baum6_27 brb_pssüd- Cloud.txt. Trying NumPy fallback.\n",
            "\u001b[1;33m[Open3D WARNING] Read geometry::PointCloud failed: unknown file extension for ../train/Red Oak/Baum4_33 nrwl30- Cloud.txt (format: auto).\u001b[0;m\n",
            "Warning: No points found in file Baum4_33 nrwl30- Cloud.txt. Trying NumPy fallback.\n",
            "\u001b[1;33m[Open3D WARNING] Read geometry::PointCloud failed: unknown file extension for ../train/Red Oak/Baum1_114 thu_jena- Cloud.txt (format: auto).\u001b[0;m\n",
            "Warning: No points found in file Baum1_114 thu_jena- Cloud.txt. Trying NumPy fallback.\n"
          ]
        },
        {
          "name": "stderr",
          "output_type": "stream",
          "text": [
            "FPFH v=0.1:  74%|███████▍  | 412/557 [00:45<00:11, 12.41it/s]"
          ]
        },
        {
          "name": "stdout",
          "output_type": "stream",
          "text": [
            "\u001b[1;33m[Open3D WARNING] Read geometry::PointCloud failed: unknown file extension for ../train/Red Oak/Baum4_398 nds_ro- Cloud.txt (format: auto).\u001b[0;m\n",
            "Warning: No points found in file Baum4_398 nds_ro- Cloud.txt. Trying NumPy fallback.\n",
            "\u001b[1;33m[Open3D WARNING] Read geometry::PointCloud failed: unknown file extension for ../train/Red Oak/Baum2_171 bwb2 - Cloud.txt (format: auto).\u001b[0;m\n",
            "Warning: No points found in file Baum2_171 bwb2 - Cloud.txt. Trying NumPy fallback.\n",
            "\u001b[1;33m[Open3D WARNING] Read geometry::PointCloud failed: unknown file extension for ../train/Red Oak/Baum8_395 thu_neust- Cloud.txt (format: auto).\u001b[0;m\n",
            "Warning: No points found in file Baum8_395 thu_neust- Cloud.txt. Trying NumPy fallback.\n"
          ]
        },
        {
          "name": "stderr",
          "output_type": "stream",
          "text": [
            "FPFH v=0.1:  74%|███████▍  | 414/557 [00:45<00:12, 11.15it/s]"
          ]
        },
        {
          "name": "stdout",
          "output_type": "stream",
          "text": [
            "\u001b[1;33m[Open3D WARNING] Read geometry::PointCloud failed: unknown file extension for ../train/Red Oak/Baum0_123 nrwl30- Cloud.txt (format: auto).\u001b[0;m\n",
            "Warning: No points found in file Baum0_123 nrwl30- Cloud.txt. Trying NumPy fallback.\n",
            "\u001b[1;33m[Open3D WARNING] Read geometry::PointCloud failed: unknown file extension for ../train/Red Oak/Baum2_504 thu_jena- Cloud.txt (format: auto).\u001b[0;m\n",
            "Warning: No points found in file Baum2_504 thu_jena- Cloud.txt. Trying NumPy fallback.\n",
            "\u001b[1;33m[Open3D WARNING] Read geometry::PointCloud failed: unknown file extension for ../train/Red Oak/Baum4_217 bwb2 - Cloud.txt (format: auto).\u001b[0;m\n",
            "Warning: No points found in file Baum4_217 bwb2 - Cloud.txt. Trying NumPy fallback.\n"
          ]
        },
        {
          "name": "stderr",
          "output_type": "stream",
          "text": [
            "FPFH v=0.1:  75%|███████▌  | 418/557 [00:46<00:12, 10.84it/s]"
          ]
        },
        {
          "name": "stdout",
          "output_type": "stream",
          "text": [
            "\u001b[1;33m[Open3D WARNING] Read geometry::PointCloud failed: unknown file extension for ../train/Red Oak/Baum1 nds_da - Cloud.txt (format: auto).\u001b[0;m\n",
            "Warning: No points found in file Baum1 nds_da - Cloud.txt. Trying NumPy fallback.\n",
            "\u001b[1;33m[Open3D WARNING] Read geometry::PointCloud failed: unknown file extension for ../train/Red Oak/Baum7_424 bwb2 - Cloud.txt (format: auto).\u001b[0;m\n",
            "Warning: No points found in file Baum7_424 bwb2 - Cloud.txt. Trying NumPy fallback.\n",
            "\u001b[1;33m[Open3D WARNING] Read geometry::PointCloud failed: unknown file extension for ../train/Red Oak/Baum2 nds_da - Cloud.txt (format: auto).\u001b[0;m\n",
            "Warning: No points found in file Baum2 nds_da - Cloud.txt. Trying NumPy fallback.\n"
          ]
        },
        {
          "name": "stderr",
          "output_type": "stream",
          "text": [
            "FPFH v=0.1:  75%|███████▌  | 420/557 [00:46<00:12, 11.28it/s]"
          ]
        },
        {
          "name": "stdout",
          "output_type": "stream",
          "text": [
            "\u001b[1;33m[Open3D WARNING] Read geometry::PointCloud failed: unknown file extension for ../train/Red Oak/Baum6_179 nds_ro- Cloud.txt (format: auto).\u001b[0;m\n",
            "Warning: No points found in file Baum6_179 nds_ro- Cloud.txt. Trying NumPy fallback.\n",
            "\u001b[1;33m[Open3D WARNING] Read geometry::PointCloud failed: unknown file extension for ../train/Red Oak/Baum7_404 bwb4 - Cloud.txt (format: auto).\u001b[0;m\n",
            "Warning: No points found in file Baum7_404 bwb4 - Cloud.txt. Trying NumPy fallback.\n",
            "\u001b[1;33m[Open3D WARNING] Read geometry::PointCloud failed: unknown file extension for ../train/Red Oak/Baum1_414 thu_neust- Cloud.txt (format: auto).\u001b[0;m\n",
            "Warning: No points found in file Baum1_414 thu_neust- Cloud.txt. Trying NumPy fallback.\n"
          ]
        },
        {
          "name": "stderr",
          "output_type": "stream",
          "text": [
            "FPFH v=0.1:  76%|███████▌  | 424/557 [00:46<00:11, 11.33it/s]"
          ]
        },
        {
          "name": "stdout",
          "output_type": "stream",
          "text": [
            "\u001b[1;33m[Open3D WARNING] Read geometry::PointCloud failed: unknown file extension for ../train/Red Oak/Baum1_568 nds_ro- Cloud.txt (format: auto).\u001b[0;m\n",
            "Warning: No points found in file Baum1_568 nds_ro- Cloud.txt. Trying NumPy fallback.\n",
            "\u001b[1;33m[Open3D WARNING] Read geometry::PointCloud failed: unknown file extension for ../train/Red Oak/Baum4_336 brb_pssüd- Cloud.txt (format: auto).\u001b[0;m\n",
            "Warning: No points found in file Baum4_336 brb_pssüd- Cloud.txt. Trying NumPy fallback.\n",
            "\u001b[1;33m[Open3D WARNING] Read geometry::PointCloud failed: unknown file extension for ../train/Red Oak/Baum3_299 thu_neust- Cloud.txt (format: auto).\u001b[0;m\n",
            "Warning: No points found in file Baum3_299 thu_neust- Cloud.txt. Trying NumPy fallback.\n"
          ]
        },
        {
          "name": "stderr",
          "output_type": "stream",
          "text": [
            "FPFH v=0.1:  77%|███████▋  | 427/557 [00:46<00:10, 11.85it/s]"
          ]
        },
        {
          "name": "stdout",
          "output_type": "stream",
          "text": [
            "\u001b[1;33m[Open3D WARNING] Read PTS failed with exception: vector\u001b[0;m\n",
            "Warning: No points found in file 57.pts. Trying NumPy fallback.\n",
            "\u001b[1;33m[Open3D WARNING] Read PTS failed with exception: vector\u001b[0;m\n",
            "Warning: No points found in file 43.pts. Trying NumPy fallback.\n"
          ]
        },
        {
          "name": "stderr",
          "output_type": "stream",
          "text": [
            "FPFH v=0.1:  78%|███████▊  | 435/557 [00:47<00:07, 16.28it/s]"
          ]
        },
        {
          "name": "stdout",
          "output_type": "stream",
          "text": [
            "\u001b[1;33m[Open3D WARNING] Read PTS failed with exception: vector\u001b[0;m\n",
            "Warning: No points found in file 42.pts. Trying NumPy fallback.\n",
            "\u001b[1;33m[Open3D WARNING] Read PTS failed with exception: vector\u001b[0;m\n",
            "Warning: No points found in file 40.pts. Trying NumPy fallback.\n"
          ]
        },
        {
          "name": "stderr",
          "output_type": "stream",
          "text": [
            "FPFH v=0.1:  80%|████████  | 447/557 [00:48<00:10, 10.61it/s]"
          ]
        },
        {
          "name": "stdout",
          "output_type": "stream",
          "text": [
            "\u001b[1;33m[Open3D WARNING] Read PTS failed with exception: vector\u001b[0;m\n",
            "Warning: No points found in file 3.pts. Trying NumPy fallback.\n",
            "\u001b[1;33m[Open3D WARNING] Read PTS failed with exception: vector\u001b[0;m\n",
            "Warning: No points found in file 44.pts. Trying NumPy fallback.\n"
          ]
        },
        {
          "name": "stderr",
          "output_type": "stream",
          "text": [
            "FPFH v=0.1:  81%|████████▏ | 453/557 [00:49<00:06, 15.44it/s]"
          ]
        },
        {
          "name": "stdout",
          "output_type": "stream",
          "text": [
            "\u001b[1;33m[Open3D WARNING] Read PTS failed with exception: vector\u001b[0;m\n",
            "Warning: No points found in file 91.pts. Trying NumPy fallback.\n",
            "\u001b[1;33m[Open3D WARNING] Read PTS failed with exception: vector\u001b[0;m\n",
            "Warning: No points found in file 46.pts. Trying NumPy fallback.\n"
          ]
        },
        {
          "name": "stderr",
          "output_type": "stream",
          "text": [
            "FPFH v=0.1:  82%|████████▏ | 459/557 [00:49<00:08, 11.68it/s]"
          ]
        },
        {
          "name": "stdout",
          "output_type": "stream",
          "text": [
            "\u001b[1;33m[Open3D WARNING] Read PTS failed with exception: vector\u001b[0;m\n",
            "Warning: No points found in file 121.pts. Trying NumPy fallback.\n"
          ]
        },
        {
          "name": "stderr",
          "output_type": "stream",
          "text": [
            "FPFH v=0.1:  84%|████████▍ | 467/557 [00:50<00:07, 12.39it/s]"
          ]
        },
        {
          "name": "stdout",
          "output_type": "stream",
          "text": [
            "\u001b[1;33m[Open3D WARNING] Read PTS failed with exception: vector\u001b[0;m\n",
            "Warning: No points found in file 21.pts. Trying NumPy fallback.\n",
            "\u001b[1;33m[Open3D WARNING] Read PTS failed with exception: vector\u001b[0;m\n",
            "Warning: No points found in file 120.pts. Trying NumPy fallback.\n"
          ]
        },
        {
          "name": "stderr",
          "output_type": "stream",
          "text": [
            "FPFH v=0.1:  85%|████████▍ | 471/557 [00:51<00:10,  8.35it/s]"
          ]
        },
        {
          "name": "stdout",
          "output_type": "stream",
          "text": [
            "\u001b[1;33m[Open3D WARNING] Read PTS failed with exception: vector\u001b[0;m\n",
            "Warning: No points found in file 23.pts. Trying NumPy fallback.\n",
            "\u001b[1;33m[Open3D WARNING] Read PTS failed with exception: vector\u001b[0;m\n",
            "Warning: No points found in file 37.pts. Trying NumPy fallback.\n"
          ]
        },
        {
          "name": "stderr",
          "output_type": "stream",
          "text": [
            "FPFH v=0.1:  87%|████████▋ | 484/557 [00:51<00:06, 11.19it/s]"
          ]
        },
        {
          "name": "stdout",
          "output_type": "stream",
          "text": [
            "\u001b[1;33m[Open3D WARNING] Read PTS failed with exception: vector\u001b[0;m\n",
            "Warning: No points found in file 19.pts. Trying NumPy fallback.\n"
          ]
        },
        {
          "name": "stderr",
          "output_type": "stream",
          "text": [
            "FPFH v=0.1:  88%|████████▊ | 490/557 [00:53<00:11,  5.97it/s]"
          ]
        },
        {
          "name": "stdout",
          "output_type": "stream",
          "text": [
            "\u001b[1;33m[Open3D WARNING] Read PTS failed with exception: vector\u001b[0;m\n",
            "Warning: No points found in file 24.pts. Trying NumPy fallback.\n",
            "\u001b[1;33m[Open3D WARNING] Read PTS failed with exception: vector\u001b[0;m\n",
            "Warning: No points found in file 18.pts. Trying NumPy fallback.\n",
            "\u001b[1;33m[Open3D WARNING] Read PTS failed with exception: vector\u001b[0;m\n",
            "Warning: No points found in file 125.pts. Trying NumPy fallback.\n"
          ]
        },
        {
          "name": "stderr",
          "output_type": "stream",
          "text": [
            "FPFH v=0.1:  89%|████████▉ | 495/557 [00:54<00:08,  7.06it/s]"
          ]
        },
        {
          "name": "stdout",
          "output_type": "stream",
          "text": [
            "\u001b[1;33m[Open3D WARNING] Read PTS failed with exception: vector\u001b[0;m\n",
            "Warning: No points found in file 28.pts. Trying NumPy fallback.\n"
          ]
        },
        {
          "name": "stderr",
          "output_type": "stream",
          "text": [
            "FPFH v=0.1:  92%|█████████▏| 510/557 [00:55<00:04, 11.13it/s]"
          ]
        },
        {
          "name": "stdout",
          "output_type": "stream",
          "text": [
            "\u001b[1;33m[Open3D WARNING] Read PTS failed with exception: vector\u001b[0;m\n",
            "Warning: No points found in file 12.pts. Trying NumPy fallback.\n"
          ]
        },
        {
          "name": "stderr",
          "output_type": "stream",
          "text": [
            "FPFH v=0.1:  93%|█████████▎| 518/557 [00:56<00:03, 10.66it/s]"
          ]
        },
        {
          "name": "stdout",
          "output_type": "stream",
          "text": [
            "\u001b[1;33m[Open3D WARNING] Read PTS failed with exception: vector\u001b[0;m\n",
            "Warning: No points found in file 76.pts. Trying NumPy fallback.\n"
          ]
        },
        {
          "name": "stderr",
          "output_type": "stream",
          "text": [
            "FPFH v=0.1:  99%|█████████▊| 549/557 [00:59<00:00,  8.18it/s]"
          ]
        },
        {
          "name": "stdout",
          "output_type": "stream",
          "text": [
            "\u001b[1;33m[Open3D WARNING] Read PTS failed with exception: vector\u001b[0;m\n",
            "Warning: No points found in file 166.pts. Trying NumPy fallback.\n"
          ]
        },
        {
          "name": "stderr",
          "output_type": "stream",
          "text": [
            "FPFH v=0.1: 100%|██████████| 557/557 [01:00<00:00,  9.22it/s]\n",
            "FPFH v=0.1:   0%|          | 0/134 [00:00<?, ?it/s]"
          ]
        },
        {
          "name": "stdout",
          "output_type": "stream",
          "text": [
            "\u001b[1;33m[Open3D WARNING] Read geometry::PointCloud failed: unknown file extension for ../test/Oak/14.txt (format: auto).\u001b[0;m\n",
            "Warning: No points found in file 14.txt. Trying NumPy fallback.\n"
          ]
        },
        {
          "name": "stderr",
          "output_type": "stream",
          "text": [
            "FPFH v=0.1:   1%|          | 1/134 [00:00<00:51,  2.58it/s]"
          ]
        },
        {
          "name": "stdout",
          "output_type": "stream",
          "text": [
            "\u001b[1;33m[Open3D WARNING] Read geometry::PointCloud failed: unknown file extension for ../test/Oak/22.txt (format: auto).\u001b[0;m\n",
            "Warning: No points found in file 22.txt. Trying NumPy fallback.\n"
          ]
        },
        {
          "name": "stderr",
          "output_type": "stream",
          "text": [
            "FPFH v=0.1:   2%|▏         | 3/134 [00:00<00:30,  4.29it/s]"
          ]
        },
        {
          "name": "stdout",
          "output_type": "stream",
          "text": [
            "\u001b[1;33m[Open3D WARNING] Read geometry::PointCloud failed: unknown file extension for ../test/Oak/18.txt (format: auto).\u001b[0;m\n",
            "Warning: No points found in file 18.txt. Trying NumPy fallback.\n",
            "\u001b[1;33m[Open3D WARNING] Read geometry::PointCloud failed: unknown file extension for ../test/Oak/24.txt (format: auto).\u001b[0;m\n",
            "Warning: No points found in file 24.txt. Trying NumPy fallback.\n"
          ]
        },
        {
          "name": "stderr",
          "output_type": "stream",
          "text": [
            "FPFH v=0.1:   5%|▌         | 7/134 [00:01<00:14,  8.99it/s]"
          ]
        },
        {
          "name": "stdout",
          "output_type": "stream",
          "text": [
            "\u001b[1;33m[Open3D WARNING] Read geometry::PointCloud failed: unknown file extension for ../test/Douglas Fir/61_60.txt (format: auto).\u001b[0;m\n",
            "Warning: No points found in file 61_60.txt. Trying NumPy fallback.\n",
            "\u001b[1;33m[Open3D WARNING] Read geometry::PointCloud failed: unknown file extension for ../test/Douglas Fir/31_45.txt (format: auto).\u001b[0;m\n",
            "Warning: No points found in file 31_45.txt. Trying NumPy fallback.\n",
            "\u001b[1;33m[Open3D WARNING] Read geometry::PointCloud failed: unknown file extension for ../test/Douglas Fir/31_44.txt (format: auto).\u001b[0;m\n",
            "Warning: No points found in file 31_44.txt. Trying NumPy fallback.\n",
            "\u001b[1;33m[Open3D WARNING] Read geometry::PointCloud failed: unknown file extension for ../test/Douglas Fir/31_87.txt (format: auto).\u001b[0;m\n",
            "Warning: No points found in file 31_87.txt. Trying NumPy fallback.\n",
            "\u001b[1;33m[Open3D WARNING] Read geometry::PointCloud failed: unknown file extension for ../test/Douglas Fir/31_81.txt (format: auto).\u001b[0;m\n",
            "Warning: No points found in file 31_81.txt. Trying NumPy fallback.\n"
          ]
        },
        {
          "name": "stderr",
          "output_type": "stream",
          "text": [
            "FPFH v=0.1:   7%|▋         | 10/134 [00:01<00:09, 12.90it/s]"
          ]
        },
        {
          "name": "stdout",
          "output_type": "stream",
          "text": [
            "\u001b[1;33m[Open3D WARNING] Read geometry::PointCloud failed: unknown file extension for ../test/Douglas Fir/61_73.txt (format: auto).\u001b[0;m\n",
            "Warning: No points found in file 61_73.txt. Trying NumPy fallback.\n",
            "\u001b[1;33m[Open3D WARNING] Read geometry::PointCloud failed: unknown file extension for ../test/Douglas Fir/31_83.txt (format: auto).\u001b[0;m\n",
            "Warning: No points found in file 31_83.txt. Trying NumPy fallback.\n",
            "\u001b[1;33m[Open3D WARNING] Read geometry::PointCloud failed: unknown file extension for ../test/Douglas Fir/31_69.txt (format: auto).\u001b[0;m\n",
            "Warning: No points found in file 31_69.txt. Trying NumPy fallback.\n"
          ]
        },
        {
          "name": "stderr",
          "output_type": "stream",
          "text": [
            "FPFH v=0.1:  10%|█         | 14/134 [00:01<00:09, 13.05it/s]"
          ]
        },
        {
          "name": "stdout",
          "output_type": "stream",
          "text": [
            "\u001b[1;33m[Open3D WARNING] Read geometry::PointCloud failed: unknown file extension for ../test/Douglas Fir/61_64.txt (format: auto).\u001b[0;m\n",
            "Warning: No points found in file 61_64.txt. Trying NumPy fallback.\n",
            "\u001b[1;33m[Open3D WARNING] Read geometry::PointCloud failed: unknown file extension for ../test/Douglas Fir/62_31_1.txt (format: auto).\u001b[0;m\n",
            "Warning: No points found in file 62_31_1.txt. Trying NumPy fallback.\n"
          ]
        },
        {
          "name": "stderr",
          "output_type": "stream",
          "text": [
            "FPFH v=0.1:  12%|█▏        | 16/134 [00:02<00:24,  4.82it/s]"
          ]
        },
        {
          "name": "stdout",
          "output_type": "stream",
          "text": [
            "\u001b[1;33m[Open3D WARNING] Read geometry::PointCloud failed: unknown file extension for ../test/Douglas Fir/62_93.txt (format: auto).\u001b[0;m\n",
            "Warning: No points found in file 62_93.txt. Trying NumPy fallback.\n",
            "\u001b[1;33m[Open3D WARNING] Read geometry::PointCloud failed: unknown file extension for ../test/Douglas Fir/61_15.txt (format: auto).\u001b[0;m\n",
            "Warning: No points found in file 61_15.txt. Trying NumPy fallback.\n",
            "\u001b[1;33m[Open3D WARNING] Read geometry::PointCloud failed: unknown file extension for ../test/Douglas Fir/61_11.txt (format: auto).\u001b[0;m\n",
            "Warning: No points found in file 61_11.txt. Trying NumPy fallback.\n"
          ]
        },
        {
          "name": "stderr",
          "output_type": "stream",
          "text": [
            "FPFH v=0.1:  16%|█▋        | 22/134 [00:04<00:31,  3.55it/s]"
          ]
        },
        {
          "name": "stdout",
          "output_type": "stream",
          "text": [
            "\u001b[1;33m[Open3D WARNING] Read geometry::PointCloud failed: unknown file extension for ../test/Douglas Fir/32_45.txt (format: auto).\u001b[0;m\n",
            "Warning: No points found in file 32_45.txt. Trying NumPy fallback.\n",
            "\u001b[1;33m[Open3D WARNING] Read geometry::PointCloud failed: unknown file extension for ../test/Douglas Fir/62_89.txt (format: auto).\u001b[0;m\n",
            "Warning: No points found in file 62_89.txt. Trying NumPy fallback.\n"
          ]
        },
        {
          "name": "stderr",
          "output_type": "stream",
          "text": [
            "FPFH v=0.1:  19%|█▊        | 25/134 [00:05<00:25,  4.30it/s]"
          ]
        },
        {
          "name": "stdout",
          "output_type": "stream",
          "text": [
            "\u001b[1;33m[Open3D WARNING] Read geometry::PointCloud failed: unknown file extension for ../test/Douglas Fir/32_47.txt (format: auto).\u001b[0;m\n",
            "Warning: No points found in file 32_47.txt. Trying NumPy fallback.\n"
          ]
        },
        {
          "name": "stderr",
          "output_type": "stream",
          "text": [
            "FPFH v=0.1:  21%|██        | 28/134 [00:05<00:21,  4.94it/s]"
          ]
        },
        {
          "name": "stdout",
          "output_type": "stream",
          "text": [
            "\u001b[1;33m[Open3D WARNING] Read geometry::PointCloud failed: unknown file extension for ../test/Douglas Fir/61_26.txt (format: auto).\u001b[0;m\n",
            "Warning: No points found in file 61_26.txt. Trying NumPy fallback.\n",
            "\u001b[1;33m[Open3D WARNING] Read geometry::PointCloud failed: unknown file extension for ../test/Douglas Fir/61_96.txt (format: auto).\u001b[0;m\n",
            "Warning: No points found in file 61_96.txt. Trying NumPy fallback.\n",
            "\u001b[1;33m[Open3D WARNING] Read geometry::PointCloud failed: unknown file extension for ../test/Douglas Fir/32_34.txt (format: auto).\u001b[0;m\n",
            "Warning: No points found in file 32_34.txt. Trying NumPy fallback.\n",
            "\u001b[1;33m[Open3D WARNING] Read geometry::PointCloud failed: unknown file extension for ../test/Douglas Fir/61_54.txt (format: auto).\u001b[0;m\n",
            "Warning: No points found in file 61_54.txt. Trying NumPy fallback.\n"
          ]
        },
        {
          "name": "stderr",
          "output_type": "stream",
          "text": [
            "FPFH v=0.1:  25%|██▍       | 33/134 [00:05<00:10,  9.59it/s]"
          ]
        },
        {
          "name": "stdout",
          "output_type": "stream",
          "text": [
            "\u001b[1;33m[Open3D WARNING] Read geometry::PointCloud failed: unknown file extension for ../test/Douglas Fir/62_144.txt (format: auto).\u001b[0;m\n",
            "Warning: No points found in file 62_144.txt. Trying NumPy fallback.\n",
            "\u001b[1;33m[Open3D WARNING] Read geometry::PointCloud failed: unknown file extension for ../test/Douglas Fir/61_83.txt (format: auto).\u001b[0;m\n",
            "Warning: No points found in file 61_83.txt. Trying NumPy fallback.\n",
            "\u001b[1;33m[Open3D WARNING] Read geometry::PointCloud failed: unknown file extension for ../test/Douglas Fir/31_72.txt (format: auto).\u001b[0;m\n",
            "Warning: No points found in file 31_72.txt. Trying NumPy fallback.\n",
            "\u001b[1;33m[Open3D WARNING] Read geometry::PointCloud failed: unknown file extension for ../test/Douglas Fir/61_6.txt (format: auto).\u001b[0;m\n",
            "Warning: No points found in file 61_6.txt. Trying NumPy fallback.\n"
          ]
        },
        {
          "name": "stderr",
          "output_type": "stream",
          "text": [
            "FPFH v=0.1:  28%|██▊       | 37/134 [00:06<00:10,  8.99it/s]"
          ]
        },
        {
          "name": "stdout",
          "output_type": "stream",
          "text": [
            "\u001b[1;33m[Open3D WARNING] Read geometry::PointCloud failed: unknown file extension for ../test/Douglas Fir/62_153.txt (format: auto).\u001b[0;m\n",
            "Warning: No points found in file 62_153.txt. Trying NumPy fallback.\n",
            "\u001b[1;33m[Open3D WARNING] Read geometry::PointCloud failed: unknown file extension for ../test/Douglas Fir/61_90.txt (format: auto).\u001b[0;m\n",
            "Warning: No points found in file 61_90.txt. Trying NumPy fallback.\n",
            "\u001b[1;33m[Open3D WARNING] Read geometry::PointCloud failed: unknown file extension for ../test/Douglas Fir/61_2.txt (format: auto).\u001b[0;m\n",
            "Warning: No points found in file 61_2.txt. Trying NumPy fallback.\n",
            "\u001b[1;33m[Open3D WARNING] Read geometry::PointCloud failed: unknown file extension for ../test/Douglas Fir/61_3.txt (format: auto).\u001b[0;m\n",
            "Warning: No points found in file 61_3.txt. Trying NumPy fallback.\n"
          ]
        },
        {
          "name": "stderr",
          "output_type": "stream",
          "text": [
            "FPFH v=0.1:  30%|██▉       | 40/134 [00:06<00:08, 11.34it/s]"
          ]
        },
        {
          "name": "stdout",
          "output_type": "stream",
          "text": [
            "\u001b[1;33m[Open3D WARNING] Read geometry::PointCloud failed: unknown file extension for ../test/Douglas Fir/61_85.txt (format: auto).\u001b[0;m\n",
            "Warning: No points found in file 61_85.txt. Trying NumPy fallback.\n",
            "\u001b[1;33m[Open3D WARNING] Read geometry::PointCloud failed: unknown file extension for ../test/Spruce/35_34.txt (format: auto).\u001b[0;m\n",
            "Warning: No points found in file 35_34.txt. Trying NumPy fallback.\n"
          ]
        },
        {
          "name": "stderr",
          "output_type": "stream",
          "text": [
            "FPFH v=0.1:  33%|███▎      | 44/134 [00:07<00:09,  9.20it/s]"
          ]
        },
        {
          "name": "stdout",
          "output_type": "stream",
          "text": [
            "\u001b[1;33m[Open3D WARNING] Read geometry::PointCloud failed: unknown file extension for ../test/Spruce/35_7.txt (format: auto).\u001b[0;m\n",
            "Warning: No points found in file 35_7.txt. Trying NumPy fallback.\n",
            "\u001b[1;33m[Open3D WARNING] Read geometry::PointCloud failed: unknown file extension for ../test/Spruce/64_43.txt (format: auto).\u001b[0;m\n",
            "Warning: No points found in file 64_43.txt. Trying NumPy fallback.\n",
            "\u001b[1;33m[Open3D WARNING] Read geometry::PointCloud failed: unknown file extension for ../test/Spruce/65_15.txt (format: auto).\u001b[0;m\n",
            "Warning: No points found in file 65_15.txt. Trying NumPy fallback.\n",
            "\u001b[1;33m[Open3D WARNING] Read geometry::PointCloud failed: unknown file extension for ../test/Spruce/35_1.txt (format: auto).\u001b[0;m\n",
            "Warning: No points found in file 35_1.txt. Trying NumPy fallback.\n"
          ]
        },
        {
          "name": "stderr",
          "output_type": "stream",
          "text": [
            "FPFH v=0.1:  34%|███▍      | 46/134 [00:07<00:08, 10.11it/s]"
          ]
        },
        {
          "name": "stdout",
          "output_type": "stream",
          "text": [
            "\u001b[1;33m[Open3D WARNING] Read geometry::PointCloud failed: unknown file extension for ../test/Spruce/34_17.txt (format: auto).\u001b[0;m\n",
            "Warning: No points found in file 34_17.txt. Trying NumPy fallback.\n"
          ]
        },
        {
          "name": "stderr",
          "output_type": "stream",
          "text": [
            "FPFH v=0.1:  38%|███▊      | 51/134 [00:07<00:06, 12.02it/s]"
          ]
        },
        {
          "name": "stdout",
          "output_type": "stream",
          "text": [
            "\u001b[1;33m[Open3D WARNING] Read geometry::PointCloud failed: unknown file extension for ../test/Spruce/35_97.txt (format: auto).\u001b[0;m\n",
            "Warning: No points found in file 35_97.txt. Trying NumPy fallback.\n",
            "\u001b[1;33m[Open3D WARNING] Read geometry::PointCloud failed: unknown file extension for ../test/Spruce/35_87.txt (format: auto).\u001b[0;m\n",
            "Warning: No points found in file 35_87.txt. Trying NumPy fallback.\n",
            "\u001b[1;33m[Open3D WARNING] Read geometry::PointCloud failed: unknown file extension for ../test/Spruce/35_86.txt (format: auto).\u001b[0;m\n",
            "Warning: No points found in file 35_86.txt. Trying NumPy fallback.\n",
            "\u001b[1;33m[Open3D WARNING] Read geometry::PointCloud failed: unknown file extension for ../test/Spruce/65_48.txt (format: auto).\u001b[0;m\n",
            "Warning: No points found in file 65_48.txt. Trying NumPy fallback.\n"
          ]
        },
        {
          "name": "stderr",
          "output_type": "stream",
          "text": [
            "FPFH v=0.1:  40%|███▉      | 53/134 [00:07<00:06, 11.72it/s]"
          ]
        },
        {
          "name": "stdout",
          "output_type": "stream",
          "text": [
            "\u001b[1;33m[Open3D WARNING] Read geometry::PointCloud failed: unknown file extension for ../test/Spruce/35_91.txt (format: auto).\u001b[0;m\n",
            "Warning: No points found in file 35_91.txt. Trying NumPy fallback.\n",
            "\u001b[1;33m[Open3D WARNING] Read geometry::PointCloud failed: unknown file extension for ../test/Spruce/35_85.txt (format: auto).\u001b[0;m\n",
            "Warning: No points found in file 35_85.txt. Trying NumPy fallback.\n"
          ]
        },
        {
          "name": "stderr",
          "output_type": "stream",
          "text": [
            "FPFH v=0.1:  43%|████▎     | 58/134 [00:08<00:07, 10.71it/s]"
          ]
        },
        {
          "name": "stdout",
          "output_type": "stream",
          "text": [
            "\u001b[1;33m[Open3D WARNING] Read geometry::PointCloud failed: unknown file extension for ../test/Spruce/65_79.txt (format: auto).\u001b[0;m\n",
            "Warning: No points found in file 65_79.txt. Trying NumPy fallback.\n",
            "\u001b[1;33m[Open3D WARNING] Read geometry::PointCloud failed: unknown file extension for ../test/Spruce/65_51.txt (format: auto).\u001b[0;m\n",
            "Warning: No points found in file 65_51.txt. Trying NumPy fallback.\n",
            "\u001b[1;33m[Open3D WARNING] Read geometry::PointCloud failed: unknown file extension for ../test/Spruce/35_74.txt (format: auto).\u001b[0;m\n",
            "Warning: No points found in file 35_74.txt. Trying NumPy fallback.\n",
            "\u001b[1;33m[Open3D WARNING] Read geometry::PointCloud failed: unknown file extension for ../test/Spruce/64_11.txt (format: auto).\u001b[0;m\n",
            "Warning: No points found in file 64_11.txt. Trying NumPy fallback.\n"
          ]
        },
        {
          "name": "stderr",
          "output_type": "stream",
          "text": [
            "FPFH v=0.1:  46%|████▋     | 62/134 [00:08<00:05, 12.18it/s]"
          ]
        },
        {
          "name": "stdout",
          "output_type": "stream",
          "text": [
            "\u001b[1;33m[Open3D WARNING] Read geometry::PointCloud failed: unknown file extension for ../test/Spruce/35_75.txt (format: auto).\u001b[0;m\n",
            "Warning: No points found in file 35_75.txt. Trying NumPy fallback.\n",
            "\u001b[1;33m[Open3D WARNING] Read geometry::PointCloud failed: unknown file extension for ../test/Spruce/35_49.txt (format: auto).\u001b[0;m\n",
            "Warning: No points found in file 35_49.txt. Trying NumPy fallback.\n",
            "\u001b[1;33m[Open3D WARNING] Read geometry::PointCloud failed: unknown file extension for ../test/Spruce/65_43.txt (format: auto).\u001b[0;m\n",
            "Warning: No points found in file 65_43.txt. Trying NumPy fallback.\n",
            "\u001b[1;33m[Open3D WARNING] Read geometry::PointCloud failed: unknown file extension for ../test/Spruce/65_24.txt (format: auto).\u001b[0;m\n",
            "Warning: No points found in file 65_24.txt. Trying NumPy fallback.\n"
          ]
        },
        {
          "name": "stderr",
          "output_type": "stream",
          "text": [
            "FPFH v=0.1:  49%|████▉     | 66/134 [00:09<00:07,  8.53it/s]"
          ]
        },
        {
          "name": "stdout",
          "output_type": "stream",
          "text": [
            "\u001b[1;33m[Open3D WARNING] Read geometry::PointCloud failed: unknown file extension for ../test/Spruce/65_37.txt (format: auto).\u001b[0;m\n",
            "Warning: No points found in file 65_37.txt. Trying NumPy fallback.\n"
          ]
        },
        {
          "name": "stderr",
          "output_type": "stream",
          "text": [
            "FPFH v=0.1:  51%|█████     | 68/134 [00:09<00:08,  8.06it/s]"
          ]
        },
        {
          "name": "stdout",
          "output_type": "stream",
          "text": [
            "\u001b[1;33m[Open3D WARNING] Read geometry::PointCloud failed: unknown file extension for ../test/Spruce/65_6.txt (format: auto).\u001b[0;m\n",
            "Warning: No points found in file 65_6.txt. Trying NumPy fallback.\n",
            "\u001b[1;33m[Open3D WARNING] Read geometry::PointCloud failed: unknown file extension for ../test/Spruce/64_62.txt (format: auto).\u001b[0;m\n",
            "Warning: No points found in file 64_62.txt. Trying NumPy fallback.\n",
            "\u001b[1;33m[Open3D WARNING] Read geometry::PointCloud failed: unknown file extension for ../test/Spruce/35_122.txt (format: auto).\u001b[0;m\n",
            "Warning: No points found in file 35_122.txt. Trying NumPy fallback.\n",
            "\u001b[1;33m[Open3D WARNING] Read geometry::PointCloud failed: unknown file extension for ../test/Spruce/65_35.txt (format: auto).\u001b[0;m\n",
            "Warning: No points found in file 65_35.txt. Trying NumPy fallback.\n"
          ]
        },
        {
          "name": "stderr",
          "output_type": "stream",
          "text": [
            "FPFH v=0.1:  54%|█████▍    | 73/134 [00:10<00:06,  9.31it/s]"
          ]
        },
        {
          "name": "stdout",
          "output_type": "stream",
          "text": [
            "\u001b[1;33m[Open3D WARNING] Read geometry::PointCloud failed: unknown file extension for ../test/Pine/65_54.txt (format: auto).\u001b[0;m\n",
            "Warning: No points found in file 65_54.txt. Trying NumPy fallback.\n"
          ]
        },
        {
          "name": "stderr",
          "output_type": "stream",
          "text": [
            "FPFH v=0.1:  60%|█████▉    | 80/134 [00:10<00:03, 14.96it/s]"
          ]
        },
        {
          "name": "stdout",
          "output_type": "stream",
          "text": [
            "\u001b[1;33m[Open3D WARNING] Read PTS failed with exception: vector\u001b[0;m\n",
            "Warning: No points found in file 123.pts. Trying NumPy fallback.\n",
            "\u001b[1;33m[Open3D WARNING] Read PTS failed with exception: vector\u001b[0;m\n",
            "Warning: No points found in file 38.pts. Trying NumPy fallback.\n"
          ]
        },
        {
          "name": "stderr",
          "output_type": "stream",
          "text": [
            "FPFH v=0.1:  63%|██████▎   | 85/134 [00:10<00:03, 16.06it/s]"
          ]
        },
        {
          "name": "stdout",
          "output_type": "stream",
          "text": [
            "\u001b[1;33m[Open3D WARNING] Read geometry::PointCloud failed: unknown file extension for ../test/Red Oak/Baum2_21 nrwl33- Cloud.txt (format: auto).\u001b[0;m\n",
            "Warning: No points found in file Baum2_21 nrwl33- Cloud.txt. Trying NumPy fallback.\n",
            "\u001b[1;33m[Open3D WARNING] Read geometry::PointCloud failed: unknown file extension for ../test/Red Oak/Baum0_13 thu_neust- Cloud.txt (format: auto).\u001b[0;m\n",
            "Warning: No points found in file Baum0_13 thu_neust- Cloud.txt. Trying NumPy fallback.\n",
            "\u001b[1;33m[Open3D WARNING] Read geometry::PointCloud failed: unknown file extension for ../test/Red Oak/Baum8_45 bwb2 - Cloud.txt (format: auto).\u001b[0;m\n",
            "Warning: No points found in file Baum8_45 bwb2 - Cloud.txt. Trying NumPy fallback.\n"
          ]
        },
        {
          "name": "stderr",
          "output_type": "stream",
          "text": [
            "FPFH v=0.1:  65%|██████▍   | 87/134 [00:10<00:03, 15.38it/s]"
          ]
        },
        {
          "name": "stdout",
          "output_type": "stream",
          "text": [
            "\u001b[1;33m[Open3D WARNING] Read geometry::PointCloud failed: unknown file extension for ../test/Red Oak/Baum9_418 brb_psnord- Cloud.txt (format: auto).\u001b[0;m\n",
            "Warning: No points found in file Baum9_418 brb_psnord- Cloud.txt. Trying NumPy fallback.\n",
            "\u001b[1;33m[Open3D WARNING] Read geometry::PointCloud failed: unknown file extension for ../test/Red Oak/Baum2_559 nds_ro- Cloud.txt (format: auto).\u001b[0;m\n",
            "Warning: No points found in file Baum2_559 nds_ro- Cloud.txt. Trying NumPy fallback.\n",
            "\u001b[1;33m[Open3D WARNING] Read geometry::PointCloud failed: unknown file extension for ../test/Red Oak/Baum6_210 thu_neust- Cloud.txt (format: auto).\u001b[0;m\n",
            "Warning: No points found in file Baum6_210 thu_neust- Cloud.txt. Trying NumPy fallback.\n"
          ]
        },
        {
          "name": "stderr",
          "output_type": "stream",
          "text": [
            "FPFH v=0.1:  68%|██████▊   | 91/134 [00:11<00:03, 13.93it/s]"
          ]
        },
        {
          "name": "stdout",
          "output_type": "stream",
          "text": [
            "\u001b[1;33m[Open3D WARNING] Read geometry::PointCloud failed: unknown file extension for ../test/Red Oak/Baum7_208 brb_psnord- Cloud.txt (format: auto).\u001b[0;m\n",
            "Warning: No points found in file Baum7_208 brb_psnord- Cloud.txt. Trying NumPy fallback.\n",
            "\u001b[1;33m[Open3D WARNING] Read geometry::PointCloud failed: unknown file extension for ../test/Red Oak/Baum3 - 467 bwb4- Cloud.txt (format: auto).\u001b[0;m\n",
            "Warning: No points found in file Baum3 - 467 bwb4- Cloud.txt. Trying NumPy fallback.\n",
            "\u001b[1;33m[Open3D WARNING] Read geometry::PointCloud failed: unknown file extension for ../test/Red Oak/Baum5_57 nrwl30 - Cloud.txt (format: auto).\u001b[0;m\n",
            "Warning: No points found in file Baum5_57 nrwl30 - Cloud.txt. Trying NumPy fallback.\n"
          ]
        },
        {
          "name": "stderr",
          "output_type": "stream",
          "text": [
            "FPFH v=0.1:  69%|██████▉   | 93/134 [00:11<00:03, 12.19it/s]"
          ]
        },
        {
          "name": "stdout",
          "output_type": "stream",
          "text": [
            "\u001b[1;33m[Open3D WARNING] Read geometry::PointCloud failed: unknown file extension for ../test/Red Oak/Baum2_59 thu_neust- Cloud.txt (format: auto).\u001b[0;m\n",
            "Warning: No points found in file Baum2_59 thu_neust- Cloud.txt. Trying NumPy fallback.\n",
            "\u001b[1;33m[Open3D WARNING] Read geometry::PointCloud failed: unknown file extension for ../test/Red Oak/Baum8_251 nds_ro- Cloud.txt (format: auto).\u001b[0;m\n",
            "Warning: No points found in file Baum8_251 nds_ro- Cloud.txt. Trying NumPy fallback.\n"
          ]
        },
        {
          "name": "stderr",
          "output_type": "stream",
          "text": [
            "FPFH v=0.1:  71%|███████   | 95/134 [00:11<00:03, 11.87it/s]"
          ]
        },
        {
          "name": "stdout",
          "output_type": "stream",
          "text": [
            "\u001b[1;33m[Open3D WARNING] Read geometry::PointCloud failed: unknown file extension for ../test/Red Oak/Baum1_154 nrwl30- Cloud.txt (format: auto).\u001b[0;m\n",
            "Warning: No points found in file Baum1_154 nrwl30- Cloud.txt. Trying NumPy fallback.\n",
            "\u001b[1;33m[Open3D WARNING] Read geometry::PointCloud failed: unknown file extension for ../test/Red Oak/Baum9_149 nrwl30- Cloud.txt (format: auto).\u001b[0;m\n",
            "Warning: No points found in file Baum9_149 nrwl30- Cloud.txt. Trying NumPy fallback.\n",
            "\u001b[1;33m[Open3D WARNING] Read geometry::PointCloud failed: unknown file extension for ../test/Red Oak/Baum9_188 thu_neust- Cloud.txt (format: auto).\u001b[0;m\n",
            "Warning: No points found in file Baum9_188 thu_neust- Cloud.txt. Trying NumPy fallback.\n"
          ]
        },
        {
          "name": "stderr",
          "output_type": "stream",
          "text": [
            "FPFH v=0.1:  72%|███████▏  | 97/134 [00:11<00:03, 12.25it/s]"
          ]
        },
        {
          "name": "stdout",
          "output_type": "stream",
          "text": [
            "\u001b[1;33m[Open3D WARNING] Read geometry::PointCloud failed: unknown file extension for ../test/Red Oak/Baum6_434 nrwl33- Cloud.txt (format: auto).\u001b[0;m\n",
            "Warning: No points found in file Baum6_434 nrwl33- Cloud.txt. Trying NumPy fallback.\n",
            "\u001b[1;33m[Open3D WARNING] Read geometry::PointCloud failed: unknown file extension for ../test/Red Oak/Baum4_252 nrwl33- Cloud.txt (format: auto).\u001b[0;m\n",
            "Warning: No points found in file Baum4_252 nrwl33- Cloud.txt. Trying NumPy fallback.\n"
          ]
        },
        {
          "name": "stderr",
          "output_type": "stream",
          "text": [
            "FPFH v=0.1:  75%|███████▌  | 101/134 [00:12<00:03, 10.59it/s]"
          ]
        },
        {
          "name": "stdout",
          "output_type": "stream",
          "text": [
            "\u001b[1;33m[Open3D WARNING] Read geometry::PointCloud failed: unknown file extension for ../test/Red Oak/Baum4_613 thu_jena- Cloud.txt (format: auto).\u001b[0;m\n",
            "Warning: No points found in file Baum4_613 thu_jena- Cloud.txt. Trying NumPy fallback.\n",
            "\u001b[1;33m[Open3D WARNING] Read geometry::PointCloud failed: unknown file extension for ../test/Red Oak/Baum8_170 nrwl30- Cloud.txt (format: auto).\u001b[0;m\n",
            "Warning: No points found in file Baum8_170 nrwl30- Cloud.txt. Trying NumPy fallback.\n",
            "\u001b[1;33m[Open3D WARNING] Read geometry::PointCloud failed: unknown file extension for ../test/Red Oak/Baum9_288 bwb4 - Cloud.txt (format: auto).\u001b[0;m\n",
            "Warning: No points found in file Baum9_288 bwb4 - Cloud.txt. Trying NumPy fallback.\n"
          ]
        },
        {
          "name": "stderr",
          "output_type": "stream",
          "text": [
            "FPFH v=0.1:  79%|███████▉  | 106/134 [00:12<00:02, 10.50it/s]"
          ]
        },
        {
          "name": "stdout",
          "output_type": "stream",
          "text": [
            "\u001b[1;33m[Open3D WARNING] Read PTS failed with exception: vector\u001b[0;m\n",
            "Warning: No points found in file 41.pts. Trying NumPy fallback.\n",
            "\u001b[1;33m[Open3D WARNING] Read PTS failed with exception: vector\u001b[0;m\n",
            "Warning: No points found in file 82.pts. Trying NumPy fallback.\n"
          ]
        },
        {
          "name": "stderr",
          "output_type": "stream",
          "text": [
            "FPFH v=0.1:  83%|████████▎ | 111/134 [00:13<00:03,  7.32it/s]"
          ]
        },
        {
          "name": "stdout",
          "output_type": "stream",
          "text": [
            "\u001b[1;33m[Open3D WARNING] Read PTS failed with exception: vector\u001b[0;m\n",
            "Warning: No points found in file 20.pts. Trying NumPy fallback.\n"
          ]
        },
        {
          "name": "stderr",
          "output_type": "stream",
          "text": [
            "FPFH v=0.1:  86%|████████▌ | 115/134 [00:13<00:02,  7.98it/s]"
          ]
        },
        {
          "name": "stdout",
          "output_type": "stream",
          "text": [
            "\u001b[1;33m[Open3D WARNING] Read PTS failed with exception: vector\u001b[0;m\n",
            "Warning: No points found in file 36.pts. Trying NumPy fallback.\n"
          ]
        },
        {
          "name": "stderr",
          "output_type": "stream",
          "text": [
            "FPFH v=0.1:  87%|████████▋ | 117/134 [00:14<00:02,  8.08it/s]"
          ]
        },
        {
          "name": "stdout",
          "output_type": "stream",
          "text": [
            "\u001b[1;33m[Open3D WARNING] Read PTS failed with exception: vector\u001b[0;m\n",
            "Warning: No points found in file 124.pts. Trying NumPy fallback.\n"
          ]
        },
        {
          "name": "stderr",
          "output_type": "stream",
          "text": [
            "FPFH v=0.1:  90%|████████▉ | 120/134 [00:14<00:01,  8.23it/s]"
          ]
        },
        {
          "name": "stdout",
          "output_type": "stream",
          "text": [
            "\u001b[1;33m[Open3D WARNING] Read PTS failed with exception: vector\u001b[0;m\n",
            "Warning: No points found in file 284.pts. Trying NumPy fallback.\n",
            "\u001b[1;33m[Open3D WARNING] Read PTS failed with exception: vector\u001b[0;m\n",
            "Warning: No points found in file 17.pts. Trying NumPy fallback.\n"
          ]
        },
        {
          "name": "stderr",
          "output_type": "stream",
          "text": [
            "FPFH v=0.1: 100%|██████████| 134/134 [00:15<00:00,  8.45it/s]"
          ]
        },
        {
          "name": "stdout",
          "output_type": "stream",
          "text": [
            "Fails: train=0, test=0\n",
            "After SMOTE: (557, 33) -> (1029, 33)\n"
          ]
        },
        {
          "name": "stderr",
          "output_type": "stream",
          "text": [
            "\n"
          ]
        },
        {
          "name": "stdout",
          "output_type": "stream",
          "text": [
            "Grid done in 2.6s | best BA=0.9222 | params={'C': 100, 'class_weight': None, 'gamma': 'scale', 'kernel': 'rbf'}\n",
            "\n",
            "Best setting:\n",
            "0.1 {'C': 100, 'class_weight': None, 'gamma': 'scale', 'kernel': 'rbf'}\n",
            "CV balanced acc: 0.9222\n",
            "Test accuracy: 0.8433\n"
          ]
        }
      ],
      "source": [
        "# Search over voxel_size: extract features, then SMOTE + scale, then SVM grid search\n",
        "best_summary = None\n",
        "summaries = []\n",
        "\n",
        "for vox in voxel_grid:\n",
        "\tprint(\"\\n\" + \"=\"*60)\n",
        "\tprint(f\"Voxel size = {vox}\")\n",
        "\tprint(\"=\"*60)\n",
        "\t\n",
        "\tXtr, fail_tr = extract_features(X_train_paths, voxel_size=vox)\n",
        "\tXte, fail_te = extract_features(X_test_paths, voxel_size=vox)\n",
        "\tprint(f\"Fails: train={fail_tr}, test={fail_te}\")\n",
        "\t\n",
        "\t# SMOTE to balance classes (on raw features)\n",
        "\tsmote = SMOTE(random_state=42)\n",
        "\tXtr_bal, ytr_bal = smote.fit_resample(Xtr, y_train)\n",
        "\tprint(f\"After SMOTE: {Xtr.shape} -> {Xtr_bal.shape}\")\n",
        "\t\n",
        "\t# Scale after balancing\n",
        "\tscaler = StandardScaler()\n",
        "\tXtr_scaled = scaler.fit_transform(Xtr_bal)\n",
        "\tXte_scaled = scaler.transform(Xte)\n",
        "\t\n",
        "\t# Grid search emphasizing minority recall\n",
        "\tparam_grid = {\n",
        "\t\t'C': [0.1, 1, 3, 10, 30, 100],\n",
        "\t\t'gamma': ['scale', 'auto', 0.03, 0.1, 0.3, 1],\n",
        "\t\t'class_weight': [None, 'balanced'],\n",
        "\t\t'kernel': ['rbf']\n",
        "\t}\n",
        "\tcv = StratifiedKFold(n_splits=5, shuffle=True, random_state=42)\n",
        "\tgrid = GridSearchCV(SVC(random_state=42), param_grid, cv=cv, n_jobs=-1, verbose=0, scoring='balanced_accuracy')\n",
        "\tstart = time.time()\n",
        "\tgrid.fit(Xtr_scaled, ytr_bal)\n",
        "\tdur = time.time() - start\n",
        "\tprint(f\"Grid done in {dur:.1f}s | best BA={grid.best_score_:.4f} | params={grid.best_params_}\")\n",
        "\t\n",
        "\tbest_svm = grid.best_estimator_\n",
        "\ty_pred = best_svm.predict(Xte_scaled)\n",
        "\tacc = accuracy_score(y_test, y_pred)\n",
        "\treport = classification_report(y_test, y_pred, zero_division=0)\n",
        "\tcm = confusion_matrix(y_test, y_pred, labels=sorted(set(y_train)))\n",
        "\t\n",
        "\tsummary = {\n",
        "\t\t'voxel_size': vox,\n",
        "\t\t'fails_train': fail_tr,\n",
        "\t\t'fails_test': fail_te,\n",
        "\t\t'best_params': grid.best_params_,\n",
        "\t\t'balanced_accuracy_cv': grid.best_score_,\n",
        "\t\t'test_accuracy': acc,\n",
        "\t\t'classification_report': report,\n",
        "\t\t'confusion_matrix': cm\n",
        "\t}\n",
        "\tsummaries.append(summary)\n",
        "\t\n",
        "\t# Track best by balanced accuracy CV, tiebreak by test acc\n",
        "\tif best_summary is None:\n",
        "\t\tbest_summary = summary\n",
        "\telse:\n",
        "\t\tif summary['balanced_accuracy_cv'] > best_summary['balanced_accuracy_cv'] or \\\n",
        "\t\t  (summary['balanced_accuracy_cv'] == best_summary['balanced_accuracy_cv'] and summary['test_accuracy'] > best_summary['test_accuracy']):\n",
        "\t\t\tbest_summary = summary\n",
        "\n",
        "print(\"\\nBest setting:\")\n",
        "print(best_summary['voxel_size'], best_summary['best_params'])\n",
        "print(f\"CV balanced acc: {best_summary['balanced_accuracy_cv']:.4f}\")\n",
        "print(f\"Test accuracy: {best_summary['test_accuracy']:.4f}\")\n"
      ]
    },
    {
      "cell_type": "code",
      "execution_count": 11,
      "metadata": {},
      "outputs": [
        {
          "name": "stdout",
          "output_type": "stream",
          "text": [
            "\n",
            "================================================================================\n",
            "Best FPFH + SVM (with SMOTE) Configuration\n",
            "================================================================================\n",
            "Voxel size: 0.1\n",
            "Best params: {'C': 100, 'class_weight': None, 'gamma': 'scale', 'kernel': 'rbf'}\n",
            "CV balanced accuracy: 0.9222\n",
            "Test accuracy: 0.8433\n",
            "\n",
            "Classification report (test):\n",
            "\n",
            "              precision    recall  f1-score   support\n",
            "\n",
            "         Ash       0.33      0.57      0.42         7\n",
            "       Beech       0.90      0.81      0.85        32\n",
            " Douglas Fir       1.00      0.86      0.93        36\n",
            "         Oak       0.75      0.75      0.75         4\n",
            "        Pine       0.50      0.60      0.55         5\n",
            "     Red Oak       0.89      0.89      0.89        19\n",
            "      Spruce       0.88      0.94      0.91        31\n",
            "\n",
            "    accuracy                           0.84       134\n",
            "   macro avg       0.75      0.78      0.76       134\n",
            "weighted avg       0.87      0.84      0.85       134\n",
            "\n",
            "Confusion Matrix (test):\n",
            "\n",
            "             Ash  Beech  Douglas Fir  Oak  Pine  Red Oak  Spruce\n",
            "Ash            4      3            0    0     0        0       0\n",
            "Beech          6     26            0    0     0        0       0\n",
            "Douglas Fir    1      0           31    0     1        1       2\n",
            "Oak            0      0            0    3     0        1       0\n",
            "Pine           0      0            0    0     3        0       2\n",
            "Red Oak        1      0            0    1     0       17       0\n",
            "Spruce         0      0            0    0     2        0      29\n",
            "\n",
            "Note: We used SMOTE to balance classes and searched voxel_size values to stabilize FPFH.\n"
          ]
        }
      ],
      "source": [
        "# Pretty-print final report for the best configuration\n",
        "print(\"\\n\" + \"=\"*80)\n",
        "print(\"Best FPFH + SVM (with SMOTE) Configuration\")\n",
        "print(\"=\"*80)\n",
        "print(f\"Voxel size: {best_summary['voxel_size']}\")\n",
        "print(f\"Best params: {best_summary['best_params']}\")\n",
        "print(f\"CV balanced accuracy: {best_summary['balanced_accuracy_cv']:.4f}\")\n",
        "print(f\"Test accuracy: {best_summary['test_accuracy']:.4f}\")\n",
        "print(\"\\nClassification report (test):\\n\")\n",
        "print(best_summary['classification_report'])\n",
        "\n",
        "classes = sorted(set(y_train))\n",
        "cm_df = pd.DataFrame(best_summary['confusion_matrix'], index=classes, columns=classes)\n",
        "print(\"Confusion Matrix (test):\\n\")\n",
        "print(cm_df)\n",
        "print(\"\\nNote: We used SMOTE to balance classes and searched voxel_size values to stabilize FPFH.\")\n"
      ]
    }
  ],
  "metadata": {
    "kernelspec": {
      "display_name": ".venv",
      "language": "python",
      "name": "python3"
    },
    "language_info": {
      "codemirror_mode": {
        "name": "ipython",
        "version": 3
      },
      "file_extension": ".py",
      "mimetype": "text/x-python",
      "name": "python",
      "nbconvert_exporter": "python",
      "pygments_lexer": "ipython3",
      "version": "3.11.13"
    }
  },
  "nbformat": 4,
  "nbformat_minor": 2
}
